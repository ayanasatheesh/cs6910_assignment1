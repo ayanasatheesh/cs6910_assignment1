{
  "cells": [
    {
      "cell_type": "markdown",
      "source": [
        "Importing all the necessary libraries and login to the wandb"
      ],
      "metadata": {
        "id": "RyGMjI2MeoE3"
      }
    },
    {
      "cell_type": "code",
      "execution_count": 1,
      "metadata": {
        "colab": {
          "base_uri": "https://localhost:8080/",
          "height": 818
        },
        "id": "OIPAL7Pq56pf",
        "outputId": "af8c6ddb-23f0-4a5f-87f3-315e391ff3aa"
      },
      "outputs": [
        {
          "output_type": "stream",
          "name": "stdout",
          "text": [
            "Looking in indexes: https://pypi.org/simple, https://us-python.pkg.dev/colab-wheels/public/simple/\n",
            "Collecting wandb\n",
            "  Downloading wandb-0.14.0-py3-none-any.whl (2.0 MB)\n",
            "\u001b[2K     \u001b[90m━━━━━━━━━━━━━━━━━━━━━━━━━━━━━━━━━━━━━━━━\u001b[0m \u001b[32m2.0/2.0 MB\u001b[0m \u001b[31m16.0 MB/s\u001b[0m eta \u001b[36m0:00:00\u001b[0m\n",
            "\u001b[?25hRequirement already satisfied: requests<3,>=2.0.0 in /usr/local/lib/python3.9/dist-packages (from wandb) (2.27.1)\n",
            "Collecting GitPython!=3.1.29,>=1.0.0\n",
            "  Downloading GitPython-3.1.31-py3-none-any.whl (184 kB)\n",
            "\u001b[2K     \u001b[90m━━━━━━━━━━━━━━━━━━━━━━━━━━━━━━━━━━━━━━━\u001b[0m \u001b[32m184.3/184.3 KB\u001b[0m \u001b[31m8.4 MB/s\u001b[0m eta \u001b[36m0:00:00\u001b[0m\n",
            "\u001b[?25hCollecting pathtools\n",
            "  Downloading pathtools-0.1.2.tar.gz (11 kB)\n",
            "  Preparing metadata (setup.py) ... \u001b[?25l\u001b[?25hdone\n",
            "Requirement already satisfied: setuptools in /usr/local/lib/python3.9/dist-packages (from wandb) (63.4.3)\n",
            "Requirement already satisfied: psutil>=5.0.0 in /usr/local/lib/python3.9/dist-packages (from wandb) (5.9.4)\n",
            "Collecting appdirs>=1.4.3\n",
            "  Downloading appdirs-1.4.4-py2.py3-none-any.whl (9.6 kB)\n",
            "Requirement already satisfied: typing-extensions in /usr/local/lib/python3.9/dist-packages (from wandb) (4.5.0)\n",
            "Collecting setproctitle\n",
            "  Downloading setproctitle-1.3.2-cp39-cp39-manylinux_2_5_x86_64.manylinux1_x86_64.manylinux_2_17_x86_64.manylinux2014_x86_64.whl (30 kB)\n",
            "Requirement already satisfied: Click!=8.0.0,>=7.0 in /usr/local/lib/python3.9/dist-packages (from wandb) (8.1.3)\n",
            "Requirement already satisfied: PyYAML in /usr/local/lib/python3.9/dist-packages (from wandb) (6.0)\n",
            "Requirement already satisfied: protobuf!=4.21.0,<5,>=3.15.0 in /usr/local/lib/python3.9/dist-packages (from wandb) (3.19.6)\n",
            "Collecting sentry-sdk>=1.0.0\n",
            "  Downloading sentry_sdk-1.17.0-py2.py3-none-any.whl (189 kB)\n",
            "\u001b[2K     \u001b[90m━━━━━━━━━━━━━━━━━━━━━━━━━━━━━━━━━━━━━━\u001b[0m \u001b[32m189.1/189.1 KB\u001b[0m \u001b[31m10.7 MB/s\u001b[0m eta \u001b[36m0:00:00\u001b[0m\n",
            "\u001b[?25hCollecting docker-pycreds>=0.4.0\n",
            "  Downloading docker_pycreds-0.4.0-py2.py3-none-any.whl (9.0 kB)\n",
            "Requirement already satisfied: six>=1.4.0 in /usr/local/lib/python3.9/dist-packages (from docker-pycreds>=0.4.0->wandb) (1.15.0)\n",
            "Collecting gitdb<5,>=4.0.1\n",
            "  Downloading gitdb-4.0.10-py3-none-any.whl (62 kB)\n",
            "\u001b[2K     \u001b[90m━━━━━━━━━━━━━━━━━━━━━━━━━━━━━━━━━━━━━━━━\u001b[0m \u001b[32m62.7/62.7 KB\u001b[0m \u001b[31m4.4 MB/s\u001b[0m eta \u001b[36m0:00:00\u001b[0m\n",
            "\u001b[?25hRequirement already satisfied: charset-normalizer~=2.0.0 in /usr/local/lib/python3.9/dist-packages (from requests<3,>=2.0.0->wandb) (2.0.12)\n",
            "Requirement already satisfied: idna<4,>=2.5 in /usr/local/lib/python3.9/dist-packages (from requests<3,>=2.0.0->wandb) (3.4)\n",
            "Requirement already satisfied: certifi>=2017.4.17 in /usr/local/lib/python3.9/dist-packages (from requests<3,>=2.0.0->wandb) (2022.12.7)\n",
            "Requirement already satisfied: urllib3<1.27,>=1.21.1 in /usr/local/lib/python3.9/dist-packages (from requests<3,>=2.0.0->wandb) (1.26.15)\n",
            "Collecting smmap<6,>=3.0.1\n",
            "  Downloading smmap-5.0.0-py3-none-any.whl (24 kB)\n",
            "Building wheels for collected packages: pathtools\n",
            "  Building wheel for pathtools (setup.py) ... \u001b[?25l\u001b[?25hdone\n",
            "  Created wheel for pathtools: filename=pathtools-0.1.2-py3-none-any.whl size=8807 sha256=90055601082664faaf89da445159373621575de6aff74385805d907036747e37\n",
            "  Stored in directory: /root/.cache/pip/wheels/b7/0a/67/ada2a22079218c75a88361c0782855cc72aebc4d18d0289d05\n",
            "Successfully built pathtools\n",
            "Installing collected packages: pathtools, appdirs, smmap, setproctitle, sentry-sdk, docker-pycreds, gitdb, GitPython, wandb\n",
            "Successfully installed GitPython-3.1.31 appdirs-1.4.4 docker-pycreds-0.4.0 gitdb-4.0.10 pathtools-0.1.2 sentry-sdk-1.17.0 setproctitle-1.3.2 smmap-5.0.0 wandb-0.14.0\n"
          ]
        },
        {
          "output_type": "display_data",
          "data": {
            "text/plain": [
              "<IPython.core.display.Javascript object>"
            ],
            "application/javascript": [
              "\n",
              "        window._wandbApiKey = new Promise((resolve, reject) => {\n",
              "            function loadScript(url) {\n",
              "            return new Promise(function(resolve, reject) {\n",
              "                let newScript = document.createElement(\"script\");\n",
              "                newScript.onerror = reject;\n",
              "                newScript.onload = resolve;\n",
              "                document.body.appendChild(newScript);\n",
              "                newScript.src = url;\n",
              "            });\n",
              "            }\n",
              "            loadScript(\"https://cdn.jsdelivr.net/npm/postmate/build/postmate.min.js\").then(() => {\n",
              "            const iframe = document.createElement('iframe')\n",
              "            iframe.style.cssText = \"width:0;height:0;border:none\"\n",
              "            document.body.appendChild(iframe)\n",
              "            const handshake = new Postmate({\n",
              "                container: iframe,\n",
              "                url: 'https://wandb.ai/authorize'\n",
              "            });\n",
              "            const timeout = setTimeout(() => reject(\"Couldn't auto authenticate\"), 5000)\n",
              "            handshake.then(function(child) {\n",
              "                child.on('authorize', data => {\n",
              "                    clearTimeout(timeout)\n",
              "                    resolve(data)\n",
              "                });\n",
              "            });\n",
              "            })\n",
              "        });\n",
              "    "
            ]
          },
          "metadata": {}
        },
        {
          "output_type": "stream",
          "name": "stderr",
          "text": [
            "\u001b[34m\u001b[1mwandb\u001b[0m: Appending key for api.wandb.ai to your netrc file: /root/.netrc\n"
          ]
        }
      ],
      "source": [
        "!pip install wandb\n",
        "import wandb\n",
        "wandb.login()\n",
        "import random\n",
        "import matplotlib.pyplot as plt\n",
        "from matplotlib.pyplot import figure\n",
        "import numpy as np"
      ]
    },
    {
      "cell_type": "markdown",
      "source": [
        "Importing the Dataset and displaying sample images randomly chosen each time"
      ],
      "metadata": {
        "id": "nWXD6u05e-TY"
      }
    },
    {
      "cell_type": "code",
      "execution_count": 2,
      "metadata": {
        "colab": {
          "base_uri": "https://localhost:8080/",
          "height": 957,
          "referenced_widgets": [
            "248e42d0e42c4008a9d8b5eff71db0f1",
            "43527226cccb49ff8c29450568373e0c",
            "c71926e73b884d3c9bb112b3342dae64",
            "515895e32d52478ca98c67ce6b0cf794",
            "9873e131098d4383844827f739b5f15a",
            "eefa3cac7ed346549d2ae0cff6b0fc75",
            "b1a6ad225cd54be5bf2984f3d55f59da",
            "f0e847f697fc4c67987511166ebc29aa"
          ]
        },
        "id": "N1iTJlN56SIb",
        "outputId": "09482c40-f264-4642-f19b-72176b015157"
      },
      "outputs": [
        {
          "output_type": "stream",
          "name": "stdout",
          "text": [
            "Downloading data from https://storage.googleapis.com/tensorflow/tf-keras-datasets/train-labels-idx1-ubyte.gz\n",
            "29515/29515 [==============================] - 0s 0us/step\n",
            "Downloading data from https://storage.googleapis.com/tensorflow/tf-keras-datasets/train-images-idx3-ubyte.gz\n",
            "26421880/26421880 [==============================] - 0s 0us/step\n",
            "Downloading data from https://storage.googleapis.com/tensorflow/tf-keras-datasets/t10k-labels-idx1-ubyte.gz\n",
            "5148/5148 [==============================] - 0s 0us/step\n",
            "Downloading data from https://storage.googleapis.com/tensorflow/tf-keras-datasets/t10k-images-idx3-ubyte.gz\n",
            "4422102/4422102 [==============================] - 0s 0us/step\n",
            "___________________________________________________________________\n",
            "Dataset loaded successfully!\n",
            "Dataset contains Training data of size: 60000\n",
            "Dataset contains Test data of size: 10000\n",
            "Number of classes in the dataset:10\n",
            "___________________________________________________________________\n",
            "The Dataset contains the following classes:\n",
            "T-shirt/top\n",
            "Trouser\n",
            "Pullover\n",
            "Dress\n",
            "Coat\n",
            "Sandal\n",
            "Shirt\n",
            "Sneaker\n",
            "Bag\n",
            "Ankle boot\n",
            "___________________________________________________________________\n",
            "Displaying a random image from each of the classes:\n"
          ]
        },
        {
          "output_type": "display_data",
          "data": {
            "text/plain": [
              "<Figure size 720x720 with 10 Axes>"
            ],
            "image/png": "[encoded data removed]"
          },
          "metadata": {}
        },
        {
          "output_type": "stream",
          "name": "stderr",
          "text": [
            "\u001b[34m\u001b[1mwandb\u001b[0m: Currently logged in as: \u001b[33mcs22m025\u001b[0m. Use \u001b[1m`wandb login --relogin`\u001b[0m to force relogin\n"
          ]
        },
        {
          "output_type": "display_data",
          "data": {
            "text/plain": [
              "<IPython.core.display.HTML object>"
            ],
            "text/html": [
              "Tracking run with wandb version 0.14.0"
            ]
          },
          "metadata": {}
        },
        {
          "output_type": "display_data",
          "data": {
            "text/plain": [
              "<IPython.core.display.HTML object>"
            ],
            "text/html": [
              "Run data is saved locally in <code>/content/wandb/run-20230318_170333-u6pdm7yh</code>"
            ]
          },
          "metadata": {}
        },
        {
          "output_type": "display_data",
          "data": {
            "text/plain": [
              "<IPython.core.display.HTML object>"
            ],
            "text/html": [
              "Syncing run <strong><a href='https://wandb.ai/cs22m025/assignment1/runs/u6pdm7yh' target=\"_blank\">skilled-darkness-1058</a></strong> to <a href='https://wandb.ai/cs22m025/assignment1' target=\"_blank\">Weights & Biases</a> (<a href='https://wandb.me/run' target=\"_blank\">docs</a>)<br/>"
            ]
          },
          "metadata": {}
        },
        {
          "output_type": "display_data",
          "data": {
            "text/plain": [
              "<IPython.core.display.HTML object>"
            ],
            "text/html": [
              " View project at <a href='https://wandb.ai/cs22m025/assignment1' target=\"_blank\">https://wandb.ai/cs22m025/assignment1</a>"
            ]
          },
          "metadata": {}
        },
        {
          "output_type": "display_data",
          "data": {
            "text/plain": [
              "<IPython.core.display.HTML object>"
            ],
            "text/html": [
              " View run at <a href='https://wandb.ai/cs22m025/assignment1/runs/u6pdm7yh' target=\"_blank\">https://wandb.ai/cs22m025/assignment1/runs/u6pdm7yh</a>"
            ]
          },
          "metadata": {}
        },
        {
          "output_type": "display_data",
          "data": {
            "text/plain": [
              "<IPython.core.display.HTML object>"
            ],
            "text/html": [
              "Waiting for W&B process to finish... <strong style=\"color:green\">(success).</strong>"
            ]
          },
          "metadata": {}
        },
        {
          "output_type": "display_data",
          "data": {
            "text/plain": [
              "VBox(children=(Label(value='0.014 MB of 0.014 MB uploaded (0.000 MB deduped)\\r'), FloatProgress(value=1.0, max…"
            ],
            "application/vnd.jupyter.widget-view+json": {
              "version_major": 2,
              "version_minor": 0,
              "model_id": "248e42d0e42c4008a9d8b5eff71db0f1"
            }
          },
          "metadata": {}
        },
        {
          "output_type": "display_data",
          "data": {
            "text/plain": [
              "<IPython.core.display.HTML object>"
            ],
            "text/html": [
              " View run <strong style=\"color:#cdcd00\">skilled-darkness-1058</strong> at: <a href='https://wandb.ai/cs22m025/assignment1/runs/u6pdm7yh' target=\"_blank\">https://wandb.ai/cs22m025/assignment1/runs/u6pdm7yh</a><br/>Synced 4 W&B file(s), 10 media file(s), 0 artifact file(s) and 0 other file(s)"
            ]
          },
          "metadata": {}
        },
        {
          "output_type": "display_data",
          "data": {
            "text/plain": [
              "<IPython.core.display.HTML object>"
            ],
            "text/html": [
              "Find logs at: <code>./wandb/run-20230318_170333-u6pdm7yh/logs</code>"
            ]
          },
          "metadata": {}
        }
      ],
      "source": [
        "from keras.datasets import fashion_mnist\n",
        "\n",
        "(X_train, Y_train), (X_test, Y_test) = fashion_mnist.load_data()\n",
        "#normalising the dataset\n",
        "X_train=X_train/255\n",
        "\n",
        "#getting to know about the dataset\n",
        "print(\"___________________________________________________________________\")\n",
        "\n",
        "print(\"Dataset loaded successfully!\")\n",
        "\n",
        "print(\"Dataset contains Training data of size:\",Y_train.shape[0])\n",
        "print(\"Dataset contains Test data of size:\",Y_test.shape[0])\n",
        "print(\"Number of classes in the dataset:10\")\n",
        "\n",
        "print(\"___________________________________________________________________\")\n",
        "#referred from the fashion mnist document\n",
        "class_labels = ['T-shirt/top', 'Trouser', 'Pullover', 'Dress', 'Coat','Sandal', 'Shirt', 'Sneaker', 'Bag', 'Ankle boot']\n",
        "\n",
        "print(\"The Dataset contains the following classes:\")\n",
        "for i in range(10):\n",
        "  print(class_labels[i])\n",
        "\n",
        "\n",
        "def display_sampleimage():\n",
        "    ans = [-1 for i in range(10)]\n",
        "    count=0\n",
        "    while 1:\n",
        "      #randomly choosing an image from the dataset\n",
        "      i=random.randint(0,len(Y_train)-1)\n",
        "      #checks whether there is an image from the same class on sample iamges\n",
        "      if (ans[Y_train[i]])==-1:\n",
        "        ans[Y_train[i]]=i\n",
        "        count+=1\n",
        "      if count==10:\n",
        "        break\n",
        "\n",
        "    print(\"___________________________________________________________________\")\n",
        "    print(\"Displaying a random image from each of the classes:\")\n",
        "    images_list=[]\n",
        "    class_list=[]\n",
        "    figure(figsize=(10, 10))\n",
        "    logs=[]\n",
        "\n",
        "    #plotting the sample images\n",
        "    for i in range(10):\n",
        "      plt.subplot(5,5,i+1)\n",
        "      plt.xticks([])\n",
        "      plt.yticks([])\n",
        "      j=ans[i]\n",
        "      plt.imshow(X_train[j], cmap=plt.cm.binary)\n",
        "      \n",
        "      plt.xlabel(class_labels[i])\n",
        "      images_list.append(X_train[j])\n",
        "      class_list.append(class_labels[Y_train[j]])\n",
        "      log_images=wandb.Image(X_train[j] , caption=class_labels[Y_train[j]])\n",
        "      logs.append(log_images)\n",
        "    plt.show()\n",
        "\n",
        "\n",
        "    #passing the sample images to wandb\n",
        "    run=wandb.init(project=\"assignment1\",entity=\"cs22m025\")\n",
        "    wandb.log({\"Sample Images\": logs})\n",
        "    run.finish()\n",
        "\n",
        "#function call to display sample images\n",
        "display_sampleimage()"
      ]
    },
    {
      "cell_type": "markdown",
      "source": [
        "Splitting into train and validation data further"
      ],
      "metadata": {
        "id": "I1saXSFKgYUy"
      }
    },
    {
      "cell_type": "code",
      "source": [
        "X=X_train\n",
        "Y=Y_train\n",
        "\n",
        "print(\"Splitting the Training dataset into training and validation data........\")\n",
        "from sklearn.model_selection import train_test_split\n",
        "#splitting in ratio 9:1 (train:validation)\n",
        "X_train,X_validate,Y_train,Y_validate=train_test_split(X, Y, test_size=0.1, random_state=42)\n",
        "print(\"Dataset contains Training data of size:\",Y_train.shape[0])\n",
        "print(\"Dataset contains validation data of size:\",Y_validate.shape[0])\n"
      ],
      "metadata": {
        "id": "pBz_Zy1G66FB",
        "colab": {
          "base_uri": "https://localhost:8080/"
        },
        "outputId": "75896c5a-bb1e-40ae-9ced-fb7eaa07326b"
      },
      "execution_count": 3,
      "outputs": [
        {
          "output_type": "stream",
          "name": "stdout",
          "text": [
            "Splitting the Training dataset into training and validation data........\n",
            "Dataset contains Training data of size: 54000\n",
            "Dataset contains validation data of size: 6000\n"
          ]
        }
      ]
    },
    {
      "cell_type": "code",
      "execution_count": 4,
      "metadata": {
        "id": "zKYDB62UD2Ck"
      },
      "outputs": [],
      "source": [
        "\n",
        "#here W the overall weigth matrix of the model and is a 3D matrix which is a collection of 2D matrix for each layer\n",
        "#b is the overall bias matrix which is a collection of bias vector for each layer\n",
        "\n",
        "\n",
        "def random_initialisation(n_hidden,n_neurons,n_inputneurons,n_outputneurons):\n",
        "  sd=0.5\n",
        "  #initalising to small values as the initilaising has an important effect on training, and initialising to large values will not lead to good model\n",
        "  W=[np.random.normal(0,sd,(n_neurons,n_inputneurons)) if i==0  else np.random.normal(0,sd,(n_neurons,n_neurons)) for i in range(n_hidden)]\n",
        "  Wo=np.random.normal(0,sd,(n_outputneurons,n_neurons))\n",
        "  W.append(Wo)\n",
        "  b=[np.random.normal(0,sd,(n_outputneurons,1)) if i==n_hidden else np.random.normal(0,sd,(n_neurons,1)) for i in range(n_hidden+1)]\n",
        "\n",
        "  return (W,b)\n",
        "\n",
        "\n",
        "\n",
        "def xavier_initialisation(n_hidden,n_neurons,n_inputneurons,n_outputneurons):\n",
        "  W=[np.random.randn(n_neurons,n_inputneurons)*np.sqrt(2/(n_neurons+n_inputneurons)) if i==0  else np.random.randn(n_neurons,n_neurons)*np.sqrt(2/(n_neurons+n_neurons)) for i in range(n_hidden)]\n",
        "  Wo=np.random.randn(n_outputneurons,n_neurons)*np.sqrt(2/(n_outputneurons+n_neurons))\n",
        "  W.append(Wo)\n",
        "  b=[np.random.randn(n_outputneurons,1) if i==n_hidden else np.random.randn(n_neurons,1) for i in range(n_hidden+1)]\n",
        "\n",
        "  return (W,b)\n",
        "\n",
        "#initiliasing u matrix for both W and b as zero matrix for all the layers\n",
        "def initialise_u(n_hidden,n_neurons,n_inputneurons,n_outputneurons):\n",
        "  u_W=[np.zeros((n_neurons,n_inputneurons)) if i==0  else np.zeros((n_neurons,n_neurons)) for i in range(n_hidden)]\n",
        "  u_Wo=np.zeros((n_outputneurons,n_neurons))\n",
        "  u_W.append(u_Wo)\n",
        "  u_b=[np.zeros((n_outputneurons,1)) if i==n_hidden else np.zeros((n_neurons,1)) for i in range(n_hidden+1)]\n",
        "\n",
        "  return (u_W,u_b)    \n",
        "\n",
        "def initialise_modelparameters(initialisation,n_hidden,n_neurons,n_inputneurons,n_outputneurons):\n",
        "\n",
        "  if(initialisation==\"random\"):\n",
        "    return random_initialisation(n_hidden,n_neurons,n_inputneurons,n_outputneurons)\n",
        "\n",
        "  elif(initialisation==\"xavier\"):\n",
        "    return xavier_initialisation(n_hidden,n_neurons,n_inputneurons,n_outputneurons)\n",
        "\n",
        "\n",
        "def relu(x):\n",
        "  return np.maximum(x,0)\n",
        "\n",
        "\n",
        "def sigmoid(x):\n",
        "  return 1. / (1.+np.exp(-x)) \n",
        "\n",
        "def softmax(x):\n",
        "  e_X = np.exp(x - np.max(x, axis = 0))\n",
        "  return e_X / (e_X.sum(axis = 0)+1e-8)  #small value added to prevent divide by zero case\n",
        "\n",
        "def tanh(x):\n",
        "  return np.tanh(x)\n",
        "\n",
        "\n",
        "def activation(activation_function,a,n_neurons):\n",
        "  if activation_function == 'sigmoid':\n",
        "        h=sigmoid(a)\n",
        "  elif activation_function == 'relu':\n",
        "          h=relu(a)\n",
        "  elif activation_function == 'tanh':\n",
        "          h=tanh(a)\n",
        "  return h\n",
        "\n",
        "\n",
        "\n",
        "def forwardPropagation(W,b,n_neurons,n_layers,activation_function,X,n_outputneurons):\n",
        "  ''' W, b are the parameters\n",
        "  n_neurons is the number of nuerons in every hidden layer\n",
        "  n_layers is the number of hidden layer\n",
        "  X is the train dataset'''\n",
        "  a=np.zeros((n_neurons,X.shape[1]))\n",
        "  h=X\n",
        "  H=[]\n",
        "  A=[]\n",
        "\n",
        "  for k in range(0,n_layers):\n",
        "    a=b[k]+np.matmul(W[k],h)\n",
        "    h=activation(activation_function,a,n_neurons)\n",
        "    H.append(h)\n",
        "    A.append(a)\n",
        "    \n",
        " \n",
        "  a=b[n_layers]+(np.matmul(W[n_layers],h)) # activation function for output layer\n",
        "\n",
        "  y=softmax(a)\n",
        "  H.append(y)\n",
        "  A.append(a)\n",
        "  \n",
        "  #wrapping all the values as a dictionary\n",
        "  return { \"A\" :A, \"H\":H, \"y\":y}\n",
        "\n",
        "\n",
        "trainData=[X_train[i].flatten() for i in range(X_train.shape[0])]\n",
        "trainData=np.transpose(trainData)\n",
        "\n"
      ]
    },
    {
      "cell_type": "code",
      "source": [
        "xval_flat=[X_validate[i].flatten() for i in range(X_validate.shape[0])]\n",
        "xval=np.transpose(xval_flat)"
      ],
      "metadata": {
        "id": "FMbTt6rWM5qc"
      },
      "execution_count": 5,
      "outputs": []
    },
    {
      "cell_type": "code",
      "execution_count": 6,
      "metadata": {
        "id": "3xFTHIqnfaAh"
      },
      "outputs": [],
      "source": [
        "def one_hot_vector(Y_t,lenY):\n",
        "  y_temp=np.zeros((10, lenY))\n",
        "  for i in range(lenY):\n",
        "    ans=Y_t[i]\n",
        "    y_temp[ans][i]=1\n",
        "  return y_temp\n",
        "\n",
        "#defining one hot vectors for both train and validation data\n",
        "y_one=one_hot_vector(Y_train,Y_train.shape[0])\n",
        "y_one_val=one_hot_vector(Y_validate,Y_validate.shape[0])\n",
        "\n",
        "\n",
        "def element_wise_multiply(A,B):\n",
        "  C=np.zeros(len(A))\n",
        "  for i in range(len(A)):\n",
        "    C[i]=A[i]*B[i]\n",
        "  return C.T\n",
        "\n",
        "def sigmoid_derivative(x):\n",
        "  return sigmoid(x) * (1-sigmoid(x))\n",
        "\n",
        "def tanh_derivative(x):\n",
        "    return (1 - (np.tanh(x)**2))\n",
        "\n",
        "def relu_derivative(x):\n",
        "  return x>0\n",
        "\n",
        "\n",
        "def find_derivative(activation_function,h,n_neurons):\n",
        "  \n",
        "  if(activation_function==\"sigmoid\"):\n",
        "      g=sigmoid(h)*(1-sigmoid(h))\n",
        "\n",
        "  elif(activation_function==\"tanh\"):\n",
        "      g= tanh_derivative(h)\n",
        "      \n",
        "  elif(activation_function==\"relu\"):\n",
        "      g=relu_derivative(h)\n",
        "  \n",
        "  return g\n",
        "  \n",
        "  \n",
        "\n",
        "def backPropagation(H,A,n_neurons,n_layers,truelabel,n_classes,W,activation_function,X,y_one,wgt_dec,loss_fn):\n",
        "  ''' W, b are the parameters\n",
        "  n_neurons is the number of nuerons in every hidden layer\n",
        "  n_layers is the number of hidden layer\n",
        "  X is the train dataset\n",
        "  wgt_dec is the weigth decay\n",
        "  y_one is the one hot matrix'''\n",
        "\n",
        "  gradient_a=H[n_layers]-y_one\n",
        "  if(loss_fn=='mean_squared_error'):\n",
        "    gradient_a*=H[n_layers]*(1-H[n_layers])\n",
        "\n",
        "  G_W=[]\n",
        "  G_b=[]\n",
        "  \n",
        "  for k in range(n_layers,-1,-1):\n",
        "   \n",
        "    if(k==0):\n",
        "     \n",
        "      gradient_W=np.matmul(gradient_a,X.T)+wgt_dec*W[k]/X.shape[1]\n",
        "      G_W.append(gradient_W)\n",
        "    else:\n",
        "      gradient_W=np.matmul(gradient_a,H[k-1].T)+wgt_dec*W[k]/X.shape[1]\n",
        "      G_W.append(gradient_W)\n",
        "    gradient_b=np.sum(gradient_a, axis=1, keepdims=True) / X.shape[1]\n",
        "    G_b.append(gradient_b)\n",
        "    \n",
        "    if(k>0):\n",
        "      gradient_prevh=np.matmul(W[k].T,gradient_a)\n",
        "      derivative_matrix=find_derivative(activation_function,H[k-1],n_neurons)\n",
        "      gradient_a=gradient_prevh*derivative_matrix\n",
        "    \n",
        " \n",
        "  G_W=G_W[::-1]\n",
        "  G_b=G_b[::-1]\n",
        "  return {\"g_W\": G_W, \"g_b\": G_b}\n",
        "\n",
        "\n",
        "\n"
      ]
    },
    {
      "cell_type": "code",
      "source": [
        "with np.errstate(divide=\"ignore\"):\n",
        "    np.log(0)"
      ],
      "metadata": {
        "id": "9RmJSkhVY8sY"
      },
      "execution_count": 7,
      "outputs": []
    },
    {
      "cell_type": "markdown",
      "source": [
        "Accuracy function"
      ],
      "metadata": {
        "id": "2TkB05Z_lGMw"
      }
    },
    {
      "cell_type": "code",
      "source": [
        "def calc_accuracy(prd,Y):\n",
        "  y_pred = np.argmax(prd[\"y\"],axis=0)\n",
        "  accuracy = np.sum(y_pred==Y)/Y.shape[0]\n",
        "  return accuracy\n",
        "\n"
      ],
      "metadata": {
        "id": "yZZ3PNyy_-XW"
      },
      "execution_count": 8,
      "outputs": []
    },
    {
      "cell_type": "markdown",
      "source": [
        "Stochastic gradient descent which \n",
        "when given a batch size act as mini batch gradient descent, \n",
        "when batch size=1 act as stochastic gradient descent,\n",
        "when batch size=whole datasize acts as gradient descent"
      ],
      "metadata": {
        "id": "5OA-9FoTlKPN"
      }
    },
    {
      "cell_type": "code",
      "execution_count": 9,
      "metadata": {
        "id": "CnfMj9VcxG4F"
      },
      "outputs": [],
      "source": [
        "from tempfile import tempdir\n",
        "from matplotlib import tempfile\n",
        "\n",
        "def gradient_update_vanila(W,b,n_layers,grad,eta):\n",
        "\n",
        "  for k in range(0,n_layers+1):\n",
        "    W[k]-=eta*grad[\"g_W\"][k]\n",
        "    b[k]=b[k]-eta*grad[\"g_b\"][k]\n",
        "\n",
        "  return (W,b)\n",
        "\n",
        "#calculating both training and validation loss\n",
        "def calculateloss(y_t_predicted,batch_size,lenx,leny,Y,wgt_dec,n_layers,W,loss_fn,y_one,y_one_val,isvalidate=False,y_v_predicted=None,Y_val=None):\n",
        "\n",
        "  if(loss_fn=='cross_entropy'):\n",
        "    temp=np.arange(leny)\n",
        "    y_t_predicted = np.maximum(y_t_predicted, 1e-10)\n",
        "    l= sum(-np.log(y_t_predicted.T[temp,Y]))/lenx\n",
        "\n",
        "  elif(loss_fn=='mean_squared_error'):\n",
        "    l=np.mean(np.square(y_one - y_t_predicted))\n",
        "  #regularisation\n",
        "  mod=0\n",
        "  if(wgt_dec!=0):\n",
        "    for k in range(0,n_layers+1):\n",
        "      mod+=np.sum(W[k]**2)\n",
        "  training_loss= l+((wgt_dec*mod)/(2*lenx))\n",
        "\n",
        "  #if validation loss is also to be calculated\n",
        "  if(isvalidate):\n",
        "\n",
        "    if(loss_fn=='cross_entropy'):\n",
        "      temp=np.arange(6000)\n",
        "      y_v_predicted = np.maximum(y_v_predicted, 1e-10)\n",
        "      l= sum(-np.log(y_v_predicted.T[temp,Y_val]))/6000\n",
        "    elif(loss_fn=='mean_squared_error'):\n",
        "      l=np.mean(np.square(y_one_val - y_v_predicted))\n",
        "\n",
        "    validation_loss=l+((wgt_dec*mod)/(2*6000))\n",
        "    return training_loss,validation_loss\n",
        "\n",
        "  return training_loss\n",
        "\n",
        "\n",
        "\n",
        "#stochastic gradient descent\n",
        "def modelfit_gradient_descent(epoch,eta,n_layers,activation_fn,n_neurons,initialisation,n_inputneurons,n_outputneurons,X,Y,n_classes,batch_size,wgt_dec,loss_fn):\n",
        "\n",
        "  (W,b)=initialise_modelparameters(initialisation,n_layers,n_neurons,n_inputneurons,n_outputneurons)\n",
        "  Loss=[]\n",
        "  v_loss=[]\n",
        "\n",
        "  print(\"___________________________________________________________________\")\n",
        "  print(\"Running Stochastic Gradient Descent.....\")\n",
        "  print(f\"{'epoch': <5}{'training loss' : ^30}{'validation loss ': <30}\")\n",
        "  for t in range(epoch):\n",
        "    \n",
        "    for i in range(0,X.shape[1],batch_size):\n",
        "      y_f=forwardPropagation(W,b,n_neurons,n_layers,activation_fn,trainData[:,i:i+batch_size],10)\n",
        "      g=backPropagation(y_f[\"H\"],y_f[\"A\"],n_neurons,n_layers,Y_train,n_classes,W,activation_fn,trainData[:,i:i+batch_size],y_one[:,i:i+batch_size],wgt_dec,loss_fn)   \n",
        "      (W,b)=gradient_update_vanila(W,b,n_layers,g,eta)\n",
        "   \n",
        "    #calculating model performance\n",
        "    y_t=forwardPropagation(W,b,n_neurons,n_layers,activation_fn,X,10)\n",
        "    y_v=forwardPropagation(W,b,n_neurons,n_layers,activation_fn,xval,10)\n",
        "    (training_loss,validation_loss)=calculateloss(y_t[\"y\"],batch_size,len(X.T),len(Y),Y,wgt_dec,n_layers,W,loss_fn,y_one,y_one_val,True,y_v[\"y\"],Y_validate)\n",
        "    training_accuracy=calc_accuracy(y_t,Y_train)\n",
        "    validation_accuracy=calc_accuracy(y_v,Y_validate)\n",
        "    \n",
        "    print(f\"{t : <5}{training_loss : ^30}{validation_loss : <30}\")\n",
        "    Loss.append(training_loss)\n",
        "    v_loss.append(validation_loss)\n",
        "    #logging the values to wandb\n",
        "    wandb.log({\"validation_loss\": validation_loss,\"validation_accuracy\": validation_accuracy,\"training_loss\": training_loss,\"training_accuracy\": training_accuracy, 'epoch': t})\n",
        "\n",
        "\n",
        "  print(\"------------------------------------------------------------------\")\n",
        "  print(\"Accuracy on training data:\",training_accuracy)\n",
        "  print(\"Accuracy on validation data:\",validation_accuracy)\n",
        "\n",
        "  return(W,b,Loss,v_loss)\n",
        "\n",
        "\n",
        "\n",
        "#to run individually\n",
        "#run=wandb.init(project=\"assignment1\")\n",
        "#(W,b,Loss,v_loss)=modelfit_gradient_descent(5,1e-3,3,\"relu\",32,\"xavier\",784,10,trainData,Y_train,10,32,0.0005,\"cross_entropy\")\n",
        "#run.finish()\n"
      ]
    },
    {
      "cell_type": "markdown",
      "source": [
        "Plotting loss function"
      ],
      "metadata": {
        "id": "Po_wsbj6n_ZS"
      }
    },
    {
      "cell_type": "code",
      "source": [
        "def plotLoss(epochs,Loss,v_loss):\n",
        "  plt.plot(epochs,Loss,label=\"Training loss\")\n",
        "  plt.plot(epochs,v_loss,label=\"Validation loss\")\n",
        "  plt.xlabel('epoch')\n",
        "  plt.ylabel('loss')\n",
        "  plt.legend()\n",
        "  plt.show()\n",
        "\n"
      ],
      "metadata": {
        "id": "bck3CUE57ZnT"
      },
      "execution_count": 10,
      "outputs": []
    },
    {
      "cell_type": "code",
      "source": [
        "np.seterr(divide = 'ignore') "
      ],
      "metadata": {
        "id": "zYz8r3i4BpAj",
        "colab": {
          "base_uri": "https://localhost:8080/"
        },
        "outputId": "615b1aff-b99d-4caf-de7f-233339fb980d"
      },
      "execution_count": 11,
      "outputs": [
        {
          "output_type": "execute_result",
          "data": {
            "text/plain": [
              "{'divide': 'warn', 'over': 'warn', 'under': 'ignore', 'invalid': 'warn'}"
            ]
          },
          "metadata": {},
          "execution_count": 11
        }
      ]
    },
    {
      "cell_type": "markdown",
      "source": [
        "Momentum based gradient descent"
      ],
      "metadata": {
        "id": "bpBi6tHNoE7z"
      }
    },
    {
      "cell_type": "code",
      "execution_count": 12,
      "metadata": {
        "id": "rAwtR_lG-egV",
        "colab": {
          "base_uri": "https://localhost:8080/",
          "height": 632,
          "referenced_widgets": [
            "d514f427ad654794a183fcdb19510d80",
            "6a89dd72c29f45bc86af57a200be69be",
            "801c9b0736b34eb8acb64a7cd488c248",
            "c417239805fa4674806be17ea37e45ba",
            "8acb6e90dca2468dad34d1a5ffd6a6d6",
            "9163e00096af417280b6ef8a82efe2a4",
            "3fb849e11ed942dfb6911d75f3c4a079",
            "731f06b593ff4046be06988a65ee4779"
          ]
        },
        "outputId": "f726f6b6-7455-4216-e99c-f221813f72d7"
      },
      "outputs": [
        {
          "output_type": "display_data",
          "data": {
            "text/plain": [
              "<IPython.core.display.HTML object>"
            ],
            "text/html": [
              "Tracking run with wandb version 0.14.0"
            ]
          },
          "metadata": {}
        },
        {
          "output_type": "display_data",
          "data": {
            "text/plain": [
              "<IPython.core.display.HTML object>"
            ],
            "text/html": [
              "Run data is saved locally in <code>/content/wandb/run-20230318_170343-71dy6z0b</code>"
            ]
          },
          "metadata": {}
        },
        {
          "output_type": "display_data",
          "data": {
            "text/plain": [
              "<IPython.core.display.HTML object>"
            ],
            "text/html": [
              "Syncing run <strong><a href='https://wandb.ai/cs22m025/assignment1/runs/71dy6z0b' target=\"_blank\">magic-bird-1059</a></strong> to <a href='https://wandb.ai/cs22m025/assignment1' target=\"_blank\">Weights & Biases</a> (<a href='https://wandb.me/run' target=\"_blank\">docs</a>)<br/>"
            ]
          },
          "metadata": {}
        },
        {
          "output_type": "display_data",
          "data": {
            "text/plain": [
              "<IPython.core.display.HTML object>"
            ],
            "text/html": [
              " View project at <a href='https://wandb.ai/cs22m025/assignment1' target=\"_blank\">https://wandb.ai/cs22m025/assignment1</a>"
            ]
          },
          "metadata": {}
        },
        {
          "output_type": "display_data",
          "data": {
            "text/plain": [
              "<IPython.core.display.HTML object>"
            ],
            "text/html": [
              " View run at <a href='https://wandb.ai/cs22m025/assignment1/runs/71dy6z0b' target=\"_blank\">https://wandb.ai/cs22m025/assignment1/runs/71dy6z0b</a>"
            ]
          },
          "metadata": {}
        },
        {
          "output_type": "stream",
          "name": "stdout",
          "text": [
            "___________________________________________________________________\n",
            "Running Mometum Based Gradient Descent.....\n",
            "epoch        training loss         validation loss               \n",
            "0         0.48180919492967456      0.49014005955216267           \n",
            "1         0.42987957107955044      0.4393917207745242            \n",
            "2         0.41076978637817774      0.4211291594407801            \n",
            "3         0.40726574064066473      0.42334218633746656           \n",
            "4          0.4081514817702583      0.42887613621191706           \n",
            "------------------------------------------------------------------\n",
            "Accuracy on training data: 0.8557037037037037\n",
            "Accuracy on validation data: 0.8481666666666666\n"
          ]
        },
        {
          "output_type": "display_data",
          "data": {
            "text/plain": [
              "<IPython.core.display.HTML object>"
            ],
            "text/html": [
              "Waiting for W&B process to finish... <strong style=\"color:green\">(success).</strong>"
            ]
          },
          "metadata": {}
        },
        {
          "output_type": "display_data",
          "data": {
            "text/plain": [
              "VBox(children=(Label(value='0.001 MB of 0.001 MB uploaded (0.000 MB deduped)\\r'), FloatProgress(value=1.0, max…"
            ],
            "application/vnd.jupyter.widget-view+json": {
              "version_major": 2,
              "version_minor": 0,
              "model_id": "d514f427ad654794a183fcdb19510d80"
            }
          },
          "metadata": {}
        },
        {
          "output_type": "display_data",
          "data": {
            "text/plain": [
              "<IPython.core.display.HTML object>"
            ],
            "text/html": [
              "<style>\n",
              "    table.wandb td:nth-child(1) { padding: 0 10px; text-align: left ; width: auto;} td:nth-child(2) {text-align: left ; width: 100%}\n",
              "    .wandb-row { display: flex; flex-direction: row; flex-wrap: wrap; justify-content: flex-start; width: 100% }\n",
              "    .wandb-col { display: flex; flex-direction: column; flex-basis: 100%; flex: 1; padding: 10px; }\n",
              "    </style>\n",
              "<div class=\"wandb-row\"><div class=\"wandb-col\"><h3>Run history:</h3><br/><table class=\"wandb\"><tr><td>epoch</td><td>▁▃▅▆█</td></tr><tr><td>training_accuracy</td><td>▁▆███</td></tr><tr><td>training_loss</td><td>█▃▁▁▁</td></tr><tr><td>validation_accuracy</td><td>▁▆█▇▆</td></tr><tr><td>validation_loss</td><td>█▃▁▁▂</td></tr></table><br/></div><div class=\"wandb-col\"><h3>Run summary:</h3><br/><table class=\"wandb\"><tr><td>epoch</td><td>4</td></tr><tr><td>training_accuracy</td><td>0.8557</td></tr><tr><td>training_loss</td><td>0.40815</td></tr><tr><td>validation_accuracy</td><td>0.84817</td></tr><tr><td>validation_loss</td><td>0.42888</td></tr></table><br/></div></div>"
            ]
          },
          "metadata": {}
        },
        {
          "output_type": "display_data",
          "data": {
            "text/plain": [
              "<IPython.core.display.HTML object>"
            ],
            "text/html": [
              " View run <strong style=\"color:#cdcd00\">magic-bird-1059</strong> at: <a href='https://wandb.ai/cs22m025/assignment1/runs/71dy6z0b' target=\"_blank\">https://wandb.ai/cs22m025/assignment1/runs/71dy6z0b</a><br/>Synced 5 W&B file(s), 0 media file(s), 0 artifact file(s) and 0 other file(s)"
            ]
          },
          "metadata": {}
        },
        {
          "output_type": "display_data",
          "data": {
            "text/plain": [
              "<IPython.core.display.HTML object>"
            ],
            "text/html": [
              "Find logs at: <code>./wandb/run-20230318_170343-71dy6z0b/logs</code>"
            ]
          },
          "metadata": {}
        }
      ],
      "source": [
        "def gradient_update_momentum(W,b,n_layers,grad,eta,u_W,u_b,beta):\n",
        "  for k in range(0,n_layers+1):\n",
        "    u_W[k]=beta*u_W[k]+(1-beta)*grad[\"g_W\"][k]\n",
        "    W[k]=W[k]-(eta*u_W[k])\n",
        "    u_b[k]=beta*u_b[k]+(1-beta)*grad[\"g_b\"][k]\n",
        "    b[k]=b[k]-(eta*u_b[k])\n",
        "\n",
        "  return (u_W,W,u_b,b)\n",
        "\n",
        "\n",
        "\n",
        "\n",
        "def modelfit_momentum(epoch,eta,n_layers,activation_fn,n_neurons,initialisation,n_inputneurons,n_outputneurons,X,Y,n_classes,beta,batch_size,wgt_dec,loss_fn):\n",
        "\n",
        "  (W,b)=initialise_modelparameters(initialisation,n_layers,n_neurons,n_inputneurons,n_outputneurons)\n",
        "  (u_W,u_b)=initialise_u(n_layers,n_neurons,n_inputneurons,n_outputneurons)\n",
        "  Loss=[]\n",
        "  v_loss=[]\n",
        "  print(\"___________________________________________________________________\")\n",
        "  print(\"Running Mometum Based Gradient Descent.....\")\n",
        "  print(f\"{'epoch': <5}{'training loss' : ^30}{'validation loss ': <30}\")\n",
        "  for t in range(epoch):\n",
        "    \n",
        "    for i in range(0,X.shape[1],batch_size):\n",
        "\n",
        "      y=forwardPropagation(W,b,n_neurons,n_layers,activation_fn,trainData[:,i:i+batch_size],10)\n",
        "      g=backPropagation(y[\"H\"],y[\"A\"],n_neurons,n_layers,Y_train,n_classes,W,activation_fn,trainData[:,i:i+batch_size],y_one[:,i:i+batch_size],wgt_dec,loss_fn)\n",
        "      (u_W,W,u_b,b)=gradient_update_momentum(W,b,n_layers,g,eta,u_W,u_b,beta)\n",
        "  \n",
        "    #calculating model performance\n",
        "    y_t=forwardPropagation(W,b,n_neurons,n_layers,activation_fn,X,10)\n",
        "    y_v=forwardPropagation(W,b,n_neurons,n_layers,activation_fn,xval,10)\n",
        "    (training_loss,validation_loss)=calculateloss(y_t[\"y\"],batch_size,len(X.T),len(Y),Y,wgt_dec,n_layers,W,loss_fn,y_one,y_one_val,True,y_v[\"y\"],Y_validate)\n",
        "    training_accuracy=calc_accuracy(y_t,Y_train)\n",
        "    validation_accuracy=calc_accuracy(y_v,Y_validate)\n",
        "    \n",
        "    print(f\"{t : <5}{training_loss : ^30}{validation_loss : <30}\")\n",
        "    Loss.append(training_loss)\n",
        "    v_loss.append(validation_loss)\n",
        "    #logging the values to wandb\n",
        "    wandb.log({\"validation_loss\": validation_loss,\"validation_accuracy\": validation_accuracy,\"training_loss\": training_loss,\"training_accuracy\": training_accuracy, 'epoch': t})\n",
        "  print(\"------------------------------------------------------------------\")\n",
        "  print(\"Accuracy on training data:\",training_accuracy)\n",
        "  print(\"Accuracy on validation data:\",validation_accuracy)\n",
        "    \n",
        "  return (Loss,W,b,v_loss)\n",
        "\n",
        "#to run individually\n",
        "run=wandb.init(project=\"assignment1\",entity=\"cs22m025\")\n",
        "(Loss,W,b,v_loss)=modelfit_momentum(5,1e-3,5,\"tanh\",32,\"xavier\",784,10,trainData,Y_train,10000,0.9,32,0.0005,\"cross_entropy\")\n",
        "run.finish()"
      ]
    },
    {
      "cell_type": "markdown",
      "source": [
        "Nesterov Accelerated Gradient descent"
      ],
      "metadata": {
        "id": "KVQuM-lLu5jU"
      }
    },
    {
      "cell_type": "code",
      "execution_count": 13,
      "metadata": {
        "id": "nT78AI-ncS8c"
      },
      "outputs": [],
      "source": [
        "def gradient_update_nesterov(W,b,n_layers,grad,eta,u_W,u_b,beta):\n",
        "  for k in range(0,n_layers+1):\n",
        "    u_W[k]=beta*u_W[k]+eta*grad[\"g_W\"][k]\n",
        "    W[k]-=(u_W[k])\n",
        "    u_b[k]=beta*u_b[k]+eta*grad[\"g_b\"][k]\n",
        "    b[k]-=(u_b[k])\n",
        "\n",
        "  return (u_W,W,u_b,b)\n",
        "\n",
        "\n",
        "\n",
        "def modelfit_nestrov(epoch,eta,n_layers,activation_fn,n_neurons,initialisation,n_inputneurons,n_outputneurons,X,Y,n_classes,beta,batch_size,wgt_dec,loss_fn):\n",
        "\n",
        "  (W,b)=initialise_modelparameters(initialisation,n_layers,n_neurons,n_inputneurons,n_outputneurons)\n",
        "  (u_W,u_b)=initialise_u(n_layers,n_neurons,n_inputneurons,n_outputneurons)\n",
        "  lookahead_W=W.copy()\n",
        "  lookahead_b=b.copy()\n",
        "  Loss=[]\n",
        "  v_loss=[]\n",
        "  print(\"___________________________________________________________________\")\n",
        "  print(\"Running Nesterov Accelerated Based Gradient Descent.....\")\n",
        "  print(f\"{'epoch': <5}{'training loss' : ^30}{'validation loss ': <30}\")\n",
        "\n",
        "  for t in range(epoch):\n",
        "   \n",
        "    sum=0\n",
        "    loss=0\n",
        "    for k in range(0,n_layers+1):\n",
        "      u_W[k]=beta*u_W[k]\n",
        "      u_b[k]=beta*u_b[k]\n",
        "    for i in range(0,X.shape[1],batch_size):\n",
        "\n",
        "      for k in range(0,n_layers+1):\n",
        "        lookahead_W[k]=W[k]-u_W[k]\n",
        "        lookahead_b[k]=b[k]-u_b[k]\n",
        "      y=forwardPropagation(lookahead_W,lookahead_b,n_neurons,n_layers,activation_fn,trainData[:,i:i+batch_size],10)\n",
        "      g=backPropagation(y[\"H\"],y[\"A\"],n_neurons,n_layers,Y_train,n_classes,lookahead_W,activation_fn,trainData[:,i:i+batch_size],y_one[:,i:i+batch_size],wgt_dec,loss_fn)\n",
        "      (u_W,W,u_b,b)=gradient_update_nesterov(W,b,n_layers,g,eta,u_W,u_b,beta)\n",
        "      \n",
        "    #calculating model performance\n",
        "    y_t=forwardPropagation(W,b,n_neurons,n_layers,activation_fn,X,10)\n",
        "    y_v=forwardPropagation(W,b,n_neurons,n_layers,activation_fn,xval,10)\n",
        "    (training_loss,validation_loss)=calculateloss(y_t[\"y\"],batch_size,len(X.T),len(Y),Y,wgt_dec,n_layers,W,loss_fn,y_one,y_one_val,True,y_v[\"y\"],Y_validate)\n",
        "    training_accuracy=calc_accuracy(y_t,Y_train)\n",
        "    validation_accuracy=calc_accuracy(y_v,Y_validate)\n",
        "    \n",
        "    print(f\"{t : <5}{training_loss : ^30}{validation_loss : <30}\")\n",
        "    Loss.append(training_loss)\n",
        "    v_loss.append(validation_loss)\n",
        "    #logging the values to wandb\n",
        "    wandb.log({\"validation_loss\": validation_loss,\"validation_accuracy\": validation_accuracy,\"training_loss\": training_loss,\"training_accuracy\": training_accuracy, 'epoch': t})\n",
        "\n",
        "  print(\"------------------------------------------------------------------\")\n",
        "  print(\"Accuracy on training data:\",training_accuracy)\n",
        "  print(\"Accuracy on validation data:\",validation_accuracy)\n",
        "    \n",
        "  return (Loss,W,b,v_loss)\n",
        "\n",
        "#to run individually\n",
        "#run=wandb.init(project=\"assignment1\",entity=\"cs22m025\")\n",
        "#(Loss,W,b,v_loss)=modelfit_nestrov(5,1e-3,3,\"relu\",128,\"xavier\",784,10,trainData,Y_train,10,0.9,64,0.0005,\"cross_entropy\")\n",
        "#run.finish()"
      ]
    },
    {
      "cell_type": "markdown",
      "source": [
        "RMSProp"
      ],
      "metadata": {
        "id": "XTkPab03vMHu"
      }
    },
    {
      "cell_type": "code",
      "execution_count": 14,
      "metadata": {
        "id": "GwH77TwMN2q9"
      },
      "outputs": [],
      "source": [
        "def gradient_update_rmsprop(W,b,n_layers,grad,eta,v_W,v_b,beta,epsilon):\n",
        "  for k in range(0,n_layers+1):\n",
        "    v_W[k]=beta*v_W[k]+(1-beta)*(np.multiply(grad[\"g_W\"][k],grad[\"g_W\"][k]))\n",
        "    W[k]-=(eta*grad[\"g_W\"][k])/(np.sqrt(v_W[k])+epsilon)\n",
        "    v_b[k]=beta*v_b[k]+(1-beta)*(np.multiply(grad[\"g_b\"][k],grad[\"g_b\"][k]))\n",
        "    b[k]-=(eta*grad[\"g_b\"][k])/(np.sqrt(v_b[k])+epsilon)\n",
        "\n",
        "  return (v_W,W,v_b,b)\n",
        "\n",
        "\n",
        "\n",
        "\n",
        "def modelfit_rmsprop(epoch,eta,n_layers,activation_fn,n_neurons,initialisation,n_inputneurons,n_outputneurons,X,Y,n_classes,beta,epsilon,batch_size,wgt_dec,loss_fn):\n",
        "\n",
        "  (W,b)=initialise_modelparameters(initialisation,n_layers,n_neurons,n_inputneurons,n_outputneurons)\n",
        "  (v_W,v_b)=initialise_u(n_layers,n_neurons,n_inputneurons,n_outputneurons)\n",
        "  Loss=[]\n",
        "  v_loss=[]\n",
        "  print(\"___________________________________________________________________\")\n",
        "  print(\"Running RMSProp.....\")\n",
        "  print(f\"{'epoch': <5}{'training loss' : ^30}{'validation loss ': <30}\")\n",
        "\n",
        "  for t in range(epoch):\n",
        "    \n",
        "    for i in range(0,X.shape[1],batch_size):\n",
        "\n",
        "      y=forwardPropagation(W,b,n_neurons,n_layers,activation_fn,trainData[:,i:i+batch_size],10)\n",
        "      g=backPropagation(y[\"H\"],y[\"A\"],n_neurons,n_layers,Y_train,n_classes,W,activation_fn,trainData[:,i:i+batch_size],y_one[:,i:i+batch_size],wgt_dec,loss_fn)\n",
        "      (v_W,W,v_b,b)=gradient_update_rmsprop(W,b,n_layers,g,eta,v_W,v_b,beta,epsilon)\n",
        "  \n",
        "    #calculating model performance\n",
        "    y_t=forwardPropagation(W,b,n_neurons,n_layers,activation_fn,X,10)\n",
        "    y_v=forwardPropagation(W,b,n_neurons,n_layers,activation_fn,xval,10)\n",
        "    (training_loss,validation_loss)=calculateloss(y_t[\"y\"],batch_size,len(X.T),len(Y),Y,wgt_dec,n_layers,W,loss_fn,y_one,y_one_val,True,y_v[\"y\"],Y_validate)\n",
        "    training_accuracy=calc_accuracy(y_t,Y_train)\n",
        "    validation_accuracy=calc_accuracy(y_v,Y_validate)\n",
        "    \n",
        "    \n",
        "    print(f\"{t : <5}{training_loss : ^30}{validation_loss : <30}\")\n",
        "    Loss.append(training_loss)\n",
        "    v_loss.append(validation_loss)\n",
        "    #logging the values to wandb\n",
        "    wandb.log({\"validation_loss\": validation_loss,\"validation_accuracy\": validation_accuracy,\"training_loss\": training_loss,\"training_accuracy\": training_accuracy, 'epoch': t})\n",
        "\n",
        "  print(\"------------------------------------------------------------------\")\n",
        "  print(\"Accuracy on training data:\",training_accuracy)\n",
        "  print(\"Accuracy on validation data:\",validation_accuracy)\n",
        "\n",
        "\n",
        "  return (Loss,W,b,v_loss)\n",
        "\n",
        "#to run individually\n",
        "#run=wandb.init(project=\"assignment1\",entity=\"cs22m025\")\n",
        "#(Loss,W,b,v_loss)=modelfit_rmsprop(5,1e-3,5,\"relu\",128,\"random\",784,10,trainData,Y_train,10,0.9,1e-6,16,0,\"cross_entropy\")\n",
        "#run.finish()"
      ]
    },
    {
      "cell_type": "markdown",
      "source": [
        "Adam"
      ],
      "metadata": {
        "id": "8m_QgjTQvjJu"
      }
    },
    {
      "cell_type": "code",
      "execution_count": 15,
      "metadata": {
        "id": "agZ340yQRhJw"
      },
      "outputs": [],
      "source": [
        "def gradient_update_adam(W,b,n_layers,grad,eta,v_W,v_b,m_W,m_b,beta1,beta2,epsilon,t):\n",
        "  for k in range(0,n_layers+1):\n",
        "    m_W[k]=beta1*m_W[k]+(1-beta1)*grad[\"g_W\"][k]\n",
        "    m_b[k]=beta1*m_b[k]+(1-beta1)*grad[\"g_b\"][k]\n",
        "\n",
        "    v_W[k]=beta2*v_W[k]+(1-beta2)*grad[\"g_W\"][k]**2\n",
        "    v_b[k]=beta2*v_b[k]+(1-beta2)*grad[\"g_b\"][k]**2\n",
        "\n",
        "    m_W_correction=m_W[k]/(1-(beta1**t))\n",
        "    m_b_correction=m_b[k]/(1-(beta1**t))\n",
        "\n",
        "    v_W_correction=v_W[k]/(1-(beta2**t))\n",
        "    v_b_correction=v_b[k]/(1-(beta2**t))\n",
        "\n",
        "    W[k]-=(eta*m_W_correction)/(np.sqrt(v_W_correction)+epsilon)\n",
        "    b[k]-=(eta*m_b_correction)/(np.sqrt(v_b_correction)+epsilon)\n",
        "\n",
        "  return (m_W,v_W,W,m_b,v_b,b)\n",
        "\n",
        "\n",
        "\n",
        "\n",
        "def modelfit_adam(epoch,eta,n_layers,activation_fn,n_neurons,initialisation,n_inputneurons,n_outputneurons,X,Y,n_classes,beta1,beta2,epsilon,batch_size,wgt_dec,loss_fn):\n",
        "\n",
        "  (W,b)=initialise_modelparameters(initialisation,n_layers,n_neurons,n_inputneurons,n_outputneurons)\n",
        "  (v_W,v_b)=initialise_u(n_layers,n_neurons,n_inputneurons,n_outputneurons)\n",
        "  (m_W,m_b)=initialise_u(n_layers,n_neurons,n_inputneurons,n_outputneurons)\n",
        "  v_loss=[]\n",
        "  Loss=[]\n",
        "  print(\"___________________________________________________________________\")\n",
        "  print(\"Running Adam.....\")\n",
        "  print(f\"{'epoch': <5}{'training loss' : ^30}{'validation loss ': <30}\")\n",
        "\n",
        "  for t in range(1,epoch+1):\n",
        "    \n",
        "    for i in range(0,X.shape[1],batch_size):\n",
        "\n",
        "      y=forwardPropagation(W,b,n_neurons,n_layers,activation_fn,trainData[:,i:i+batch_size],10)\n",
        "      g=backPropagation(y[\"H\"],y[\"A\"],n_neurons,n_layers,Y_train,n_classes,W,activation_fn,trainData[:,i:i+batch_size],y_one[:,i:i+batch_size],wgt_dec,loss_fn)\n",
        "      (m_W,v_W,W,m_b,v_b,b)=gradient_update_adam(W,b,n_layers,g,eta,v_W,v_b,m_W,m_b,beta1,beta2,epsilon,t)\n",
        "  \n",
        "    #calculating the model performance\n",
        "    y_t=forwardPropagation(W,b,n_neurons,n_layers,activation_fn,X,10)\n",
        "    y_v=forwardPropagation(W,b,n_neurons,n_layers,activation_fn,xval,10)\n",
        "    (training_loss,validation_loss)=calculateloss(y_t[\"y\"],batch_size,len(X.T),len(Y),Y,wgt_dec,n_layers,W,loss_fn,y_one,y_one_val,True,y_v[\"y\"],Y_validate)\n",
        "    training_accuracy=calc_accuracy(y_t,Y_train)\n",
        "    validation_accuracy=calc_accuracy(y_v,Y_validate)\n",
        "    \n",
        "  \n",
        "    print(f\"{t : <5}{training_loss : ^30}{validation_loss : <30}\")\n",
        "    Loss.append(training_loss)\n",
        "    v_loss.append(validation_loss)\n",
        "    #logging the values to wandb\n",
        "    wandb.log({\"validation_loss\": validation_loss,\"validation_accuracy\": validation_accuracy,\"training_loss\": training_loss,\"training_accuracy\": training_accuracy, 'epoch': t})\n",
        "\n",
        "  print(\"------------------------------------------------------------------\")\n",
        "  print(\"Accuracy on training data:\",training_accuracy)\n",
        "  print(\"Accuracy on validation data:\",validation_accuracy)\n",
        "  return (Loss,W,b,v_loss)\n",
        "\n",
        "\n",
        "#to run individually\n",
        "#run=wandb.init(project=\"assignment1\",entity=\"cs22m025\")\n",
        "#(Loss,W,b,v_loss)=modelfit_adam(10,1e-3,3,\"tanh\",32,\"xavier\",784,10,trainData,Y_train,10,0.9,0.999,1e-8,10,0.0005,\"cross_entropy\")\n",
        "#run.finish()"
      ]
    },
    {
      "cell_type": "markdown",
      "source": [
        "Nadam"
      ],
      "metadata": {
        "id": "eKSEiBzNvo5h"
      }
    },
    {
      "cell_type": "code",
      "execution_count": 16,
      "metadata": {
        "id": "xD_LhFc1y5Ip"
      },
      "outputs": [],
      "source": [
        "def gradient_update_nadam(W,b,n_layers,grad,eta,v_W,v_b,m_W,m_b,beta1,beta2,epsilon,t):\n",
        "  for k in range(0,n_layers+1):\n",
        "    m_W[k]=beta1*m_W[k]+(1-beta1)*grad[\"g_W\"][k]\n",
        "    m_b[k]=beta1*m_b[k]+(1-beta1)*grad[\"g_b\"][k]\n",
        "\n",
        "    v_W[k]=beta2*v_W[k]+(1-beta2)*grad[\"g_W\"][k]**2\n",
        "    v_b[k]=beta2*v_b[k]+(1-beta2)*grad[\"g_b\"][k]**2\n",
        "\n",
        "    m_W_correction=m_W[k]/(1-(beta1**(t+1)))\n",
        "    m_b_correction=m_b[k]/(1-(beta1**(t+1)))\n",
        "\n",
        "    v_W_correction=v_W[k]/(1-(beta2**(t+1)))\n",
        "    v_b_correction=v_b[k]/(1-(beta2**(t+1)))\n",
        "\n",
        "    W[k]-=((eta)/(np.sqrt(v_W_correction)+epsilon))*(beta1*m_W_correction+((1-beta1)*grad[\"g_W\"][k])/(1-beta1**(t+1)))\n",
        "    b[k]-=(eta)/(np.sqrt(v_b_correction)+epsilon)*(beta1*m_b_correction+((1-beta1)*grad[\"g_b\"][k])/(1-beta1**(t+1)))\n",
        "\n",
        "  return (m_W,v_W,W,m_b,v_b,b)\n",
        "\n",
        "\n",
        "\n",
        "\n",
        "def modelfit_nadam(epoch,eta,n_layers,activation_fn,n_neurons,initialisation,n_inputneurons,n_outputneurons,X,Y,n_classes,beta1,beta2,epsilon,batch_size,wgt_dec,loss_fn):\n",
        "\n",
        "  (W,b)=initialise_modelparameters(initialisation,n_layers,n_neurons,n_inputneurons,n_outputneurons)\n",
        "  (v_W,v_b)=initialise_u(n_layers,n_neurons,n_inputneurons,n_outputneurons)\n",
        "  (m_W,m_b)=initialise_u(n_layers,n_neurons,n_inputneurons,n_outputneurons)\n",
        "  Loss=[]\n",
        "  v_loss=[]\n",
        "  print(\"___________________________________________________________________\")\n",
        "  print(\"Running Nadam.....\")\n",
        "  print(f\"{'epoch': <5}{'training loss' : ^30}{'validation loss ': <30}\")\n",
        "\n",
        "  for t in range(1,epoch+1):\n",
        "    \n",
        "    for i in range(0,X.shape[1],batch_size):\n",
        "\n",
        "      y=forwardPropagation(W,b,n_neurons,n_layers,activation_fn,trainData[:,i:i+batch_size],10)\n",
        "      g=backPropagation(y[\"H\"],y[\"A\"],n_neurons,n_layers,Y_train,n_classes,W,activation_fn,trainData[:,i:i+batch_size],y_one[:,i:i+batch_size],wgt_dec,loss_fn)\n",
        "      (m_W,v_W,W,m_b,v_b,b)=gradient_update_nadam(W,b,n_layers,g,eta,v_W,v_b,m_W,m_b,beta1,beta2,epsilon,t)\n",
        "  \n",
        "    #calculating model performance  \n",
        "    y_t=forwardPropagation(W,b,n_neurons,n_layers,activation_fn,X,10)\n",
        "    y_v=forwardPropagation(W,b,n_neurons,n_layers,activation_fn,xval,10)\n",
        "    (training_loss,validation_loss)=calculateloss(y_t[\"y\"],batch_size,len(X.T),len(Y),Y,wgt_dec,n_layers,W,loss_fn,y_one,y_one_val,True,y_v[\"y\"],Y_validate)\n",
        "    training_accuracy=calc_accuracy(y_t,Y_train)\n",
        "    validation_accuracy=calc_accuracy(y_v,Y_validate)\n",
        "    \n",
        "    print(f\"{t : <5}{training_loss : ^30}{validation_loss : <30}\")\n",
        "    Loss.append(training_loss)\n",
        "    v_loss.append(validation_loss)\n",
        "    #logging the values to wandb\n",
        "    wandb.log({\"validation_loss\": validation_loss,\"validation_accuracy\": validation_accuracy,\"training_loss\": training_loss,\"training_accuracy\": training_accuracy, 'epoch': t})\n",
        "\n",
        "  print(\"------------------------------------------------------------------\")\n",
        "  print(\"Accuracy on training data:\",training_accuracy)\n",
        "  print(\"Accuracy on validation data:\",validation_accuracy)\n",
        "\n",
        "  return (Loss,W,b,v_loss)\n",
        "\n",
        "#to run individually\n",
        "#run=wandb.init(project=\"assignment1\",entity=\"cs22m025\")\n",
        "#(Loss,W,b,v_loss)=modelfit_nadam(5,1e-3,5,\"relu\",128,\"random\",784,10,trainData,Y_train,10,0.9,0.999,1e-8,32,0.0005,\"cross_entropy\")\n",
        "#run.finish()"
      ]
    },
    {
      "cell_type": "code",
      "source": [
        "#function which wraps up all the optimisers\n",
        "\n",
        "def network_train(epoch,eta,n_layers,activation_fn,n_neurons,initialisation,X,Y,batch_size,wgt_dec,optimiser,n_inputneurons,n_outputneurons,n_classes,beta,beta1,beta2,epsilon,loss_fn):\n",
        "  ''' W, b are the parameters\n",
        "  n_neurons is the number of nuerons in every hidden layer\n",
        "  n_layers is the number of hidden layer\n",
        "  X , Y is the train dataset'''\n",
        "  if(optimiser==\"sgd\"):\n",
        "    (W,b,Loss,v_loss)=modelfit_gradient_descent(epoch,eta,n_layers,activation_fn,n_neurons,initialisation,n_inputneurons,n_outputneurons,X,Y,n_classes,batch_size,wgt_dec,loss_fn)\n",
        "  elif optimiser==\"momentum\":\n",
        "    (Loss,W,b,v_loss)=modelfit_momentum(epoch,eta,n_layers,activation_fn,n_neurons,initialisation,n_inputneurons,n_outputneurons,X,Y,n_classes,beta,batch_size,wgt_dec,loss_fn)\n",
        "  elif optimiser==\"nag\":\n",
        "    (Loss,W,b,v_loss)=modelfit_nestrov(epoch,eta,n_layers,activation_fn,n_neurons,initialisation,n_inputneurons,n_outputneurons,X,Y,n_classes,beta,batch_size,wgt_dec,loss_fn)\n",
        "  elif optimiser==\"rmsprop\":\n",
        "    (Loss,W,b,v_loss)=modelfit_rmsprop(epoch,eta,n_layers,activation_fn,n_neurons,initialisation,n_inputneurons,n_outputneurons,X,Y,n_classes,beta,epsilon,batch_size,wgt_dec,loss_fn)\n",
        "  elif optimiser==\"adam\":\n",
        "    (Loss,W,b,v_loss)=modelfit_adam(epoch,eta,n_layers,activation_fn,n_neurons,initialisation,n_inputneurons,n_outputneurons,X,Y,n_classes,beta1,beta2,epsilon,batch_size,wgt_dec,loss_fn)\n",
        "  elif optimiser==\"nadam\":\n",
        "    (Loss,W,b,v_loss)=modelfit_nadam(epoch,eta,n_layers,activation_fn,n_neurons,initialisation,n_inputneurons,n_outputneurons,X,Y,n_classes,beta1,beta2,epsilon,batch_size,wgt_dec,loss_fn)\n",
        "\n",
        "  epochs=[i for i in range(epoch)]\n",
        "  plotLoss(epochs,Loss,v_loss)\n",
        "  return (Loss,W,b,v_loss)\n",
        "\n"
      ],
      "metadata": {
        "id": "6q_e1ZHr9is_"
      },
      "execution_count": 47,
      "outputs": []
    },
    {
      "cell_type": "code",
      "source": [
        "#running on best configuration\n",
        "run=wandb.init(project=\"assignment1\")\n",
        "wandb.run.name=\"cross entropy\"\n",
        "(Loss,W,b,v_loss)=network_train(10,1e-3,3,\"relu\",128,\"xavier\",trainData,Y_train,32,0,\"adam\",784,10,10,0.9,0.9,0.999,1e-8,\"cross_entropy\")\n",
        "run.finish()"
      ],
      "metadata": {
        "colab": {
          "base_uri": "https://localhost:8080/",
          "height": 1000,
          "referenced_widgets": [
            "16b18661254447ab8cfa35d5dc3aa506",
            "54563e28e7d54c099889964dafae34f5",
            "a5c15b7537cf4d5990fa6d49f766cb30",
            "df9d33e620804549a40abc14709db6cf",
            "299a734d01d7446c9171ce6ad864486d",
            "094ec62bed6a4c9cbfe6304cea1a5586",
            "c5067655c2e14192ad8ddfab50783891",
            "0711e986360a4b23b7fe65d685a15c39"
          ]
        },
        "id": "Q7Mz-X6seWhE",
        "outputId": "9b28858a-3419-4ad9-ed61-a3ee2191cdf9"
      },
      "execution_count": 45,
      "outputs": [
        {
          "output_type": "display_data",
          "data": {
            "text/plain": [
              "<IPython.core.display.HTML object>"
            ],
            "text/html": [
              "Finishing last run (ID:xrlut997) before initializing another..."
            ]
          },
          "metadata": {}
        },
        {
          "output_type": "display_data",
          "data": {
            "text/plain": [
              "<IPython.core.display.HTML object>"
            ],
            "text/html": [
              "Waiting for W&B process to finish... <strong style=\"color:green\">(success).</strong>"
            ]
          },
          "metadata": {}
        },
        {
          "output_type": "display_data",
          "data": {
            "text/plain": [
              "<IPython.core.display.HTML object>"
            ],
            "text/html": [
              " View run <strong style=\"color:#cdcd00\">swift-blaze-1080</strong> at: <a href='https://wandb.ai/cs22m025/assignment1/runs/xrlut997' target=\"_blank\">https://wandb.ai/cs22m025/assignment1/runs/xrlut997</a><br/>Synced 4 W&B file(s), 0 media file(s), 0 artifact file(s) and 0 other file(s)"
            ]
          },
          "metadata": {}
        },
        {
          "output_type": "display_data",
          "data": {
            "text/plain": [
              "<IPython.core.display.HTML object>"
            ],
            "text/html": [
              "Find logs at: <code>./wandb/run-20230318_173841-xrlut997/logs</code>"
            ]
          },
          "metadata": {}
        },
        {
          "output_type": "display_data",
          "data": {
            "text/plain": [
              "<IPython.core.display.HTML object>"
            ],
            "text/html": [
              "Successfully finished last run (ID:xrlut997). Initializing new run:<br/>"
            ]
          },
          "metadata": {}
        },
        {
          "output_type": "display_data",
          "data": {
            "text/plain": [
              "<IPython.core.display.HTML object>"
            ],
            "text/html": [
              "Tracking run with wandb version 0.14.0"
            ]
          },
          "metadata": {}
        },
        {
          "output_type": "display_data",
          "data": {
            "text/plain": [
              "<IPython.core.display.HTML object>"
            ],
            "text/html": [
              "Run data is saved locally in <code>/content/wandb/run-20230318_180207-iy2zt5by</code>"
            ]
          },
          "metadata": {}
        },
        {
          "output_type": "display_data",
          "data": {
            "text/plain": [
              "<IPython.core.display.HTML object>"
            ],
            "text/html": [
              "Syncing run <strong><a href='https://wandb.ai/cs22m025/assignment1/runs/iy2zt5by' target=\"_blank\">apricot-plasma-1081</a></strong> to <a href='https://wandb.ai/cs22m025/assignment1' target=\"_blank\">Weights & Biases</a> (<a href='https://wandb.me/run' target=\"_blank\">docs</a>)<br/>"
            ]
          },
          "metadata": {}
        },
        {
          "output_type": "display_data",
          "data": {
            "text/plain": [
              "<IPython.core.display.HTML object>"
            ],
            "text/html": [
              " View project at <a href='https://wandb.ai/cs22m025/assignment1' target=\"_blank\">https://wandb.ai/cs22m025/assignment1</a>"
            ]
          },
          "metadata": {}
        },
        {
          "output_type": "display_data",
          "data": {
            "text/plain": [
              "<IPython.core.display.HTML object>"
            ],
            "text/html": [
              " View run at <a href='https://wandb.ai/cs22m025/assignment1/runs/iy2zt5by' target=\"_blank\">https://wandb.ai/cs22m025/assignment1/runs/iy2zt5by</a>"
            ]
          },
          "metadata": {}
        },
        {
          "output_type": "stream",
          "name": "stdout",
          "text": [
            "___________________________________________________________________\n",
            "Running Adam.....\n",
            "epoch        training loss         validation loss               \n",
            "1          0.3806266299425122      0.38819549032210593           \n",
            "2         0.34184474487678335      0.3567711086700468            \n",
            "3         0.31766098163344497      0.3401117336604542            \n",
            "4         0.29981196900419943      0.3290888195388087            \n",
            "5         0.28649189485597354      0.32199115731543276           \n",
            "6          0.2751039429252497      0.31803367268796195           \n",
            "7          0.2650180943969341      0.3149013384989146            \n",
            "8          0.2560854069865765      0.3127083318774143            \n",
            "9         0.24857570316787833      0.31179145446199985           \n",
            "10        0.24071243989711197      0.30984805062415594           \n",
            "------------------------------------------------------------------\n",
            "Accuracy on training data: 0.9102962962962963\n",
            "Accuracy on validation data: 0.8878333333333334\n"
          ]
        },
        {
          "output_type": "display_data",
          "data": {
            "text/plain": [
              "<Figure size 432x288 with 1 Axes>"
            ],
            "image/png": "[encoded data removed]"
          },
          "metadata": {
            "needs_background": "light"
          }
        },
        {
          "output_type": "display_data",
          "data": {
            "text/plain": [
              "<IPython.core.display.HTML object>"
            ],
            "text/html": [
              "Waiting for W&B process to finish... <strong style=\"color:green\">(success).</strong>"
            ]
          },
          "metadata": {}
        },
        {
          "output_type": "display_data",
          "data": {
            "text/plain": [
              "VBox(children=(Label(value='0.001 MB of 0.001 MB uploaded (0.000 MB deduped)\\r'), FloatProgress(value=1.0, max…"
            ],
            "application/vnd.jupyter.widget-view+json": {
              "version_major": 2,
              "version_minor": 0,
              "model_id": "16b18661254447ab8cfa35d5dc3aa506"
            }
          },
          "metadata": {}
        },
        {
          "output_type": "display_data",
          "data": {
            "text/plain": [
              "<IPython.core.display.HTML object>"
            ],
            "text/html": [
              "<style>\n",
              "    table.wandb td:nth-child(1) { padding: 0 10px; text-align: left ; width: auto;} td:nth-child(2) {text-align: left ; width: 100%}\n",
              "    .wandb-row { display: flex; flex-direction: row; flex-wrap: wrap; justify-content: flex-start; width: 100% }\n",
              "    .wandb-col { display: flex; flex-direction: column; flex-basis: 100%; flex: 1; padding: 10px; }\n",
              "    </style>\n",
              "<div class=\"wandb-row\"><div class=\"wandb-col\"><h3>Run history:</h3><br/><table class=\"wandb\"><tr><td>epoch</td><td>▁▂▃▃▄▅▆▆▇█</td></tr><tr><td>training_accuracy</td><td>▁▃▄▅▆▆▇▇██</td></tr><tr><td>training_loss</td><td>█▆▅▄▃▃▂▂▁▁</td></tr><tr><td>validation_accuracy</td><td>▁▄▅▆▇▇████</td></tr><tr><td>validation_loss</td><td>█▅▄▃▂▂▁▁▁▁</td></tr></table><br/></div><div class=\"wandb-col\"><h3>Run summary:</h3><br/><table class=\"wandb\"><tr><td>epoch</td><td>10</td></tr><tr><td>training_accuracy</td><td>0.9103</td></tr><tr><td>training_loss</td><td>0.24071</td></tr><tr><td>validation_accuracy</td><td>0.88783</td></tr><tr><td>validation_loss</td><td>0.30985</td></tr></table><br/></div></div>"
            ]
          },
          "metadata": {}
        },
        {
          "output_type": "display_data",
          "data": {
            "text/plain": [
              "<IPython.core.display.HTML object>"
            ],
            "text/html": [
              " View run <strong style=\"color:#cdcd00\">apricot-plasma-1081</strong> at: <a href='https://wandb.ai/cs22m025/assignment1/runs/iy2zt5by' target=\"_blank\">https://wandb.ai/cs22m025/assignment1/runs/iy2zt5by</a><br/>Synced 5 W&B file(s), 0 media file(s), 0 artifact file(s) and 0 other file(s)"
            ]
          },
          "metadata": {}
        },
        {
          "output_type": "display_data",
          "data": {
            "text/plain": [
              "<IPython.core.display.HTML object>"
            ],
            "text/html": [
              "Find logs at: <code>./wandb/run-20230318_180207-iy2zt5by/logs</code>"
            ]
          },
          "metadata": {}
        }
      ]
    },
    {
      "cell_type": "markdown",
      "source": [
        "Sweep function"
      ],
      "metadata": {
        "id": "xL_DVsAvw0x7"
      }
    },
    {
      "cell_type": "code",
      "source": [
        "#SWEEP CONFIGURATION\n",
        "sweep_config = {\n",
        "    'method': 'random',     \n",
        "    'metric': { 'name': 'validation_accuracy', 'goal': 'maximize'},\n",
        "    'parameters': {'epoch': {'values': [5, 10] } ,\n",
        "                   'n_neurons': { 'values': [32, 64, 128] },\n",
        "                  'n_layers':{ 'values':[3,4,5]  },\n",
        "                   'eta': {  'values': [1e-3, 1e-4]},\n",
        "                  'optimizer': { 'values': ['sgd', 'momentum', 'nag', 'rmsprop', 'adam', 'nadam' ]},\n",
        "                  'batch_size': {'values': [16, 32, 64] },\n",
        "                  'initialisation': { 'values': ['random', 'xavier']  },\n",
        "                   'activation_fn': {  'values': ['relu', 'tanh', 'sigmoid']  },\n",
        "                   'wgt_dec' :{   'values': [0, 0.0005, 0.5]  }\n",
        "                   },\n",
        "    \n",
        "  }\n",
        "\n",
        "def train():\n",
        "    run=wandb.init(project=\"assignment1\",entity=\"cs22m025\")\n",
        "    config = wandb.config\n",
        "    #took reference from wandb document\n",
        "    wandb.run.name=\"ep_{}_hl_{}_nn_{}_lr_{}_ac_{}_op_{}_in_{}_bs_{}_wd_{}\".format(config.epoch,config.n_layers,config.n_neurons,config.eta, config.activation_fn,config.optimizer,config.initialisation, config.batch_size, config.wgt_dec)\n",
        "    wandb.run.save\n",
        "    (Loss,W,b,v_loss)=network_train(config.epoch,config.eta,config.n_layers,config.activation_fn,config.n_neurons,config.initialisation,trainData,Y_train,config.batch_size,config.wgt_dec,config.optimizer,n_inputneurons=784,n_outputneurons=10,n_classes=10,beta=0.9,beta1=0.9,beta2=0.999,epsilon=1e-8)\n",
        "    run.finish()\n",
        "\n",
        "\n",
        "#please refer sweep notebook for sweep outputs\n",
        "#sweep_id = wandb.sweep(sweep=sweep_config, project=\"assignment1\")\n",
        "#wandb.agent(sweep_id, function=train,count=200)"
      ],
      "metadata": {
        "id": "_PU9_eHWecot"
      },
      "execution_count": 19,
      "outputs": []
    },
    {
      "cell_type": "markdown",
      "source": [
        "Confusion matrix"
      ],
      "metadata": {
        "id": "tzkyJK4Cx488"
      }
    },
    {
      "cell_type": "code",
      "source": [
        "from sklearn.metrics import confusion_matrix\n",
        "from sklearn.metrics import ConfusionMatrixDisplay\n",
        "#took reference from https://scikit-learn.org/stable/auto_examples/model_selection/plot_confusion_matrix.html\n",
        "def plot_conf_matrix(yt_pred,Y_test):\n",
        "  run=wandb.init(project=\"assignment1\",entity=\"cs22m025\")\n",
        "  conf_matrix = confusion_matrix(Y_test, yt_pred,normalize='true')\n",
        "  cm=ConfusionMatrixDisplay(confusion_matrix=conf_matrix, display_labels=class_labels)\n",
        "  fig, ax = plt.subplots(figsize=(12, 12))\n",
        "  cm.plot(ax=ax, cmap=plt.cm.Greens)\n",
        "  wandb.log({ \"confusion_matrix\": wandb.Image(plt) })\n",
        "  run.finish()\n",
        "  plt.show()"
      ],
      "metadata": {
        "id": "7Hmt9nTk6HX3"
      },
      "execution_count": 20,
      "outputs": []
    },
    {
      "cell_type": "markdown",
      "source": [
        "Normalising the test data"
      ],
      "metadata": {
        "id": "i0oJqLYD0Drr"
      }
    },
    {
      "cell_type": "code",
      "source": [
        "X_test=X_test/255"
      ],
      "metadata": {
        "id": "cNJSO-qN0CPV"
      },
      "execution_count": 21,
      "outputs": []
    },
    {
      "cell_type": "markdown",
      "source": [
        "Predicting the test data and plotting confusion matrix"
      ],
      "metadata": {
        "id": "hIHhNlI_yIra"
      }
    },
    {
      "cell_type": "code",
      "source": [
        "from sklearn.metrics import ConfusionMatrixDisplay\n",
        "def predict_test(X_test,Y_test,W,b,n_neurons,n_layers,activation_function,n_outputneurons,plotconfusion=False):\n",
        "  test_f=[X_test[i].flatten() for i in range(X_test.shape[0])]\n",
        "  test_f=np.transpose(test_f)\n",
        "  #calculating prediction scores on the test data using the model learned\n",
        "  yt_pred=forwardPropagation(W,b,n_neurons,n_layers,activation_function,test_f,n_outputneurons)\n",
        "  #calculating accuracy\n",
        "  test_acc=calc_accuracy(yt_pred,Y_test)\n",
        "  y_pred = np.argmax(yt_pred[\"y\"],axis=0)\n",
        "  if(plotconfusion):\n",
        "    #plot function for confusion matrix\n",
        "    plot_conf_matrix(y_pred,Y_test)\n",
        "  \n",
        "  return test_acc\n",
        "\n",
        "cross_acc=predict_test(X_test,Y_test,W,b,128,3,\"relu\",10,True)\n",
        "print(\"The accuracy on test data is:\",cross_acc)\n"
      ],
      "metadata": {
        "colab": {
          "base_uri": "https://localhost:8080/",
          "height": 863
        },
        "id": "PCOCZnlR3Kdq",
        "outputId": "ba269059-ebe0-4e4d-816a-0a24268d1018"
      },
      "execution_count": 22,
      "outputs": [
        {
          "output_type": "display_data",
          "data": {
            "text/plain": [
              "<IPython.core.display.HTML object>"
            ],
            "text/html": [
              "Tracking run with wandb version 0.14.0"
            ]
          },
          "metadata": {}
        },
        {
          "output_type": "display_data",
          "data": {
            "text/plain": [
              "<IPython.core.display.HTML object>"
            ],
            "text/html": [
              "Run data is saved locally in <code>/content/wandb/run-20230318_170835-bx1tcm19</code>"
            ]
          },
          "metadata": {}
        },
        {
          "output_type": "display_data",
          "data": {
            "text/plain": [
              "<IPython.core.display.HTML object>"
            ],
            "text/html": [
              "Syncing run <strong><a href='https://wandb.ai/cs22m025/assignment1/runs/bx1tcm19' target=\"_blank\">fallen-rain-1062</a></strong> to <a href='https://wandb.ai/cs22m025/assignment1' target=\"_blank\">Weights & Biases</a> (<a href='https://wandb.me/run' target=\"_blank\">docs</a>)<br/>"
            ]
          },
          "metadata": {}
        },
        {
          "output_type": "display_data",
          "data": {
            "text/plain": [
              "<IPython.core.display.HTML object>"
            ],
            "text/html": [
              " View project at <a href='https://wandb.ai/cs22m025/assignment1' target=\"_blank\">https://wandb.ai/cs22m025/assignment1</a>"
            ]
          },
          "metadata": {}
        },
        {
          "output_type": "display_data",
          "data": {
            "text/plain": [
              "<IPython.core.display.HTML object>"
            ],
            "text/html": [
              " View run at <a href='https://wandb.ai/cs22m025/assignment1/runs/bx1tcm19' target=\"_blank\">https://wandb.ai/cs22m025/assignment1/runs/bx1tcm19</a>"
            ]
          },
          "metadata": {}
        },
        {
          "output_type": "display_data",
          "data": {
            "text/plain": [
              "<IPython.core.display.HTML object>"
            ],
            "text/html": [
              "Waiting for W&B process to finish... <strong style=\"color:green\">(success).</strong>"
            ]
          },
          "metadata": {}
        },
        {
          "output_type": "display_data",
          "data": {
            "text/plain": [
              "<IPython.core.display.HTML object>"
            ],
            "text/html": [
              " View run <strong style=\"color:#cdcd00\">fallen-rain-1062</strong> at: <a href='https://wandb.ai/cs22m025/assignment1/runs/bx1tcm19' target=\"_blank\">https://wandb.ai/cs22m025/assignment1/runs/bx1tcm19</a><br/>Synced 4 W&B file(s), 1 media file(s), 0 artifact file(s) and 0 other file(s)"
            ]
          },
          "metadata": {}
        },
        {
          "output_type": "display_data",
          "data": {
            "text/plain": [
              "<IPython.core.display.HTML object>"
            ],
            "text/html": [
              "Find logs at: <code>./wandb/run-20230318_170835-bx1tcm19/logs</code>"
            ]
          },
          "metadata": {}
        },
        {
          "output_type": "display_data",
          "data": {
            "text/plain": [
              "<Figure size 864x864 with 2 Axes>"
            ],
            "image/png": "[encoded data removed]"
          },
          "metadata": {
            "needs_background": "light"
          }
        },
        {
          "output_type": "stream",
          "name": "stdout",
          "text": [
            "The accuracy on test data is: 0.8817\n"
          ]
        }
      ]
    },
    {
      "cell_type": "markdown",
      "source": [
        "Comparing cross entropy and mse for the best model identified "
      ],
      "metadata": {
        "id": "0mQsbG_23wHr"
      }
    },
    {
      "cell_type": "code",
      "source": [
        "run=wandb.init(project=\"assignment1\")\n",
        "wandb.run.name=\"mse\"\n",
        "(Loss,W,b,v_mse_loss)=network_train(10,1e-3,3,\"relu\",128,\"xavier\",trainData,Y_train,32,0,\"adam\",784,10,10,0.9,0.9,0.999,1e-8,\"mean_squared_error\")\n",
        "mse_acc=predict_test(X_test,Y_test,W,b,128,3,\"relu\",10)\n",
        "print(\"The accuracy on test data using mse is:\",mse_acc)\n",
        "run.finish()"
      ],
      "metadata": {
        "colab": {
          "base_uri": "https://localhost:8080/",
          "height": 999,
          "referenced_widgets": [
            "83b4138a2a064c9da31a7aa9fc46b715",
            "96ee0b8f5fe7420796bcccfdb32193fa",
            "feef8b824c9d40d397216dc3533808d4",
            "c28f776481dc4a18ad224f02c57ec76e",
            "9050f3d3f932456dacec5a3607906d03",
            "f4dc6b14d6284d5cbcd65b9dacc21fa1",
            "3399e552a1b64fa19fc855d2d691bd93",
            "23f6a698bf7c4feb93da55995b1b65d9"
          ]
        },
        "id": "Q3OUAGHp3ucC",
        "outputId": "a1d7520f-f818-4690-f787-83f6e670a1db"
      },
      "execution_count": 46,
      "outputs": [
        {
          "output_type": "display_data",
          "data": {
            "text/plain": [
              "<IPython.core.display.HTML object>"
            ],
            "text/html": [
              "Tracking run with wandb version 0.14.0"
            ]
          },
          "metadata": {}
        },
        {
          "output_type": "display_data",
          "data": {
            "text/plain": [
              "<IPython.core.display.HTML object>"
            ],
            "text/html": [
              "Run data is saved locally in <code>/content/wandb/run-20230318_180722-wum57ndl</code>"
            ]
          },
          "metadata": {}
        },
        {
          "output_type": "display_data",
          "data": {
            "text/plain": [
              "<IPython.core.display.HTML object>"
            ],
            "text/html": [
              "Syncing run <strong><a href='https://wandb.ai/cs22m025/assignment1/runs/wum57ndl' target=\"_blank\">dulcet-totem-1082</a></strong> to <a href='https://wandb.ai/cs22m025/assignment1' target=\"_blank\">Weights & Biases</a> (<a href='https://wandb.me/run' target=\"_blank\">docs</a>)<br/>"
            ]
          },
          "metadata": {}
        },
        {
          "output_type": "display_data",
          "data": {
            "text/plain": [
              "<IPython.core.display.HTML object>"
            ],
            "text/html": [
              " View project at <a href='https://wandb.ai/cs22m025/assignment1' target=\"_blank\">https://wandb.ai/cs22m025/assignment1</a>"
            ]
          },
          "metadata": {}
        },
        {
          "output_type": "display_data",
          "data": {
            "text/plain": [
              "<IPython.core.display.HTML object>"
            ],
            "text/html": [
              " View run at <a href='https://wandb.ai/cs22m025/assignment1/runs/wum57ndl' target=\"_blank\">https://wandb.ai/cs22m025/assignment1/runs/wum57ndl</a>"
            ]
          },
          "metadata": {}
        },
        {
          "output_type": "stream",
          "name": "stdout",
          "text": [
            "___________________________________________________________________\n",
            "Running Adam.....\n",
            "epoch        training loss         validation loss               \n",
            "1         0.01950331656098477      0.020157709578218573          \n",
            "2         0.017979138273971847     0.018842002574119603          \n",
            "3         0.016868140173427276     0.018045294487725076          \n",
            "4         0.016107694109700567     0.017562804057943773          \n",
            "5         0.015448657666884167     0.017138848136131125          \n",
            "6         0.01498444101659581      0.016970850207144686          \n",
            "7         0.014562853019503018     0.01677809347650461           \n",
            "8         0.01426958111313916      0.016722723323872597          \n",
            "9         0.013928682480155033     0.01664016890428593           \n",
            "10        0.013641288057817185     0.016583300723383116          \n",
            "------------------------------------------------------------------\n",
            "Accuracy on training data: 0.9085740740740741\n",
            "Accuracy on validation data: 0.8871666666666667\n"
          ]
        },
        {
          "output_type": "display_data",
          "data": {
            "text/plain": [
              "<Figure size 432x288 with 1 Axes>"
            ],
            "image/png": "[encoded data removed]"
          },
          "metadata": {
            "needs_background": "light"
          }
        },
        {
          "output_type": "stream",
          "name": "stdout",
          "text": [
            "The accuracy on test data using mse is: 0.8756\n"
          ]
        },
        {
          "output_type": "display_data",
          "data": {
            "text/plain": [
              "<IPython.core.display.HTML object>"
            ],
            "text/html": [
              "Waiting for W&B process to finish... <strong style=\"color:green\">(success).</strong>"
            ]
          },
          "metadata": {}
        },
        {
          "output_type": "display_data",
          "data": {
            "text/plain": [
              "VBox(children=(Label(value='0.001 MB of 0.001 MB uploaded (0.000 MB deduped)\\r'), FloatProgress(value=1.0, max…"
            ],
            "application/vnd.jupyter.widget-view+json": {
              "version_major": 2,
              "version_minor": 0,
              "model_id": "83b4138a2a064c9da31a7aa9fc46b715"
            }
          },
          "metadata": {}
        },
        {
          "output_type": "display_data",
          "data": {
            "text/plain": [
              "<IPython.core.display.HTML object>"
            ],
            "text/html": [
              "<style>\n",
              "    table.wandb td:nth-child(1) { padding: 0 10px; text-align: left ; width: auto;} td:nth-child(2) {text-align: left ; width: 100%}\n",
              "    .wandb-row { display: flex; flex-direction: row; flex-wrap: wrap; justify-content: flex-start; width: 100% }\n",
              "    .wandb-col { display: flex; flex-direction: column; flex-basis: 100%; flex: 1; padding: 10px; }\n",
              "    </style>\n",
              "<div class=\"wandb-row\"><div class=\"wandb-col\"><h3>Run history:</h3><br/><table class=\"wandb\"><tr><td>epoch</td><td>▁▂▃▃▄▅▆▆▇█</td></tr><tr><td>training_accuracy</td><td>▁▃▄▅▆▆▇▇██</td></tr><tr><td>training_loss</td><td>█▆▅▄▃▃▂▂▁▁</td></tr><tr><td>validation_accuracy</td><td>▁▃▅▆▆▇▇▇██</td></tr><tr><td>validation_loss</td><td>█▅▄▃▂▂▁▁▁▁</td></tr></table><br/></div><div class=\"wandb-col\"><h3>Run summary:</h3><br/><table class=\"wandb\"><tr><td>epoch</td><td>10</td></tr><tr><td>training_accuracy</td><td>0.90857</td></tr><tr><td>training_loss</td><td>0.01364</td></tr><tr><td>validation_accuracy</td><td>0.88717</td></tr><tr><td>validation_loss</td><td>0.01658</td></tr></table><br/></div></div>"
            ]
          },
          "metadata": {}
        },
        {
          "output_type": "display_data",
          "data": {
            "text/plain": [
              "<IPython.core.display.HTML object>"
            ],
            "text/html": [
              " View run <strong style=\"color:#cdcd00\">dulcet-totem-1082</strong> at: <a href='https://wandb.ai/cs22m025/assignment1/runs/wum57ndl' target=\"_blank\">https://wandb.ai/cs22m025/assignment1/runs/wum57ndl</a><br/>Synced 5 W&B file(s), 0 media file(s), 0 artifact file(s) and 0 other file(s)"
            ]
          },
          "metadata": {}
        },
        {
          "output_type": "display_data",
          "data": {
            "text/plain": [
              "<IPython.core.display.HTML object>"
            ],
            "text/html": [
              "Find logs at: <code>./wandb/run-20230318_180722-wum57ndl/logs</code>"
            ]
          },
          "metadata": {}
        }
      ]
    }
  ],
  "metadata": {
    "colab": {
      "provenance": []
    },
    "kernelspec": {
      "display_name": "Python 3",
      "name": "python3"
    },
    "language_info": {
      "name": "python"
    },
    "widgets": {
      "application/vnd.jupyter.widget-state+json": {
        "248e42d0e42c4008a9d8b5eff71db0f1": {
          "model_module": "@jupyter-widgets/controls",
          "model_name": "VBoxModel",
          "model_module_version": "1.5.0",
          "state": {
            "_dom_classes": [],
            "_model_module": "@jupyter-widgets/controls",
            "_model_module_version": "1.5.0",
            "_model_name": "VBoxModel",
            "_view_count": null,
            "_view_module": "@jupyter-widgets/controls",
            "_view_module_version": "1.5.0",
            "_view_name": "VBoxView",
            "box_style": "",
            "children": [
              "IPY_MODEL_43527226cccb49ff8c29450568373e0c",
              "IPY_MODEL_c71926e73b884d3c9bb112b3342dae64"
            ],
            "layout": "IPY_MODEL_515895e32d52478ca98c67ce6b0cf794"
          }
        },
        "43527226cccb49ff8c29450568373e0c": {
          "model_module": "@jupyter-widgets/controls",
          "model_name": "LabelModel",
          "model_module_version": "1.5.0",
          "state": {
            "_dom_classes": [],
            "_model_module": "@jupyter-widgets/controls",
            "_model_module_version": "1.5.0",
            "_model_name": "LabelModel",
            "_view_count": null,
            "_view_module": "@jupyter-widgets/controls",
            "_view_module_version": "1.5.0",
            "_view_name": "LabelView",
            "description": "",
            "description_tooltip": null,
            "layout": "IPY_MODEL_9873e131098d4383844827f739b5f15a",
            "placeholder": "​",
            "style": "IPY_MODEL_eefa3cac7ed346549d2ae0cff6b0fc75",
            "value": "0.014 MB of 0.014 MB uploaded (0.000 MB deduped)\r"
          }
        },
        "c71926e73b884d3c9bb112b3342dae64": {
          "model_module": "@jupyter-widgets/controls",
          "model_name": "FloatProgressModel",
          "model_module_version": "1.5.0",
          "state": {
            "_dom_classes": [],
            "_model_module": "@jupyter-widgets/controls",
            "_model_module_version": "1.5.0",
            "_model_name": "FloatProgressModel",
            "_view_count": null,
            "_view_module": "@jupyter-widgets/controls",
            "_view_module_version": "1.5.0",
            "_view_name": "ProgressView",
            "bar_style": "",
            "description": "",
            "description_tooltip": null,
            "layout": "IPY_MODEL_b1a6ad225cd54be5bf2984f3d55f59da",
            "max": 1,
            "min": 0,
            "orientation": "horizontal",
            "style": "IPY_MODEL_f0e847f697fc4c67987511166ebc29aa",
            "value": 1
          }
        },
        "515895e32d52478ca98c67ce6b0cf794": {
          "model_module": "@jupyter-widgets/base",
          "model_name": "LayoutModel",
          "model_module_version": "1.2.0",
          "state": {
            "_model_module": "@jupyter-widgets/base",
            "_model_module_version": "1.2.0",
            "_model_name": "LayoutModel",
            "_view_count": null,
            "_view_module": "@jupyter-widgets/base",
            "_view_module_version": "1.2.0",
            "_view_name": "LayoutView",
            "align_content": null,
            "align_items": null,
            "align_self": null,
            "border": null,
            "bottom": null,
            "display": null,
            "flex": null,
            "flex_flow": null,
            "grid_area": null,
            "grid_auto_columns": null,
            "grid_auto_flow": null,
            "grid_auto_rows": null,
            "grid_column": null,
            "grid_gap": null,
            "grid_row": null,
            "grid_template_areas": null,
            "grid_template_columns": null,
            "grid_template_rows": null,
            "height": null,
            "justify_content": null,
            "justify_items": null,
            "left": null,
            "margin": null,
            "max_height": null,
            "max_width": null,
            "min_height": null,
            "min_width": null,
            "object_fit": null,
            "object_position": null,
            "order": null,
            "overflow": null,
            "overflow_x": null,
            "overflow_y": null,
            "padding": null,
            "right": null,
            "top": null,
            "visibility": null,
            "width": null
          }
        },
        "9873e131098d4383844827f739b5f15a": {
          "model_module": "@jupyter-widgets/base",
          "model_name": "LayoutModel",
          "model_module_version": "1.2.0",
          "state": {
            "_model_module": "@jupyter-widgets/base",
            "_model_module_version": "1.2.0",
            "_model_name": "LayoutModel",
            "_view_count": null,
            "_view_module": "@jupyter-widgets/base",
            "_view_module_version": "1.2.0",
            "_view_name": "LayoutView",
            "align_content": null,
            "align_items": null,
            "align_self": null,
            "border": null,
            "bottom": null,
            "display": null,
            "flex": null,
            "flex_flow": null,
            "grid_area": null,
            "grid_auto_columns": null,
            "grid_auto_flow": null,
            "grid_auto_rows": null,
            "grid_column": null,
            "grid_gap": null,
            "grid_row": null,
            "grid_template_areas": null,
            "grid_template_columns": null,
            "grid_template_rows": null,
            "height": null,
            "justify_content": null,
            "justify_items": null,
            "left": null,
            "margin": null,
            "max_height": null,
            "max_width": null,
            "min_height": null,
            "min_width": null,
            "object_fit": null,
            "object_position": null,
            "order": null,
            "overflow": null,
            "overflow_x": null,
            "overflow_y": null,
            "padding": null,
            "right": null,
            "top": null,
            "visibility": null,
            "width": null
          }
        },
        "eefa3cac7ed346549d2ae0cff6b0fc75": {
          "model_module": "@jupyter-widgets/controls",
          "model_name": "DescriptionStyleModel",
          "model_module_version": "1.5.0",
          "state": {
            "_model_module": "@jupyter-widgets/controls",
            "_model_module_version": "1.5.0",
            "_model_name": "DescriptionStyleModel",
            "_view_count": null,
            "_view_module": "@jupyter-widgets/base",
            "_view_module_version": "1.2.0",
            "_view_name": "StyleView",
            "description_width": ""
          }
        },
        "b1a6ad225cd54be5bf2984f3d55f59da": {
          "model_module": "@jupyter-widgets/base",
          "model_name": "LayoutModel",
          "model_module_version": "1.2.0",
          "state": {
            "_model_module": "@jupyter-widgets/base",
            "_model_module_version": "1.2.0",
            "_model_name": "LayoutModel",
            "_view_count": null,
            "_view_module": "@jupyter-widgets/base",
            "_view_module_version": "1.2.0",
            "_view_name": "LayoutView",
            "align_content": null,
            "align_items": null,
            "align_self": null,
            "border": null,
            "bottom": null,
            "display": null,
            "flex": null,
            "flex_flow": null,
            "grid_area": null,
            "grid_auto_columns": null,
            "grid_auto_flow": null,
            "grid_auto_rows": null,
            "grid_column": null,
            "grid_gap": null,
            "grid_row": null,
            "grid_template_areas": null,
            "grid_template_columns": null,
            "grid_template_rows": null,
            "height": null,
            "justify_content": null,
            "justify_items": null,
            "left": null,
            "margin": null,
            "max_height": null,
            "max_width": null,
            "min_height": null,
            "min_width": null,
            "object_fit": null,
            "object_position": null,
            "order": null,
            "overflow": null,
            "overflow_x": null,
            "overflow_y": null,
            "padding": null,
            "right": null,
            "top": null,
            "visibility": null,
            "width": null
          }
        },
        "f0e847f697fc4c67987511166ebc29aa": {
          "model_module": "@jupyter-widgets/controls",
          "model_name": "ProgressStyleModel",
          "model_module_version": "1.5.0",
          "state": {
            "_model_module": "@jupyter-widgets/controls",
            "_model_module_version": "1.5.0",
            "_model_name": "ProgressStyleModel",
            "_view_count": null,
            "_view_module": "@jupyter-widgets/base",
            "_view_module_version": "1.2.0",
            "_view_name": "StyleView",
            "bar_color": null,
            "description_width": ""
          }
        },
        "d514f427ad654794a183fcdb19510d80": {
          "model_module": "@jupyter-widgets/controls",
          "model_name": "VBoxModel",
          "model_module_version": "1.5.0",
          "state": {
            "_dom_classes": [],
            "_model_module": "@jupyter-widgets/controls",
            "_model_module_version": "1.5.0",
            "_model_name": "VBoxModel",
            "_view_count": null,
            "_view_module": "@jupyter-widgets/controls",
            "_view_module_version": "1.5.0",
            "_view_name": "VBoxView",
            "box_style": "",
            "children": [
              "IPY_MODEL_6a89dd72c29f45bc86af57a200be69be",
              "IPY_MODEL_801c9b0736b34eb8acb64a7cd488c248"
            ],
            "layout": "IPY_MODEL_c417239805fa4674806be17ea37e45ba"
          }
        },
        "6a89dd72c29f45bc86af57a200be69be": {
          "model_module": "@jupyter-widgets/controls",
          "model_name": "LabelModel",
          "model_module_version": "1.5.0",
          "state": {
            "_dom_classes": [],
            "_model_module": "@jupyter-widgets/controls",
            "_model_module_version": "1.5.0",
            "_model_name": "LabelModel",
            "_view_count": null,
            "_view_module": "@jupyter-widgets/controls",
            "_view_module_version": "1.5.0",
            "_view_name": "LabelView",
            "description": "",
            "description_tooltip": null,
            "layout": "IPY_MODEL_8acb6e90dca2468dad34d1a5ffd6a6d6",
            "placeholder": "​",
            "style": "IPY_MODEL_9163e00096af417280b6ef8a82efe2a4",
            "value": "0.001 MB of 0.009 MB uploaded (0.000 MB deduped)\r"
          }
        },
        "801c9b0736b34eb8acb64a7cd488c248": {
          "model_module": "@jupyter-widgets/controls",
          "model_name": "FloatProgressModel",
          "model_module_version": "1.5.0",
          "state": {
            "_dom_classes": [],
            "_model_module": "@jupyter-widgets/controls",
            "_model_module_version": "1.5.0",
            "_model_name": "FloatProgressModel",
            "_view_count": null,
            "_view_module": "@jupyter-widgets/controls",
            "_view_module_version": "1.5.0",
            "_view_name": "ProgressView",
            "bar_style": "",
            "description": "",
            "description_tooltip": null,
            "layout": "IPY_MODEL_3fb849e11ed942dfb6911d75f3c4a079",
            "max": 1,
            "min": 0,
            "orientation": "horizontal",
            "style": "IPY_MODEL_731f06b593ff4046be06988a65ee4779",
            "value": 0.10539925527513447
          }
        },
        "c417239805fa4674806be17ea37e45ba": {
          "model_module": "@jupyter-widgets/base",
          "model_name": "LayoutModel",
          "model_module_version": "1.2.0",
          "state": {
            "_model_module": "@jupyter-widgets/base",
            "_model_module_version": "1.2.0",
            "_model_name": "LayoutModel",
            "_view_count": null,
            "_view_module": "@jupyter-widgets/base",
            "_view_module_version": "1.2.0",
            "_view_name": "LayoutView",
            "align_content": null,
            "align_items": null,
            "align_self": null,
            "border": null,
            "bottom": null,
            "display": null,
            "flex": null,
            "flex_flow": null,
            "grid_area": null,
            "grid_auto_columns": null,
            "grid_auto_flow": null,
            "grid_auto_rows": null,
            "grid_column": null,
            "grid_gap": null,
            "grid_row": null,
            "grid_template_areas": null,
            "grid_template_columns": null,
            "grid_template_rows": null,
            "height": null,
            "justify_content": null,
            "justify_items": null,
            "left": null,
            "margin": null,
            "max_height": null,
            "max_width": null,
            "min_height": null,
            "min_width": null,
            "object_fit": null,
            "object_position": null,
            "order": null,
            "overflow": null,
            "overflow_x": null,
            "overflow_y": null,
            "padding": null,
            "right": null,
            "top": null,
            "visibility": null,
            "width": null
          }
        },
        "8acb6e90dca2468dad34d1a5ffd6a6d6": {
          "model_module": "@jupyter-widgets/base",
          "model_name": "LayoutModel",
          "model_module_version": "1.2.0",
          "state": {
            "_model_module": "@jupyter-widgets/base",
            "_model_module_version": "1.2.0",
            "_model_name": "LayoutModel",
            "_view_count": null,
            "_view_module": "@jupyter-widgets/base",
            "_view_module_version": "1.2.0",
            "_view_name": "LayoutView",
            "align_content": null,
            "align_items": null,
            "align_self": null,
            "border": null,
            "bottom": null,
            "display": null,
            "flex": null,
            "flex_flow": null,
            "grid_area": null,
            "grid_auto_columns": null,
            "grid_auto_flow": null,
            "grid_auto_rows": null,
            "grid_column": null,
            "grid_gap": null,
            "grid_row": null,
            "grid_template_areas": null,
            "grid_template_columns": null,
            "grid_template_rows": null,
            "height": null,
            "justify_content": null,
            "justify_items": null,
            "left": null,
            "margin": null,
            "max_height": null,
            "max_width": null,
            "min_height": null,
            "min_width": null,
            "object_fit": null,
            "object_position": null,
            "order": null,
            "overflow": null,
            "overflow_x": null,
            "overflow_y": null,
            "padding": null,
            "right": null,
            "top": null,
            "visibility": null,
            "width": null
          }
        },
        "9163e00096af417280b6ef8a82efe2a4": {
          "model_module": "@jupyter-widgets/controls",
          "model_name": "DescriptionStyleModel",
          "model_module_version": "1.5.0",
          "state": {
            "_model_module": "@jupyter-widgets/controls",
            "_model_module_version": "1.5.0",
            "_model_name": "DescriptionStyleModel",
            "_view_count": null,
            "_view_module": "@jupyter-widgets/base",
            "_view_module_version": "1.2.0",
            "_view_name": "StyleView",
            "description_width": ""
          }
        },
        "3fb849e11ed942dfb6911d75f3c4a079": {
          "model_module": "@jupyter-widgets/base",
          "model_name": "LayoutModel",
          "model_module_version": "1.2.0",
          "state": {
            "_model_module": "@jupyter-widgets/base",
            "_model_module_version": "1.2.0",
            "_model_name": "LayoutModel",
            "_view_count": null,
            "_view_module": "@jupyter-widgets/base",
            "_view_module_version": "1.2.0",
            "_view_name": "LayoutView",
            "align_content": null,
            "align_items": null,
            "align_self": null,
            "border": null,
            "bottom": null,
            "display": null,
            "flex": null,
            "flex_flow": null,
            "grid_area": null,
            "grid_auto_columns": null,
            "grid_auto_flow": null,
            "grid_auto_rows": null,
            "grid_column": null,
            "grid_gap": null,
            "grid_row": null,
            "grid_template_areas": null,
            "grid_template_columns": null,
            "grid_template_rows": null,
            "height": null,
            "justify_content": null,
            "justify_items": null,
            "left": null,
            "margin": null,
            "max_height": null,
            "max_width": null,
            "min_height": null,
            "min_width": null,
            "object_fit": null,
            "object_position": null,
            "order": null,
            "overflow": null,
            "overflow_x": null,
            "overflow_y": null,
            "padding": null,
            "right": null,
            "top": null,
            "visibility": null,
            "width": null
          }
        },
        "731f06b593ff4046be06988a65ee4779": {
          "model_module": "@jupyter-widgets/controls",
          "model_name": "ProgressStyleModel",
          "model_module_version": "1.5.0",
          "state": {
            "_model_module": "@jupyter-widgets/controls",
            "_model_module_version": "1.5.0",
            "_model_name": "ProgressStyleModel",
            "_view_count": null,
            "_view_module": "@jupyter-widgets/base",
            "_view_module_version": "1.2.0",
            "_view_name": "StyleView",
            "bar_color": null,
            "description_width": ""
          }
        },
        "16b18661254447ab8cfa35d5dc3aa506": {
          "model_module": "@jupyter-widgets/controls",
          "model_name": "VBoxModel",
          "model_module_version": "1.5.0",
          "state": {
            "_dom_classes": [],
            "_model_module": "@jupyter-widgets/controls",
            "_model_module_version": "1.5.0",
            "_model_name": "VBoxModel",
            "_view_count": null,
            "_view_module": "@jupyter-widgets/controls",
            "_view_module_version": "1.5.0",
            "_view_name": "VBoxView",
            "box_style": "",
            "children": [
              "IPY_MODEL_54563e28e7d54c099889964dafae34f5",
              "IPY_MODEL_a5c15b7537cf4d5990fa6d49f766cb30"
            ],
            "layout": "IPY_MODEL_df9d33e620804549a40abc14709db6cf"
          }
        },
        "54563e28e7d54c099889964dafae34f5": {
          "model_module": "@jupyter-widgets/controls",
          "model_name": "LabelModel",
          "model_module_version": "1.5.0",
          "state": {
            "_dom_classes": [],
            "_model_module": "@jupyter-widgets/controls",
            "_model_module_version": "1.5.0",
            "_model_name": "LabelModel",
            "_view_count": null,
            "_view_module": "@jupyter-widgets/controls",
            "_view_module_version": "1.5.0",
            "_view_name": "LabelView",
            "description": "",
            "description_tooltip": null,
            "layout": "IPY_MODEL_299a734d01d7446c9171ce6ad864486d",
            "placeholder": "​",
            "style": "IPY_MODEL_094ec62bed6a4c9cbfe6304cea1a5586",
            "value": "0.009 MB of 0.009 MB uploaded (0.000 MB deduped)\r"
          }
        },
        "a5c15b7537cf4d5990fa6d49f766cb30": {
          "model_module": "@jupyter-widgets/controls",
          "model_name": "FloatProgressModel",
          "model_module_version": "1.5.0",
          "state": {
            "_dom_classes": [],
            "_model_module": "@jupyter-widgets/controls",
            "_model_module_version": "1.5.0",
            "_model_name": "FloatProgressModel",
            "_view_count": null,
            "_view_module": "@jupyter-widgets/controls",
            "_view_module_version": "1.5.0",
            "_view_name": "ProgressView",
            "bar_style": "",
            "description": "",
            "description_tooltip": null,
            "layout": "IPY_MODEL_c5067655c2e14192ad8ddfab50783891",
            "max": 1,
            "min": 0,
            "orientation": "horizontal",
            "style": "IPY_MODEL_0711e986360a4b23b7fe65d685a15c39",
            "value": 0.9717275379816883
          }
        },
        "df9d33e620804549a40abc14709db6cf": {
          "model_module": "@jupyter-widgets/base",
          "model_name": "LayoutModel",
          "model_module_version": "1.2.0",
          "state": {
            "_model_module": "@jupyter-widgets/base",
            "_model_module_version": "1.2.0",
            "_model_name": "LayoutModel",
            "_view_count": null,
            "_view_module": "@jupyter-widgets/base",
            "_view_module_version": "1.2.0",
            "_view_name": "LayoutView",
            "align_content": null,
            "align_items": null,
            "align_self": null,
            "border": null,
            "bottom": null,
            "display": null,
            "flex": null,
            "flex_flow": null,
            "grid_area": null,
            "grid_auto_columns": null,
            "grid_auto_flow": null,
            "grid_auto_rows": null,
            "grid_column": null,
            "grid_gap": null,
            "grid_row": null,
            "grid_template_areas": null,
            "grid_template_columns": null,
            "grid_template_rows": null,
            "height": null,
            "justify_content": null,
            "justify_items": null,
            "left": null,
            "margin": null,
            "max_height": null,
            "max_width": null,
            "min_height": null,
            "min_width": null,
            "object_fit": null,
            "object_position": null,
            "order": null,
            "overflow": null,
            "overflow_x": null,
            "overflow_y": null,
            "padding": null,
            "right": null,
            "top": null,
            "visibility": null,
            "width": null
          }
        },
        "299a734d01d7446c9171ce6ad864486d": {
          "model_module": "@jupyter-widgets/base",
          "model_name": "LayoutModel",
          "model_module_version": "1.2.0",
          "state": {
            "_model_module": "@jupyter-widgets/base",
            "_model_module_version": "1.2.0",
            "_model_name": "LayoutModel",
            "_view_count": null,
            "_view_module": "@jupyter-widgets/base",
            "_view_module_version": "1.2.0",
            "_view_name": "LayoutView",
            "align_content": null,
            "align_items": null,
            "align_self": null,
            "border": null,
            "bottom": null,
            "display": null,
            "flex": null,
            "flex_flow": null,
            "grid_area": null,
            "grid_auto_columns": null,
            "grid_auto_flow": null,
            "grid_auto_rows": null,
            "grid_column": null,
            "grid_gap": null,
            "grid_row": null,
            "grid_template_areas": null,
            "grid_template_columns": null,
            "grid_template_rows": null,
            "height": null,
            "justify_content": null,
            "justify_items": null,
            "left": null,
            "margin": null,
            "max_height": null,
            "max_width": null,
            "min_height": null,
            "min_width": null,
            "object_fit": null,
            "object_position": null,
            "order": null,
            "overflow": null,
            "overflow_x": null,
            "overflow_y": null,
            "padding": null,
            "right": null,
            "top": null,
            "visibility": null,
            "width": null
          }
        },
        "094ec62bed6a4c9cbfe6304cea1a5586": {
          "model_module": "@jupyter-widgets/controls",
          "model_name": "DescriptionStyleModel",
          "model_module_version": "1.5.0",
          "state": {
            "_model_module": "@jupyter-widgets/controls",
            "_model_module_version": "1.5.0",
            "_model_name": "DescriptionStyleModel",
            "_view_count": null,
            "_view_module": "@jupyter-widgets/base",
            "_view_module_version": "1.2.0",
            "_view_name": "StyleView",
            "description_width": ""
          }
        },
        "c5067655c2e14192ad8ddfab50783891": {
          "model_module": "@jupyter-widgets/base",
          "model_name": "LayoutModel",
          "model_module_version": "1.2.0",
          "state": {
            "_model_module": "@jupyter-widgets/base",
            "_model_module_version": "1.2.0",
            "_model_name": "LayoutModel",
            "_view_count": null,
            "_view_module": "@jupyter-widgets/base",
            "_view_module_version": "1.2.0",
            "_view_name": "LayoutView",
            "align_content": null,
            "align_items": null,
            "align_self": null,
            "border": null,
            "bottom": null,
            "display": null,
            "flex": null,
            "flex_flow": null,
            "grid_area": null,
            "grid_auto_columns": null,
            "grid_auto_flow": null,
            "grid_auto_rows": null,
            "grid_column": null,
            "grid_gap": null,
            "grid_row": null,
            "grid_template_areas": null,
            "grid_template_columns": null,
            "grid_template_rows": null,
            "height": null,
            "justify_content": null,
            "justify_items": null,
            "left": null,
            "margin": null,
            "max_height": null,
            "max_width": null,
            "min_height": null,
            "min_width": null,
            "object_fit": null,
            "object_position": null,
            "order": null,
            "overflow": null,
            "overflow_x": null,
            "overflow_y": null,
            "padding": null,
            "right": null,
            "top": null,
            "visibility": null,
            "width": null
          }
        },
        "0711e986360a4b23b7fe65d685a15c39": {
          "model_module": "@jupyter-widgets/controls",
          "model_name": "ProgressStyleModel",
          "model_module_version": "1.5.0",
          "state": {
            "_model_module": "@jupyter-widgets/controls",
            "_model_module_version": "1.5.0",
            "_model_name": "ProgressStyleModel",
            "_view_count": null,
            "_view_module": "@jupyter-widgets/base",
            "_view_module_version": "1.2.0",
            "_view_name": "StyleView",
            "bar_color": null,
            "description_width": ""
          }
        },
        "83b4138a2a064c9da31a7aa9fc46b715": {
          "model_module": "@jupyter-widgets/controls",
          "model_name": "VBoxModel",
          "model_module_version": "1.5.0",
          "state": {
            "_dom_classes": [],
            "_model_module": "@jupyter-widgets/controls",
            "_model_module_version": "1.5.0",
            "_model_name": "VBoxModel",
            "_view_count": null,
            "_view_module": "@jupyter-widgets/controls",
            "_view_module_version": "1.5.0",
            "_view_name": "VBoxView",
            "box_style": "",
            "children": [
              "IPY_MODEL_96ee0b8f5fe7420796bcccfdb32193fa",
              "IPY_MODEL_feef8b824c9d40d397216dc3533808d4"
            ],
            "layout": "IPY_MODEL_c28f776481dc4a18ad224f02c57ec76e"
          }
        },
        "96ee0b8f5fe7420796bcccfdb32193fa": {
          "model_module": "@jupyter-widgets/controls",
          "model_name": "LabelModel",
          "model_module_version": "1.5.0",
          "state": {
            "_dom_classes": [],
            "_model_module": "@jupyter-widgets/controls",
            "_model_module_version": "1.5.0",
            "_model_name": "LabelModel",
            "_view_count": null,
            "_view_module": "@jupyter-widgets/controls",
            "_view_module_version": "1.5.0",
            "_view_name": "LabelView",
            "description": "",
            "description_tooltip": null,
            "layout": "IPY_MODEL_9050f3d3f932456dacec5a3607906d03",
            "placeholder": "​",
            "style": "IPY_MODEL_f4dc6b14d6284d5cbcd65b9dacc21fa1",
            "value": "0.001 MB of 0.010 MB uploaded (0.000 MB deduped)\r"
          }
        },
        "feef8b824c9d40d397216dc3533808d4": {
          "model_module": "@jupyter-widgets/controls",
          "model_name": "FloatProgressModel",
          "model_module_version": "1.5.0",
          "state": {
            "_dom_classes": [],
            "_model_module": "@jupyter-widgets/controls",
            "_model_module_version": "1.5.0",
            "_model_name": "FloatProgressModel",
            "_view_count": null,
            "_view_module": "@jupyter-widgets/controls",
            "_view_module_version": "1.5.0",
            "_view_name": "ProgressView",
            "bar_style": "",
            "description": "",
            "description_tooltip": null,
            "layout": "IPY_MODEL_3399e552a1b64fa19fc855d2d691bd93",
            "max": 1,
            "min": 0,
            "orientation": "horizontal",
            "style": "IPY_MODEL_23f6a698bf7c4feb93da55995b1b65d9",
            "value": 0.10188981101889812
          }
        },
        "c28f776481dc4a18ad224f02c57ec76e": {
          "model_module": "@jupyter-widgets/base",
          "model_name": "LayoutModel",
          "model_module_version": "1.2.0",
          "state": {
            "_model_module": "@jupyter-widgets/base",
            "_model_module_version": "1.2.0",
            "_model_name": "LayoutModel",
            "_view_count": null,
            "_view_module": "@jupyter-widgets/base",
            "_view_module_version": "1.2.0",
            "_view_name": "LayoutView",
            "align_content": null,
            "align_items": null,
            "align_self": null,
            "border": null,
            "bottom": null,
            "display": null,
            "flex": null,
            "flex_flow": null,
            "grid_area": null,
            "grid_auto_columns": null,
            "grid_auto_flow": null,
            "grid_auto_rows": null,
            "grid_column": null,
            "grid_gap": null,
            "grid_row": null,
            "grid_template_areas": null,
            "grid_template_columns": null,
            "grid_template_rows": null,
            "height": null,
            "justify_content": null,
            "justify_items": null,
            "left": null,
            "margin": null,
            "max_height": null,
            "max_width": null,
            "min_height": null,
            "min_width": null,
            "object_fit": null,
            "object_position": null,
            "order": null,
            "overflow": null,
            "overflow_x": null,
            "overflow_y": null,
            "padding": null,
            "right": null,
            "top": null,
            "visibility": null,
            "width": null
          }
        },
        "9050f3d3f932456dacec5a3607906d03": {
          "model_module": "@jupyter-widgets/base",
          "model_name": "LayoutModel",
          "model_module_version": "1.2.0",
          "state": {
            "_model_module": "@jupyter-widgets/base",
            "_model_module_version": "1.2.0",
            "_model_name": "LayoutModel",
            "_view_count": null,
            "_view_module": "@jupyter-widgets/base",
            "_view_module_version": "1.2.0",
            "_view_name": "LayoutView",
            "align_content": null,
            "align_items": null,
            "align_self": null,
            "border": null,
            "bottom": null,
            "display": null,
            "flex": null,
            "flex_flow": null,
            "grid_area": null,
            "grid_auto_columns": null,
            "grid_auto_flow": null,
            "grid_auto_rows": null,
            "grid_column": null,
            "grid_gap": null,
            "grid_row": null,
            "grid_template_areas": null,
            "grid_template_columns": null,
            "grid_template_rows": null,
            "height": null,
            "justify_content": null,
            "justify_items": null,
            "left": null,
            "margin": null,
            "max_height": null,
            "max_width": null,
            "min_height": null,
            "min_width": null,
            "object_fit": null,
            "object_position": null,
            "order": null,
            "overflow": null,
            "overflow_x": null,
            "overflow_y": null,
            "padding": null,
            "right": null,
            "top": null,
            "visibility": null,
            "width": null
          }
        },
        "f4dc6b14d6284d5cbcd65b9dacc21fa1": {
          "model_module": "@jupyter-widgets/controls",
          "model_name": "DescriptionStyleModel",
          "model_module_version": "1.5.0",
          "state": {
            "_model_module": "@jupyter-widgets/controls",
            "_model_module_version": "1.5.0",
            "_model_name": "DescriptionStyleModel",
            "_view_count": null,
            "_view_module": "@jupyter-widgets/base",
            "_view_module_version": "1.2.0",
            "_view_name": "StyleView",
            "description_width": ""
          }
        },
        "3399e552a1b64fa19fc855d2d691bd93": {
          "model_module": "@jupyter-widgets/base",
          "model_name": "LayoutModel",
          "model_module_version": "1.2.0",
          "state": {
            "_model_module": "@jupyter-widgets/base",
            "_model_module_version": "1.2.0",
            "_model_name": "LayoutModel",
            "_view_count": null,
            "_view_module": "@jupyter-widgets/base",
            "_view_module_version": "1.2.0",
            "_view_name": "LayoutView",
            "align_content": null,
            "align_items": null,
            "align_self": null,
            "border": null,
            "bottom": null,
            "display": null,
            "flex": null,
            "flex_flow": null,
            "grid_area": null,
            "grid_auto_columns": null,
            "grid_auto_flow": null,
            "grid_auto_rows": null,
            "grid_column": null,
            "grid_gap": null,
            "grid_row": null,
            "grid_template_areas": null,
            "grid_template_columns": null,
            "grid_template_rows": null,
            "height": null,
            "justify_content": null,
            "justify_items": null,
            "left": null,
            "margin": null,
            "max_height": null,
            "max_width": null,
            "min_height": null,
            "min_width": null,
            "object_fit": null,
            "object_position": null,
            "order": null,
            "overflow": null,
            "overflow_x": null,
            "overflow_y": null,
            "padding": null,
            "right": null,
            "top": null,
            "visibility": null,
            "width": null
          }
        },
        "23f6a698bf7c4feb93da55995b1b65d9": {
          "model_module": "@jupyter-widgets/controls",
          "model_name": "ProgressStyleModel",
          "model_module_version": "1.5.0",
          "state": {
            "_model_module": "@jupyter-widgets/controls",
            "_model_module_version": "1.5.0",
            "_model_name": "ProgressStyleModel",
            "_view_count": null,
            "_view_module": "@jupyter-widgets/base",
            "_view_module_version": "1.2.0",
            "_view_name": "StyleView",
            "bar_color": null,
            "description_width": ""
          }
        }
      }
    }
  },
  "nbformat": 4,
  "nbformat_minor": 0
}