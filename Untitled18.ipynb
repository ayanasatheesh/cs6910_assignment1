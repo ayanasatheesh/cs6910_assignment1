{
  "cells": [
    {
      "cell_type": "code",
      "execution_count": 1,
      "metadata": {
        "colab": {
          "base_uri": "https://localhost:8080/",
          "height": 870
        },
        "id": "OIPAL7Pq56pf",
        "outputId": "22fdb239-244e-4978-ac68-a88f1b04ce7d"
      },
      "outputs": [
        {
          "output_type": "stream",
          "name": "stdout",
          "text": [
            "Looking in indexes: https://pypi.org/simple, https://us-python.pkg.dev/colab-wheels/public/simple/\n",
            "Collecting wandb\n",
            "  Downloading wandb-0.13.11-py3-none-any.whl (2.0 MB)\n",
            "\u001b[2K     \u001b[90m━━━━━━━━━━━━━━━━━━━━━━━━━━━━━━━━━━━━━━━━\u001b[0m \u001b[32m2.0/2.0 MB\u001b[0m \u001b[31m19.5 MB/s\u001b[0m eta \u001b[36m0:00:00\u001b[0m\n",
            "\u001b[?25hCollecting pathtools\n",
            "  Downloading pathtools-0.1.2.tar.gz (11 kB)\n",
            "  Preparing metadata (setup.py) ... \u001b[?25l\u001b[?25hdone\n",
            "Collecting GitPython!=3.1.29,>=1.0.0\n",
            "  Downloading GitPython-3.1.31-py3-none-any.whl (184 kB)\n",
            "\u001b[2K     \u001b[90m━━━━━━━━━━━━━━━━━━━━━━━━━━━━━━━━━━━━━━\u001b[0m \u001b[32m184.3/184.3 KB\u001b[0m \u001b[31m12.2 MB/s\u001b[0m eta \u001b[36m0:00:00\u001b[0m\n",
            "\u001b[?25hRequirement already satisfied: Click!=8.0.0,>=7.0 in /usr/local/lib/python3.9/dist-packages (from wandb) (8.1.3)\n",
            "Requirement already satisfied: setuptools in /usr/local/lib/python3.9/dist-packages (from wandb) (57.4.0)\n",
            "Requirement already satisfied: typing-extensions in /usr/local/lib/python3.9/dist-packages (from wandb) (4.5.0)\n",
            "Requirement already satisfied: psutil>=5.0.0 in /usr/local/lib/python3.9/dist-packages (from wandb) (5.4.8)\n",
            "Requirement already satisfied: requests<3,>=2.0.0 in /usr/local/lib/python3.9/dist-packages (from wandb) (2.25.1)\n",
            "Collecting docker-pycreds>=0.4.0\n",
            "  Downloading docker_pycreds-0.4.0-py2.py3-none-any.whl (9.0 kB)\n",
            "Requirement already satisfied: PyYAML in /usr/local/lib/python3.9/dist-packages (from wandb) (6.0)\n",
            "Collecting sentry-sdk>=1.0.0\n",
            "  Downloading sentry_sdk-1.16.0-py2.py3-none-any.whl (184 kB)\n",
            "\u001b[2K     \u001b[90m━━━━━━━━━━━━━━━━━━━━━━━━━━━━━━━━━━━━━━\u001b[0m \u001b[32m184.3/184.3 KB\u001b[0m \u001b[31m12.2 MB/s\u001b[0m eta \u001b[36m0:00:00\u001b[0m\n",
            "\u001b[?25hCollecting appdirs>=1.4.3\n",
            "  Downloading appdirs-1.4.4-py2.py3-none-any.whl (9.6 kB)\n",
            "Collecting setproctitle\n",
            "  Downloading setproctitle-1.3.2-cp39-cp39-manylinux_2_5_x86_64.manylinux1_x86_64.manylinux_2_17_x86_64.manylinux2014_x86_64.whl (30 kB)\n",
            "Requirement already satisfied: protobuf!=4.21.0,<5,>=3.15.0 in /usr/local/lib/python3.9/dist-packages (from wandb) (3.19.6)\n",
            "Requirement already satisfied: six>=1.4.0 in /usr/local/lib/python3.9/dist-packages (from docker-pycreds>=0.4.0->wandb) (1.15.0)\n",
            "Collecting gitdb<5,>=4.0.1\n",
            "  Downloading gitdb-4.0.10-py3-none-any.whl (62 kB)\n",
            "\u001b[2K     \u001b[90m━━━━━━━━━━━━━━━━━━━━━━━━━━━━━━━━━━━━━━━━\u001b[0m \u001b[32m62.7/62.7 KB\u001b[0m \u001b[31m3.3 MB/s\u001b[0m eta \u001b[36m0:00:00\u001b[0m\n",
            "\u001b[?25hRequirement already satisfied: idna<3,>=2.5 in /usr/local/lib/python3.9/dist-packages (from requests<3,>=2.0.0->wandb) (2.10)\n",
            "Requirement already satisfied: certifi>=2017.4.17 in /usr/local/lib/python3.9/dist-packages (from requests<3,>=2.0.0->wandb) (2022.12.7)\n",
            "Requirement already satisfied: urllib3<1.27,>=1.21.1 in /usr/local/lib/python3.9/dist-packages (from requests<3,>=2.0.0->wandb) (1.26.14)\n",
            "Requirement already satisfied: chardet<5,>=3.0.2 in /usr/local/lib/python3.9/dist-packages (from requests<3,>=2.0.0->wandb) (4.0.0)\n",
            "Collecting smmap<6,>=3.0.1\n",
            "  Downloading smmap-5.0.0-py3-none-any.whl (24 kB)\n",
            "Building wheels for collected packages: pathtools\n",
            "  Building wheel for pathtools (setup.py) ... \u001b[?25l\u001b[?25hdone\n",
            "  Created wheel for pathtools: filename=pathtools-0.1.2-py3-none-any.whl size=8806 sha256=e92b0ad7d96335a6d9ef57ae5eabde268ae5671e75e378f693a572fcaf7bd50f\n",
            "  Stored in directory: /root/.cache/pip/wheels/b7/0a/67/ada2a22079218c75a88361c0782855cc72aebc4d18d0289d05\n",
            "Successfully built pathtools\n",
            "Installing collected packages: pathtools, appdirs, smmap, setproctitle, sentry-sdk, docker-pycreds, gitdb, GitPython, wandb\n",
            "Successfully installed GitPython-3.1.31 appdirs-1.4.4 docker-pycreds-0.4.0 gitdb-4.0.10 pathtools-0.1.2 sentry-sdk-1.16.0 setproctitle-1.3.2 smmap-5.0.0 wandb-0.13.11\n"
          ]
        },
        {
          "output_type": "display_data",
          "data": {
            "text/plain": [
              "<IPython.core.display.Javascript object>"
            ],
            "application/javascript": [
              "\n",
              "        window._wandbApiKey = new Promise((resolve, reject) => {\n",
              "            function loadScript(url) {\n",
              "            return new Promise(function(resolve, reject) {\n",
              "                let newScript = document.createElement(\"script\");\n",
              "                newScript.onerror = reject;\n",
              "                newScript.onload = resolve;\n",
              "                document.body.appendChild(newScript);\n",
              "                newScript.src = url;\n",
              "            });\n",
              "            }\n",
              "            loadScript(\"https://cdn.jsdelivr.net/npm/postmate/build/postmate.min.js\").then(() => {\n",
              "            const iframe = document.createElement('iframe')\n",
              "            iframe.style.cssText = \"width:0;height:0;border:none\"\n",
              "            document.body.appendChild(iframe)\n",
              "            const handshake = new Postmate({\n",
              "                container: iframe,\n",
              "                url: 'https://wandb.ai/authorize'\n",
              "            });\n",
              "            const timeout = setTimeout(() => reject(\"Couldn't auto authenticate\"), 5000)\n",
              "            handshake.then(function(child) {\n",
              "                child.on('authorize', data => {\n",
              "                    clearTimeout(timeout)\n",
              "                    resolve(data)\n",
              "                });\n",
              "            });\n",
              "            })\n",
              "        });\n",
              "    "
            ]
          },
          "metadata": {}
        },
        {
          "output_type": "stream",
          "name": "stderr",
          "text": [
            "\u001b[34m\u001b[1mwandb\u001b[0m: Logging into wandb.ai. (Learn how to deploy a W&B server locally: https://wandb.me/wandb-server)\n",
            "\u001b[34m\u001b[1mwandb\u001b[0m: You can find your API key in your browser here: https://wandb.ai/authorize\n",
            "wandb: Paste an API key from your profile and hit enter, or press ctrl+c to quit:"
          ]
        },
        {
          "name": "stdout",
          "output_type": "stream",
          "text": [
            " ··········\n"
          ]
        },
        {
          "output_type": "stream",
          "name": "stderr",
          "text": [
            "\u001b[34m\u001b[1mwandb\u001b[0m: Appending key for api.wandb.ai to your netrc file: /root/.netrc\n"
          ]
        }
      ],
      "source": [
        "!pip install wandb\n",
        "import wandb\n",
        "wandb.login()\n",
        "import random\n",
        "import matplotlib.pyplot as plt\n",
        "from matplotlib.pyplot import figure\n",
        "import numpy as np"
      ]
    },
    {
      "cell_type": "code",
      "source": [
        "wandb.login()"
      ],
      "metadata": {
        "colab": {
          "base_uri": "https://localhost:8080/"
        },
        "id": "Ch1jxkQ8_NYw",
        "outputId": "d383543f-fc8b-4c6e-f382-f35af1c9a487"
      },
      "execution_count": null,
      "outputs": [
        {
          "output_type": "stream",
          "name": "stderr",
          "text": [
            "\u001b[34m\u001b[1mwandb\u001b[0m: Currently logged in as: \u001b[33mcs22m025\u001b[0m. Use \u001b[1m`wandb login --relogin`\u001b[0m to force relogin\n"
          ]
        },
        {
          "output_type": "execute_result",
          "data": {
            "text/plain": [
              "True"
            ]
          },
          "metadata": {},
          "execution_count": 2
        }
      ]
    },
    {
      "cell_type": "code",
      "execution_count": 2,
      "metadata": {
        "colab": {
          "base_uri": "https://localhost:8080/",
          "height": 961,
          "referenced_widgets": [
            "c176fa1bc04b4742b3953d560835a810",
            "6f4ee212c4b840b693e31ebbaae327df",
            "57320e71ecdf4972aa2b19ea90b70653",
            "25bf4a9867de4662aa34faf8071b35e7",
            "861423f516f24b5485d6ba8f3d2b18d4",
            "ca027f87c6b64f078260a1a7ebb9e9ca",
            "3d0614e1313149a49747e0f747f5ad16",
            "debc18af99a2481589bf0b783c866075"
          ]
        },
        "id": "N1iTJlN56SIb",
        "outputId": "351f47d3-845e-41b5-87d1-16176665593a"
      },
      "outputs": [
        {
          "output_type": "stream",
          "name": "stdout",
          "text": [
            "Downloading data from https://storage.googleapis.com/tensorflow/tf-keras-datasets/train-labels-idx1-ubyte.gz\n",
            "29515/29515 [==============================] - 0s 0us/step\n",
            "Downloading data from https://storage.googleapis.com/tensorflow/tf-keras-datasets/train-images-idx3-ubyte.gz\n",
            "26421880/26421880 [==============================] - 0s 0us/step\n",
            "Downloading data from https://storage.googleapis.com/tensorflow/tf-keras-datasets/t10k-labels-idx1-ubyte.gz\n",
            "5148/5148 [==============================] - 0s 0us/step\n",
            "Downloading data from https://storage.googleapis.com/tensorflow/tf-keras-datasets/t10k-images-idx3-ubyte.gz\n",
            "4422102/4422102 [==============================] - 0s 0us/step\n",
            "___________________________________________________________________\n",
            "Dataset loaded successfully!\n",
            "Dataset contains Training data of size: 60000\n",
            "Dataset contains Test data of size: 10000\n",
            "Number of classes in the dataset:10\n",
            "___________________________________________________________________\n",
            "The Dataset contains the following classes:\n",
            "T-shirt/top\n",
            "Trouser\n",
            "Pullover\n",
            "Dress\n",
            "Coat\n",
            "Sandal\n",
            "Shirt\n",
            "Sneaker\n",
            "Bag\n",
            "Ankle boot\n",
            "___________________________________________________________________\n",
            "Displaying a random image from each of the classes:\n"
          ]
        },
        {
          "output_type": "display_data",
          "data": {
            "text/plain": [
              "<Figure size 720x720 with 10 Axes>"
            ],
            "image/png": "[encoded data removed]"
          },
          "metadata": {}
        },
        {
          "output_type": "stream",
          "name": "stderr",
          "text": [
            "\u001b[34m\u001b[1mwandb\u001b[0m: Currently logged in as: \u001b[33mcs22m025\u001b[0m. Use \u001b[1m`wandb login --relogin`\u001b[0m to force relogin\n"
          ]
        },
        {
          "output_type": "display_data",
          "data": {
            "text/plain": [
              "<IPython.core.display.HTML object>"
            ],
            "text/html": [
              "Tracking run with wandb version 0.13.11"
            ]
          },
          "metadata": {}
        },
        {
          "output_type": "display_data",
          "data": {
            "text/plain": [
              "<IPython.core.display.HTML object>"
            ],
            "text/html": [
              "Run data is saved locally in <code>/content/wandb/run-20230312_084629-6ln9fpdl</code>"
            ]
          },
          "metadata": {}
        },
        {
          "output_type": "display_data",
          "data": {
            "text/plain": [
              "<IPython.core.display.HTML object>"
            ],
            "text/html": [
              "Syncing run <strong><a href='https://wandb.ai/cs22m025/assignment1/runs/6ln9fpdl' target=\"_blank\">driven-pine-330</a></strong> to <a href='https://wandb.ai/cs22m025/assignment1' target=\"_blank\">Weights & Biases</a> (<a href='https://wandb.me/run' target=\"_blank\">docs</a>)<br/>"
            ]
          },
          "metadata": {}
        },
        {
          "output_type": "display_data",
          "data": {
            "text/plain": [
              "<IPython.core.display.HTML object>"
            ],
            "text/html": [
              " View project at <a href='https://wandb.ai/cs22m025/assignment1' target=\"_blank\">https://wandb.ai/cs22m025/assignment1</a>"
            ]
          },
          "metadata": {}
        },
        {
          "output_type": "display_data",
          "data": {
            "text/plain": [
              "<IPython.core.display.HTML object>"
            ],
            "text/html": [
              " View run at <a href='https://wandb.ai/cs22m025/assignment1/runs/6ln9fpdl' target=\"_blank\">https://wandb.ai/cs22m025/assignment1/runs/6ln9fpdl</a>"
            ]
          },
          "metadata": {}
        },
        {
          "output_type": "display_data",
          "data": {
            "text/plain": [
              "<IPython.core.display.HTML object>"
            ],
            "text/html": [
              "Waiting for W&B process to finish... <strong style=\"color:green\">(success).</strong>"
            ]
          },
          "metadata": {}
        },
        {
          "output_type": "display_data",
          "data": {
            "text/plain": [
              "VBox(children=(Label(value='0.005 MB of 0.013 MB uploaded (0.000 MB deduped)\\r'), FloatProgress(value=0.389889…"
            ],
            "application/vnd.jupyter.widget-view+json": {
              "version_major": 2,
              "version_minor": 0,
              "model_id": "c176fa1bc04b4742b3953d560835a810"
            }
          },
          "metadata": {}
        },
        {
          "output_type": "display_data",
          "data": {
            "text/plain": [
              "<IPython.core.display.HTML object>"
            ],
            "text/html": [
              " View run <strong style=\"color:#cdcd00\">driven-pine-330</strong> at: <a href='https://wandb.ai/cs22m025/assignment1/runs/6ln9fpdl' target=\"_blank\">https://wandb.ai/cs22m025/assignment1/runs/6ln9fpdl</a><br/>Synced 4 W&B file(s), 10 media file(s), 0 artifact file(s) and 0 other file(s)"
            ]
          },
          "metadata": {}
        },
        {
          "output_type": "display_data",
          "data": {
            "text/plain": [
              "<IPython.core.display.HTML object>"
            ],
            "text/html": [
              "Find logs at: <code>./wandb/run-20230312_084629-6ln9fpdl/logs</code>"
            ]
          },
          "metadata": {}
        }
      ],
      "source": [
        "from keras.datasets import fashion_mnist\n",
        "\n",
        "(X_train, Y_train), (X_test, Y_test) = fashion_mnist.load_data()\n",
        "\n",
        "X_train=X_train/255\n",
        "\n",
        "\n",
        "print(\"___________________________________________________________________\")\n",
        "\n",
        "print(\"Dataset loaded successfully!\")\n",
        "\n",
        "print(\"Dataset contains Training data of size:\",Y_train.shape[0])\n",
        "print(\"Dataset contains Test data of size:\",Y_test.shape[0])\n",
        "print(\"Number of classes in the dataset:10\")\n",
        "\n",
        "print(\"___________________________________________________________________\")\n",
        "class_labels = ['T-shirt/top', 'Trouser', 'Pullover', 'Dress', 'Coat','Sandal', 'Shirt', 'Sneaker', 'Bag', 'Ankle boot']\n",
        "\n",
        "print(\"The Dataset contains the following classes:\")\n",
        "for i in range(10):\n",
        "  print(class_labels[i])\n",
        "\n",
        "\n",
        "\n",
        "\n",
        "\n",
        "def display_sampleimage():\n",
        "    ans = [-1 for i in range(10)]\n",
        "    count=0\n",
        "    while 1:\n",
        "      i=random.randint(0,len(Y_train)-1)\n",
        "      if (ans[Y_train[i]])==-1:\n",
        "        ans[Y_train[i]]=i\n",
        "        count+=1\n",
        "      if count==10:\n",
        "        break\n",
        "\n",
        "    print(\"___________________________________________________________________\")\n",
        "    print(\"Displaying a random image from each of the classes:\")\n",
        "    images_list=[]\n",
        "    class_list=[]\n",
        "    figure(figsize=(10, 10))\n",
        "\n",
        "\n",
        "    for i in range(10):\n",
        "      plt.subplot(5,5,i+1)\n",
        "      plt.xticks([])\n",
        "      plt.yticks([])\n",
        "      #plt.grid(False)\n",
        "      j=ans[i]\n",
        "      plt.imshow(X_train[j], cmap=plt.cm.binary)\n",
        "      plt.xlabel(class_labels[i])\n",
        "      images_list.append(X_train[j])\n",
        "      class_list.append(class_labels[Y_train[j]])\n",
        "    plt.show()\n",
        "\n",
        "\n",
        "\n",
        "    run=wandb.init(project=\"assignment1\",entity=\"cs22m025\")\n",
        "    wandb.log({\"Question 1\": [wandb.Image(ele) for ele in images_list]})\n",
        "    run.finish()\n",
        "\n",
        "display_sampleimage()"
      ]
    },
    {
      "cell_type": "code",
      "source": [
        "X=X_train\n",
        "Y=Y_train\n",
        "\n",
        "print(\"Splitting the Training dataset into training and validation data........\")\n",
        "from sklearn.model_selection import train_test_split\n",
        "X_train,X_validate,Y_train,Y_validate=train_test_split(X, Y, test_size=0.1, random_state=42)\n",
        "print(\"Dataset contains Training data of size:\",Y_train.shape[0])\n",
        "print(\"Dataset contains validation data of size:\",Y_validate.shape[0])\n"
      ],
      "metadata": {
        "id": "pBz_Zy1G66FB",
        "colab": {
          "base_uri": "https://localhost:8080/"
        },
        "outputId": "e4e7b48d-20d3-4578-ec47-85ec71a71e1d"
      },
      "execution_count": 3,
      "outputs": [
        {
          "output_type": "stream",
          "name": "stdout",
          "text": [
            "Splitting the Training dataset into training and validation data........\n",
            "Dataset contains Training data of size: 54000\n",
            "Dataset contains validation data of size: 6000\n"
          ]
        }
      ]
    },
    {
      "cell_type": "code",
      "source": [
        "Y_train.shape[0]"
      ],
      "metadata": {
        "colab": {
          "base_uri": "https://localhost:8080/"
        },
        "id": "Tyv1yHzK7-CI",
        "outputId": "a8519a3f-f65a-42c5-b4a3-4d962d2c9aed"
      },
      "execution_count": null,
      "outputs": [
        {
          "output_type": "execute_result",
          "data": {
            "text/plain": [
              "54000"
            ]
          },
          "metadata": {},
          "execution_count": 5
        }
      ]
    },
    {
      "cell_type": "code",
      "execution_count": 48,
      "metadata": {
        "id": "zKYDB62UD2Ck"
      },
      "outputs": [],
      "source": [
        "\n",
        "\n",
        "def random_initialisation(n_hidden,n_neurons,n_inputneurons,n_outputneurons):\n",
        "  sd=0.5\n",
        "  W=[np.random.normal(0,sd,(n_neurons,n_inputneurons)) if i==0  else np.random.normal(0,sd,(n_neurons,n_neurons)) for i in range(n_hidden)]\n",
        "  Wo=np.random.normal(0,sd,(n_outputneurons,n_neurons))\n",
        "  W.append(Wo)\n",
        "  b=[np.random.normal(0,sd,(n_outputneurons,1)) if i==n_hidden else np.random.normal(0,sd,(n_neurons,1)) for i in range(n_hidden+1)]\n",
        "\n",
        "  return (W,b)\n",
        "\n",
        "'''def random_initialisation(n_hidden,n_neurons,n_inputneurons,n_outputneurons):\n",
        "  #W1=np.random.randn(n_neurons,n_inputneurons)\n",
        "  W=[np.random.randn(n_neurons,n_inputneurons) if i==0  else np.random.randn(n_neurons,n_neurons) for i in range(n_hidden)]\n",
        "  Wo=np.random.randn(n_outputneurons,n_neurons)\n",
        "  W.append(Wo)\n",
        "  b=[np.random.randn(n_outputneurons) if i==n_hidden else np.random.randn(n_neurons) for i in range(n_hidden+1)]\n",
        "\n",
        "  return (W,b)'''\n",
        "\n",
        "\n",
        "def xavier_initialisation(n_hidden,n_neurons,n_inputneurons,n_outputneurons):\n",
        "  W=[np.random.randn(n_neurons,n_inputneurons)*np.sqrt(2/(n_neurons+n_inputneurons)) if i==0  else np.random.randn(n_neurons,n_neurons)*np.sqrt(2/(n_neurons+n_neurons)) for i in range(n_hidden)]\n",
        "  Wo=np.random.randn(n_outputneurons,n_neurons)*np.sqrt(2/(n_outputneurons+n_neurons))\n",
        "  W.append(Wo)\n",
        "  b=[np.random.randn(n_outputneurons,1) if i==n_hidden else np.random.randn(n_neurons,1) for i in range(n_hidden+1)]\n",
        "\n",
        "  return (W,b)\n",
        "\n",
        "\n",
        "def initialise_u(n_hidden,n_neurons,n_inputneurons,n_outputneurons):\n",
        "  u_W=[np.zeros((n_neurons,n_inputneurons)) if i==0  else np.zeros((n_neurons,n_neurons)) for i in range(n_hidden)]\n",
        "  u_Wo=np.zeros((n_outputneurons,n_neurons))\n",
        "  u_W.append(u_Wo)\n",
        "  u_b=[np.zeros((n_outputneurons,1)) if i==n_hidden else np.zeros((n_neurons,1)) for i in range(n_hidden+1)]\n",
        "\n",
        "  return (u_W,u_b)    \n",
        "\n",
        "def initialise_parameters(initialisation,n_hidden,n_neurons,n_inputneurons,n_outputneurons):\n",
        "\n",
        "  if(initialisation==\"random\"):\n",
        "    return random_initialisation(n_hidden,n_neurons,n_inputneurons,n_outputneurons)\n",
        "\n",
        "  elif(initialisation==\"xavier\"):\n",
        "    return xavier_initialisation(n_hidden,n_neurons,n_inputneurons,n_outputneurons)\n",
        "\n",
        "\n",
        "def relu(x):\n",
        "  return np.maximum(x,0)\n",
        "\n",
        "'''def relu(x,n_neurons):\n",
        "  return np.maximum(x,np.zeros(n_neurons,x.shape[0]))'''\n",
        "\n",
        "\n",
        "'''def sigmoid(x):\n",
        "  if(np.exp(-x)<=0):\n",
        "    return 1.0/(1.0+np.exp(-x))\n",
        "  else:\n",
        "    return np.exp(x)/(1.0+np.exp(x))'''\n",
        "\n",
        "def sigmoid(x):\n",
        "  '''x=np.float128(x)\n",
        "  res= 1 / (1 + np.exp(-x)) \n",
        "  return np.float64(res)'''\n",
        "  return 1. / (1.+np.exp(-x)) \n",
        "\n",
        "def softmax(x):\n",
        "  #return np.exp(x) / np.sum(np.exp(x), axis=0)\n",
        "  e_X = np.exp(x - np.max(x, axis = 0))\n",
        "  return e_X / (e_X.sum(axis = 0)+1e-8)\n",
        "\n",
        "def tanh(X):\n",
        "  return np.tanh(X)\n",
        "\n",
        "\n",
        "def activation(activation_function,a,n_neurons):\n",
        " # h=np.zeros((batch_size,n_neurons))\n",
        " # a=a.T\n",
        "  if activation_function == 'sigmoid':\n",
        "        #for i in range(n_neurons):\n",
        "          #for j in range(60000):\n",
        "            #h[i]=sigmoid(a[i])\n",
        "        h=sigmoid(a)\n",
        "  elif activation_function == 'relu':\n",
        "      #for i in range(n_neurons):\n",
        "        #for j in range(60000):\n",
        "          h=relu(a)\n",
        "  elif activation_function == 'tanh':\n",
        "      #for i in range(n_neurons):\n",
        "        #for j in range(60000):\n",
        "          h=tanh(a)\n",
        "  return h\n",
        "\n",
        "\n",
        "\n",
        "def forwardPropagation(W,b,n_neurons,n_layers,activation_function,X,n_outputneurons):\n",
        "  a=np.zeros((n_neurons,X.shape[1]))\n",
        "  h=X\n",
        "  H=[]\n",
        "  A=[]\n",
        "\n",
        "  for k in range(0,n_layers):\n",
        "    a=b[k]+np.matmul(W[k],h)\n",
        "    h=activation(activation_function,a,n_neurons)\n",
        "    #h=sigmoid(a)\n",
        "    #print(a.shape)\n",
        "    #print(h.shape)\n",
        "    H.append(h)\n",
        "    A.append(a)\n",
        "    #print(a[0][0])\n",
        "    \n",
        " # h=np.reshape(h,(1,n_neurons))\n",
        " \n",
        "  a=b[n_layers]+(np.matmul(W[n_layers],h)) # activation function for output layer\n",
        "\n",
        "  y=softmax(a)\n",
        "  H.append(y)\n",
        "  A.append(a)\n",
        "  \n",
        "  return { \"A\" :A, \"H\":H, \"y\":y}\n",
        "\n",
        "\n",
        "(W,b)=initialise_parameters(\"xavier\",3,32,784,10)\n",
        "test=[X_train[i].flatten() for i in range(X_train.shape[0])]\n",
        "#np.random.shuffle(test)\n",
        "#print(len(test))\n",
        "test=np.transpose(test)\n",
        "#test=test[:,0:1000]\n",
        "#print(len(test[0]))\n",
        "y=forwardPropagation(W,b,32,3,\"relu\",test,10)\n"
      ]
    },
    {
      "cell_type": "code",
      "source": [
        "xval_flat=[X_validate[i].flatten() for i in range(X_validate.shape[0])]\n",
        "xval=np.transpose(xval_flat)"
      ],
      "metadata": {
        "id": "FMbTt6rWM5qc"
      },
      "execution_count": 5,
      "outputs": []
    },
    {
      "cell_type": "code",
      "source": [
        "Y_train.shape[0]"
      ],
      "metadata": {
        "colab": {
          "base_uri": "https://localhost:8080/"
        },
        "id": "oH-Jd0sjWX9I",
        "outputId": "f353e0f6-acdd-4745-c67c-72e5d1ecf123"
      },
      "execution_count": 43,
      "outputs": [
        {
          "output_type": "execute_result",
          "data": {
            "text/plain": [
              "54000"
            ]
          },
          "metadata": {},
          "execution_count": 43
        }
      ]
    },
    {
      "cell_type": "code",
      "execution_count": 49,
      "metadata": {
        "id": "3xFTHIqnfaAh"
      },
      "outputs": [],
      "source": [
        "def one_hot_vector(Y_t,lenY):\n",
        "  y_temp=np.zeros((10, lenY))\n",
        "  for i in range(lenY):\n",
        "    ans=Y_t[i]\n",
        "    y_temp[ans][i]=1\n",
        "  return y_temp\n",
        "\n",
        "y_one=one_hot_vector(Y_train,Y_train.shape[0])\n",
        "y_one_val=one_hot_vector(Y_validate,Y_validate.shape[0])\n",
        "\n",
        "\n",
        "def element_wise_multiply(A,B):\n",
        "  C=np.zeros(len(A))\n",
        "  for i in range(len(A)):\n",
        "    C[i]=A[i]*B[i]\n",
        "  return C.T\n",
        "\n",
        "def sigmoid_derivative(x):\n",
        "  return sigmoid(x) * (1-sigmoid(x))\n",
        "\n",
        "def tanh_derivative(x):\n",
        "    return (1 - (np.tanh(x)**2))\n",
        "\n",
        "def relu_derivative(x):\n",
        "  return x>0\n",
        "\n",
        "\n",
        "def find_derivative(activation_function,h,n_neurons):\n",
        "  \n",
        "  if(activation_function==\"sigmoid\"):\n",
        "      g=sigmoid(h)*(1-sigmoid(h))\n",
        "\n",
        "  elif(activation_function==\"tanh\"):\n",
        "      g= tanh_derivative(h)\n",
        "\n",
        "  elif(activation_function==\"relu\"):\n",
        "      g= relu_derivative(h)\n",
        "  \n",
        "  return g\n",
        "  \n",
        "  \n",
        "\n",
        "def backPropagation(H,A,n_neurons,n_layers,truelabel,n_classes,W,activation_function,X,y_one,wgt_dec,loss_fn):\n",
        "  #print(H[n_layers].shape)\n",
        "  #if(loss_fn=='cross entropy'):\n",
        "  gradient_a=H[n_layers]-y_one\n",
        "  if(loss_fn=='mse'):\n",
        "    gradient_a*=H[n_layers]*(1-H[n_layers])\n",
        "\n",
        "  G_W=[]\n",
        "  G_b=[]\n",
        "  \n",
        "  for k in range(n_layers,-1,-1):\n",
        "    '''if(k==n_layers):\n",
        "      gradient_W=np.matmul(gradient_a,H[k-1].T)\n",
        "      G_W.append(gradient_W)\n",
        "    elif(k==0):\n",
        "     \n",
        "     # gradient_W=np.matmul(gradient_a,np.reshape(X,(X.shape[1],784)))\n",
        "      gradient_W=np.matmul(gradient_a,X.T)\n",
        "      G_W.append(gradient_W)\n",
        "    else:\n",
        "      gradient_W=np.matmul(gradient_a,H[k-1].T)\n",
        "      G_W.append(gradient_W)'''\n",
        "    if(k==0):\n",
        "     \n",
        "     # gradient_W=np.matmul(gradient_a,np.reshape(X,(X.shape[1],784)))\n",
        "      gradient_W=np.matmul(gradient_a,X.T)+wgt_dec*W[k]/X.shape[1]\n",
        "      G_W.append(gradient_W)\n",
        "    else:\n",
        "      gradient_W=np.matmul(gradient_a,H[k-1].T)+wgt_dec*W[k]/X.shape[1]\n",
        "      G_W.append(gradient_W)\n",
        "    gradient_b=np.sum(gradient_a, axis=1, keepdims=True) / X.shape[1]\n",
        "    G_b.append(gradient_b)\n",
        "    \n",
        "    if(k>0):\n",
        "      gradient_prevh=np.matmul(W[k].T,gradient_a)\n",
        "      derivative_matrix=find_derivative(activation_function,H[k-1],n_neurons)\n",
        "      #print(gradient_prevh.shape)\n",
        "      #print(derivative_matrix.shape)\n",
        "      gradient_a=gradient_prevh*derivative_matrix\n",
        "    \n",
        "  #print(G_W)\n",
        "  G_W=G_W[::-1]\n",
        "  G_b=G_b[::-1]\n",
        "  return {\"g_W\": G_W, \"g_b\": G_b}\n",
        "\n",
        "g=backPropagation(y[\"H\"],y[\"A\"],32,3,9,10,W,\"relu\",test,y_one,0.0005,'mse')\n",
        "\n"
      ]
    },
    {
      "cell_type": "code",
      "source": [
        "with np.errstate(divide=\"ignore\"):\n",
        "    np.log(0)"
      ],
      "metadata": {
        "id": "9RmJSkhVY8sY"
      },
      "execution_count": 7,
      "outputs": []
    },
    {
      "cell_type": "code",
      "source": [
        "def calc_accuracy(prd,Y):\n",
        "  y_pred = np.argmax(prd[\"y\"],axis=0)\n",
        "  accuracy = np.sum(y_pred==Y)/Y.shape[0]\n",
        "  return accuracy\n",
        "\n",
        "#print(calc_accuracy(prd,Y_train))"
      ],
      "metadata": {
        "id": "yZZ3PNyy_-XW"
      },
      "execution_count": 8,
      "outputs": []
    },
    {
      "cell_type": "code",
      "execution_count": 52,
      "metadata": {
        "id": "CnfMj9VcxG4F",
        "colab": {
          "base_uri": "https://localhost:8080/"
        },
        "outputId": "dd6a382d-6cad-4a99-9eb5-53e2e76e4bd6"
      },
      "outputs": [
        {
          "output_type": "stream",
          "name": "stdout",
          "text": [
            "___________________________________________________________________\n",
            "Running Stochastic Gradient Descent.....\n",
            "epoch        training loss         validation loss               \n",
            "0         0.04459850487859287      0.045004673475585025          \n",
            "1         0.03693799710321138      0.03738848417404459           \n",
            "2         0.03727343338008165      0.037753579157197154          \n",
            "3         0.046498870155941174     0.04695703341707133           \n",
            "4         0.07102635775809481      0.07173346638060103           \n",
            "------------------------------------------------------------------\n",
            "Accuracy on training data: 0.36783333333333335\n",
            "Accuracy on validation data: 0.3626666666666667\n"
          ]
        }
      ],
      "source": [
        "def gradient_update_vanila(W,b,n_layers,grad,eta):\n",
        "\n",
        "  for k in range(0,n_layers+1):\n",
        "    W[k]-=eta*grad[\"g_W\"][k]\n",
        "    b[k]=b[k]-eta*grad[\"g_b\"][k]\n",
        "\n",
        "  return (W,b)\n",
        "\n",
        "def calculateloss(y_t_predicted,batch_size,lenx,leny,Y,wgt_dec,n_layers,W,loss_fn,y_one,y_one_val,isvalidate=False,y_v_predicted=None,Y_val=None):\n",
        "\n",
        "  if(loss_fn=='cross entropy'):\n",
        "    rows=np.arange(leny)\n",
        "    y_t_predicted = np.maximum(y_t_predicted, 1e-10)\n",
        "    l= sum(-np.log(y_t_predicted.T[rows,Y]))/lenx\n",
        "  elif(loss_fn=='mse'):\n",
        "    l=np.mean(np.square(y_one - y_t_predicted))\n",
        "\n",
        "  mod=0\n",
        "  if(wgt_dec!=0):\n",
        "    for k in range(0,n_layers+1):\n",
        "      mod+=np.sum(W[k]**2)\n",
        "  training_loss= l+((wgt_dec*mod)/(2*lenx))\n",
        "\n",
        "  if(isvalidate):\n",
        "\n",
        "    if(loss_fn=='cross entropy'):\n",
        "      rows=np.arange(6000)\n",
        "      y_v_predicted = np.maximum(y_v_predicted, 1e-10)\n",
        "      l= sum(-np.log(y_v_predicted.T[rows,Y_val]))/6000\n",
        "    elif(loss_fn=='mse'):\n",
        "      l=np.mean(np.square(y_one_val - y_v_predicted))\n",
        "\n",
        "    validation_loss=l+((wgt_dec*mod)/(2*6000))\n",
        "    return training_loss,validation_loss\n",
        "\n",
        "  return training_loss\n",
        "\n",
        "\n",
        "\n",
        "\n",
        "\n",
        "\n",
        "\n",
        "\n",
        "def modelfit_vanila(epoch,eta,n_layers,activation_fn,n_neurons,initialisation,n_inputneurons,n_outputneurons,X,Y,n_classes,batch_size,wgt_dec,loss_fn):\n",
        "\n",
        "  (W,b)=initialise_parameters(initialisation,n_layers,n_neurons,n_inputneurons,n_outputneurons)\n",
        "  Loss=[]\n",
        "  v_loss=[]\n",
        "\n",
        "  print(\"___________________________________________________________________\")\n",
        "  print(\"Running Stochastic Gradient Descent.....\")\n",
        "  print(f\"{'epoch': <5}{'training loss' : ^30}{'validation loss ': <30}\")\n",
        "  for t in range(epoch):\n",
        "    \n",
        "    for i in range(0,X.shape[1],batch_size):\n",
        "      y_f=forwardPropagation(W,b,n_neurons,n_layers,activation_fn,test[:,i:i+batch_size],10)\n",
        "      #loss=calculateloss(y[\"y\"],y_train_one_hot[:,i:i+batch_size],batch_size)\n",
        "      g=backPropagation(y_f[\"H\"],y_f[\"A\"],n_neurons,n_layers,Y_train,n_classes,W,activation_fn,test[:,i:i+batch_size],y_one[:,i:i+batch_size],wgt_dec,loss_fn)\n",
        "      #print(len(g[\"g_W\"][2][0]))\n",
        "      \n",
        "      (W,b)=gradient_update_vanila(W,b,n_layers,g,eta)\n",
        "   \n",
        "    y_t=forwardPropagation(W,b,n_neurons,n_layers,activation_fn,X,10)\n",
        "    y_v=forwardPropagation(W,b,n_neurons,n_layers,activation_fn,xval,10)\n",
        "    (training_loss,validation_loss)=calculateloss(y_t[\"y\"],batch_size,len(X.T),len(Y),Y,wgt_dec,n_layers,W,loss_fn,y_one,y_one_val,True,y_v[\"y\"],Y_validate)\n",
        "    training_accuracy=calc_accuracy(y_t,Y_train)\n",
        "    validation_accuracy=calc_accuracy(y_v,Y_validate)\n",
        "    \n",
        "    #print(\"epoch:\",t,\"training loss:\", training_loss,\"validation loss:\", validation_loss)\n",
        "    #print(\"epoch:{}\".format(t),\"training loss:{:>12}\".format(training_loss),\"validation loss:{:>12}\".format(validation_loss))\n",
        "    #print(\"epoch:{}\".format(t),\"training loss:{:>12}\".format(training_loss),\"validation loss:{:>12}\".format(validation_loss))\n",
        "    print(f\"{t : <5}{training_loss : ^30}{validation_loss : <30}\")\n",
        "    Loss.append(training_loss)\n",
        "    v_loss.append(validation_loss)\n",
        "    #wandb.log({\"validation_loss\": validation_loss,\"validation_accuracy\": validation_accuracy,\"training_loss\": training_loss,\"training_accuracy\": training_accuracy, 'epoch': t})\n",
        "\n",
        "\n",
        "  #epochs=[i for i in range(epoch)]\n",
        "  #plotLoss(epochs,Loss,v_loss)\n",
        "  print(\"------------------------------------------------------------------\")\n",
        "  print(\"Accuracy on training data:\",training_accuracy)\n",
        "  print(\"Accuracy on validation data:\",validation_accuracy)\n",
        "\n",
        "  return(W,b,Loss,v_loss)\n",
        "\n",
        "\n",
        "\n",
        "\n",
        "#run=wandb.init(project=\"assignment1\")\n",
        "(W,b,Loss,v_loss)=modelfit_vanila(5,1e-3,3,\"tanh\",32,\"xavier\",784,10,test,Y_train,10,32,0.0005,\"mse\")\n",
        "#run.finish()\n"
      ]
    },
    {
      "cell_type": "code",
      "source": [
        "def plotLoss(epochs,Loss,v_loss):\n",
        "  plt.plot(epochs,Loss,label=\"Training loss\")\n",
        "  plt.plot(epochs,v_loss,label=\"Validation loss\")\n",
        "  plt.xlabel('epoch')\n",
        "  plt.ylabel('loss')\n",
        "  plt.legend()\n",
        "  plt.show()\n",
        "\n"
      ],
      "metadata": {
        "id": "bck3CUE57ZnT"
      },
      "execution_count": 39,
      "outputs": []
    },
    {
      "cell_type": "code",
      "source": [
        "np.seterr(divide = 'ignore') "
      ],
      "metadata": {
        "id": "zYz8r3i4BpAj",
        "colab": {
          "base_uri": "https://localhost:8080/"
        },
        "outputId": "7f103950-f01e-448b-d944-b628cb1b8ac4"
      },
      "execution_count": 40,
      "outputs": [
        {
          "output_type": "execute_result",
          "data": {
            "text/plain": [
              "{'divide': 'warn', 'over': 'warn', 'under': 'ignore', 'invalid': 'warn'}"
            ]
          },
          "metadata": {},
          "execution_count": 40
        }
      ]
    },
    {
      "cell_type": "code",
      "source": [],
      "metadata": {
        "colab": {
          "base_uri": "https://localhost:8080/",
          "height": 165
        },
        "id": "fd2X0RVECA0M",
        "outputId": "ac666e92-c98d-4e9e-88f6-da72259585d0"
      },
      "execution_count": 17,
      "outputs": [
        {
          "output_type": "error",
          "ename": "AttributeError",
          "evalue": "ignored",
          "traceback": [
            "\u001b[0;31m---------------------------------------------------------------------------\u001b[0m",
            "\u001b[0;31mAttributeError\u001b[0m                            Traceback (most recent call last)",
            "\u001b[0;32m<ipython-input-17-8ae592785626>\u001b[0m in \u001b[0;36m<module>\u001b[0;34m\u001b[0m\n\u001b[0;32m----> 1\u001b[0;31m \u001b[0mtest\u001b[0m\u001b[0;34m.\u001b[0m\u001b[0mshape\u001b[0m\u001b[0;34m\u001b[0m\u001b[0;34m\u001b[0m\u001b[0m\n\u001b[0m",
            "\u001b[0;31mAttributeError\u001b[0m: 'function' object has no attribute 'shape'"
          ]
        }
      ]
    },
    {
      "cell_type": "code",
      "execution_count": 29,
      "metadata": {
        "id": "rAwtR_lG-egV"
      },
      "outputs": [],
      "source": [
        "def gradient_update_momentum(W,b,n_layers,grad,eta,u_W,u_b,beta):\n",
        "  for k in range(0,n_layers+1):\n",
        "    u_W[k]=beta*u_W[k]+(1-beta)*grad[\"g_W\"][k]\n",
        "    W[k]=W[k]-(eta*u_W[k])\n",
        "    u_b[k]=beta*u_b[k]+(1-beta)*grad[\"g_b\"][k]\n",
        "    b[k]=b[k]-(eta*u_b[k])\n",
        "\n",
        "  return (u_W,W,u_b,b)\n",
        "\n",
        "\n",
        "\n",
        "\n",
        "def modelfit_momentum(epoch,eta,n_layers,activation_fn,n_neurons,initialisation,n_inputneurons,n_outputneurons,X,Y,n_classes,beta,batch_size,wgt_dec):\n",
        "\n",
        "  (W,b)=initialise_parameters(initialisation,n_layers,n_neurons,n_inputneurons,n_outputneurons)\n",
        "  (u_W,u_b)=initialise_u(n_layers,n_neurons,n_inputneurons,n_outputneurons)\n",
        "  Loss=[]\n",
        "  v_loss=[]\n",
        "  print(\"___________________________________________________________________\")\n",
        "  print(\"Running Mometum Based Gradient Descent.....\")\n",
        "  print(f\"{'epoch': <5}{'training loss' : ^30}{'validation loss ': <30}\")\n",
        "  for t in range(epoch):\n",
        "    \n",
        "    for i in range(0,X.shape[1],batch_size):\n",
        "\n",
        "      y=forwardPropagation(W,b,n_neurons,n_layers,activation_fn,test[:,i:i+batch_size],10)\n",
        "      g=backPropagation(y[\"H\"],y[\"A\"],n_neurons,n_layers,Y_train,n_classes,W,activation_fn,test[:,i:i+batch_size],y_one[:,i:i+batch_size],wgt_dec)\n",
        "      (u_W,W,u_b,b)=gradient_update_momentum(W,b,n_layers,g,eta,u_W,u_b,beta)\n",
        "  \n",
        "    ''' y=forwardPropagation(W,b,n_neurons,n_layers,activation_fn,X,10)\n",
        "    loss=calculateloss(y[\"y\"],y_one,batch_size,len(X.T),len(Y),Y,wgt_dec,n_layers,W)\n",
        "    Loss.append(loss)'''\n",
        "    \n",
        "    y_t=forwardPropagation(W,b,n_neurons,n_layers,activation_fn,X,10)\n",
        "    y_v=forwardPropagation(W,b,n_neurons,n_layers,activation_fn,xval,10)\n",
        "    (training_loss,validation_loss)=calculateloss(y_t[\"y\"],batch_size,len(X.T),len(Y),Y,wgt_dec,n_layers,W,True,y_v[\"y\"],Y_validate)\n",
        "    training_accuracy=calc_accuracy(y_t,Y_train)\n",
        "    validation_accuracy=calc_accuracy(y_v,Y_validate)\n",
        "    \n",
        "    #print(\"epoch:\",t,\"loss:\", training_loss, validation_loss)\n",
        "    print(f\"{t : <5}{training_loss : ^30}{validation_loss : <30}\")\n",
        "    Loss.append(training_loss)\n",
        "    v_loss.append(validation_loss)\n",
        "    wandb.log({\"validation_loss\": validation_loss,\"validation_accuracy\": validation_accuracy,\"training_loss\": training_loss,\"training_accuracy\": training_accuracy, 'epoch': t})\n",
        "  print(\"------------------------------------------------------------------\")\n",
        "  print(\"Accuracy on training data:\",training_accuracy)\n",
        "  print(\"Accuracy on validation data:\",validation_accuracy)\n",
        "    \n",
        "   # print(\"epoch:\",t,\"loss:\", loss)\n",
        "    #wandb.log({\"loss\": loss, \"epoch\": epoch})\n",
        "\n",
        "  #epochs=[i for i in range(epoch)]\n",
        "  #plotLoss(epochs,Loss,v_loss)\n",
        "  return (Loss,W,b,v_loss)\n",
        "\n",
        "#(Loss,W,b,v_loss)=modelfit_momentum(30,1e-3,3,\"tanh\",32,\"xavier\",784,10,test,Y_train,10000,0.9,10,0.0005)"
      ]
    },
    {
      "cell_type": "code",
      "execution_count": 31,
      "metadata": {
        "id": "nT78AI-ncS8c"
      },
      "outputs": [],
      "source": [
        "def gradient_update_nesterov(W,b,n_layers,grad,eta,u_W,u_b,beta):\n",
        "  for k in range(0,n_layers+1):\n",
        "    u_W[k]=beta*u_W[k]+eta*grad[\"g_W\"][k]\n",
        "    W[k]-=(u_W[k])\n",
        "    u_b[k]=beta*u_b[k]+eta*grad[\"g_b\"][k]\n",
        "    b[k]-=(u_b[k])\n",
        "\n",
        "  return (u_W,W,u_b,b)\n",
        "\n",
        "\n",
        "\n",
        "def modelfit_nestrov(epoch,eta,n_layers,activation_fn,n_neurons,initialisation,n_inputneurons,n_outputneurons,X,Y,n_classes,beta,batch_size,wgt_dec):\n",
        "\n",
        "  (W,b)=initialise_parameters(initialisation,n_layers,n_neurons,n_inputneurons,n_outputneurons)\n",
        "  (u_W,u_b)=initialise_u(n_layers,n_neurons,n_inputneurons,n_outputneurons)\n",
        "  lookahead_W=W.copy()\n",
        "  lookahead_b=b.copy()\n",
        "  Loss=[]\n",
        "  v_loss=[]\n",
        "  print(\"___________________________________________________________________\")\n",
        "  print(\"Running Nesterov Accelerated Based Gradient Descent.....\")\n",
        "  print(f\"{'epoch': <5}{'training loss' : ^30}{'validation loss ': <30}\")\n",
        "\n",
        "  for t in range(epoch):\n",
        "   \n",
        "    sum=0\n",
        "    loss=0\n",
        "    for k in range(0,n_layers+1):\n",
        "      u_W[k]=beta*u_W[k]\n",
        "      u_b[k]=beta*u_b[k]\n",
        "    for i in range(0,X.shape[1],batch_size):\n",
        "\n",
        "      for k in range(0,n_layers+1):\n",
        "        lookahead_W[k]=W[k]-u_W[k]\n",
        "        lookahead_b[k]=b[k]-u_b[k]\n",
        "      y=forwardPropagation(lookahead_W,lookahead_b,n_neurons,n_layers,activation_fn,test[:,i:i+batch_size],10)\n",
        "      g=backPropagation(y[\"H\"],y[\"A\"],n_neurons,n_layers,Y_train,n_classes,lookahead_W,activation_fn,test[:,i:i+batch_size],y_one[:,i:i+batch_size],wgt_dec)\n",
        "      (u_W,W,u_b,b)=gradient_update_nesterov(W,b,n_layers,g,eta,u_W,u_b,beta)\n",
        "      \n",
        "    \n",
        "     \n",
        "    y_t=forwardPropagation(W,b,n_neurons,n_layers,activation_fn,X,10)\n",
        "    y_v=forwardPropagation(W,b,n_neurons,n_layers,activation_fn,xval,10)\n",
        "    (training_loss,validation_loss)=calculateloss(y_t[\"y\"],batch_size,len(X.T),len(Y),Y,wgt_dec,n_layers,W,True,y_v[\"y\"],Y_validate)\n",
        "    training_accuracy=calc_accuracy(y_t,Y_train)\n",
        "    validation_accuracy=calc_accuracy(y_v,Y_validate)\n",
        "    \n",
        "    #print(\"epoch:\",t,\"loss:\", training_loss, validation_loss)\n",
        "    print(f\"{t : <5}{training_loss : ^30}{validation_loss : <30}\")\n",
        "    Loss.append(training_loss)\n",
        "    v_loss.append(validation_loss)\n",
        "    wandb.log({\"validation_loss\": validation_loss,\"validation_accuracy\": validation_accuracy,\"training_loss\": training_loss,\"training_accuracy\": training_accuracy, 'epoch': t})\n",
        "\n",
        "  print(\"------------------------------------------------------------------\")\n",
        "  print(\"Accuracy on training data:\",training_accuracy)\n",
        "  print(\"Accuracy on validation data:\",validation_accuracy)\n",
        "    \n",
        "    #wandb.log({\"loss\": loss, \"epoch\": epoch})\n",
        "\n",
        "  #epochs=[i for i in range(epoch)]\n",
        "  #plotLoss(epochs,Loss)\n",
        "  return (Loss,W,b,v_loss)\n",
        "\n",
        "\n",
        "#(Loss,W,b)=modelfit_nestrov(5,1e-3,3,\"relu\",128,\"xavier\",784,10,test,Y_train,10,0.9,64,0.0005)"
      ]
    },
    {
      "cell_type": "code",
      "execution_count": 32,
      "metadata": {
        "id": "GwH77TwMN2q9"
      },
      "outputs": [],
      "source": [
        "def gradient_update_rmsprop(W,b,n_layers,grad,eta,v_W,v_b,beta,epsilon):\n",
        "  for k in range(0,n_layers+1):\n",
        "    v_W[k]=beta*v_W[k]+(1-beta)*(np.multiply(grad[\"g_W\"][k],grad[\"g_W\"][k]))\n",
        "    W[k]-=(eta*grad[\"g_W\"][k])/(np.sqrt(v_W[k])+epsilon)\n",
        "    v_b[k]=beta*v_b[k]+(1-beta)*(np.multiply(grad[\"g_b\"][k],grad[\"g_b\"][k]))\n",
        "    b[k]-=(eta*grad[\"g_b\"][k])/(np.sqrt(v_b[k])+epsilon)\n",
        "\n",
        "  return (v_W,W,v_b,b)\n",
        "\n",
        "\n",
        "\n",
        "\n",
        "def modelfit_rmsprop(epoch,eta,n_layers,activation_fn,n_neurons,initialisation,n_inputneurons,n_outputneurons,X,Y,n_classes,beta,epsilon,batch_size,wgt_dec):\n",
        "\n",
        "  (W,b)=initialise_parameters(initialisation,n_layers,n_neurons,n_inputneurons,n_outputneurons)\n",
        "  (v_W,v_b)=initialise_u(n_layers,n_neurons,n_inputneurons,n_outputneurons)\n",
        "  Loss=[]\n",
        "  v_loss=[]\n",
        "  print(\"___________________________________________________________________\")\n",
        "  print(\"Running RMSProp.....\")\n",
        "  print(f\"{'epoch': <5}{'training loss' : ^30}{'validation loss ': <30}\")\n",
        "\n",
        "  for t in range(epoch):\n",
        "    \n",
        "    for i in range(0,X.shape[1],batch_size):\n",
        "\n",
        "      y=forwardPropagation(W,b,n_neurons,n_layers,activation_fn,test[:,i:i+batch_size],10)\n",
        "      g=backPropagation(y[\"H\"],y[\"A\"],n_neurons,n_layers,Y_train,n_classes,W,activation_fn,test[:,i:i+batch_size],y_one[:,i:i+batch_size],wgt_dec)\n",
        "      (v_W,W,v_b,b)=gradient_update_rmsprop(W,b,n_layers,g,eta,v_W,v_b,beta,epsilon)\n",
        "  \n",
        "    y_t=forwardPropagation(W,b,n_neurons,n_layers,activation_fn,X,10)\n",
        "    y_v=forwardPropagation(W,b,n_neurons,n_layers,activation_fn,xval,10)\n",
        "    (training_loss,validation_loss)=calculateloss(y_t[\"y\"],batch_size,len(X.T),len(Y),Y,wgt_dec,n_layers,W,True,y_v[\"y\"],Y_validate)\n",
        "    training_accuracy=calc_accuracy(y_t,Y_train)\n",
        "    validation_accuracy=calc_accuracy(y_v,Y_validate)\n",
        "    \n",
        "    #print(\"epoch:\",t,\"loss:\", training_loss, validation_loss)\n",
        "    print(f\"{t : <5}{training_loss : ^30}{validation_loss : <30}\")\n",
        "    Loss.append(training_loss)\n",
        "    v_loss.append(validation_loss)\n",
        "    wandb.log({\"validation_loss\": validation_loss,\"validation_accuracy\": validation_accuracy,\"training_loss\": training_loss,\"training_accuracy\": training_accuracy, 'epoch': t})\n",
        "\n",
        "  print(\"------------------------------------------------------------------\")\n",
        "  print(\"Accuracy on training data:\",training_accuracy)\n",
        "  print(\"Accuracy on validation data:\",validation_accuracy)\n",
        "\n",
        "  #epochs=[i for i in range(epoch)]\n",
        "  #plotLoss(epochs,Loss)\n",
        "  return (Loss,W,b,v_loss)\n",
        "\n",
        "#(Loss,W,b,v_loss)=modelfit_rmsprop(5,1e-3,5,\"relu\",128,\"random\",784,10,test,Y_train,10,0.9,1e-6,16,0)"
      ]
    },
    {
      "cell_type": "code",
      "execution_count": 33,
      "metadata": {
        "id": "agZ340yQRhJw"
      },
      "outputs": [],
      "source": [
        "def gradient_update_adam(W,b,n_layers,grad,eta,v_W,v_b,m_W,m_b,beta1,beta2,epsilon,t):\n",
        "  for k in range(0,n_layers+1):\n",
        "    m_W[k]=beta1*m_W[k]+(1-beta1)*grad[\"g_W\"][k]\n",
        "    m_b[k]=beta1*m_b[k]+(1-beta1)*grad[\"g_b\"][k]\n",
        "\n",
        "    v_W[k]=beta2*v_W[k]+(1-beta2)*grad[\"g_W\"][k]**2\n",
        "    v_b[k]=beta2*v_b[k]+(1-beta2)*grad[\"g_b\"][k]**2\n",
        "\n",
        "    m_W_correction=m_W[k]/(1-(beta1**t))\n",
        "    m_b_correction=m_b[k]/(1-(beta1**t))\n",
        "\n",
        "    v_W_correction=v_W[k]/(1-(beta2**t))\n",
        "    v_b_correction=v_b[k]/(1-(beta2**t))\n",
        "\n",
        "    W[k]-=(eta*m_W_correction)/(np.sqrt(v_W_correction)+epsilon)\n",
        "    b[k]-=(eta*m_b_correction)/(np.sqrt(v_b_correction)+epsilon)\n",
        "\n",
        "  return (m_W,v_W,W,m_b,v_b,b)\n",
        "\n",
        "\n",
        "\n",
        "\n",
        "def modelfit_adam(epoch,eta,n_layers,activation_fn,n_neurons,initialisation,n_inputneurons,n_outputneurons,X,Y,n_classes,beta1,beta2,epsilon,batch_size,wgt_dec):\n",
        "\n",
        "  (W,b)=initialise_parameters(initialisation,n_layers,n_neurons,n_inputneurons,n_outputneurons)\n",
        "  (v_W,v_b)=initialise_u(n_layers,n_neurons,n_inputneurons,n_outputneurons)\n",
        "  (m_W,m_b)=initialise_u(n_layers,n_neurons,n_inputneurons,n_outputneurons)\n",
        "  v_loss=[]\n",
        "  Loss=[]\n",
        "  print(\"___________________________________________________________________\")\n",
        "  print(\"Running Adam.....\")\n",
        "  print(f\"{'epoch': <5}{'training loss' : ^30}{'validation loss ': <30}\")\n",
        "\n",
        "  for t in range(1,epoch+1):\n",
        "    \n",
        "    for i in range(0,X.shape[1],batch_size):\n",
        "\n",
        "      y=forwardPropagation(W,b,n_neurons,n_layers,activation_fn,test[:,i:i+batch_size],10)\n",
        "      g=backPropagation(y[\"H\"],y[\"A\"],n_neurons,n_layers,Y_train,n_classes,W,activation_fn,test[:,i:i+batch_size],y_one[:,i:i+batch_size],wgt_dec)\n",
        "      (m_W,v_W,W,m_b,v_b,b)=gradient_update_adam(W,b,n_layers,g,eta,v_W,v_b,m_W,m_b,beta1,beta2,epsilon,t)\n",
        "  \n",
        "    y_t=forwardPropagation(W,b,n_neurons,n_layers,activation_fn,X,10)\n",
        "    y_v=forwardPropagation(W,b,n_neurons,n_layers,activation_fn,xval,10)\n",
        "    (training_loss,validation_loss)=calculateloss(y_t[\"y\"],batch_size,len(X.T),len(Y),Y,wgt_dec,n_layers,W,True,y_v[\"y\"],Y_validate)\n",
        "    training_accuracy=calc_accuracy(y_t,Y_train)\n",
        "    validation_accuracy=calc_accuracy(y_v,Y_validate)\n",
        "    \n",
        "    #print(\"epoch:\",t,\"loss:\", training_loss, validation_loss)\n",
        "    print(f\"{t : <5}{training_loss : ^30}{validation_loss : <30}\")\n",
        "    Loss.append(training_loss)\n",
        "    v_loss.append(validation_loss)\n",
        "    wandb.log({\"validation_loss\": validation_loss,\"validation_accuracy\": validation_accuracy,\"training_loss\": training_loss,\"training_accuracy\": training_accuracy, 'epoch': t})\n",
        "\n",
        "  print(\"------------------------------------------------------------------\")\n",
        "  print(\"Accuracy on training data:\",training_accuracy)\n",
        "  print(\"Accuracy on validation data:\",validation_accuracy)\n",
        "  #epochs=[i for i in range(epoch)]\n",
        "  #plotLoss(epochs,Loss)\n",
        "  return (Loss,W,b,v_loss)\n",
        "\n",
        "#(Loss,W,b)=modelfit_adam(10,1e-3,3,\"tanh\",32,\"xavier\",784,10,test,Y_train,10,0.9,0.999,1e-8,10,0.0005)"
      ]
    },
    {
      "cell_type": "code",
      "execution_count": 38,
      "metadata": {
        "id": "xD_LhFc1y5Ip"
      },
      "outputs": [],
      "source": [
        "def gradient_update_nadam(W,b,n_layers,grad,eta,v_W,v_b,m_W,m_b,beta1,beta2,epsilon,t):\n",
        "  for k in range(0,n_layers+1):\n",
        "    m_W[k]=beta1*m_W[k]+(1-beta1)*grad[\"g_W\"][k]\n",
        "    m_b[k]=beta1*m_b[k]+(1-beta1)*grad[\"g_b\"][k]\n",
        "\n",
        "    v_W[k]=beta2*v_W[k]+(1-beta2)*grad[\"g_W\"][k]**2\n",
        "    v_b[k]=beta2*v_b[k]+(1-beta2)*grad[\"g_b\"][k]**2\n",
        "\n",
        "    m_W_correction=m_W[k]/(1-(beta1**(t+1)))\n",
        "    m_b_correction=m_b[k]/(1-(beta1**(t+1)))\n",
        "\n",
        "    v_W_correction=v_W[k]/(1-(beta2**(t+1)))\n",
        "    v_b_correction=v_b[k]/(1-(beta2**(t+1)))\n",
        "\n",
        "    W[k]-=((eta)/(np.sqrt(v_W_correction)+epsilon))*(beta1*m_W_correction+((1-beta1)*grad[\"g_W\"][k])/(1-beta1**(t+1)))\n",
        "    b[k]-=(eta)/(np.sqrt(v_b_correction)+epsilon)*(beta1*m_b_correction+((1-beta1)*grad[\"g_b\"][k])/(1-beta1**(t+1)))\n",
        "\n",
        "  return (m_W,v_W,W,m_b,v_b,b)\n",
        "\n",
        "\n",
        "\n",
        "\n",
        "def modelfit_nadam(epoch,eta,n_layers,activation_fn,n_neurons,initialisation,n_inputneurons,n_outputneurons,X,Y,n_classes,beta1,beta2,epsilon,batch_size,wgt_dec):\n",
        "\n",
        "  (W,b)=initialise_parameters(initialisation,n_layers,n_neurons,n_inputneurons,n_outputneurons)\n",
        "  (v_W,v_b)=initialise_u(n_layers,n_neurons,n_inputneurons,n_outputneurons)\n",
        "  (m_W,m_b)=initialise_u(n_layers,n_neurons,n_inputneurons,n_outputneurons)\n",
        "  Loss=[]\n",
        "  v_loss=[]\n",
        "  print(\"___________________________________________________________________\")\n",
        "  print(\"Running Nadam.....\")\n",
        "  print(f\"{'epoch': <5}{'training loss' : ^30}{'validation loss ': <30}\")\n",
        "\n",
        "  for t in range(1,epoch+1):\n",
        "    \n",
        "    for i in range(0,X.shape[1],batch_size):\n",
        "\n",
        "      y=forwardPropagation(W,b,n_neurons,n_layers,activation_fn,test[:,i:i+batch_size],10)\n",
        "      g=backPropagation(y[\"H\"],y[\"A\"],n_neurons,n_layers,Y_train,n_classes,W,activation_fn,test[:,i:i+batch_size],y_one[:,i:i+batch_size],wgt_dec)\n",
        "      (m_W,v_W,W,m_b,v_b,b)=gradient_update_nadam(W,b,n_layers,g,eta,v_W,v_b,m_W,m_b,beta1,beta2,epsilon,t)\n",
        "  \n",
        "    y_t=forwardPropagation(W,b,n_neurons,n_layers,activation_fn,X,10)\n",
        "    y_v=forwardPropagation(W,b,n_neurons,n_layers,activation_fn,xval,10)\n",
        "    (training_loss,validation_loss)=calculateloss(y_t[\"y\"],batch_size,len(X.T),len(Y),Y,wgt_dec,n_layers,W,True,y_v[\"y\"],Y_validate)\n",
        "    training_accuracy=calc_accuracy(y_t,Y_train)\n",
        "    validation_accuracy=calc_accuracy(y_v,Y_validate)\n",
        "    \n",
        "    #print(\"epoch:\",t,\"loss:\", training_loss, validation_loss)\n",
        "    print(f\"{t : <5}{training_loss : ^30}{validation_loss : <30}\")\n",
        "    Loss.append(training_loss)\n",
        "    v_loss.append(validation_loss)\n",
        "    wandb.log({\"validation_loss\": validation_loss,\"validation_accuracy\": validation_accuracy,\"training_loss\": training_loss,\"training_accuracy\": training_accuracy, 'epoch': t})\n",
        "\n",
        "  print(\"------------------------------------------------------------------\")\n",
        "  print(\"Accuracy on training data:\",training_accuracy)\n",
        "  print(\"Accuracy on validation data:\",validation_accuracy)\n",
        "\n",
        "  #epochs=[i for i in range(epoch)]\n",
        "  #plotLoss(epochs,Loss)\n",
        "  return (Loss,W,b,v_loss)\n",
        "\n",
        "#(Loss,W,b)=modelfit_nadam(5,1e-3,5,\"relu\",128,\"random\",784,10,test,Y_train,10,0.9,0.999,1e-8,32,0.0005)"
      ]
    },
    {
      "cell_type": "code",
      "source": [
        "def network_train(epoch,eta,n_layers,activation_fn,n_neurons,initialisation,X,Y,batch_size,wgt_dec,optimiser,n_inputneurons,n_outputneurons,n_classes,beta,beta1,beta2,epsilon):\n",
        "  #run=wandb.init(project=\"assignment1\")\n",
        "  #name : \"ep_{}_lr_{}_hl_{}_ac_{}_nn_{}_in_{}_bs_{}_wd_{}_op_{}\".format(epoch,eta,n_layers, activation_fn, n_neurons,initialisation, batch_size,optimiser, wgt_dec)\n",
        "  if(optimiser==\"sgd\"):\n",
        "    (W,b,Loss,v_loss)=modelfit_vanila(epoch,eta,n_layers,activation_fn,n_neurons,initialisation,n_inputneurons,n_outputneurons,X,Y,n_classes,batch_size,wgt_dec)\n",
        "  elif optimiser==\"momentum\":\n",
        "    (Loss,W,b,v_loss)=modelfit_momentum(epoch,eta,n_layers,activation_fn,n_neurons,initialisation,n_inputneurons,n_outputneurons,X,Y,n_classes,beta,batch_size,wgt_dec)\n",
        "  elif optimiser==\"nag\":\n",
        "    (Loss,W,b,v_loss)=modelfit_nestrov(epoch,eta,n_layers,activation_fn,n_neurons,initialisation,n_inputneurons,n_outputneurons,X,Y,n_classes,beta,batch_size,wgt_dec)\n",
        "  elif optimiser==\"rmsprop\":\n",
        "    (Loss,W,b,v_loss)=modelfit_rmsprop(epoch,eta,n_layers,activation_fn,n_neurons,initialisation,n_inputneurons,n_outputneurons,X,Y,n_classes,beta,epsilon,batch_size,wgt_dec)\n",
        "  elif optimiser==\"adam\":\n",
        "    (Loss,W,b,v_loss)=modelfit_adam(epoch,eta,n_layers,activation_fn,n_neurons,initialisation,n_inputneurons,n_outputneurons,X,Y,n_classes,beta1,beta2,epsilon,batch_size,wgt_dec)\n",
        "  elif optimiser==\"nadam\":\n",
        "    (Loss,W,b,v_loss)=modelfit_nadam(epoch,eta,n_layers,activation_fn,n_neurons,initialisation,n_inputneurons,n_outputneurons,X,Y,n_classes,beta1,beta2,epsilon,batch_size,wgt_dec)\n",
        "\n",
        "  epochs=[i for i in range(epoch)]\n",
        "  plotLoss(epochs,Loss,v_loss)\n",
        "  #run.finish()\n",
        "  return (Loss,W,b,v_loss)\n",
        "\n",
        "\n",
        "run=wandb.init(project=\"assignment1\")\n",
        "(Loss,W,b,v_loss)=network_train(10,1e-3,4,\"tanh\",32,\"xavier\",test,Y_train,10,0,\"adam\",784,10,10,0.0005,0.9,0.999,1e-8)\n",
        "run.finish()"
      ],
      "metadata": {
        "id": "6q_e1ZHr9is_",
        "colab": {
          "base_uri": "https://localhost:8080/",
          "height": 889,
          "referenced_widgets": [
            "6810687b18ef455798820a63e651a5af",
            "e7af420ac52b4440b25f8c2fa8e8ed2b",
            "b5867abbab9949bbb465a404b4c10134",
            "8c89d9a5115b446392408a4371c85359",
            "81a4d2dc45534e69bd732e18d0236735",
            "7d5736bb6d8644d988f51cdf32335a70",
            "2986a196e51445308c74e644b7e89fdd",
            "aec45331390f459d94763c26e39322c8"
          ]
        },
        "outputId": "e09bf109-c870-48ba-ae6b-43d4d945f46c"
      },
      "execution_count": 37,
      "outputs": [
        {
          "output_type": "display_data",
          "data": {
            "text/plain": [
              "<IPython.core.display.HTML object>"
            ],
            "text/html": [
              "Finishing last run (ID:2shulhft) before initializing another..."
            ]
          },
          "metadata": {}
        },
        {
          "output_type": "display_data",
          "data": {
            "text/plain": [
              "<IPython.core.display.HTML object>"
            ],
            "text/html": [
              "Waiting for W&B process to finish... <strong style=\"color:green\">(success).</strong>"
            ]
          },
          "metadata": {}
        },
        {
          "output_type": "display_data",
          "data": {
            "text/plain": [
              "VBox(children=(Label(value='0.001 MB of 0.001 MB uploaded (0.000 MB deduped)\\r'), FloatProgress(value=1.0, max…"
            ],
            "application/vnd.jupyter.widget-view+json": {
              "version_major": 2,
              "version_minor": 0,
              "model_id": "6810687b18ef455798820a63e651a5af"
            }
          },
          "metadata": {}
        },
        {
          "output_type": "display_data",
          "data": {
            "text/plain": [
              "<IPython.core.display.HTML object>"
            ],
            "text/html": [
              " View run <strong style=\"color:#cdcd00\">upbeat-vortex-341</strong> at: <a href='https://wandb.ai/cs22m025/assignment1/runs/2shulhft' target=\"_blank\">https://wandb.ai/cs22m025/assignment1/runs/2shulhft</a><br/>Synced 5 W&B file(s), 0 media file(s), 0 artifact file(s) and 0 other file(s)"
            ]
          },
          "metadata": {}
        },
        {
          "output_type": "display_data",
          "data": {
            "text/plain": [
              "<IPython.core.display.HTML object>"
            ],
            "text/html": [
              "Find logs at: <code>./wandb/run-20230312_090421-2shulhft/logs</code>"
            ]
          },
          "metadata": {}
        },
        {
          "output_type": "display_data",
          "data": {
            "text/plain": [
              "<IPython.core.display.HTML object>"
            ],
            "text/html": [
              "Successfully finished last run (ID:2shulhft). Initializing new run:<br/>"
            ]
          },
          "metadata": {}
        },
        {
          "output_type": "display_data",
          "data": {
            "text/plain": [
              "<IPython.core.display.HTML object>"
            ],
            "text/html": [
              "Tracking run with wandb version 0.13.11"
            ]
          },
          "metadata": {}
        },
        {
          "output_type": "display_data",
          "data": {
            "text/plain": [
              "<IPython.core.display.HTML object>"
            ],
            "text/html": [
              "Run data is saved locally in <code>/content/wandb/run-20230312_090440-7xyz5qg2</code>"
            ]
          },
          "metadata": {}
        },
        {
          "output_type": "display_data",
          "data": {
            "text/plain": [
              "<IPython.core.display.HTML object>"
            ],
            "text/html": [
              "Syncing run <strong><a href='https://wandb.ai/cs22m025/assignment1/runs/7xyz5qg2' target=\"_blank\">dauntless-plasma-342</a></strong> to <a href='https://wandb.ai/cs22m025/assignment1' target=\"_blank\">Weights & Biases</a> (<a href='https://wandb.me/run' target=\"_blank\">docs</a>)<br/>"
            ]
          },
          "metadata": {}
        },
        {
          "output_type": "display_data",
          "data": {
            "text/plain": [
              "<IPython.core.display.HTML object>"
            ],
            "text/html": [
              " View project at <a href='https://wandb.ai/cs22m025/assignment1' target=\"_blank\">https://wandb.ai/cs22m025/assignment1</a>"
            ]
          },
          "metadata": {}
        },
        {
          "output_type": "display_data",
          "data": {
            "text/plain": [
              "<IPython.core.display.HTML object>"
            ],
            "text/html": [
              " View run at <a href='https://wandb.ai/cs22m025/assignment1/runs/7xyz5qg2' target=\"_blank\">https://wandb.ai/cs22m025/assignment1/runs/7xyz5qg2</a>"
            ]
          },
          "metadata": {}
        },
        {
          "output_type": "stream",
          "name": "stdout",
          "text": [
            "___________________________________________________________________\n",
            "Running Adam.....\n",
            "epoch        training loss         validation loss               \n",
            "1          0.5022003017634166      0.5144103015323426            \n",
            "2          0.4446587699202179      0.46294023400261425           \n",
            "3         0.41660868804582035      0.4399982423023838            \n",
            "4         0.39976774814770066      0.4267789470846237            \n",
            "5          0.3876163583541968      0.4175201170286327            \n",
            "6          0.3774764232676652      0.4100570919613233            \n",
            "7          0.3692602666641592      0.4046079294661072            \n",
            "8          0.3626057891500247      0.40097715757513425           \n",
            "9         0.35678623970854134      0.39822402753519737           \n",
            "10        0.35166286495661647      0.39596772312722633           \n",
            "------------------------------------------------------------------\n",
            "Accuracy on training data: 0.8743333333333333\n",
            "Accuracy on validation data: 0.8605\n"
          ]
        },
        {
          "output_type": "error",
          "ename": "NameError",
          "evalue": "ignored",
          "traceback": [
            "\u001b[0;31m---------------------------------------------------------------------------\u001b[0m",
            "\u001b[0;31mNameError\u001b[0m                                 Traceback (most recent call last)",
            "\u001b[0;32m<ipython-input-37-2b5a7f831e50>\u001b[0m in \u001b[0;36m<module>\u001b[0;34m\u001b[0m\n\u001b[1;32m     22\u001b[0m \u001b[0;34m\u001b[0m\u001b[0m\n\u001b[1;32m     23\u001b[0m \u001b[0mrun\u001b[0m\u001b[0;34m=\u001b[0m\u001b[0mwandb\u001b[0m\u001b[0;34m.\u001b[0m\u001b[0minit\u001b[0m\u001b[0;34m(\u001b[0m\u001b[0mproject\u001b[0m\u001b[0;34m=\u001b[0m\u001b[0;34m\"assignment1\"\u001b[0m\u001b[0;34m)\u001b[0m\u001b[0;34m\u001b[0m\u001b[0;34m\u001b[0m\u001b[0m\n\u001b[0;32m---> 24\u001b[0;31m \u001b[0;34m(\u001b[0m\u001b[0mLoss\u001b[0m\u001b[0;34m,\u001b[0m\u001b[0mW\u001b[0m\u001b[0;34m,\u001b[0m\u001b[0mb\u001b[0m\u001b[0;34m,\u001b[0m\u001b[0mv_loss\u001b[0m\u001b[0;34m)\u001b[0m\u001b[0;34m=\u001b[0m\u001b[0mnetwork_train\u001b[0m\u001b[0;34m(\u001b[0m\u001b[0;36m10\u001b[0m\u001b[0;34m,\u001b[0m\u001b[0;36m1e-3\u001b[0m\u001b[0;34m,\u001b[0m\u001b[0;36m4\u001b[0m\u001b[0;34m,\u001b[0m\u001b[0;34m\"tanh\"\u001b[0m\u001b[0;34m,\u001b[0m\u001b[0;36m32\u001b[0m\u001b[0;34m,\u001b[0m\u001b[0;34m\"xavier\"\u001b[0m\u001b[0;34m,\u001b[0m\u001b[0mtest\u001b[0m\u001b[0;34m,\u001b[0m\u001b[0mY_train\u001b[0m\u001b[0;34m,\u001b[0m\u001b[0;36m10\u001b[0m\u001b[0;34m,\u001b[0m\u001b[0;36m0\u001b[0m\u001b[0;34m,\u001b[0m\u001b[0;34m\"adam\"\u001b[0m\u001b[0;34m,\u001b[0m\u001b[0;36m784\u001b[0m\u001b[0;34m,\u001b[0m\u001b[0;36m10\u001b[0m\u001b[0;34m,\u001b[0m\u001b[0;36m10\u001b[0m\u001b[0;34m,\u001b[0m\u001b[0;36m0.0005\u001b[0m\u001b[0;34m,\u001b[0m\u001b[0;36m0.9\u001b[0m\u001b[0;34m,\u001b[0m\u001b[0;36m0.999\u001b[0m\u001b[0;34m,\u001b[0m\u001b[0;36m1e-8\u001b[0m\u001b[0;34m)\u001b[0m\u001b[0;34m\u001b[0m\u001b[0;34m\u001b[0m\u001b[0m\n\u001b[0m\u001b[1;32m     25\u001b[0m \u001b[0mrun\u001b[0m\u001b[0;34m.\u001b[0m\u001b[0mfinish\u001b[0m\u001b[0;34m(\u001b[0m\u001b[0;34m)\u001b[0m\u001b[0;34m\u001b[0m\u001b[0;34m\u001b[0m\u001b[0m\n",
            "\u001b[0;32m<ipython-input-37-2b5a7f831e50>\u001b[0m in \u001b[0;36mnetwork_train\u001b[0;34m(epoch, eta, n_layers, activation_fn, n_neurons, initialisation, X, Y, batch_size, wgt_dec, optimiser, n_inputneurons, n_outputneurons, n_classes, beta, beta1, beta2, epsilon)\u001b[0m\n\u001b[1;32m     16\u001b[0m \u001b[0;34m\u001b[0m\u001b[0m\n\u001b[1;32m     17\u001b[0m   \u001b[0mepochs\u001b[0m\u001b[0;34m=\u001b[0m\u001b[0;34m[\u001b[0m\u001b[0mi\u001b[0m \u001b[0;32mfor\u001b[0m \u001b[0mi\u001b[0m \u001b[0;32min\u001b[0m \u001b[0mrange\u001b[0m\u001b[0;34m(\u001b[0m\u001b[0mepoch\u001b[0m\u001b[0;34m)\u001b[0m\u001b[0;34m]\u001b[0m\u001b[0;34m\u001b[0m\u001b[0;34m\u001b[0m\u001b[0m\n\u001b[0;32m---> 18\u001b[0;31m   \u001b[0mplotLoss\u001b[0m\u001b[0;34m(\u001b[0m\u001b[0mepochs\u001b[0m\u001b[0;34m,\u001b[0m\u001b[0mLoss\u001b[0m\u001b[0;34m,\u001b[0m\u001b[0mv_loss\u001b[0m\u001b[0;34m)\u001b[0m\u001b[0;34m\u001b[0m\u001b[0;34m\u001b[0m\u001b[0m\n\u001b[0m\u001b[1;32m     19\u001b[0m   \u001b[0;31m#run.finish()\u001b[0m\u001b[0;34m\u001b[0m\u001b[0;34m\u001b[0m\u001b[0m\n\u001b[1;32m     20\u001b[0m   \u001b[0;32mreturn\u001b[0m \u001b[0;34m(\u001b[0m\u001b[0mLoss\u001b[0m\u001b[0;34m,\u001b[0m\u001b[0mW\u001b[0m\u001b[0;34m,\u001b[0m\u001b[0mb\u001b[0m\u001b[0;34m,\u001b[0m\u001b[0mv_loss\u001b[0m\u001b[0;34m)\u001b[0m\u001b[0;34m\u001b[0m\u001b[0;34m\u001b[0m\u001b[0m\n",
            "\u001b[0;31mNameError\u001b[0m: name 'plotLoss' is not defined"
          ]
        }
      ]
    },
    {
      "cell_type": "code",
      "source": [
        "'''sweep_config = {\n",
        "    'method': 'random',     \n",
        "    'metric': { 'name': 'validation_accuracy',\n",
        "      'goal': 'maximize'   \n",
        "    },\n",
        "    'parameters': {\n",
        "        'epoch': {\n",
        "            'values': [5, 10]\n",
        "        },\n",
        "        \n",
        "        'n_neurons': {\n",
        "            'values': [32, 64, 128]\n",
        "        },\n",
        "        'n_layers':{\n",
        "            'values':[3,4,5]\n",
        "        },\n",
        "        \n",
        "        'eta': {\n",
        "            'values': [1e-3, 1e-4]\n",
        "        },\n",
        "        'optimizer': {\n",
        "            'values': ['sgd', 'momentum', 'nag', 'rmsprop', 'adam', 'nadam' ]\n",
        "        },\n",
        "        'batch_size': {\n",
        "            'values': [16, 32, 64]\n",
        "        },\n",
        "        'initialisation': {\n",
        "            'values': ['random', 'xavier']\n",
        "        },\n",
        "        'activation_fn': {\n",
        "            'values': ['relu', 'tanh', 'sigmoid']\n",
        "        },\n",
        "        'wgt_dec' :{\n",
        "            'values': [0, 0.0005, 0.5]\n",
        "        }\n",
        "    }\n",
        "}'''\n",
        "sweep_config = {\n",
        "    'method': 'random',     \n",
        "    'metric': { 'name': 'validation_accuracy', 'goal': 'maximize'},\n",
        "    'parameters': {'epoch': {'values': [5, 10] } ,\n",
        "                   'n_neurons': { 'values': [32, 64, 128] },\n",
        "                  'n_layers':{ 'values':[3,4,5]  },\n",
        "                   'eta': {  'values': [1e-3, 1e-4]},\n",
        "                  'optimizer': { 'values': ['sgd', 'momentum', 'nag', 'rmsprop', 'adam', 'nadam' ]},\n",
        "                  'batch_size': {'values': [16, 32, 64] },\n",
        "                  'initialisation': { 'values': ['random', 'xavier']  },\n",
        "                   'activation_fn': {  'values': ['relu', 'tanh', 'sigmoid']  },\n",
        "                   'wgt_dec' :{   'values': [0, 0.0005, 0.5]  }\n",
        "                   },\n",
        "     #'name':\"ep_{}_lr_{}_hl_{}_ac_{}_nn_{}_in_{}_bs_{}_wd_{}_op_{}\".format(parametrs.epoch,eta,n_layers, activation_fn, n_neurons,initialisation, batch_size,optimizer, wgt_dec)\n",
        "  }\n",
        "\n",
        "def train():\n",
        "    run=wandb.init(project=\"assignment1\",entity=\"cs22m025\")\n",
        "    config = wandb.config\n",
        "    wandb.run.name=\"ep_{}_lr_{}_hl_{}_ac_{}_nn_{}_in_{}_bs_{}_wd_{}_op_{}\".format(config.epoch,config.eta,config.n_layers, config.activation_fn, config.n_neurons,config.initialisation, config.batch_size,config.optimizer, config.wgt_dec)\n",
        "    wandb.run.save\n",
        "    (Loss,W,b,v_loss)=network_train(config.epoch,config.eta,config.n_layers,config.activation_fn,config.n_neurons,config.initialisation,test,Y_train,config.batch_size,config.wgt_dec,config.optimizer,n_inputneurons=784,n_outputneurons=10,n_classes=10,beta=0.9,beta1=0.9,beta2=0.999,epsilon=1e-8)\n",
        "    run.finish()\n",
        "\n",
        "\n",
        "sweep_id = wandb.sweep(sweep=sweep_config, project=\"assignment1\")\n",
        "\n",
        "\n",
        "wandb.agent(sweep_id, function=train,count=5)"
      ],
      "metadata": {
        "colab": {
          "base_uri": "https://localhost:8080/",
          "height": 1000,
          "referenced_widgets": [
            "8583e75214624dab8fceb6ab6c9d10b0",
            "5e3fe9ac293e422d93a325f76e920da7",
            "018c13bfac4c45ab947d503346fb30e4",
            "cb60395fb6b946be9acac5a73104ad75",
            "240e5f7873b84bb494c77189375c9a64",
            "05a3d9f7029e4894b2ef70aefe31dec0",
            "0d01b37cec2d495cafa9f00336c2b324",
            "224093176267444ba710686dffe83f11",
            "c115c60c4220452c926f59d7319e4d6a",
            "85ad521ecf16411f8b415450a509e988",
            "5391d2af3dfe4708985d092b0560c6fc",
            "eee734b8d2ac4b7e9552086d392a0820",
            "e70f47afe87f4bd6ad45b40868cfb253",
            "a9fb6fbd246a48ea9d8eafbbd4c61623",
            "2391a64b2a714d49a6fa5ff6bf984d23",
            "31289434705247edbf6fb5fc843ee274",
            "ba12d81e4b82416590024ff86c8039e4",
            "6d84504497914a70b12f5b45af1c6f69",
            "56b631ac8bf148b0bac7951693b1869a",
            "99e2a642505146ec80743a47fa2b107b",
            "ac27d49e6ec345bbad8ea0eabec7ca17",
            "2fd1b483236f4834937735b6ab94eb40",
            "e352a1ae3b8741168a573af0de6956d6",
            "089bc19de7154a25ade7b0d84e1055d3",
            "8d15e81f31ec409ea292b9a0f0cbb8de",
            "20eff5b87d8e40e4bc7e94d30030e6f5",
            "9cf95260968b4dce811eecc1dd75d7f4",
            "2ab8497e1b664a1299d0a71d67d22754",
            "b2beef22b32346a7b046268a725f7307",
            "4de8ed4f191e424a96c2c3ad3ce9eab9",
            "d16edd93ef83429384305ac4f70ddccb",
            "08355e5a2a2445e99425b61e63212298"
          ]
        },
        "id": "_PU9_eHWecot",
        "outputId": "7e9a41ea-a9ca-4ab7-c90b-6134ef8a2d98"
      },
      "execution_count": null,
      "outputs": [
        {
          "output_type": "stream",
          "name": "stdout",
          "text": [
            "Create sweep with ID: amd22x9x\n",
            "Sweep URL: https://wandb.ai/cs22m025/assignment1/sweeps/amd22x9x\n"
          ]
        },
        {
          "output_type": "stream",
          "name": "stderr",
          "text": [
            "\u001b[34m\u001b[1mwandb\u001b[0m: Agent Starting Run: g9qyras0 with config:\n",
            "\u001b[34m\u001b[1mwandb\u001b[0m: \tactivation_fn: tanh\n",
            "\u001b[34m\u001b[1mwandb\u001b[0m: \tbatch_size: 64\n",
            "\u001b[34m\u001b[1mwandb\u001b[0m: \tepoch: 10\n",
            "\u001b[34m\u001b[1mwandb\u001b[0m: \teta: 0.0001\n",
            "\u001b[34m\u001b[1mwandb\u001b[0m: \tinitialisation: xavier\n",
            "\u001b[34m\u001b[1mwandb\u001b[0m: \tn_layers: 4\n",
            "\u001b[34m\u001b[1mwandb\u001b[0m: \tn_neurons: 64\n",
            "\u001b[34m\u001b[1mwandb\u001b[0m: \toptimizer: rmsprop\n",
            "\u001b[34m\u001b[1mwandb\u001b[0m: \twgt_dec: 0.5\n",
            "\u001b[34m\u001b[1mwandb\u001b[0m: \u001b[33mWARNING\u001b[0m Ignored wandb.init() arg project when running a sweep.\n"
          ]
        },
        {
          "output_type": "display_data",
          "data": {
            "text/plain": [
              "<IPython.core.display.HTML object>"
            ],
            "text/html": [
              "Tracking run with wandb version 0.13.11"
            ]
          },
          "metadata": {}
        },
        {
          "output_type": "display_data",
          "data": {
            "text/plain": [
              "<IPython.core.display.HTML object>"
            ],
            "text/html": [
              "Run data is saved locally in <code>/content/wandb/run-20230311_062703-g9qyras0</code>"
            ]
          },
          "metadata": {}
        },
        {
          "output_type": "display_data",
          "data": {
            "text/plain": [
              "<IPython.core.display.HTML object>"
            ],
            "text/html": [
              "Syncing run <strong><a href='https://wandb.ai/cs22m025/assignment1/runs/g9qyras0' target=\"_blank\">different-sweep-1</a></strong> to <a href='https://wandb.ai/cs22m025/assignment1' target=\"_blank\">Weights & Biases</a> (<a href='https://wandb.me/run' target=\"_blank\">docs</a>)<br/>Sweep page: <a href='https://wandb.ai/cs22m025/assignment1/sweeps/amd22x9x' target=\"_blank\">https://wandb.ai/cs22m025/assignment1/sweeps/amd22x9x</a>"
            ]
          },
          "metadata": {}
        },
        {
          "output_type": "display_data",
          "data": {
            "text/plain": [
              "<IPython.core.display.HTML object>"
            ],
            "text/html": [
              " View project at <a href='https://wandb.ai/cs22m025/assignment1' target=\"_blank\">https://wandb.ai/cs22m025/assignment1</a>"
            ]
          },
          "metadata": {}
        },
        {
          "output_type": "display_data",
          "data": {
            "text/plain": [
              "<IPython.core.display.HTML object>"
            ],
            "text/html": [
              " View sweep at <a href='https://wandb.ai/cs22m025/assignment1/sweeps/amd22x9x' target=\"_blank\">https://wandb.ai/cs22m025/assignment1/sweeps/amd22x9x</a>"
            ]
          },
          "metadata": {}
        },
        {
          "output_type": "display_data",
          "data": {
            "text/plain": [
              "<IPython.core.display.HTML object>"
            ],
            "text/html": [
              " View run at <a href='https://wandb.ai/cs22m025/assignment1/runs/g9qyras0' target=\"_blank\">https://wandb.ai/cs22m025/assignment1/runs/g9qyras0</a>"
            ]
          },
          "metadata": {}
        },
        {
          "output_type": "stream",
          "name": "stdout",
          "text": [
            "___________________________________________________________________\n",
            "Running RMSProp.....\n",
            "epoch        training loss         validation loss               \n",
            "0          0.6653489588466717      0.6830599115149094            \n",
            "1          0.5250510661531667      0.5422244094976428            \n",
            "2         0.47304995769749575      0.4903341660439873            \n",
            "3         0.44466103463102763      0.4627478773866792            \n",
            "4          0.4241668794976246      0.4436056476961684            \n",
            "5         0.40836695571265075      0.42932564091815373           \n",
            "6          0.3960193246165414      0.41851792949722383           \n",
            "7          0.3860715981896344      0.41013805835859646           \n",
            "8          0.377751423710887       0.40341792379109254           \n",
            "9          0.3705726509239224      0.3978510334577462            \n",
            "------------------------------------------------------------------\n",
            "Accuracy on training data: 0.8687407407407407\n",
            "Accuracy on validation data: 0.8608333333333333\n"
          ]
        },
        {
          "output_type": "display_data",
          "data": {
            "text/plain": [
              "<Figure size 432x288 with 1 Axes>"
            ],
            "image/png": "[encoded data removed]"
          },
          "metadata": {
            "needs_background": "light"
          }
        },
        {
          "output_type": "display_data",
          "data": {
            "text/plain": [
              "<IPython.core.display.HTML object>"
            ],
            "text/html": [
              "Waiting for W&B process to finish... <strong style=\"color:green\">(success).</strong>"
            ]
          },
          "metadata": {}
        },
        {
          "output_type": "display_data",
          "data": {
            "text/plain": [
              "VBox(children=(Label(value='0.001 MB of 0.001 MB uploaded (0.000 MB deduped)\\r'), FloatProgress(value=1.0, max…"
            ],
            "application/vnd.jupyter.widget-view+json": {
              "version_major": 2,
              "version_minor": 0,
              "model_id": "8583e75214624dab8fceb6ab6c9d10b0"
            }
          },
          "metadata": {}
        },
        {
          "output_type": "display_data",
          "data": {
            "text/plain": [
              "<IPython.core.display.HTML object>"
            ],
            "text/html": [
              "<style>\n",
              "    table.wandb td:nth-child(1) { padding: 0 10px; text-align: left ; width: auto;} td:nth-child(2) {text-align: left ; width: 100%}\n",
              "    .wandb-row { display: flex; flex-direction: row; flex-wrap: wrap; justify-content: flex-start; width: 100% }\n",
              "    .wandb-col { display: flex; flex-direction: column; flex-basis: 100%; flex: 1; padding: 10px; }\n",
              "    </style>\n",
              "<div class=\"wandb-row\"><div class=\"wandb-col\"><h3>Run history:</h3><br/><table class=\"wandb\"><tr><td>epoch</td><td>▁▂▃▃▄▅▆▆▇█</td></tr><tr><td>training_accuracy</td><td>▁▄▆▆▇▇▇███</td></tr><tr><td>training_loss</td><td>█▅▃▃▂▂▂▁▁▁</td></tr><tr><td>validation_accuracy</td><td>▁▄▆▆▇▇▇███</td></tr><tr><td>validation_loss</td><td>█▅▃▃▂▂▂▁▁▁</td></tr></table><br/></div><div class=\"wandb-col\"><h3>Run summary:</h3><br/><table class=\"wandb\"><tr><td>epoch</td><td>9</td></tr><tr><td>training_accuracy</td><td>0.86874</td></tr><tr><td>training_loss</td><td>0.37057</td></tr><tr><td>validation_accuracy</td><td>0.86083</td></tr><tr><td>validation_loss</td><td>0.39785</td></tr></table><br/></div></div>"
            ]
          },
          "metadata": {}
        },
        {
          "output_type": "display_data",
          "data": {
            "text/plain": [
              "<IPython.core.display.HTML object>"
            ],
            "text/html": [
              " View run <strong style=\"color:#cdcd00\">different-sweep-1</strong> at: <a href='https://wandb.ai/cs22m025/assignment1/runs/g9qyras0' target=\"_blank\">https://wandb.ai/cs22m025/assignment1/runs/g9qyras0</a><br/>Synced 5 W&B file(s), 0 media file(s), 0 artifact file(s) and 0 other file(s)"
            ]
          },
          "metadata": {}
        },
        {
          "output_type": "display_data",
          "data": {
            "text/plain": [
              "<IPython.core.display.HTML object>"
            ],
            "text/html": [
              "Find logs at: <code>./wandb/run-20230311_062703-g9qyras0/logs</code>"
            ]
          },
          "metadata": {}
        },
        {
          "output_type": "stream",
          "name": "stderr",
          "text": [
            "\u001b[34m\u001b[1mwandb\u001b[0m: Agent Starting Run: o708by8t with config:\n",
            "\u001b[34m\u001b[1mwandb\u001b[0m: \tactivation_fn: tanh\n",
            "\u001b[34m\u001b[1mwandb\u001b[0m: \tbatch_size: 32\n",
            "\u001b[34m\u001b[1mwandb\u001b[0m: \tepoch: 10\n",
            "\u001b[34m\u001b[1mwandb\u001b[0m: \teta: 0.0001\n",
            "\u001b[34m\u001b[1mwandb\u001b[0m: \tinitialisation: xavier\n",
            "\u001b[34m\u001b[1mwandb\u001b[0m: \tn_layers: 3\n",
            "\u001b[34m\u001b[1mwandb\u001b[0m: \tn_neurons: 64\n",
            "\u001b[34m\u001b[1mwandb\u001b[0m: \toptimizer: momentum\n",
            "\u001b[34m\u001b[1mwandb\u001b[0m: \twgt_dec: 0.5\n",
            "\u001b[34m\u001b[1mwandb\u001b[0m: \u001b[33mWARNING\u001b[0m Ignored wandb.init() arg project when running a sweep.\n"
          ]
        },
        {
          "output_type": "display_data",
          "data": {
            "text/plain": [
              "<IPython.core.display.HTML object>"
            ],
            "text/html": [
              "Tracking run with wandb version 0.13.11"
            ]
          },
          "metadata": {}
        },
        {
          "output_type": "display_data",
          "data": {
            "text/plain": [
              "<IPython.core.display.HTML object>"
            ],
            "text/html": [
              "Run data is saved locally in <code>/content/wandb/run-20230311_062801-o708by8t</code>"
            ]
          },
          "metadata": {}
        },
        {
          "output_type": "display_data",
          "data": {
            "text/plain": [
              "<IPython.core.display.HTML object>"
            ],
            "text/html": [
              "Syncing run <strong><a href='https://wandb.ai/cs22m025/assignment1/runs/o708by8t' target=\"_blank\">trim-sweep-2</a></strong> to <a href='https://wandb.ai/cs22m025/assignment1' target=\"_blank\">Weights & Biases</a> (<a href='https://wandb.me/run' target=\"_blank\">docs</a>)<br/>Sweep page: <a href='https://wandb.ai/cs22m025/assignment1/sweeps/amd22x9x' target=\"_blank\">https://wandb.ai/cs22m025/assignment1/sweeps/amd22x9x</a>"
            ]
          },
          "metadata": {}
        },
        {
          "output_type": "display_data",
          "data": {
            "text/plain": [
              "<IPython.core.display.HTML object>"
            ],
            "text/html": [
              " View project at <a href='https://wandb.ai/cs22m025/assignment1' target=\"_blank\">https://wandb.ai/cs22m025/assignment1</a>"
            ]
          },
          "metadata": {}
        },
        {
          "output_type": "display_data",
          "data": {
            "text/plain": [
              "<IPython.core.display.HTML object>"
            ],
            "text/html": [
              " View sweep at <a href='https://wandb.ai/cs22m025/assignment1/sweeps/amd22x9x' target=\"_blank\">https://wandb.ai/cs22m025/assignment1/sweeps/amd22x9x</a>"
            ]
          },
          "metadata": {}
        },
        {
          "output_type": "display_data",
          "data": {
            "text/plain": [
              "<IPython.core.display.HTML object>"
            ],
            "text/html": [
              " View run at <a href='https://wandb.ai/cs22m025/assignment1/runs/o708by8t' target=\"_blank\">https://wandb.ai/cs22m025/assignment1/runs/o708by8t</a>"
            ]
          },
          "metadata": {}
        },
        {
          "output_type": "stream",
          "name": "stdout",
          "text": [
            "___________________________________________________________________\n",
            "Running Mometum Based Gradient Descent.....\n",
            "epoch        training loss         validation loss               \n",
            "0          0.9294727151521809      0.9461360755201231            \n",
            "1          0.6946799902712965      0.7081767321655655            \n",
            "2          0.6048033460068294      0.6179698994966953            \n",
            "3          0.5511518186815032      0.5643432940964644            \n",
            "4          0.5151413158920756      0.5283410328109773            \n",
            "5          0.4896797326686765      0.5032882222439777            \n",
            "6          0.4705200906220875      0.4847174887566566            \n",
            "7          0.4552074879519642      0.4700411172525848            \n",
            "8          0.4424507115391108      0.4579545083788656            \n",
            "9         0.43153304742234294      0.4477403674073988            \n",
            "------------------------------------------------------------------\n",
            "Accuracy on training data: 0.845462962962963\n",
            "Accuracy on validation data: 0.8426666666666667\n"
          ]
        },
        {
          "output_type": "display_data",
          "data": {
            "text/plain": [
              "<Figure size 432x288 with 1 Axes>"
            ],
            "image/png": "[encoded data removed]"
          },
          "metadata": {
            "needs_background": "light"
          }
        },
        {
          "output_type": "display_data",
          "data": {
            "text/plain": [
              "<IPython.core.display.HTML object>"
            ],
            "text/html": [
              "Waiting for W&B process to finish... <strong style=\"color:green\">(success).</strong>"
            ]
          },
          "metadata": {}
        },
        {
          "output_type": "display_data",
          "data": {
            "text/plain": [
              "VBox(children=(Label(value='0.001 MB of 0.001 MB uploaded (0.000 MB deduped)\\r'), FloatProgress(value=1.0, max…"
            ],
            "application/vnd.jupyter.widget-view+json": {
              "version_major": 2,
              "version_minor": 0,
              "model_id": "c115c60c4220452c926f59d7319e4d6a"
            }
          },
          "metadata": {}
        },
        {
          "output_type": "display_data",
          "data": {
            "text/plain": [
              "<IPython.core.display.HTML object>"
            ],
            "text/html": [
              "<style>\n",
              "    table.wandb td:nth-child(1) { padding: 0 10px; text-align: left ; width: auto;} td:nth-child(2) {text-align: left ; width: 100%}\n",
              "    .wandb-row { display: flex; flex-direction: row; flex-wrap: wrap; justify-content: flex-start; width: 100% }\n",
              "    .wandb-col { display: flex; flex-direction: column; flex-basis: 100%; flex: 1; padding: 10px; }\n",
              "    </style>\n",
              "<div class=\"wandb-row\"><div class=\"wandb-col\"><h3>Run history:</h3><br/><table class=\"wandb\"><tr><td>epoch</td><td>▁▂▃▃▄▅▆▆▇█</td></tr><tr><td>training_accuracy</td><td>▁▄▅▆▇▇▇███</td></tr><tr><td>training_loss</td><td>█▅▃▃▂▂▂▁▁▁</td></tr><tr><td>validation_accuracy</td><td>▁▄▅▆▆▇▇███</td></tr><tr><td>validation_loss</td><td>█▅▃▃▂▂▂▁▁▁</td></tr></table><br/></div><div class=\"wandb-col\"><h3>Run summary:</h3><br/><table class=\"wandb\"><tr><td>epoch</td><td>9</td></tr><tr><td>training_accuracy</td><td>0.84546</td></tr><tr><td>training_loss</td><td>0.43153</td></tr><tr><td>validation_accuracy</td><td>0.84267</td></tr><tr><td>validation_loss</td><td>0.44774</td></tr></table><br/></div></div>"
            ]
          },
          "metadata": {}
        },
        {
          "output_type": "display_data",
          "data": {
            "text/plain": [
              "<IPython.core.display.HTML object>"
            ],
            "text/html": [
              " View run <strong style=\"color:#cdcd00\">trim-sweep-2</strong> at: <a href='https://wandb.ai/cs22m025/assignment1/runs/o708by8t' target=\"_blank\">https://wandb.ai/cs22m025/assignment1/runs/o708by8t</a><br/>Synced 5 W&B file(s), 0 media file(s), 0 artifact file(s) and 0 other file(s)"
            ]
          },
          "metadata": {}
        },
        {
          "output_type": "display_data",
          "data": {
            "text/plain": [
              "<IPython.core.display.HTML object>"
            ],
            "text/html": [
              "Find logs at: <code>./wandb/run-20230311_062801-o708by8t/logs</code>"
            ]
          },
          "metadata": {}
        },
        {
          "output_type": "stream",
          "name": "stderr",
          "text": [
            "\u001b[34m\u001b[1mwandb\u001b[0m: Agent Starting Run: iag00lp7 with config:\n",
            "\u001b[34m\u001b[1mwandb\u001b[0m: \tactivation_fn: relu\n",
            "\u001b[34m\u001b[1mwandb\u001b[0m: \tbatch_size: 64\n",
            "\u001b[34m\u001b[1mwandb\u001b[0m: \tepoch: 10\n",
            "\u001b[34m\u001b[1mwandb\u001b[0m: \teta: 0.0001\n",
            "\u001b[34m\u001b[1mwandb\u001b[0m: \tinitialisation: xavier\n",
            "\u001b[34m\u001b[1mwandb\u001b[0m: \tn_layers: 4\n",
            "\u001b[34m\u001b[1mwandb\u001b[0m: \tn_neurons: 128\n",
            "\u001b[34m\u001b[1mwandb\u001b[0m: \toptimizer: adam\n",
            "\u001b[34m\u001b[1mwandb\u001b[0m: \twgt_dec: 0.0005\n",
            "\u001b[34m\u001b[1mwandb\u001b[0m: \u001b[33mWARNING\u001b[0m Ignored wandb.init() arg project when running a sweep.\n"
          ]
        },
        {
          "output_type": "display_data",
          "data": {
            "text/plain": [
              "<IPython.core.display.HTML object>"
            ],
            "text/html": [
              "Tracking run with wandb version 0.13.11"
            ]
          },
          "metadata": {}
        },
        {
          "output_type": "display_data",
          "data": {
            "text/plain": [
              "<IPython.core.display.HTML object>"
            ],
            "text/html": [
              "Run data is saved locally in <code>/content/wandb/run-20230311_062853-iag00lp7</code>"
            ]
          },
          "metadata": {}
        },
        {
          "output_type": "display_data",
          "data": {
            "text/plain": [
              "<IPython.core.display.HTML object>"
            ],
            "text/html": [
              "Syncing run <strong><a href='https://wandb.ai/cs22m025/assignment1/runs/iag00lp7' target=\"_blank\">eager-sweep-3</a></strong> to <a href='https://wandb.ai/cs22m025/assignment1' target=\"_blank\">Weights & Biases</a> (<a href='https://wandb.me/run' target=\"_blank\">docs</a>)<br/>Sweep page: <a href='https://wandb.ai/cs22m025/assignment1/sweeps/amd22x9x' target=\"_blank\">https://wandb.ai/cs22m025/assignment1/sweeps/amd22x9x</a>"
            ]
          },
          "metadata": {}
        },
        {
          "output_type": "display_data",
          "data": {
            "text/plain": [
              "<IPython.core.display.HTML object>"
            ],
            "text/html": [
              " View project at <a href='https://wandb.ai/cs22m025/assignment1' target=\"_blank\">https://wandb.ai/cs22m025/assignment1</a>"
            ]
          },
          "metadata": {}
        },
        {
          "output_type": "display_data",
          "data": {
            "text/plain": [
              "<IPython.core.display.HTML object>"
            ],
            "text/html": [
              " View sweep at <a href='https://wandb.ai/cs22m025/assignment1/sweeps/amd22x9x' target=\"_blank\">https://wandb.ai/cs22m025/assignment1/sweeps/amd22x9x</a>"
            ]
          },
          "metadata": {}
        },
        {
          "output_type": "display_data",
          "data": {
            "text/plain": [
              "<IPython.core.display.HTML object>"
            ],
            "text/html": [
              " View run at <a href='https://wandb.ai/cs22m025/assignment1/runs/iag00lp7' target=\"_blank\">https://wandb.ai/cs22m025/assignment1/runs/iag00lp7</a>"
            ]
          },
          "metadata": {}
        },
        {
          "output_type": "stream",
          "name": "stdout",
          "text": [
            "___________________________________________________________________\n",
            "Running Adam.....\n",
            "epoch        training loss         validation loss               \n",
            "1          0.5921859018026548      0.5965732798829988            \n",
            "2          0.5297118251750443      0.5352905280998476            \n",
            "3          0.500761363207582       0.5068068832102862            \n",
            "4         0.48215395121671606      0.48851809279796354           \n",
            "5          0.4685430898607625      0.475300354768152             \n",
            "6         0.45786162931475466      0.464895944805306             \n",
            "7          0.4489879322392568      0.45634565907862207           \n",
            "8         0.44129355518014657      0.4489850932022708            \n",
            "9         0.43447729447944605      0.44244360033647384           \n",
            "10         0.4283000968571024      0.43655900653765795           \n",
            "------------------------------------------------------------------\n",
            "Accuracy on training data: 0.8489444444444444\n",
            "Accuracy on validation data: 0.8446666666666667\n"
          ]
        },
        {
          "output_type": "display_data",
          "data": {
            "text/plain": [
              "<Figure size 432x288 with 1 Axes>"
            ],
            "image/png": "[encoded data removed]"
          },
          "metadata": {
            "needs_background": "light"
          }
        },
        {
          "output_type": "display_data",
          "data": {
            "text/plain": [
              "<IPython.core.display.HTML object>"
            ],
            "text/html": [
              "Waiting for W&B process to finish... <strong style=\"color:green\">(success).</strong>"
            ]
          },
          "metadata": {}
        },
        {
          "output_type": "display_data",
          "data": {
            "text/plain": [
              "<IPython.core.display.HTML object>"
            ],
            "text/html": [
              "<style>\n",
              "    table.wandb td:nth-child(1) { padding: 0 10px; text-align: left ; width: auto;} td:nth-child(2) {text-align: left ; width: 100%}\n",
              "    .wandb-row { display: flex; flex-direction: row; flex-wrap: wrap; justify-content: flex-start; width: 100% }\n",
              "    .wandb-col { display: flex; flex-direction: column; flex-basis: 100%; flex: 1; padding: 10px; }\n",
              "    </style>\n",
              "<div class=\"wandb-row\"><div class=\"wandb-col\"><h3>Run history:</h3><br/><table class=\"wandb\"><tr><td>epoch</td><td>▁▂▃▃▄▅▆▆▇█</td></tr><tr><td>training_accuracy</td><td>▁▄▅▆▆▇▇▇██</td></tr><tr><td>training_loss</td><td>█▅▄▃▃▂▂▂▁▁</td></tr><tr><td>validation_accuracy</td><td>▁▄▅▆▇▇▇███</td></tr><tr><td>validation_loss</td><td>█▅▄▃▃▂▂▂▁▁</td></tr></table><br/></div><div class=\"wandb-col\"><h3>Run summary:</h3><br/><table class=\"wandb\"><tr><td>epoch</td><td>10</td></tr><tr><td>training_accuracy</td><td>0.84894</td></tr><tr><td>training_loss</td><td>0.4283</td></tr><tr><td>validation_accuracy</td><td>0.84467</td></tr><tr><td>validation_loss</td><td>0.43656</td></tr></table><br/></div></div>"
            ]
          },
          "metadata": {}
        },
        {
          "output_type": "display_data",
          "data": {
            "text/plain": [
              "<IPython.core.display.HTML object>"
            ],
            "text/html": [
              " View run <strong style=\"color:#cdcd00\">eager-sweep-3</strong> at: <a href='https://wandb.ai/cs22m025/assignment1/runs/iag00lp7' target=\"_blank\">https://wandb.ai/cs22m025/assignment1/runs/iag00lp7</a><br/>Synced 5 W&B file(s), 0 media file(s), 0 artifact file(s) and 0 other file(s)"
            ]
          },
          "metadata": {}
        },
        {
          "output_type": "display_data",
          "data": {
            "text/plain": [
              "<IPython.core.display.HTML object>"
            ],
            "text/html": [
              "Find logs at: <code>./wandb/run-20230311_062853-iag00lp7/logs</code>"
            ]
          },
          "metadata": {}
        },
        {
          "output_type": "stream",
          "name": "stderr",
          "text": [
            "\u001b[34m\u001b[1mwandb\u001b[0m: Agent Starting Run: 34ivf99d with config:\n",
            "\u001b[34m\u001b[1mwandb\u001b[0m: \tactivation_fn: tanh\n",
            "\u001b[34m\u001b[1mwandb\u001b[0m: \tbatch_size: 64\n",
            "\u001b[34m\u001b[1mwandb\u001b[0m: \tepoch: 10\n",
            "\u001b[34m\u001b[1mwandb\u001b[0m: \teta: 0.001\n",
            "\u001b[34m\u001b[1mwandb\u001b[0m: \tinitialisation: xavier\n",
            "\u001b[34m\u001b[1mwandb\u001b[0m: \tn_layers: 4\n",
            "\u001b[34m\u001b[1mwandb\u001b[0m: \tn_neurons: 64\n",
            "\u001b[34m\u001b[1mwandb\u001b[0m: \toptimizer: nadam\n",
            "\u001b[34m\u001b[1mwandb\u001b[0m: \twgt_dec: 0\n",
            "\u001b[34m\u001b[1mwandb\u001b[0m: \u001b[33mWARNING\u001b[0m Ignored wandb.init() arg project when running a sweep.\n"
          ]
        },
        {
          "output_type": "display_data",
          "data": {
            "text/plain": [
              "<IPython.core.display.HTML object>"
            ],
            "text/html": [
              "Tracking run with wandb version 0.13.11"
            ]
          },
          "metadata": {}
        },
        {
          "output_type": "display_data",
          "data": {
            "text/plain": [
              "<IPython.core.display.HTML object>"
            ],
            "text/html": [
              "Run data is saved locally in <code>/content/wandb/run-20230311_063000-34ivf99d</code>"
            ]
          },
          "metadata": {}
        },
        {
          "output_type": "display_data",
          "data": {
            "text/plain": [
              "<IPython.core.display.HTML object>"
            ],
            "text/html": [
              "Syncing run <strong><a href='https://wandb.ai/cs22m025/assignment1/runs/34ivf99d' target=\"_blank\">vital-sweep-4</a></strong> to <a href='https://wandb.ai/cs22m025/assignment1' target=\"_blank\">Weights & Biases</a> (<a href='https://wandb.me/run' target=\"_blank\">docs</a>)<br/>Sweep page: <a href='https://wandb.ai/cs22m025/assignment1/sweeps/amd22x9x' target=\"_blank\">https://wandb.ai/cs22m025/assignment1/sweeps/amd22x9x</a>"
            ]
          },
          "metadata": {}
        },
        {
          "output_type": "display_data",
          "data": {
            "text/plain": [
              "<IPython.core.display.HTML object>"
            ],
            "text/html": [
              " View project at <a href='https://wandb.ai/cs22m025/assignment1' target=\"_blank\">https://wandb.ai/cs22m025/assignment1</a>"
            ]
          },
          "metadata": {}
        },
        {
          "output_type": "display_data",
          "data": {
            "text/plain": [
              "<IPython.core.display.HTML object>"
            ],
            "text/html": [
              " View sweep at <a href='https://wandb.ai/cs22m025/assignment1/sweeps/amd22x9x' target=\"_blank\">https://wandb.ai/cs22m025/assignment1/sweeps/amd22x9x</a>"
            ]
          },
          "metadata": {}
        },
        {
          "output_type": "display_data",
          "data": {
            "text/plain": [
              "<IPython.core.display.HTML object>"
            ],
            "text/html": [
              " View run at <a href='https://wandb.ai/cs22m025/assignment1/runs/34ivf99d' target=\"_blank\">https://wandb.ai/cs22m025/assignment1/runs/34ivf99d</a>"
            ]
          },
          "metadata": {}
        },
        {
          "output_type": "stream",
          "name": "stdout",
          "text": [
            "___________________________________________________________________\n",
            "Running Nadam.....\n",
            "epoch        training loss         validation loss               \n",
            "1          0.4314756922638294      0.43692129229854737           \n",
            "2          0.3947225031141614      0.40114483542381374           \n",
            "3          0.3766543057782959      0.38568396631168517           \n",
            "4          0.3638602085237023      0.3759595069683934            \n",
            "5         0.35374712652393603      0.36905695733094795           \n",
            "6          0.3453290391378071      0.36385757215296316           \n",
            "7          0.3380582920258707      0.35975125228620497           \n",
            "8          0.3315899180148368      0.3563630112207389            \n",
            "9         0.32570413390979425      0.3534586357652316            \n",
            "10         0.3202588404020703      0.3508892136418382            \n",
            "------------------------------------------------------------------\n",
            "Accuracy on training data: 0.8844444444444445\n",
            "Accuracy on validation data: 0.8721666666666666\n"
          ]
        },
        {
          "output_type": "display_data",
          "data": {
            "text/plain": [
              "<Figure size 432x288 with 1 Axes>"
            ],
            "image/png": "[encoded data removed]"
          },
          "metadata": {
            "needs_background": "light"
          }
        },
        {
          "output_type": "display_data",
          "data": {
            "text/plain": [
              "<IPython.core.display.HTML object>"
            ],
            "text/html": [
              "Waiting for W&B process to finish... <strong style=\"color:green\">(success).</strong>"
            ]
          },
          "metadata": {}
        },
        {
          "output_type": "display_data",
          "data": {
            "text/plain": [
              "VBox(children=(Label(value='0.001 MB of 0.001 MB uploaded (0.000 MB deduped)\\r'), FloatProgress(value=1.0, max…"
            ],
            "application/vnd.jupyter.widget-view+json": {
              "version_major": 2,
              "version_minor": 0,
              "model_id": "ba12d81e4b82416590024ff86c8039e4"
            }
          },
          "metadata": {}
        },
        {
          "output_type": "display_data",
          "data": {
            "text/plain": [
              "<IPython.core.display.HTML object>"
            ],
            "text/html": [
              "<style>\n",
              "    table.wandb td:nth-child(1) { padding: 0 10px; text-align: left ; width: auto;} td:nth-child(2) {text-align: left ; width: 100%}\n",
              "    .wandb-row { display: flex; flex-direction: row; flex-wrap: wrap; justify-content: flex-start; width: 100% }\n",
              "    .wandb-col { display: flex; flex-direction: column; flex-basis: 100%; flex: 1; padding: 10px; }\n",
              "    </style>\n",
              "<div class=\"wandb-row\"><div class=\"wandb-col\"><h3>Run history:</h3><br/><table class=\"wandb\"><tr><td>epoch</td><td>▁▂▃▃▄▅▆▆▇█</td></tr><tr><td>training_accuracy</td><td>▁▃▅▅▆▆▇▇██</td></tr><tr><td>training_loss</td><td>█▆▅▄▃▃▂▂▁▁</td></tr><tr><td>validation_accuracy</td><td>▁▃▅▆▇▇████</td></tr><tr><td>validation_loss</td><td>█▅▄▃▂▂▂▁▁▁</td></tr></table><br/></div><div class=\"wandb-col\"><h3>Run summary:</h3><br/><table class=\"wandb\"><tr><td>epoch</td><td>10</td></tr><tr><td>training_accuracy</td><td>0.88444</td></tr><tr><td>training_loss</td><td>0.32026</td></tr><tr><td>validation_accuracy</td><td>0.87217</td></tr><tr><td>validation_loss</td><td>0.35089</td></tr></table><br/></div></div>"
            ]
          },
          "metadata": {}
        },
        {
          "output_type": "display_data",
          "data": {
            "text/plain": [
              "<IPython.core.display.HTML object>"
            ],
            "text/html": [
              " View run <strong style=\"color:#cdcd00\">vital-sweep-4</strong> at: <a href='https://wandb.ai/cs22m025/assignment1/runs/34ivf99d' target=\"_blank\">https://wandb.ai/cs22m025/assignment1/runs/34ivf99d</a><br/>Synced 5 W&B file(s), 0 media file(s), 0 artifact file(s) and 0 other file(s)"
            ]
          },
          "metadata": {}
        },
        {
          "output_type": "display_data",
          "data": {
            "text/plain": [
              "<IPython.core.display.HTML object>"
            ],
            "text/html": [
              "Find logs at: <code>./wandb/run-20230311_063000-34ivf99d/logs</code>"
            ]
          },
          "metadata": {}
        },
        {
          "output_type": "stream",
          "name": "stderr",
          "text": [
            "\u001b[34m\u001b[1mwandb\u001b[0m: Agent Starting Run: 4ls97eim with config:\n",
            "\u001b[34m\u001b[1mwandb\u001b[0m: \tactivation_fn: sigmoid\n",
            "\u001b[34m\u001b[1mwandb\u001b[0m: \tbatch_size: 16\n",
            "\u001b[34m\u001b[1mwandb\u001b[0m: \tepoch: 5\n",
            "\u001b[34m\u001b[1mwandb\u001b[0m: \teta: 0.001\n",
            "\u001b[34m\u001b[1mwandb\u001b[0m: \tinitialisation: xavier\n",
            "\u001b[34m\u001b[1mwandb\u001b[0m: \tn_layers: 5\n",
            "\u001b[34m\u001b[1mwandb\u001b[0m: \tn_neurons: 64\n",
            "\u001b[34m\u001b[1mwandb\u001b[0m: \toptimizer: adam\n",
            "\u001b[34m\u001b[1mwandb\u001b[0m: \twgt_dec: 0.5\n",
            "\u001b[34m\u001b[1mwandb\u001b[0m: \u001b[33mWARNING\u001b[0m Ignored wandb.init() arg project when running a sweep.\n"
          ]
        },
        {
          "output_type": "display_data",
          "data": {
            "text/plain": [
              "<IPython.core.display.HTML object>"
            ],
            "text/html": [
              "Tracking run with wandb version 0.13.11"
            ]
          },
          "metadata": {}
        },
        {
          "output_type": "display_data",
          "data": {
            "text/plain": [
              "<IPython.core.display.HTML object>"
            ],
            "text/html": [
              "Run data is saved locally in <code>/content/wandb/run-20230311_063102-4ls97eim</code>"
            ]
          },
          "metadata": {}
        },
        {
          "output_type": "display_data",
          "data": {
            "text/plain": [
              "<IPython.core.display.HTML object>"
            ],
            "text/html": [
              "Syncing run <strong><a href='https://wandb.ai/cs22m025/assignment1/runs/4ls97eim' target=\"_blank\">eager-sweep-5</a></strong> to <a href='https://wandb.ai/cs22m025/assignment1' target=\"_blank\">Weights & Biases</a> (<a href='https://wandb.me/run' target=\"_blank\">docs</a>)<br/>Sweep page: <a href='https://wandb.ai/cs22m025/assignment1/sweeps/amd22x9x' target=\"_blank\">https://wandb.ai/cs22m025/assignment1/sweeps/amd22x9x</a>"
            ]
          },
          "metadata": {}
        },
        {
          "output_type": "display_data",
          "data": {
            "text/plain": [
              "<IPython.core.display.HTML object>"
            ],
            "text/html": [
              " View project at <a href='https://wandb.ai/cs22m025/assignment1' target=\"_blank\">https://wandb.ai/cs22m025/assignment1</a>"
            ]
          },
          "metadata": {}
        },
        {
          "output_type": "display_data",
          "data": {
            "text/plain": [
              "<IPython.core.display.HTML object>"
            ],
            "text/html": [
              " View sweep at <a href='https://wandb.ai/cs22m025/assignment1/sweeps/amd22x9x' target=\"_blank\">https://wandb.ai/cs22m025/assignment1/sweeps/amd22x9x</a>"
            ]
          },
          "metadata": {}
        },
        {
          "output_type": "display_data",
          "data": {
            "text/plain": [
              "<IPython.core.display.HTML object>"
            ],
            "text/html": [
              " View run at <a href='https://wandb.ai/cs22m025/assignment1/runs/4ls97eim' target=\"_blank\">https://wandb.ai/cs22m025/assignment1/runs/4ls97eim</a>"
            ]
          },
          "metadata": {}
        },
        {
          "output_type": "stream",
          "name": "stdout",
          "text": [
            "___________________________________________________________________\n",
            "Running Adam.....\n",
            "epoch        training loss         validation loss               \n",
            "1          2.3045378400248473      2.305124379954639             \n",
            "2          2.303811549220185       2.303916627767817             \n",
            "3          2.3035558482651397      2.3034607225235613            \n",
            "4          2.303422180455267       2.3032210545098155            \n",
            "5          2.3033405746475775      2.303075802597777             \n",
            "------------------------------------------------------------------\n",
            "Accuracy on training data: 0.09964814814814815\n",
            "Accuracy on validation data: 0.10316666666666667\n"
          ]
        },
        {
          "output_type": "display_data",
          "data": {
            "text/plain": [
              "<Figure size 432x288 with 1 Axes>"
            ],
            "image/png": "[encoded data removed]"
          },
          "metadata": {
            "needs_background": "light"
          }
        },
        {
          "output_type": "display_data",
          "data": {
            "text/plain": [
              "<IPython.core.display.HTML object>"
            ],
            "text/html": [
              "Waiting for W&B process to finish... <strong style=\"color:green\">(success).</strong>"
            ]
          },
          "metadata": {}
        },
        {
          "output_type": "display_data",
          "data": {
            "text/plain": [
              "VBox(children=(Label(value='0.001 MB of 0.001 MB uploaded (0.000 MB deduped)\\r'), FloatProgress(value=1.0, max…"
            ],
            "application/vnd.jupyter.widget-view+json": {
              "version_major": 2,
              "version_minor": 0,
              "model_id": "8d15e81f31ec409ea292b9a0f0cbb8de"
            }
          },
          "metadata": {}
        },
        {
          "output_type": "display_data",
          "data": {
            "text/plain": [
              "<IPython.core.display.HTML object>"
            ],
            "text/html": [
              "<style>\n",
              "    table.wandb td:nth-child(1) { padding: 0 10px; text-align: left ; width: auto;} td:nth-child(2) {text-align: left ; width: 100%}\n",
              "    .wandb-row { display: flex; flex-direction: row; flex-wrap: wrap; justify-content: flex-start; width: 100% }\n",
              "    .wandb-col { display: flex; flex-direction: column; flex-basis: 100%; flex: 1; padding: 10px; }\n",
              "    </style>\n",
              "<div class=\"wandb-row\"><div class=\"wandb-col\"><h3>Run history:</h3><br/><table class=\"wandb\"><tr><td>epoch</td><td>▁▃▅▆█</td></tr><tr><td>training_accuracy</td><td>██▁▁▁</td></tr><tr><td>training_loss</td><td>█▄▂▁▁</td></tr><tr><td>validation_accuracy</td><td>▁▁███</td></tr><tr><td>validation_loss</td><td>█▄▂▁▁</td></tr></table><br/></div><div class=\"wandb-col\"><h3>Run summary:</h3><br/><table class=\"wandb\"><tr><td>epoch</td><td>5</td></tr><tr><td>training_accuracy</td><td>0.09965</td></tr><tr><td>training_loss</td><td>2.30334</td></tr><tr><td>validation_accuracy</td><td>0.10317</td></tr><tr><td>validation_loss</td><td>2.30308</td></tr></table><br/></div></div>"
            ]
          },
          "metadata": {}
        },
        {
          "output_type": "display_data",
          "data": {
            "text/plain": [
              "<IPython.core.display.HTML object>"
            ],
            "text/html": [
              " View run <strong style=\"color:#cdcd00\">eager-sweep-5</strong> at: <a href='https://wandb.ai/cs22m025/assignment1/runs/4ls97eim' target=\"_blank\">https://wandb.ai/cs22m025/assignment1/runs/4ls97eim</a><br/>Synced 5 W&B file(s), 0 media file(s), 0 artifact file(s) and 0 other file(s)"
            ]
          },
          "metadata": {}
        },
        {
          "output_type": "display_data",
          "data": {
            "text/plain": [
              "<IPython.core.display.HTML object>"
            ],
            "text/html": [
              "Find logs at: <code>./wandb/run-20230311_063102-4ls97eim/logs</code>"
            ]
          },
          "metadata": {}
        }
      ]
    },
    {
      "cell_type": "code",
      "source": [
        "sweep_configuration = {\n",
        "    'method': 'random',\n",
        "    'metric': {'goal': 'maximize', 'name': 'Accuracy'},\n",
        "    'parameters': \n",
        "    {\n",
        "        'Epochs': {'values': [5,10]},\n",
        "        'HiddenLayer': {'values': [3,4,5]},\n",
        "        'Size': {'values': [32,64,128]},\n",
        "        'LearningRate': {'values': [1e-3,1e-4]},\n",
        "        'BatchSize': {'values': [16,32,64]},\n",
        "        'WeightInitialisation': {'values': [\"random\",\"xavier\"]},\n",
        "        'ActivationFunctions': {'values': [\"sigmoid\",\"tanh\",\"ReLU\"]},\n",
        "        'optimizer': {'values': [\"sgd\",\"momentum\",\"nesterov\",\"rmsprop\",\"adam\",\"nadam\"]}\n",
        "        \n",
        "     }\n",
        "}\n",
        "\n",
        "sweep_id = wandb.sweep(sweep=sweep_configuration, project=\"assignment1\")"
      ],
      "metadata": {
        "colab": {
          "base_uri": "https://localhost:8080/",
          "height": 130
        },
        "id": "zYZz95JPwGuE",
        "outputId": "2f437e74-3695-42f7-8b09-b63c772f9148"
      },
      "execution_count": null,
      "outputs": [
        {
          "output_type": "error",
          "ename": "SyntaxError",
          "evalue": "ignored",
          "traceback": [
            "\u001b[0;36m  File \u001b[0;32m\"<ipython-input-20-9ecbe08b316a>\"\u001b[0;36m, line \u001b[0;32m1\u001b[0m\n\u001b[0;31m    sweep_configuration =\u001b[0m\n\u001b[0m                         ^\u001b[0m\n\u001b[0;31mSyntaxError\u001b[0m\u001b[0;31m:\u001b[0m invalid syntax\n"
          ]
        }
      ]
    },
    {
      "cell_type": "code",
      "source": [
        "\n",
        "from sklearn.metrics import confusion_matrix\n",
        "\n",
        "def log_confusion_matrix(y_true, y_pred, class_names, run):\n",
        "    \n",
        "    cm = confusion_matrix(y_true, y_pred)\n",
        "\n",
        "    # Normalize confusion matrix\n",
        "    cm = cm.astype('float') / cm.sum(axis=1)[:, np.newaxis]\n",
        "\n",
        "    # Plot confusion matrix as image\n",
        "    plt.figure(figsize=(6, 6))\n",
        "    plt.imshow(cm, interpolation='nearest', cmap=plt.cm.Blues)\n",
        "    plt.title(\"Confusion matrix\")\n",
        "    plt.colorbar()\n",
        "    tick_marks = np.arange(len(class_names))\n",
        "    plt.xticks(tick_marks, class_names, rotation=45)\n",
        "    plt.yticks(tick_marks, class_names)\n",
        "    plt.tight_layout()\n",
        "    plt.ylabel('True label')\n",
        "    plt.xlabel('Predicted label')\n",
        "    wandb.log({ \"confusion_matrix\": wandb.Image(plt) }, run=run)\n",
        "    plt.close()\n"
      ],
      "metadata": {
        "id": "U2CRKwvlMubY"
      },
      "execution_count": null,
      "outputs": []
    },
    {
      "cell_type": "code",
      "source": [
        "X_test.shape"
      ],
      "metadata": {
        "colab": {
          "base_uri": "https://localhost:8080/"
        },
        "id": "7Hmt9nTk6HX3",
        "outputId": "654f01c5-50ad-4078-e3f5-cb8387f45dd8"
      },
      "execution_count": 22,
      "outputs": [
        {
          "output_type": "execute_result",
          "data": {
            "text/plain": [
              "(10000, 28, 28)"
            ]
          },
          "metadata": {},
          "execution_count": 22
        }
      ]
    },
    {
      "cell_type": "code",
      "source": [
        "def predict_test(X_test,Y_test,W,b,n_neurons,n_layers,activation_function,n_outputneurons):\n",
        "  test_f=[X_test[i].flatten() for i in range(X_test.shape[0])]\n",
        "  test_f=np.transpose(test_f)\n",
        "  yt_pred=forwardPropagation(W,b,n_neurons,n_layers,activation_function,test_f,n_outputneurons)\n",
        "  test_acc=calc_accuracy(yt_pred,Y_test)\n",
        "  return test_acc\n",
        "\n",
        "print(predict_test(X_test,Y_test,W,b,32,3,\"tanh\",10))\n"
      ],
      "metadata": {
        "colab": {
          "base_uri": "https://localhost:8080/"
        },
        "id": "PCOCZnlR3Kdq",
        "outputId": "2f842d6e-e6f1-455e-e5b3-6f9d83ffb7bc"
      },
      "execution_count": 47,
      "outputs": [
        {
          "output_type": "stream",
          "name": "stdout",
          "text": [
            "0.7497\n"
          ]
        }
      ]
    }
  ],
  "metadata": {
    "colab": {
      "provenance": []
    },
    "kernelspec": {
      "display_name": "Python 3",
      "name": "python3"
    },
    "language_info": {
      "name": "python"
    },
    "widgets": {
      "application/vnd.jupyter.widget-state+json": {
        "8583e75214624dab8fceb6ab6c9d10b0": {
          "model_module": "@jupyter-widgets/controls",
          "model_name": "VBoxModel",
          "model_module_version": "1.5.0",
          "state": {
            "_dom_classes": [],
            "_model_module": "@jupyter-widgets/controls",
            "_model_module_version": "1.5.0",
            "_model_name": "VBoxModel",
            "_view_count": null,
            "_view_module": "@jupyter-widgets/controls",
            "_view_module_version": "1.5.0",
            "_view_name": "VBoxView",
            "box_style": "",
            "children": [
              "IPY_MODEL_5e3fe9ac293e422d93a325f76e920da7",
              "IPY_MODEL_018c13bfac4c45ab947d503346fb30e4"
            ],
            "layout": "IPY_MODEL_cb60395fb6b946be9acac5a73104ad75"
          }
        },
        "5e3fe9ac293e422d93a325f76e920da7": {
          "model_module": "@jupyter-widgets/controls",
          "model_name": "LabelModel",
          "model_module_version": "1.5.0",
          "state": {
            "_dom_classes": [],
            "_model_module": "@jupyter-widgets/controls",
            "_model_module_version": "1.5.0",
            "_model_name": "LabelModel",
            "_view_count": null,
            "_view_module": "@jupyter-widgets/controls",
            "_view_module_version": "1.5.0",
            "_view_name": "LabelView",
            "description": "",
            "description_tooltip": null,
            "layout": "IPY_MODEL_240e5f7873b84bb494c77189375c9a64",
            "placeholder": "​",
            "style": "IPY_MODEL_05a3d9f7029e4894b2ef70aefe31dec0",
            "value": "0.001 MB of 0.001 MB uploaded (0.000 MB deduped)\r"
          }
        },
        "018c13bfac4c45ab947d503346fb30e4": {
          "model_module": "@jupyter-widgets/controls",
          "model_name": "FloatProgressModel",
          "model_module_version": "1.5.0",
          "state": {
            "_dom_classes": [],
            "_model_module": "@jupyter-widgets/controls",
            "_model_module_version": "1.5.0",
            "_model_name": "FloatProgressModel",
            "_view_count": null,
            "_view_module": "@jupyter-widgets/controls",
            "_view_module_version": "1.5.0",
            "_view_name": "ProgressView",
            "bar_style": "",
            "description": "",
            "description_tooltip": null,
            "layout": "IPY_MODEL_0d01b37cec2d495cafa9f00336c2b324",
            "max": 1,
            "min": 0,
            "orientation": "horizontal",
            "style": "IPY_MODEL_224093176267444ba710686dffe83f11",
            "value": 1
          }
        },
        "cb60395fb6b946be9acac5a73104ad75": {
          "model_module": "@jupyter-widgets/base",
          "model_name": "LayoutModel",
          "model_module_version": "1.2.0",
          "state": {
            "_model_module": "@jupyter-widgets/base",
            "_model_module_version": "1.2.0",
            "_model_name": "LayoutModel",
            "_view_count": null,
            "_view_module": "@jupyter-widgets/base",
            "_view_module_version": "1.2.0",
            "_view_name": "LayoutView",
            "align_content": null,
            "align_items": null,
            "align_self": null,
            "border": null,
            "bottom": null,
            "display": null,
            "flex": null,
            "flex_flow": null,
            "grid_area": null,
            "grid_auto_columns": null,
            "grid_auto_flow": null,
            "grid_auto_rows": null,
            "grid_column": null,
            "grid_gap": null,
            "grid_row": null,
            "grid_template_areas": null,
            "grid_template_columns": null,
            "grid_template_rows": null,
            "height": null,
            "justify_content": null,
            "justify_items": null,
            "left": null,
            "margin": null,
            "max_height": null,
            "max_width": null,
            "min_height": null,
            "min_width": null,
            "object_fit": null,
            "object_position": null,
            "order": null,
            "overflow": null,
            "overflow_x": null,
            "overflow_y": null,
            "padding": null,
            "right": null,
            "top": null,
            "visibility": null,
            "width": null
          }
        },
        "240e5f7873b84bb494c77189375c9a64": {
          "model_module": "@jupyter-widgets/base",
          "model_name": "LayoutModel",
          "model_module_version": "1.2.0",
          "state": {
            "_model_module": "@jupyter-widgets/base",
            "_model_module_version": "1.2.0",
            "_model_name": "LayoutModel",
            "_view_count": null,
            "_view_module": "@jupyter-widgets/base",
            "_view_module_version": "1.2.0",
            "_view_name": "LayoutView",
            "align_content": null,
            "align_items": null,
            "align_self": null,
            "border": null,
            "bottom": null,
            "display": null,
            "flex": null,
            "flex_flow": null,
            "grid_area": null,
            "grid_auto_columns": null,
            "grid_auto_flow": null,
            "grid_auto_rows": null,
            "grid_column": null,
            "grid_gap": null,
            "grid_row": null,
            "grid_template_areas": null,
            "grid_template_columns": null,
            "grid_template_rows": null,
            "height": null,
            "justify_content": null,
            "justify_items": null,
            "left": null,
            "margin": null,
            "max_height": null,
            "max_width": null,
            "min_height": null,
            "min_width": null,
            "object_fit": null,
            "object_position": null,
            "order": null,
            "overflow": null,
            "overflow_x": null,
            "overflow_y": null,
            "padding": null,
            "right": null,
            "top": null,
            "visibility": null,
            "width": null
          }
        },
        "05a3d9f7029e4894b2ef70aefe31dec0": {
          "model_module": "@jupyter-widgets/controls",
          "model_name": "DescriptionStyleModel",
          "model_module_version": "1.5.0",
          "state": {
            "_model_module": "@jupyter-widgets/controls",
            "_model_module_version": "1.5.0",
            "_model_name": "DescriptionStyleModel",
            "_view_count": null,
            "_view_module": "@jupyter-widgets/base",
            "_view_module_version": "1.2.0",
            "_view_name": "StyleView",
            "description_width": ""
          }
        },
        "0d01b37cec2d495cafa9f00336c2b324": {
          "model_module": "@jupyter-widgets/base",
          "model_name": "LayoutModel",
          "model_module_version": "1.2.0",
          "state": {
            "_model_module": "@jupyter-widgets/base",
            "_model_module_version": "1.2.0",
            "_model_name": "LayoutModel",
            "_view_count": null,
            "_view_module": "@jupyter-widgets/base",
            "_view_module_version": "1.2.0",
            "_view_name": "LayoutView",
            "align_content": null,
            "align_items": null,
            "align_self": null,
            "border": null,
            "bottom": null,
            "display": null,
            "flex": null,
            "flex_flow": null,
            "grid_area": null,
            "grid_auto_columns": null,
            "grid_auto_flow": null,
            "grid_auto_rows": null,
            "grid_column": null,
            "grid_gap": null,
            "grid_row": null,
            "grid_template_areas": null,
            "grid_template_columns": null,
            "grid_template_rows": null,
            "height": null,
            "justify_content": null,
            "justify_items": null,
            "left": null,
            "margin": null,
            "max_height": null,
            "max_width": null,
            "min_height": null,
            "min_width": null,
            "object_fit": null,
            "object_position": null,
            "order": null,
            "overflow": null,
            "overflow_x": null,
            "overflow_y": null,
            "padding": null,
            "right": null,
            "top": null,
            "visibility": null,
            "width": null
          }
        },
        "224093176267444ba710686dffe83f11": {
          "model_module": "@jupyter-widgets/controls",
          "model_name": "ProgressStyleModel",
          "model_module_version": "1.5.0",
          "state": {
            "_model_module": "@jupyter-widgets/controls",
            "_model_module_version": "1.5.0",
            "_model_name": "ProgressStyleModel",
            "_view_count": null,
            "_view_module": "@jupyter-widgets/base",
            "_view_module_version": "1.2.0",
            "_view_name": "StyleView",
            "bar_color": null,
            "description_width": ""
          }
        },
        "c115c60c4220452c926f59d7319e4d6a": {
          "model_module": "@jupyter-widgets/controls",
          "model_name": "VBoxModel",
          "model_module_version": "1.5.0",
          "state": {
            "_dom_classes": [],
            "_model_module": "@jupyter-widgets/controls",
            "_model_module_version": "1.5.0",
            "_model_name": "VBoxModel",
            "_view_count": null,
            "_view_module": "@jupyter-widgets/controls",
            "_view_module_version": "1.5.0",
            "_view_name": "VBoxView",
            "box_style": "",
            "children": [
              "IPY_MODEL_85ad521ecf16411f8b415450a509e988",
              "IPY_MODEL_5391d2af3dfe4708985d092b0560c6fc"
            ],
            "layout": "IPY_MODEL_eee734b8d2ac4b7e9552086d392a0820"
          }
        },
        "85ad521ecf16411f8b415450a509e988": {
          "model_module": "@jupyter-widgets/controls",
          "model_name": "LabelModel",
          "model_module_version": "1.5.0",
          "state": {
            "_dom_classes": [],
            "_model_module": "@jupyter-widgets/controls",
            "_model_module_version": "1.5.0",
            "_model_name": "LabelModel",
            "_view_count": null,
            "_view_module": "@jupyter-widgets/controls",
            "_view_module_version": "1.5.0",
            "_view_name": "LabelView",
            "description": "",
            "description_tooltip": null,
            "layout": "IPY_MODEL_e70f47afe87f4bd6ad45b40868cfb253",
            "placeholder": "​",
            "style": "IPY_MODEL_a9fb6fbd246a48ea9d8eafbbd4c61623",
            "value": "0.001 MB of 0.009 MB uploaded (0.000 MB deduped)\r"
          }
        },
        "5391d2af3dfe4708985d092b0560c6fc": {
          "model_module": "@jupyter-widgets/controls",
          "model_name": "FloatProgressModel",
          "model_module_version": "1.5.0",
          "state": {
            "_dom_classes": [],
            "_model_module": "@jupyter-widgets/controls",
            "_model_module_version": "1.5.0",
            "_model_name": "FloatProgressModel",
            "_view_count": null,
            "_view_module": "@jupyter-widgets/controls",
            "_view_module_version": "1.5.0",
            "_view_name": "ProgressView",
            "bar_style": "",
            "description": "",
            "description_tooltip": null,
            "layout": "IPY_MODEL_2391a64b2a714d49a6fa5ff6bf984d23",
            "max": 1,
            "min": 0,
            "orientation": "horizontal",
            "style": "IPY_MODEL_31289434705247edbf6fb5fc843ee274",
            "value": 0.07025213501423343
          }
        },
        "eee734b8d2ac4b7e9552086d392a0820": {
          "model_module": "@jupyter-widgets/base",
          "model_name": "LayoutModel",
          "model_module_version": "1.2.0",
          "state": {
            "_model_module": "@jupyter-widgets/base",
            "_model_module_version": "1.2.0",
            "_model_name": "LayoutModel",
            "_view_count": null,
            "_view_module": "@jupyter-widgets/base",
            "_view_module_version": "1.2.0",
            "_view_name": "LayoutView",
            "align_content": null,
            "align_items": null,
            "align_self": null,
            "border": null,
            "bottom": null,
            "display": null,
            "flex": null,
            "flex_flow": null,
            "grid_area": null,
            "grid_auto_columns": null,
            "grid_auto_flow": null,
            "grid_auto_rows": null,
            "grid_column": null,
            "grid_gap": null,
            "grid_row": null,
            "grid_template_areas": null,
            "grid_template_columns": null,
            "grid_template_rows": null,
            "height": null,
            "justify_content": null,
            "justify_items": null,
            "left": null,
            "margin": null,
            "max_height": null,
            "max_width": null,
            "min_height": null,
            "min_width": null,
            "object_fit": null,
            "object_position": null,
            "order": null,
            "overflow": null,
            "overflow_x": null,
            "overflow_y": null,
            "padding": null,
            "right": null,
            "top": null,
            "visibility": null,
            "width": null
          }
        },
        "e70f47afe87f4bd6ad45b40868cfb253": {
          "model_module": "@jupyter-widgets/base",
          "model_name": "LayoutModel",
          "model_module_version": "1.2.0",
          "state": {
            "_model_module": "@jupyter-widgets/base",
            "_model_module_version": "1.2.0",
            "_model_name": "LayoutModel",
            "_view_count": null,
            "_view_module": "@jupyter-widgets/base",
            "_view_module_version": "1.2.0",
            "_view_name": "LayoutView",
            "align_content": null,
            "align_items": null,
            "align_self": null,
            "border": null,
            "bottom": null,
            "display": null,
            "flex": null,
            "flex_flow": null,
            "grid_area": null,
            "grid_auto_columns": null,
            "grid_auto_flow": null,
            "grid_auto_rows": null,
            "grid_column": null,
            "grid_gap": null,
            "grid_row": null,
            "grid_template_areas": null,
            "grid_template_columns": null,
            "grid_template_rows": null,
            "height": null,
            "justify_content": null,
            "justify_items": null,
            "left": null,
            "margin": null,
            "max_height": null,
            "max_width": null,
            "min_height": null,
            "min_width": null,
            "object_fit": null,
            "object_position": null,
            "order": null,
            "overflow": null,
            "overflow_x": null,
            "overflow_y": null,
            "padding": null,
            "right": null,
            "top": null,
            "visibility": null,
            "width": null
          }
        },
        "a9fb6fbd246a48ea9d8eafbbd4c61623": {
          "model_module": "@jupyter-widgets/controls",
          "model_name": "DescriptionStyleModel",
          "model_module_version": "1.5.0",
          "state": {
            "_model_module": "@jupyter-widgets/controls",
            "_model_module_version": "1.5.0",
            "_model_name": "DescriptionStyleModel",
            "_view_count": null,
            "_view_module": "@jupyter-widgets/base",
            "_view_module_version": "1.2.0",
            "_view_name": "StyleView",
            "description_width": ""
          }
        },
        "2391a64b2a714d49a6fa5ff6bf984d23": {
          "model_module": "@jupyter-widgets/base",
          "model_name": "LayoutModel",
          "model_module_version": "1.2.0",
          "state": {
            "_model_module": "@jupyter-widgets/base",
            "_model_module_version": "1.2.0",
            "_model_name": "LayoutModel",
            "_view_count": null,
            "_view_module": "@jupyter-widgets/base",
            "_view_module_version": "1.2.0",
            "_view_name": "LayoutView",
            "align_content": null,
            "align_items": null,
            "align_self": null,
            "border": null,
            "bottom": null,
            "display": null,
            "flex": null,
            "flex_flow": null,
            "grid_area": null,
            "grid_auto_columns": null,
            "grid_auto_flow": null,
            "grid_auto_rows": null,
            "grid_column": null,
            "grid_gap": null,
            "grid_row": null,
            "grid_template_areas": null,
            "grid_template_columns": null,
            "grid_template_rows": null,
            "height": null,
            "justify_content": null,
            "justify_items": null,
            "left": null,
            "margin": null,
            "max_height": null,
            "max_width": null,
            "min_height": null,
            "min_width": null,
            "object_fit": null,
            "object_position": null,
            "order": null,
            "overflow": null,
            "overflow_x": null,
            "overflow_y": null,
            "padding": null,
            "right": null,
            "top": null,
            "visibility": null,
            "width": null
          }
        },
        "31289434705247edbf6fb5fc843ee274": {
          "model_module": "@jupyter-widgets/controls",
          "model_name": "ProgressStyleModel",
          "model_module_version": "1.5.0",
          "state": {
            "_model_module": "@jupyter-widgets/controls",
            "_model_module_version": "1.5.0",
            "_model_name": "ProgressStyleModel",
            "_view_count": null,
            "_view_module": "@jupyter-widgets/base",
            "_view_module_version": "1.2.0",
            "_view_name": "StyleView",
            "bar_color": null,
            "description_width": ""
          }
        },
        "ba12d81e4b82416590024ff86c8039e4": {
          "model_module": "@jupyter-widgets/controls",
          "model_name": "VBoxModel",
          "model_module_version": "1.5.0",
          "state": {
            "_dom_classes": [],
            "_model_module": "@jupyter-widgets/controls",
            "_model_module_version": "1.5.0",
            "_model_name": "VBoxModel",
            "_view_count": null,
            "_view_module": "@jupyter-widgets/controls",
            "_view_module_version": "1.5.0",
            "_view_name": "VBoxView",
            "box_style": "",
            "children": [
              "IPY_MODEL_6d84504497914a70b12f5b45af1c6f69",
              "IPY_MODEL_56b631ac8bf148b0bac7951693b1869a"
            ],
            "layout": "IPY_MODEL_99e2a642505146ec80743a47fa2b107b"
          }
        },
        "6d84504497914a70b12f5b45af1c6f69": {
          "model_module": "@jupyter-widgets/controls",
          "model_name": "LabelModel",
          "model_module_version": "1.5.0",
          "state": {
            "_dom_classes": [],
            "_model_module": "@jupyter-widgets/controls",
            "_model_module_version": "1.5.0",
            "_model_name": "LabelModel",
            "_view_count": null,
            "_view_module": "@jupyter-widgets/controls",
            "_view_module_version": "1.5.0",
            "_view_name": "LabelView",
            "description": "",
            "description_tooltip": null,
            "layout": "IPY_MODEL_ac27d49e6ec345bbad8ea0eabec7ca17",
            "placeholder": "​",
            "style": "IPY_MODEL_2fd1b483236f4834937735b6ab94eb40",
            "value": "0.001 MB of 0.009 MB uploaded (0.000 MB deduped)\r"
          }
        },
        "56b631ac8bf148b0bac7951693b1869a": {
          "model_module": "@jupyter-widgets/controls",
          "model_name": "FloatProgressModel",
          "model_module_version": "1.5.0",
          "state": {
            "_dom_classes": [],
            "_model_module": "@jupyter-widgets/controls",
            "_model_module_version": "1.5.0",
            "_model_name": "FloatProgressModel",
            "_view_count": null,
            "_view_module": "@jupyter-widgets/controls",
            "_view_module_version": "1.5.0",
            "_view_name": "ProgressView",
            "bar_style": "",
            "description": "",
            "description_tooltip": null,
            "layout": "IPY_MODEL_e352a1ae3b8741168a573af0de6956d6",
            "max": 1,
            "min": 0,
            "orientation": "horizontal",
            "style": "IPY_MODEL_089bc19de7154a25ade7b0d84e1055d3",
            "value": 0.0704239706481859
          }
        },
        "99e2a642505146ec80743a47fa2b107b": {
          "model_module": "@jupyter-widgets/base",
          "model_name": "LayoutModel",
          "model_module_version": "1.2.0",
          "state": {
            "_model_module": "@jupyter-widgets/base",
            "_model_module_version": "1.2.0",
            "_model_name": "LayoutModel",
            "_view_count": null,
            "_view_module": "@jupyter-widgets/base",
            "_view_module_version": "1.2.0",
            "_view_name": "LayoutView",
            "align_content": null,
            "align_items": null,
            "align_self": null,
            "border": null,
            "bottom": null,
            "display": null,
            "flex": null,
            "flex_flow": null,
            "grid_area": null,
            "grid_auto_columns": null,
            "grid_auto_flow": null,
            "grid_auto_rows": null,
            "grid_column": null,
            "grid_gap": null,
            "grid_row": null,
            "grid_template_areas": null,
            "grid_template_columns": null,
            "grid_template_rows": null,
            "height": null,
            "justify_content": null,
            "justify_items": null,
            "left": null,
            "margin": null,
            "max_height": null,
            "max_width": null,
            "min_height": null,
            "min_width": null,
            "object_fit": null,
            "object_position": null,
            "order": null,
            "overflow": null,
            "overflow_x": null,
            "overflow_y": null,
            "padding": null,
            "right": null,
            "top": null,
            "visibility": null,
            "width": null
          }
        },
        "ac27d49e6ec345bbad8ea0eabec7ca17": {
          "model_module": "@jupyter-widgets/base",
          "model_name": "LayoutModel",
          "model_module_version": "1.2.0",
          "state": {
            "_model_module": "@jupyter-widgets/base",
            "_model_module_version": "1.2.0",
            "_model_name": "LayoutModel",
            "_view_count": null,
            "_view_module": "@jupyter-widgets/base",
            "_view_module_version": "1.2.0",
            "_view_name": "LayoutView",
            "align_content": null,
            "align_items": null,
            "align_self": null,
            "border": null,
            "bottom": null,
            "display": null,
            "flex": null,
            "flex_flow": null,
            "grid_area": null,
            "grid_auto_columns": null,
            "grid_auto_flow": null,
            "grid_auto_rows": null,
            "grid_column": null,
            "grid_gap": null,
            "grid_row": null,
            "grid_template_areas": null,
            "grid_template_columns": null,
            "grid_template_rows": null,
            "height": null,
            "justify_content": null,
            "justify_items": null,
            "left": null,
            "margin": null,
            "max_height": null,
            "max_width": null,
            "min_height": null,
            "min_width": null,
            "object_fit": null,
            "object_position": null,
            "order": null,
            "overflow": null,
            "overflow_x": null,
            "overflow_y": null,
            "padding": null,
            "right": null,
            "top": null,
            "visibility": null,
            "width": null
          }
        },
        "2fd1b483236f4834937735b6ab94eb40": {
          "model_module": "@jupyter-widgets/controls",
          "model_name": "DescriptionStyleModel",
          "model_module_version": "1.5.0",
          "state": {
            "_model_module": "@jupyter-widgets/controls",
            "_model_module_version": "1.5.0",
            "_model_name": "DescriptionStyleModel",
            "_view_count": null,
            "_view_module": "@jupyter-widgets/base",
            "_view_module_version": "1.2.0",
            "_view_name": "StyleView",
            "description_width": ""
          }
        },
        "e352a1ae3b8741168a573af0de6956d6": {
          "model_module": "@jupyter-widgets/base",
          "model_name": "LayoutModel",
          "model_module_version": "1.2.0",
          "state": {
            "_model_module": "@jupyter-widgets/base",
            "_model_module_version": "1.2.0",
            "_model_name": "LayoutModel",
            "_view_count": null,
            "_view_module": "@jupyter-widgets/base",
            "_view_module_version": "1.2.0",
            "_view_name": "LayoutView",
            "align_content": null,
            "align_items": null,
            "align_self": null,
            "border": null,
            "bottom": null,
            "display": null,
            "flex": null,
            "flex_flow": null,
            "grid_area": null,
            "grid_auto_columns": null,
            "grid_auto_flow": null,
            "grid_auto_rows": null,
            "grid_column": null,
            "grid_gap": null,
            "grid_row": null,
            "grid_template_areas": null,
            "grid_template_columns": null,
            "grid_template_rows": null,
            "height": null,
            "justify_content": null,
            "justify_items": null,
            "left": null,
            "margin": null,
            "max_height": null,
            "max_width": null,
            "min_height": null,
            "min_width": null,
            "object_fit": null,
            "object_position": null,
            "order": null,
            "overflow": null,
            "overflow_x": null,
            "overflow_y": null,
            "padding": null,
            "right": null,
            "top": null,
            "visibility": null,
            "width": null
          }
        },
        "089bc19de7154a25ade7b0d84e1055d3": {
          "model_module": "@jupyter-widgets/controls",
          "model_name": "ProgressStyleModel",
          "model_module_version": "1.5.0",
          "state": {
            "_model_module": "@jupyter-widgets/controls",
            "_model_module_version": "1.5.0",
            "_model_name": "ProgressStyleModel",
            "_view_count": null,
            "_view_module": "@jupyter-widgets/base",
            "_view_module_version": "1.2.0",
            "_view_name": "StyleView",
            "bar_color": null,
            "description_width": ""
          }
        },
        "8d15e81f31ec409ea292b9a0f0cbb8de": {
          "model_module": "@jupyter-widgets/controls",
          "model_name": "VBoxModel",
          "model_module_version": "1.5.0",
          "state": {
            "_dom_classes": [],
            "_model_module": "@jupyter-widgets/controls",
            "_model_module_version": "1.5.0",
            "_model_name": "VBoxModel",
            "_view_count": null,
            "_view_module": "@jupyter-widgets/controls",
            "_view_module_version": "1.5.0",
            "_view_name": "VBoxView",
            "box_style": "",
            "children": [
              "IPY_MODEL_20eff5b87d8e40e4bc7e94d30030e6f5",
              "IPY_MODEL_9cf95260968b4dce811eecc1dd75d7f4"
            ],
            "layout": "IPY_MODEL_2ab8497e1b664a1299d0a71d67d22754"
          }
        },
        "20eff5b87d8e40e4bc7e94d30030e6f5": {
          "model_module": "@jupyter-widgets/controls",
          "model_name": "LabelModel",
          "model_module_version": "1.5.0",
          "state": {
            "_dom_classes": [],
            "_model_module": "@jupyter-widgets/controls",
            "_model_module_version": "1.5.0",
            "_model_name": "LabelModel",
            "_view_count": null,
            "_view_module": "@jupyter-widgets/controls",
            "_view_module_version": "1.5.0",
            "_view_name": "LabelView",
            "description": "",
            "description_tooltip": null,
            "layout": "IPY_MODEL_b2beef22b32346a7b046268a725f7307",
            "placeholder": "​",
            "style": "IPY_MODEL_4de8ed4f191e424a96c2c3ad3ce9eab9",
            "value": "0.001 MB of 0.001 MB uploaded (0.000 MB deduped)\r"
          }
        },
        "9cf95260968b4dce811eecc1dd75d7f4": {
          "model_module": "@jupyter-widgets/controls",
          "model_name": "FloatProgressModel",
          "model_module_version": "1.5.0",
          "state": {
            "_dom_classes": [],
            "_model_module": "@jupyter-widgets/controls",
            "_model_module_version": "1.5.0",
            "_model_name": "FloatProgressModel",
            "_view_count": null,
            "_view_module": "@jupyter-widgets/controls",
            "_view_module_version": "1.5.0",
            "_view_name": "ProgressView",
            "bar_style": "",
            "description": "",
            "description_tooltip": null,
            "layout": "IPY_MODEL_d16edd93ef83429384305ac4f70ddccb",
            "max": 1,
            "min": 0,
            "orientation": "horizontal",
            "style": "IPY_MODEL_08355e5a2a2445e99425b61e63212298",
            "value": 1
          }
        },
        "2ab8497e1b664a1299d0a71d67d22754": {
          "model_module": "@jupyter-widgets/base",
          "model_name": "LayoutModel",
          "model_module_version": "1.2.0",
          "state": {
            "_model_module": "@jupyter-widgets/base",
            "_model_module_version": "1.2.0",
            "_model_name": "LayoutModel",
            "_view_count": null,
            "_view_module": "@jupyter-widgets/base",
            "_view_module_version": "1.2.0",
            "_view_name": "LayoutView",
            "align_content": null,
            "align_items": null,
            "align_self": null,
            "border": null,
            "bottom": null,
            "display": null,
            "flex": null,
            "flex_flow": null,
            "grid_area": null,
            "grid_auto_columns": null,
            "grid_auto_flow": null,
            "grid_auto_rows": null,
            "grid_column": null,
            "grid_gap": null,
            "grid_row": null,
            "grid_template_areas": null,
            "grid_template_columns": null,
            "grid_template_rows": null,
            "height": null,
            "justify_content": null,
            "justify_items": null,
            "left": null,
            "margin": null,
            "max_height": null,
            "max_width": null,
            "min_height": null,
            "min_width": null,
            "object_fit": null,
            "object_position": null,
            "order": null,
            "overflow": null,
            "overflow_x": null,
            "overflow_y": null,
            "padding": null,
            "right": null,
            "top": null,
            "visibility": null,
            "width": null
          }
        },
        "b2beef22b32346a7b046268a725f7307": {
          "model_module": "@jupyter-widgets/base",
          "model_name": "LayoutModel",
          "model_module_version": "1.2.0",
          "state": {
            "_model_module": "@jupyter-widgets/base",
            "_model_module_version": "1.2.0",
            "_model_name": "LayoutModel",
            "_view_count": null,
            "_view_module": "@jupyter-widgets/base",
            "_view_module_version": "1.2.0",
            "_view_name": "LayoutView",
            "align_content": null,
            "align_items": null,
            "align_self": null,
            "border": null,
            "bottom": null,
            "display": null,
            "flex": null,
            "flex_flow": null,
            "grid_area": null,
            "grid_auto_columns": null,
            "grid_auto_flow": null,
            "grid_auto_rows": null,
            "grid_column": null,
            "grid_gap": null,
            "grid_row": null,
            "grid_template_areas": null,
            "grid_template_columns": null,
            "grid_template_rows": null,
            "height": null,
            "justify_content": null,
            "justify_items": null,
            "left": null,
            "margin": null,
            "max_height": null,
            "max_width": null,
            "min_height": null,
            "min_width": null,
            "object_fit": null,
            "object_position": null,
            "order": null,
            "overflow": null,
            "overflow_x": null,
            "overflow_y": null,
            "padding": null,
            "right": null,
            "top": null,
            "visibility": null,
            "width": null
          }
        },
        "4de8ed4f191e424a96c2c3ad3ce9eab9": {
          "model_module": "@jupyter-widgets/controls",
          "model_name": "DescriptionStyleModel",
          "model_module_version": "1.5.0",
          "state": {
            "_model_module": "@jupyter-widgets/controls",
            "_model_module_version": "1.5.0",
            "_model_name": "DescriptionStyleModel",
            "_view_count": null,
            "_view_module": "@jupyter-widgets/base",
            "_view_module_version": "1.2.0",
            "_view_name": "StyleView",
            "description_width": ""
          }
        },
        "d16edd93ef83429384305ac4f70ddccb": {
          "model_module": "@jupyter-widgets/base",
          "model_name": "LayoutModel",
          "model_module_version": "1.2.0",
          "state": {
            "_model_module": "@jupyter-widgets/base",
            "_model_module_version": "1.2.0",
            "_model_name": "LayoutModel",
            "_view_count": null,
            "_view_module": "@jupyter-widgets/base",
            "_view_module_version": "1.2.0",
            "_view_name": "LayoutView",
            "align_content": null,
            "align_items": null,
            "align_self": null,
            "border": null,
            "bottom": null,
            "display": null,
            "flex": null,
            "flex_flow": null,
            "grid_area": null,
            "grid_auto_columns": null,
            "grid_auto_flow": null,
            "grid_auto_rows": null,
            "grid_column": null,
            "grid_gap": null,
            "grid_row": null,
            "grid_template_areas": null,
            "grid_template_columns": null,
            "grid_template_rows": null,
            "height": null,
            "justify_content": null,
            "justify_items": null,
            "left": null,
            "margin": null,
            "max_height": null,
            "max_width": null,
            "min_height": null,
            "min_width": null,
            "object_fit": null,
            "object_position": null,
            "order": null,
            "overflow": null,
            "overflow_x": null,
            "overflow_y": null,
            "padding": null,
            "right": null,
            "top": null,
            "visibility": null,
            "width": null
          }
        },
        "08355e5a2a2445e99425b61e63212298": {
          "model_module": "@jupyter-widgets/controls",
          "model_name": "ProgressStyleModel",
          "model_module_version": "1.5.0",
          "state": {
            "_model_module": "@jupyter-widgets/controls",
            "_model_module_version": "1.5.0",
            "_model_name": "ProgressStyleModel",
            "_view_count": null,
            "_view_module": "@jupyter-widgets/base",
            "_view_module_version": "1.2.0",
            "_view_name": "StyleView",
            "bar_color": null,
            "description_width": ""
          }
        },
        "c176fa1bc04b4742b3953d560835a810": {
          "model_module": "@jupyter-widgets/controls",
          "model_name": "VBoxModel",
          "model_module_version": "1.5.0",
          "state": {
            "_dom_classes": [],
            "_model_module": "@jupyter-widgets/controls",
            "_model_module_version": "1.5.0",
            "_model_name": "VBoxModel",
            "_view_count": null,
            "_view_module": "@jupyter-widgets/controls",
            "_view_module_version": "1.5.0",
            "_view_name": "VBoxView",
            "box_style": "",
            "children": [
              "IPY_MODEL_6f4ee212c4b840b693e31ebbaae327df",
              "IPY_MODEL_57320e71ecdf4972aa2b19ea90b70653"
            ],
            "layout": "IPY_MODEL_25bf4a9867de4662aa34faf8071b35e7"
          }
        },
        "6f4ee212c4b840b693e31ebbaae327df": {
          "model_module": "@jupyter-widgets/controls",
          "model_name": "LabelModel",
          "model_module_version": "1.5.0",
          "state": {
            "_dom_classes": [],
            "_model_module": "@jupyter-widgets/controls",
            "_model_module_version": "1.5.0",
            "_model_name": "LabelModel",
            "_view_count": null,
            "_view_module": "@jupyter-widgets/controls",
            "_view_module_version": "1.5.0",
            "_view_name": "LabelView",
            "description": "",
            "description_tooltip": null,
            "layout": "IPY_MODEL_861423f516f24b5485d6ba8f3d2b18d4",
            "placeholder": "​",
            "style": "IPY_MODEL_ca027f87c6b64f078260a1a7ebb9e9ca",
            "value": "0.005 MB of 0.013 MB uploaded (0.000 MB deduped)\r"
          }
        },
        "57320e71ecdf4972aa2b19ea90b70653": {
          "model_module": "@jupyter-widgets/controls",
          "model_name": "FloatProgressModel",
          "model_module_version": "1.5.0",
          "state": {
            "_dom_classes": [],
            "_model_module": "@jupyter-widgets/controls",
            "_model_module_version": "1.5.0",
            "_model_name": "FloatProgressModel",
            "_view_count": null,
            "_view_module": "@jupyter-widgets/controls",
            "_view_module_version": "1.5.0",
            "_view_name": "ProgressView",
            "bar_style": "",
            "description": "",
            "description_tooltip": null,
            "layout": "IPY_MODEL_3d0614e1313149a49747e0f747f5ad16",
            "max": 1,
            "min": 0,
            "orientation": "horizontal",
            "style": "IPY_MODEL_debc18af99a2481589bf0b783c866075",
            "value": 0.3898898533809906
          }
        },
        "25bf4a9867de4662aa34faf8071b35e7": {
          "model_module": "@jupyter-widgets/base",
          "model_name": "LayoutModel",
          "model_module_version": "1.2.0",
          "state": {
            "_model_module": "@jupyter-widgets/base",
            "_model_module_version": "1.2.0",
            "_model_name": "LayoutModel",
            "_view_count": null,
            "_view_module": "@jupyter-widgets/base",
            "_view_module_version": "1.2.0",
            "_view_name": "LayoutView",
            "align_content": null,
            "align_items": null,
            "align_self": null,
            "border": null,
            "bottom": null,
            "display": null,
            "flex": null,
            "flex_flow": null,
            "grid_area": null,
            "grid_auto_columns": null,
            "grid_auto_flow": null,
            "grid_auto_rows": null,
            "grid_column": null,
            "grid_gap": null,
            "grid_row": null,
            "grid_template_areas": null,
            "grid_template_columns": null,
            "grid_template_rows": null,
            "height": null,
            "justify_content": null,
            "justify_items": null,
            "left": null,
            "margin": null,
            "max_height": null,
            "max_width": null,
            "min_height": null,
            "min_width": null,
            "object_fit": null,
            "object_position": null,
            "order": null,
            "overflow": null,
            "overflow_x": null,
            "overflow_y": null,
            "padding": null,
            "right": null,
            "top": null,
            "visibility": null,
            "width": null
          }
        },
        "861423f516f24b5485d6ba8f3d2b18d4": {
          "model_module": "@jupyter-widgets/base",
          "model_name": "LayoutModel",
          "model_module_version": "1.2.0",
          "state": {
            "_model_module": "@jupyter-widgets/base",
            "_model_module_version": "1.2.0",
            "_model_name": "LayoutModel",
            "_view_count": null,
            "_view_module": "@jupyter-widgets/base",
            "_view_module_version": "1.2.0",
            "_view_name": "LayoutView",
            "align_content": null,
            "align_items": null,
            "align_self": null,
            "border": null,
            "bottom": null,
            "display": null,
            "flex": null,
            "flex_flow": null,
            "grid_area": null,
            "grid_auto_columns": null,
            "grid_auto_flow": null,
            "grid_auto_rows": null,
            "grid_column": null,
            "grid_gap": null,
            "grid_row": null,
            "grid_template_areas": null,
            "grid_template_columns": null,
            "grid_template_rows": null,
            "height": null,
            "justify_content": null,
            "justify_items": null,
            "left": null,
            "margin": null,
            "max_height": null,
            "max_width": null,
            "min_height": null,
            "min_width": null,
            "object_fit": null,
            "object_position": null,
            "order": null,
            "overflow": null,
            "overflow_x": null,
            "overflow_y": null,
            "padding": null,
            "right": null,
            "top": null,
            "visibility": null,
            "width": null
          }
        },
        "ca027f87c6b64f078260a1a7ebb9e9ca": {
          "model_module": "@jupyter-widgets/controls",
          "model_name": "DescriptionStyleModel",
          "model_module_version": "1.5.0",
          "state": {
            "_model_module": "@jupyter-widgets/controls",
            "_model_module_version": "1.5.0",
            "_model_name": "DescriptionStyleModel",
            "_view_count": null,
            "_view_module": "@jupyter-widgets/base",
            "_view_module_version": "1.2.0",
            "_view_name": "StyleView",
            "description_width": ""
          }
        },
        "3d0614e1313149a49747e0f747f5ad16": {
          "model_module": "@jupyter-widgets/base",
          "model_name": "LayoutModel",
          "model_module_version": "1.2.0",
          "state": {
            "_model_module": "@jupyter-widgets/base",
            "_model_module_version": "1.2.0",
            "_model_name": "LayoutModel",
            "_view_count": null,
            "_view_module": "@jupyter-widgets/base",
            "_view_module_version": "1.2.0",
            "_view_name": "LayoutView",
            "align_content": null,
            "align_items": null,
            "align_self": null,
            "border": null,
            "bottom": null,
            "display": null,
            "flex": null,
            "flex_flow": null,
            "grid_area": null,
            "grid_auto_columns": null,
            "grid_auto_flow": null,
            "grid_auto_rows": null,
            "grid_column": null,
            "grid_gap": null,
            "grid_row": null,
            "grid_template_areas": null,
            "grid_template_columns": null,
            "grid_template_rows": null,
            "height": null,
            "justify_content": null,
            "justify_items": null,
            "left": null,
            "margin": null,
            "max_height": null,
            "max_width": null,
            "min_height": null,
            "min_width": null,
            "object_fit": null,
            "object_position": null,
            "order": null,
            "overflow": null,
            "overflow_x": null,
            "overflow_y": null,
            "padding": null,
            "right": null,
            "top": null,
            "visibility": null,
            "width": null
          }
        },
        "debc18af99a2481589bf0b783c866075": {
          "model_module": "@jupyter-widgets/controls",
          "model_name": "ProgressStyleModel",
          "model_module_version": "1.5.0",
          "state": {
            "_model_module": "@jupyter-widgets/controls",
            "_model_module_version": "1.5.0",
            "_model_name": "ProgressStyleModel",
            "_view_count": null,
            "_view_module": "@jupyter-widgets/base",
            "_view_module_version": "1.2.0",
            "_view_name": "StyleView",
            "bar_color": null,
            "description_width": ""
          }
        },
        "6810687b18ef455798820a63e651a5af": {
          "model_module": "@jupyter-widgets/controls",
          "model_name": "VBoxModel",
          "model_module_version": "1.5.0",
          "state": {
            "_dom_classes": [],
            "_model_module": "@jupyter-widgets/controls",
            "_model_module_version": "1.5.0",
            "_model_name": "VBoxModel",
            "_view_count": null,
            "_view_module": "@jupyter-widgets/controls",
            "_view_module_version": "1.5.0",
            "_view_name": "VBoxView",
            "box_style": "",
            "children": [
              "IPY_MODEL_e7af420ac52b4440b25f8c2fa8e8ed2b",
              "IPY_MODEL_b5867abbab9949bbb465a404b4c10134"
            ],
            "layout": "IPY_MODEL_8c89d9a5115b446392408a4371c85359"
          }
        },
        "e7af420ac52b4440b25f8c2fa8e8ed2b": {
          "model_module": "@jupyter-widgets/controls",
          "model_name": "LabelModel",
          "model_module_version": "1.5.0",
          "state": {
            "_dom_classes": [],
            "_model_module": "@jupyter-widgets/controls",
            "_model_module_version": "1.5.0",
            "_model_name": "LabelModel",
            "_view_count": null,
            "_view_module": "@jupyter-widgets/controls",
            "_view_module_version": "1.5.0",
            "_view_name": "LabelView",
            "description": "",
            "description_tooltip": null,
            "layout": "IPY_MODEL_81a4d2dc45534e69bd732e18d0236735",
            "placeholder": "​",
            "style": "IPY_MODEL_7d5736bb6d8644d988f51cdf32335a70",
            "value": "0.001 MB of 0.008 MB uploaded (0.000 MB deduped)\r"
          }
        },
        "b5867abbab9949bbb465a404b4c10134": {
          "model_module": "@jupyter-widgets/controls",
          "model_name": "FloatProgressModel",
          "model_module_version": "1.5.0",
          "state": {
            "_dom_classes": [],
            "_model_module": "@jupyter-widgets/controls",
            "_model_module_version": "1.5.0",
            "_model_name": "FloatProgressModel",
            "_view_count": null,
            "_view_module": "@jupyter-widgets/controls",
            "_view_module_version": "1.5.0",
            "_view_name": "ProgressView",
            "bar_style": "",
            "description": "",
            "description_tooltip": null,
            "layout": "IPY_MODEL_2986a196e51445308c74e644b7e89fdd",
            "max": 1,
            "min": 0,
            "orientation": "horizontal",
            "style": "IPY_MODEL_aec45331390f459d94763c26e39322c8",
            "value": 0.08129411764705882
          }
        },
        "8c89d9a5115b446392408a4371c85359": {
          "model_module": "@jupyter-widgets/base",
          "model_name": "LayoutModel",
          "model_module_version": "1.2.0",
          "state": {
            "_model_module": "@jupyter-widgets/base",
            "_model_module_version": "1.2.0",
            "_model_name": "LayoutModel",
            "_view_count": null,
            "_view_module": "@jupyter-widgets/base",
            "_view_module_version": "1.2.0",
            "_view_name": "LayoutView",
            "align_content": null,
            "align_items": null,
            "align_self": null,
            "border": null,
            "bottom": null,
            "display": null,
            "flex": null,
            "flex_flow": null,
            "grid_area": null,
            "grid_auto_columns": null,
            "grid_auto_flow": null,
            "grid_auto_rows": null,
            "grid_column": null,
            "grid_gap": null,
            "grid_row": null,
            "grid_template_areas": null,
            "grid_template_columns": null,
            "grid_template_rows": null,
            "height": null,
            "justify_content": null,
            "justify_items": null,
            "left": null,
            "margin": null,
            "max_height": null,
            "max_width": null,
            "min_height": null,
            "min_width": null,
            "object_fit": null,
            "object_position": null,
            "order": null,
            "overflow": null,
            "overflow_x": null,
            "overflow_y": null,
            "padding": null,
            "right": null,
            "top": null,
            "visibility": null,
            "width": null
          }
        },
        "81a4d2dc45534e69bd732e18d0236735": {
          "model_module": "@jupyter-widgets/base",
          "model_name": "LayoutModel",
          "model_module_version": "1.2.0",
          "state": {
            "_model_module": "@jupyter-widgets/base",
            "_model_module_version": "1.2.0",
            "_model_name": "LayoutModel",
            "_view_count": null,
            "_view_module": "@jupyter-widgets/base",
            "_view_module_version": "1.2.0",
            "_view_name": "LayoutView",
            "align_content": null,
            "align_items": null,
            "align_self": null,
            "border": null,
            "bottom": null,
            "display": null,
            "flex": null,
            "flex_flow": null,
            "grid_area": null,
            "grid_auto_columns": null,
            "grid_auto_flow": null,
            "grid_auto_rows": null,
            "grid_column": null,
            "grid_gap": null,
            "grid_row": null,
            "grid_template_areas": null,
            "grid_template_columns": null,
            "grid_template_rows": null,
            "height": null,
            "justify_content": null,
            "justify_items": null,
            "left": null,
            "margin": null,
            "max_height": null,
            "max_width": null,
            "min_height": null,
            "min_width": null,
            "object_fit": null,
            "object_position": null,
            "order": null,
            "overflow": null,
            "overflow_x": null,
            "overflow_y": null,
            "padding": null,
            "right": null,
            "top": null,
            "visibility": null,
            "width": null
          }
        },
        "7d5736bb6d8644d988f51cdf32335a70": {
          "model_module": "@jupyter-widgets/controls",
          "model_name": "DescriptionStyleModel",
          "model_module_version": "1.5.0",
          "state": {
            "_model_module": "@jupyter-widgets/controls",
            "_model_module_version": "1.5.0",
            "_model_name": "DescriptionStyleModel",
            "_view_count": null,
            "_view_module": "@jupyter-widgets/base",
            "_view_module_version": "1.2.0",
            "_view_name": "StyleView",
            "description_width": ""
          }
        },
        "2986a196e51445308c74e644b7e89fdd": {
          "model_module": "@jupyter-widgets/base",
          "model_name": "LayoutModel",
          "model_module_version": "1.2.0",
          "state": {
            "_model_module": "@jupyter-widgets/base",
            "_model_module_version": "1.2.0",
            "_model_name": "LayoutModel",
            "_view_count": null,
            "_view_module": "@jupyter-widgets/base",
            "_view_module_version": "1.2.0",
            "_view_name": "LayoutView",
            "align_content": null,
            "align_items": null,
            "align_self": null,
            "border": null,
            "bottom": null,
            "display": null,
            "flex": null,
            "flex_flow": null,
            "grid_area": null,
            "grid_auto_columns": null,
            "grid_auto_flow": null,
            "grid_auto_rows": null,
            "grid_column": null,
            "grid_gap": null,
            "grid_row": null,
            "grid_template_areas": null,
            "grid_template_columns": null,
            "grid_template_rows": null,
            "height": null,
            "justify_content": null,
            "justify_items": null,
            "left": null,
            "margin": null,
            "max_height": null,
            "max_width": null,
            "min_height": null,
            "min_width": null,
            "object_fit": null,
            "object_position": null,
            "order": null,
            "overflow": null,
            "overflow_x": null,
            "overflow_y": null,
            "padding": null,
            "right": null,
            "top": null,
            "visibility": null,
            "width": null
          }
        },
        "aec45331390f459d94763c26e39322c8": {
          "model_module": "@jupyter-widgets/controls",
          "model_name": "ProgressStyleModel",
          "model_module_version": "1.5.0",
          "state": {
            "_model_module": "@jupyter-widgets/controls",
            "_model_module_version": "1.5.0",
            "_model_name": "ProgressStyleModel",
            "_view_count": null,
            "_view_module": "@jupyter-widgets/base",
            "_view_module_version": "1.2.0",
            "_view_name": "StyleView",
            "bar_color": null,
            "description_width": ""
          }
        }
      }
    }
  },
  "nbformat": 4,
  "nbformat_minor": 0
}