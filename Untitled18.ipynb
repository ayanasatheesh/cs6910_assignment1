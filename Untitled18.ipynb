{
  "cells": [
    {
      "cell_type": "code",
      "execution_count": 1,
      "metadata": {
        "colab": {
          "base_uri": "https://localhost:8080/",
          "height": 850
        },
        "id": "OIPAL7Pq56pf",
        "outputId": "900a1071-4b88-4250-db62-55c5f6bf3609"
      },
      "outputs": [
        {
          "output_type": "stream",
          "name": "stdout",
          "text": [
            "Looking in indexes: https://pypi.org/simple, https://us-python.pkg.dev/colab-wheels/public/simple/\n",
            "Collecting wandb\n",
            "  Downloading wandb-0.13.10-py3-none-any.whl (2.0 MB)\n",
            "\u001b[2K     \u001b[90m━━━━━━━━━━━━━━━━━━━━━━━━━━━━━━━━━━━━━━━━\u001b[0m \u001b[32m2.0/2.0 MB\u001b[0m \u001b[31m18.7 MB/s\u001b[0m eta \u001b[36m0:00:00\u001b[0m\n",
            "\u001b[?25hRequirement already satisfied: protobuf!=4.21.0,<5,>=3.12.0 in /usr/local/lib/python3.8/dist-packages (from wandb) (3.19.6)\n",
            "Collecting GitPython>=1.0.0\n",
            "  Downloading GitPython-3.1.31-py3-none-any.whl (184 kB)\n",
            "\u001b[2K     \u001b[90m━━━━━━━━━━━━━━━━━━━━━━━━━━━━━━━━━━━━━━\u001b[0m \u001b[32m184.3/184.3 KB\u001b[0m \u001b[31m10.6 MB/s\u001b[0m eta \u001b[36m0:00:00\u001b[0m\n",
            "\u001b[?25hRequirement already satisfied: appdirs>=1.4.3 in /usr/local/lib/python3.8/dist-packages (from wandb) (1.4.4)\n",
            "Requirement already satisfied: setuptools in /usr/local/lib/python3.8/dist-packages (from wandb) (57.4.0)\n",
            "Requirement already satisfied: PyYAML in /usr/local/lib/python3.8/dist-packages (from wandb) (6.0)\n",
            "Collecting setproctitle\n",
            "  Downloading setproctitle-1.3.2-cp38-cp38-manylinux_2_5_x86_64.manylinux1_x86_64.manylinux_2_17_x86_64.manylinux2014_x86_64.whl (31 kB)\n",
            "Requirement already satisfied: typing-extensions in /usr/local/lib/python3.8/dist-packages (from wandb) (4.5.0)\n",
            "Requirement already satisfied: Click!=8.0.0,>=7.0 in /usr/local/lib/python3.8/dist-packages (from wandb) (8.1.3)\n",
            "Requirement already satisfied: requests<3,>=2.0.0 in /usr/local/lib/python3.8/dist-packages (from wandb) (2.25.1)\n",
            "Collecting pathtools\n",
            "  Downloading pathtools-0.1.2.tar.gz (11 kB)\n",
            "  Preparing metadata (setup.py) ... \u001b[?25l\u001b[?25hdone\n",
            "Requirement already satisfied: psutil>=5.0.0 in /usr/local/lib/python3.8/dist-packages (from wandb) (5.4.8)\n",
            "Collecting sentry-sdk>=1.0.0\n",
            "  Downloading sentry_sdk-1.16.0-py2.py3-none-any.whl (184 kB)\n",
            "\u001b[2K     \u001b[90m━━━━━━━━━━━━━━━━━━━━━━━━━━━━━━━━━━━━━━━\u001b[0m \u001b[32m184.3/184.3 KB\u001b[0m \u001b[31m9.9 MB/s\u001b[0m eta \u001b[36m0:00:00\u001b[0m\n",
            "\u001b[?25hCollecting docker-pycreds>=0.4.0\n",
            "  Downloading docker_pycreds-0.4.0-py2.py3-none-any.whl (9.0 kB)\n",
            "Requirement already satisfied: six>=1.4.0 in /usr/local/lib/python3.8/dist-packages (from docker-pycreds>=0.4.0->wandb) (1.15.0)\n",
            "Collecting gitdb<5,>=4.0.1\n",
            "  Downloading gitdb-4.0.10-py3-none-any.whl (62 kB)\n",
            "\u001b[2K     \u001b[90m━━━━━━━━━━━━━━━━━━━━━━━━━━━━━━━━━━━━━━━━\u001b[0m \u001b[32m62.7/62.7 KB\u001b[0m \u001b[31m3.3 MB/s\u001b[0m eta \u001b[36m0:00:00\u001b[0m\n",
            "\u001b[?25hRequirement already satisfied: chardet<5,>=3.0.2 in /usr/local/lib/python3.8/dist-packages (from requests<3,>=2.0.0->wandb) (4.0.0)\n",
            "Requirement already satisfied: idna<3,>=2.5 in /usr/local/lib/python3.8/dist-packages (from requests<3,>=2.0.0->wandb) (2.10)\n",
            "Requirement already satisfied: urllib3<1.27,>=1.21.1 in /usr/local/lib/python3.8/dist-packages (from requests<3,>=2.0.0->wandb) (1.26.14)\n",
            "Requirement already satisfied: certifi>=2017.4.17 in /usr/local/lib/python3.8/dist-packages (from requests<3,>=2.0.0->wandb) (2022.12.7)\n",
            "Collecting smmap<6,>=3.0.1\n",
            "  Downloading smmap-5.0.0-py3-none-any.whl (24 kB)\n",
            "Building wheels for collected packages: pathtools\n",
            "  Building wheel for pathtools (setup.py) ... \u001b[?25l\u001b[?25hdone\n",
            "  Created wheel for pathtools: filename=pathtools-0.1.2-py3-none-any.whl size=8806 sha256=3ed85050ef27a1209d134125d1b41644313c53fa8c40309fefd33d878610251d\n",
            "  Stored in directory: /root/.cache/pip/wheels/4c/8e/7e/72fbc243e1aeecae64a96875432e70d4e92f3d2d18123be004\n",
            "Successfully built pathtools\n",
            "Installing collected packages: pathtools, smmap, setproctitle, sentry-sdk, docker-pycreds, gitdb, GitPython, wandb\n",
            "Successfully installed GitPython-3.1.31 docker-pycreds-0.4.0 gitdb-4.0.10 pathtools-0.1.2 sentry-sdk-1.16.0 setproctitle-1.3.2 smmap-5.0.0 wandb-0.13.10\n"
          ]
        },
        {
          "output_type": "stream",
          "name": "stderr",
          "text": [
            "ERROR:wandb.jupyter:Failed to detect the name of this notebook, you can set it manually with the WANDB_NOTEBOOK_NAME environment variable to enable code saving.\n"
          ]
        },
        {
          "output_type": "display_data",
          "data": {
            "text/plain": [
              "<IPython.core.display.Javascript object>"
            ],
            "application/javascript": [
              "\n",
              "        window._wandbApiKey = new Promise((resolve, reject) => {\n",
              "            function loadScript(url) {\n",
              "            return new Promise(function(resolve, reject) {\n",
              "                let newScript = document.createElement(\"script\");\n",
              "                newScript.onerror = reject;\n",
              "                newScript.onload = resolve;\n",
              "                document.body.appendChild(newScript);\n",
              "                newScript.src = url;\n",
              "            });\n",
              "            }\n",
              "            loadScript(\"https://cdn.jsdelivr.net/npm/postmate/build/postmate.min.js\").then(() => {\n",
              "            const iframe = document.createElement('iframe')\n",
              "            iframe.style.cssText = \"width:0;height:0;border:none\"\n",
              "            document.body.appendChild(iframe)\n",
              "            const handshake = new Postmate({\n",
              "                container: iframe,\n",
              "                url: 'https://wandb.ai/authorize'\n",
              "            });\n",
              "            const timeout = setTimeout(() => reject(\"Couldn't auto authenticate\"), 5000)\n",
              "            handshake.then(function(child) {\n",
              "                child.on('authorize', data => {\n",
              "                    clearTimeout(timeout)\n",
              "                    resolve(data)\n",
              "                });\n",
              "            });\n",
              "            })\n",
              "        });\n",
              "    "
            ]
          },
          "metadata": {}
        },
        {
          "output_type": "stream",
          "name": "stderr",
          "text": [
            "\u001b[34m\u001b[1mwandb\u001b[0m: Logging into wandb.ai. (Learn how to deploy a W&B server locally: https://wandb.me/wandb-server)\n",
            "\u001b[34m\u001b[1mwandb\u001b[0m: You can find your API key in your browser here: https://wandb.ai/authorize\n",
            "wandb: Paste an API key from your profile and hit enter, or press ctrl+c to quit:"
          ]
        },
        {
          "name": "stdout",
          "output_type": "stream",
          "text": [
            " ··········\n"
          ]
        },
        {
          "output_type": "stream",
          "name": "stderr",
          "text": [
            "\u001b[34m\u001b[1mwandb\u001b[0m: Appending key for api.wandb.ai to your netrc file: /root/.netrc\n"
          ]
        }
      ],
      "source": [
        "!pip install wandb\n",
        "import wandb\n",
        "wandb.login()\n",
        "import random\n",
        "import matplotlib.pyplot as plt\n",
        "from matplotlib.pyplot import figure\n",
        "import numpy as np"
      ]
    },
    {
      "cell_type": "code",
      "source": [
        "wandb.login()"
      ],
      "metadata": {
        "colab": {
          "base_uri": "https://localhost:8080/"
        },
        "id": "Ch1jxkQ8_NYw",
        "outputId": "dab06968-44cc-47cd-9732-c738e1d48511"
      },
      "execution_count": null,
      "outputs": [
        {
          "output_type": "stream",
          "name": "stderr",
          "text": [
            "\u001b[34m\u001b[1mwandb\u001b[0m: Currently logged in as: \u001b[33mcs22m025\u001b[0m. Use \u001b[1m`wandb login --relogin`\u001b[0m to force relogin\n"
          ]
        },
        {
          "output_type": "execute_result",
          "data": {
            "text/plain": [
              "True"
            ]
          },
          "metadata": {},
          "execution_count": 2
        }
      ]
    },
    {
      "cell_type": "code",
      "execution_count": 2,
      "metadata": {
        "colab": {
          "base_uri": "https://localhost:8080/",
          "height": 897
        },
        "id": "N1iTJlN56SIb",
        "outputId": "6e85b0a9-dd06-40ce-ad19-9f1b093240f9"
      },
      "outputs": [
        {
          "output_type": "stream",
          "name": "stdout",
          "text": [
            "Downloading data from https://storage.googleapis.com/tensorflow/tf-keras-datasets/train-labels-idx1-ubyte.gz\n",
            "29515/29515 [==============================] - 0s 0us/step\n",
            "Downloading data from https://storage.googleapis.com/tensorflow/tf-keras-datasets/train-images-idx3-ubyte.gz\n",
            "26421880/26421880 [==============================] - 0s 0us/step\n",
            "Downloading data from https://storage.googleapis.com/tensorflow/tf-keras-datasets/t10k-labels-idx1-ubyte.gz\n",
            "5148/5148 [==============================] - 0s 0us/step\n",
            "Downloading data from https://storage.googleapis.com/tensorflow/tf-keras-datasets/t10k-images-idx3-ubyte.gz\n",
            "4422102/4422102 [==============================] - 0s 0us/step\n",
            "___________________________________________________________________\n",
            "Dataset loaded successfully!\n",
            "Dataset contains Training data of size: 60000\n",
            "Dataset contains Test data of size: 10000\n",
            "Number of classes in the dataset:10\n",
            "___________________________________________________________________\n",
            "The Dataset contains the following classes:\n",
            "T-shirt/top\n",
            "Trouser\n",
            "Pullover\n",
            "Dress\n",
            "Coat\n",
            "Sandal\n",
            "Shirt\n",
            "Sneaker\n",
            "Bag\n",
            "Ankle boot\n",
            "___________________________________________________________________\n",
            "Displaying a random image from each of the classes:\n"
          ]
        },
        {
          "output_type": "display_data",
          "data": {
            "text/plain": [
              "<Figure size 720x720 with 10 Axes>"
            ],
            "image/png": "[encoded data removed]"
          },
          "metadata": {}
        },
        {
          "output_type": "stream",
          "name": "stderr",
          "text": [
            "\u001b[34m\u001b[1mwandb\u001b[0m: Currently logged in as: \u001b[33mcs22m025\u001b[0m. Use \u001b[1m`wandb login --relogin`\u001b[0m to force relogin\n"
          ]
        },
        {
          "output_type": "display_data",
          "data": {
            "text/plain": [
              "<IPython.core.display.HTML object>"
            ],
            "text/html": [
              "Tracking run with wandb version 0.13.10"
            ]
          },
          "metadata": {}
        },
        {
          "output_type": "display_data",
          "data": {
            "text/plain": [
              "<IPython.core.display.HTML object>"
            ],
            "text/html": [
              "Run data is saved locally in <code>/content/wandb/run-20230307_150740-8998t4ld</code>"
            ]
          },
          "metadata": {}
        },
        {
          "output_type": "display_data",
          "data": {
            "text/plain": [
              "<IPython.core.display.HTML object>"
            ],
            "text/html": [
              "Syncing run <strong><a href='https://wandb.ai/cs22m025/assignment1/runs/8998t4ld' target=\"_blank\">lucky-wood-138</a></strong> to <a href='https://wandb.ai/cs22m025/assignment1' target=\"_blank\">Weights & Biases</a> (<a href='https://wandb.me/run' target=\"_blank\">docs</a>)<br/>"
            ]
          },
          "metadata": {}
        },
        {
          "output_type": "display_data",
          "data": {
            "text/plain": [
              "<IPython.core.display.HTML object>"
            ],
            "text/html": [
              " View project at <a href='https://wandb.ai/cs22m025/assignment1' target=\"_blank\">https://wandb.ai/cs22m025/assignment1</a>"
            ]
          },
          "metadata": {}
        },
        {
          "output_type": "display_data",
          "data": {
            "text/plain": [
              "<IPython.core.display.HTML object>"
            ],
            "text/html": [
              " View run at <a href='https://wandb.ai/cs22m025/assignment1/runs/8998t4ld' target=\"_blank\">https://wandb.ai/cs22m025/assignment1/runs/8998t4ld</a>"
            ]
          },
          "metadata": {}
        },
        {
          "output_type": "display_data",
          "data": {
            "text/plain": [
              "<IPython.core.display.HTML object>"
            ],
            "text/html": [
              "Waiting for W&B process to finish... <strong style=\"color:green\">(success).</strong>"
            ]
          },
          "metadata": {}
        },
        {
          "output_type": "display_data",
          "data": {
            "text/plain": [
              "<IPython.core.display.HTML object>"
            ],
            "text/html": [
              " View run <strong style=\"color:#cdcd00\">lucky-wood-138</strong> at: <a href='https://wandb.ai/cs22m025/assignment1/runs/8998t4ld' target=\"_blank\">https://wandb.ai/cs22m025/assignment1/runs/8998t4ld</a><br/>Synced 4 W&B file(s), 10 media file(s), 0 artifact file(s) and 0 other file(s)"
            ]
          },
          "metadata": {}
        },
        {
          "output_type": "display_data",
          "data": {
            "text/plain": [
              "<IPython.core.display.HTML object>"
            ],
            "text/html": [
              "Find logs at: <code>./wandb/run-20230307_150740-8998t4ld/logs</code>"
            ]
          },
          "metadata": {}
        }
      ],
      "source": [
        "from keras.datasets import fashion_mnist\n",
        "\n",
        "(X_train, Y_train), (X_test, Y_test) = fashion_mnist.load_data()\n",
        "\n",
        "X_train=X_train/255\n",
        "\n",
        "\n",
        "print(\"___________________________________________________________________\")\n",
        "\n",
        "print(\"Dataset loaded successfully!\")\n",
        "\n",
        "print(\"Dataset contains Training data of size:\",Y_train.shape[0])\n",
        "print(\"Dataset contains Test data of size:\",Y_test.shape[0])\n",
        "print(\"Number of classes in the dataset:10\")\n",
        "\n",
        "print(\"___________________________________________________________________\")\n",
        "class_labels = ['T-shirt/top', 'Trouser', 'Pullover', 'Dress', 'Coat','Sandal', 'Shirt', 'Sneaker', 'Bag', 'Ankle boot']\n",
        "\n",
        "print(\"The Dataset contains the following classes:\")\n",
        "for i in range(10):\n",
        "  print(class_labels[i])\n",
        "\n",
        "\n",
        "\n",
        "\n",
        "\n",
        "def display_sampleimage():\n",
        "    ans = [-1 for i in range(10)]\n",
        "    count=0\n",
        "    while 1:\n",
        "      i=random.randint(0,len(Y_train)-1)\n",
        "      if (ans[Y_train[i]])==-1:\n",
        "        ans[Y_train[i]]=i\n",
        "        count+=1\n",
        "      if count==10:\n",
        "        break\n",
        "\n",
        "    print(\"___________________________________________________________________\")\n",
        "    print(\"Displaying a random image from each of the classes:\")\n",
        "    images_list=[]\n",
        "    class_list=[]\n",
        "    figure(figsize=(10, 10))\n",
        "\n",
        "\n",
        "    for i in range(10):\n",
        "      plt.subplot(5,5,i+1)\n",
        "      plt.xticks([])\n",
        "      plt.yticks([])\n",
        "      #plt.grid(False)\n",
        "      j=ans[i]\n",
        "      plt.imshow(X_train[j], cmap=plt.cm.binary)\n",
        "      plt.xlabel(class_labels[i])\n",
        "      images_list.append(X_train[j])\n",
        "      class_list.append(class_labels[Y_train[j]])\n",
        "    plt.show()\n",
        "\n",
        "\n",
        "\n",
        "    run=wandb.init(project=\"assignment1\")\n",
        "    wandb.log({\"Question 1\": [wandb.Image(ele) for ele in images_list]})\n",
        "    run.finish()\n",
        "\n",
        "display_sampleimage()"
      ]
    },
    {
      "cell_type": "code",
      "source": [
        "X=X_train\n",
        "Y=Y_train\n",
        "\n",
        "from sklearn.model_selection import train_test_split\n",
        "X_train,X_validate,Y_train,Y_validate=train_test_split(X, Y, test_size=0.1, random_state=42)\n"
      ],
      "metadata": {
        "id": "pBz_Zy1G66FB"
      },
      "execution_count": 3,
      "outputs": []
    },
    {
      "cell_type": "code",
      "source": [
        "Y_train.shape[0]"
      ],
      "metadata": {
        "colab": {
          "base_uri": "https://localhost:8080/"
        },
        "id": "Tyv1yHzK7-CI",
        "outputId": "3b1a2527-ea2f-455a-e80f-d398d8944cf8"
      },
      "execution_count": null,
      "outputs": [
        {
          "output_type": "execute_result",
          "data": {
            "text/plain": [
              "54000"
            ]
          },
          "metadata": {},
          "execution_count": 5
        }
      ]
    },
    {
      "cell_type": "code",
      "execution_count": 4,
      "metadata": {
        "id": "zKYDB62UD2Ck",
        "colab": {
          "base_uri": "https://localhost:8080/"
        },
        "outputId": "0a182b71-e7be-424b-fb69-9ea59c70db88"
      },
      "outputs": [
        {
          "output_type": "stream",
          "name": "stdout",
          "text": [
            "54000\n",
            "54000\n"
          ]
        }
      ],
      "source": [
        "\n",
        "\n",
        "def random_initialisation(n_hidden,n_neurons,n_inputneurons,n_outputneurons):\n",
        "  sd=0.5\n",
        "  W=[np.random.normal(0,sd,(n_neurons,n_inputneurons)) if i==0  else np.random.normal(0,sd,(n_neurons,n_neurons)) for i in range(n_hidden)]\n",
        "  Wo=np.random.normal(0,sd,(n_outputneurons,n_neurons))\n",
        "  W.append(Wo)\n",
        "  b=[np.random.normal(0,sd,(n_outputneurons,1)) if i==n_hidden else np.random.normal(0,sd,(n_neurons,1)) for i in range(n_hidden+1)]\n",
        "\n",
        "  return (W,b)\n",
        "\n",
        "'''def random_initialisation(n_hidden,n_neurons,n_inputneurons,n_outputneurons):\n",
        "  #W1=np.random.randn(n_neurons,n_inputneurons)\n",
        "  W=[np.random.randn(n_neurons,n_inputneurons) if i==0  else np.random.randn(n_neurons,n_neurons) for i in range(n_hidden)]\n",
        "  Wo=np.random.randn(n_outputneurons,n_neurons)\n",
        "  W.append(Wo)\n",
        "  b=[np.random.randn(n_outputneurons) if i==n_hidden else np.random.randn(n_neurons) for i in range(n_hidden+1)]\n",
        "\n",
        "  return (W,b)'''\n",
        "\n",
        "\n",
        "def xavier_initialisation(n_hidden,n_neurons,n_inputneurons,n_outputneurons):\n",
        "  W=[np.random.randn(n_neurons,n_inputneurons)*np.sqrt(2/(n_neurons+n_inputneurons)) if i==0  else np.random.randn(n_neurons,n_neurons)*np.sqrt(2/(n_neurons+n_neurons)) for i in range(n_hidden)]\n",
        "  Wo=np.random.randn(n_outputneurons,n_neurons)*np.sqrt(2/(n_outputneurons+n_neurons))\n",
        "  W.append(Wo)\n",
        "  b=[np.random.randn(n_outputneurons,1) if i==n_hidden else np.random.randn(n_neurons,1) for i in range(n_hidden+1)]\n",
        "\n",
        "  return (W,b)\n",
        "\n",
        "\n",
        "def initialise_u(n_hidden,n_neurons,n_inputneurons,n_outputneurons):\n",
        "  u_W=[np.zeros((n_neurons,n_inputneurons)) if i==0  else np.zeros((n_neurons,n_neurons)) for i in range(n_hidden)]\n",
        "  u_Wo=np.zeros((n_outputneurons,n_neurons))\n",
        "  u_W.append(u_Wo)\n",
        "  u_b=[np.zeros((n_outputneurons,1)) if i==n_hidden else np.zeros((n_neurons,1)) for i in range(n_hidden+1)]\n",
        "\n",
        "  return (u_W,u_b)    \n",
        "\n",
        "def initialise_parameters(initialisation,n_hidden,n_neurons,n_inputneurons,n_outputneurons):\n",
        "\n",
        "  if(initialisation==\"random\"):\n",
        "    return random_initialisation(n_hidden,n_neurons,n_inputneurons,n_outputneurons)\n",
        "\n",
        "  elif(initialisation==\"xavier\"):\n",
        "    return xavier_initialisation(n_hidden,n_neurons,n_inputneurons,n_outputneurons)\n",
        "\n",
        "\n",
        "def relu(x):\n",
        "  return np.maximum(x,0)\n",
        "\n",
        "'''def relu(x,n_neurons):\n",
        "  return np.maximum(x,np.zeros(n_neurons,x.shape[0]))'''\n",
        "\n",
        "\n",
        "'''def sigmoid(x):\n",
        "  if(np.exp(-x)<=0):\n",
        "    return 1.0/(1.0+np.exp(-x))\n",
        "  else:\n",
        "    return np.exp(x)/(1.0+np.exp(x))'''\n",
        "\n",
        "def sigmoid(x):\n",
        "  '''x=np.float128(x)\n",
        "  res= 1 / (1 + np.exp(-x)) \n",
        "  return np.float64(res)'''\n",
        "  return 1. / (1.+np.exp(-x)) \n",
        "\n",
        "def softmax(x):\n",
        "  #return np.exp(x) / np.sum(np.exp(x), axis=0)\n",
        "  e_X = np.exp(x - np.max(x, axis = 0))\n",
        "  return e_X / (e_X.sum(axis = 0)+1e-8)\n",
        "\n",
        "def tanh(X):\n",
        "  return np.tanh(X)\n",
        "\n",
        "\n",
        "def activation(activation_function,a,n_neurons):\n",
        " # h=np.zeros((batch_size,n_neurons))\n",
        " # a=a.T\n",
        "  if activation_function == 'sigmoid':\n",
        "        #for i in range(n_neurons):\n",
        "          #for j in range(60000):\n",
        "            #h[i]=sigmoid(a[i])\n",
        "        h=sigmoid(a)\n",
        "  elif activation_function == 'relu':\n",
        "      #for i in range(n_neurons):\n",
        "        #for j in range(60000):\n",
        "          h=relu(a)\n",
        "  elif activation_function == 'tanh':\n",
        "      #for i in range(n_neurons):\n",
        "        #for j in range(60000):\n",
        "          h=tanh(a)\n",
        "  return h\n",
        "\n",
        "\n",
        "\n",
        "def forwardPropagation(W,b,n_neurons,n_layers,activation_function,X,n_outputneurons):\n",
        "  a=np.zeros((n_neurons,X.shape[1]))\n",
        "  h=X\n",
        "  H=[]\n",
        "  A=[]\n",
        "\n",
        "  for k in range(0,n_layers):\n",
        "    a=b[k]+np.matmul(W[k],h)\n",
        "    h=activation(activation_function,a,n_neurons)\n",
        "    #h=sigmoid(a)\n",
        "    #print(a.shape)\n",
        "    #print(h.shape)\n",
        "    H.append(h)\n",
        "    A.append(a)\n",
        "    #print(a[0][0])\n",
        "    \n",
        " # h=np.reshape(h,(1,n_neurons))\n",
        " \n",
        "  a=b[n_layers]+(np.matmul(W[n_layers],h)) # activation function for output layer\n",
        "\n",
        "  y=softmax(a)\n",
        "  H.append(y)\n",
        "  A.append(a)\n",
        "  \n",
        "  return { \"A\" :A, \"H\":H, \"y\":y}\n",
        "\n",
        "\n",
        "(W,b)=initialise_parameters(\"xavier\",3,32,784,10)\n",
        "test=[X_train[i].flatten() for i in range(X_train.shape[0])]\n",
        "#np.random.shuffle(test)\n",
        "print(len(test))\n",
        "test=np.transpose(test)\n",
        "#test=test[:,0:1000]\n",
        "print(len(test[0]))\n",
        "y=forwardPropagation(W,b,32,3,\"relu\",test,10)\n"
      ]
    },
    {
      "cell_type": "code",
      "source": [
        "xval_flat=[X_validate[i].flatten() for i in range(X_validate.shape[0])]\n",
        "xval=np.transpose(xval_flat)"
      ],
      "metadata": {
        "id": "FMbTt6rWM5qc"
      },
      "execution_count": 5,
      "outputs": []
    },
    {
      "cell_type": "code",
      "source": [
        "xval.shape"
      ],
      "metadata": {
        "colab": {
          "base_uri": "https://localhost:8080/"
        },
        "id": "k9eDAEpE8wNf",
        "outputId": "8ddf458d-cff8-4531-8373-575c83529752"
      },
      "execution_count": null,
      "outputs": [
        {
          "output_type": "execute_result",
          "data": {
            "text/plain": [
              "(784, 6000)"
            ]
          },
          "metadata": {},
          "execution_count": 20
        }
      ]
    },
    {
      "cell_type": "code",
      "source": [
        "y_train_one_hot = np.zeros((10, X_train.shape[0]))\n",
        "print(Y_train.shape)\n",
        "y_train_one_hot[Y_train, np.array(list(range(54000)))] = 1\n",
        "print(y_train_one_hot.shape)\n",
        "\n",
        "def one_hot_vector(leny):\n",
        "  y_temp=np.zeros((10, leny))\n",
        "  for i in range(X_train.shape[0]):\n",
        "    ans=Y_train[i]\n",
        "    y_temp[ans][i]=1\n",
        "  return y_temp\n",
        "\n",
        "y_one=one_hot_vector(Y_train.shape[0])\n",
        "\n",
        "for i in range(y_one.shape[0]):\n",
        "  for j in range(y_one.shape[1]):\n",
        "    if(y_one[i][j]!=y_train_one_hot[i][j]):\n",
        "      print(\"False\")"
      ],
      "metadata": {
        "colab": {
          "base_uri": "https://localhost:8080/"
        },
        "id": "G6QMVOpLP8gO",
        "outputId": "1ee022ff-cd3c-4213-f3cd-3d0124acc53c"
      },
      "execution_count": null,
      "outputs": [
        {
          "output_type": "stream",
          "name": "stdout",
          "text": [
            "(54000,)\n",
            "(10, 54000)\n"
          ]
        }
      ]
    },
    {
      "cell_type": "code",
      "source": [
        "def calculateloss(y_predicted,y_actual,lenx,leny,Y):\n",
        "  rows=np.arange(leny)\n",
        "  return sum(-np.log(y_predicted.T[rows,Y]))/lenx\n",
        "\n",
        "y_train_one_hot = np.zeros((10, X_train.shape[0]))\n",
        "y_train_one_hot[Y_train, np.array(list(range(60000)))] = 1\n",
        "print(calculateloss(y[\"y\"],y_train_one_hot,len(X_train.T),len(Y_train),Y_train))"
      ],
      "metadata": {
        "colab": {
          "base_uri": "https://localhost:8080/"
        },
        "id": "rXKBDkzEYt59",
        "outputId": "98cb58ef-9002-4d96-ecdf-3c7c33d28382"
      },
      "execution_count": null,
      "outputs": [
        {
          "output_type": "stream",
          "name": "stdout",
          "text": [
            "6840.122348629496\n"
          ]
        }
      ]
    },
    {
      "cell_type": "code",
      "execution_count": 6,
      "metadata": {
        "id": "3xFTHIqnfaAh"
      },
      "outputs": [],
      "source": [
        "def one_hot_vector(lenY):\n",
        "  y_temp=np.zeros((10, lenY))\n",
        "  for i in range(X_train.shape[0]):\n",
        "    ans=Y_train[i]\n",
        "    y_temp[ans][i]=1\n",
        "  return y_temp\n",
        "\n",
        "y_one=one_hot_vector(Y_train.shape[0])\n",
        "\n",
        "\n",
        "\n",
        "def element_wise_multiply(A,B):\n",
        "  C=np.zeros(len(A))\n",
        "  for i in range(len(A)):\n",
        "    C[i]=A[i]*B[i]\n",
        "  return C.T\n",
        "\n",
        "def sigmoid_derivative(x):\n",
        "  return sigmoid(x) * (1-sigmoid(x))\n",
        "\n",
        "def tanh_derivative(x):\n",
        "    return (1 - (np.tanh(x)**2))\n",
        "\n",
        "def relu_derivative(x):\n",
        "  return x>0\n",
        "\n",
        "\n",
        "def find_derivative(activation_function,h,n_neurons):\n",
        "  \n",
        "  if(activation_function==\"sigmoid\"):\n",
        "      g=sigmoid(h)*(1-sigmoid(h))\n",
        "\n",
        "  elif(activation_function==\"tanh\"):\n",
        "      g= tanh_derivative(h)\n",
        "\n",
        "  elif(activation_function==\"relu\"):\n",
        "      g= relu_derivative(h)\n",
        "  \n",
        "  return g\n",
        "  \n",
        "  \n",
        "\n",
        "def backPropagation(H,A,n_neurons,n_layers,truelabel,n_classes,W,activation_function,X,y_one,wgt_dec):\n",
        "  #print(H[n_layers].shape)\n",
        "  gradient_a=H[n_layers]-y_one\n",
        "  G_W=[]\n",
        "  G_b=[]\n",
        "  \n",
        "  for k in range(n_layers,-1,-1):\n",
        "    '''if(k==n_layers):\n",
        "      gradient_W=np.matmul(gradient_a,H[k-1].T)\n",
        "      G_W.append(gradient_W)\n",
        "    elif(k==0):\n",
        "     \n",
        "     # gradient_W=np.matmul(gradient_a,np.reshape(X,(X.shape[1],784)))\n",
        "      gradient_W=np.matmul(gradient_a,X.T)\n",
        "      G_W.append(gradient_W)\n",
        "    else:\n",
        "      gradient_W=np.matmul(gradient_a,H[k-1].T)\n",
        "      G_W.append(gradient_W)'''\n",
        "    if(k==0):\n",
        "     \n",
        "     # gradient_W=np.matmul(gradient_a,np.reshape(X,(X.shape[1],784)))\n",
        "      gradient_W=np.matmul(gradient_a,X.T)+wgt_dec*W[k]/X.shape[1]\n",
        "      G_W.append(gradient_W)\n",
        "    else:\n",
        "      gradient_W=np.matmul(gradient_a,H[k-1].T)+wgt_dec*W[k]/X.shape[1]\n",
        "      G_W.append(gradient_W)\n",
        "    gradient_b=np.sum(gradient_a, axis=1, keepdims=True) / X.shape[1]\n",
        "    G_b.append(gradient_b)\n",
        "    \n",
        "    if(k>0):\n",
        "      gradient_prevh=np.matmul(W[k].T,gradient_a)\n",
        "      derivative_matrix=find_derivative(activation_function,H[k-1],n_neurons)\n",
        "      #print(gradient_prevh.shape)\n",
        "      #print(derivative_matrix.shape)\n",
        "      gradient_a=gradient_prevh*derivative_matrix\n",
        "    \n",
        "  #print(G_W)\n",
        "  G_W=G_W[::-1]\n",
        "  G_b=G_b[::-1]\n",
        "  return {\"g_W\": G_W, \"g_b\": G_b}\n",
        "\n",
        "g=backPropagation(y[\"H\"],y[\"A\"],32,3,9,10,W,\"tanh\",test,y_one,0.0005)\n",
        "\n"
      ]
    },
    {
      "cell_type": "code",
      "source": [
        "with np.errstate(divide=\"ignore\"):\n",
        "    np.log(0)"
      ],
      "metadata": {
        "id": "9RmJSkhVY8sY"
      },
      "execution_count": 7,
      "outputs": []
    },
    {
      "cell_type": "code",
      "source": [
        "def calc_accuracy(prd,Y):\n",
        "  y_pred = np.argmax(prd[\"y\"],axis=0)\n",
        "  accuracy = np.sum(y_pred==Y)/Y.shape[0]\n",
        "  return accuracy*100\n",
        "\n",
        "#print(calc_accuracy(prd,Y_train))"
      ],
      "metadata": {
        "id": "yZZ3PNyy_-XW"
      },
      "execution_count": 8,
      "outputs": []
    },
    {
      "cell_type": "code",
      "execution_count": 30,
      "metadata": {
        "id": "CnfMj9VcxG4F"
      },
      "outputs": [],
      "source": [
        "def gradient_update_vanila(W,b,n_layers,grad,eta):\n",
        "\n",
        "  for k in range(0,n_layers+1):\n",
        "    W[k]-=eta*grad[\"g_W\"][k]\n",
        "    b[k]=b[k]-eta*grad[\"g_b\"][k]\n",
        "\n",
        "  return (W,b)\n",
        "\n",
        "def calculateloss(y_t_predicted,batch_size,lenx,leny,Y,wgt_dec,n_layers,W,isvalidate=False,y_v_predicted=None,Y_val=None):\n",
        "  \n",
        "  rows=np.arange(leny)\n",
        "  l= sum(-np.log(y_t_predicted.T[rows,Y]))/lenx\n",
        "  mod=0\n",
        "  if(wgt_dec!=0):\n",
        "    for k in range(0,n_layers+1):\n",
        "      mod+=np.sum(W[k]**2)\n",
        "  training_loss= l+((wgt_dec*mod)/(2*lenx))\n",
        "  if(isvalidate):\n",
        "    rows=np.arange(6000)\n",
        "    l= sum(-np.log(y_v_predicted.T[rows,Y_val]))/6000\n",
        "    validation_loss=l+((wgt_dec*mod)/(2*6000))\n",
        "    return training_loss,validation_loss\n",
        "\n",
        "  return training_loss\n",
        "\n",
        "\n",
        "\n",
        "\n",
        "\n",
        "\n",
        "\n",
        "\n",
        "def modelfit_vanila(epoch,eta,n_layers,activation_fn,n_neurons,initialisation,n_inputneurons,n_outputneurons,X,Y,n_classes,batch_size,wgt_dec):\n",
        "\n",
        "  (W,b)=initialise_parameters(initialisation,n_layers,n_neurons,n_inputneurons,n_outputneurons)\n",
        "  Loss=[]\n",
        "  v_loss=[]\n",
        "\n",
        "  print(\"___________________________________________________________________\")\n",
        "  print(\"Running Stochastic Gradient Descent.....\")\n",
        "  for t in range(epoch):\n",
        "    \n",
        "    for i in range(0,X.shape[1],batch_size):\n",
        "      y_f=forwardPropagation(W,b,n_neurons,n_layers,activation_fn,test[:,i:i+batch_size],10)\n",
        "      #loss=calculateloss(y[\"y\"],y_train_one_hot[:,i:i+batch_size],batch_size)\n",
        "      g=backPropagation(y_f[\"H\"],y_f[\"A\"],n_neurons,n_layers,Y_train,n_classes,W,activation_fn,test[:,i:i+batch_size],y_one[:,i:i+batch_size],wgt_dec)\n",
        "      #print(len(g[\"g_W\"][2][0]))\n",
        "      \n",
        "      (W,b)=gradient_update_vanila(W,b,n_layers,g,eta)\n",
        "   \n",
        "    y_t=forwardPropagation(W,b,n_neurons,n_layers,activation_fn,X,10)\n",
        "    y_v=forwardPropagation(W,b,n_neurons,n_layers,activation_fn,xval,10)\n",
        "    (training_loss,validation_loss)=calculateloss(y_t[\"y\"],batch_size,len(X.T),len(Y),Y,wgt_dec,n_layers,W,True,y_v[\"y\"],Y_validate)\n",
        "    training_accuracy=calc_accuracy(y_t,Y_train)\n",
        "    validation_accuracy=calc_accuracy(y_v,Y_validate)\n",
        "    \n",
        "    print(\"epoch:\",t,\"loss:\", training_loss, validation_loss)\n",
        "    Loss.append(training_loss)\n",
        "    v_loss.append(validation_loss)\n",
        "    wandb.log({\"training_acc\": training_accuracy, \"validation_accuracy\": validation_accuracy, \"training_loss\": training_loss, \"validation cost\": validation_loss, 'epoch': epoch})\n",
        "\n",
        "\n",
        "  #epochs=[i for i in range(epoch)]\n",
        "  #plotLoss(epochs,Loss)\n",
        "  print(\"------------------------------------------------------------------\")\n",
        "  print(\"Accuracy on training data:\",training_accuracy)\n",
        "  print(\"Accuracy on validation data:\",validation_accuracy)\n",
        "\n",
        "  return(W,b,Loss)\n",
        "\n",
        "\n",
        "\n",
        "\n",
        "\n",
        "#(W,b,Loss)=modelfit_vanila(10,1e-3,3,\"tanh\",64,\"xavier\",784,10,test,Y_train,10,32,0.0005)\n",
        "\n"
      ]
    },
    {
      "cell_type": "code",
      "source": [
        "def plotLoss(epochs,Loss):\n",
        "  plt.plot(epochs,Loss)\n",
        "  plt.xlabel('epoch')\n",
        "  plt.ylabel('loss')\n",
        "  plt.show()\n",
        "\n"
      ],
      "metadata": {
        "id": "bck3CUE57ZnT"
      },
      "execution_count": 18,
      "outputs": []
    },
    {
      "cell_type": "code",
      "source": [
        "np.seterr(divide = 'ignore') "
      ],
      "metadata": {
        "id": "zYz8r3i4BpAj",
        "colab": {
          "base_uri": "https://localhost:8080/"
        },
        "outputId": "30d201dd-a33b-4dd7-a5ac-4ccc2e038471"
      },
      "execution_count": null,
      "outputs": [
        {
          "output_type": "execute_result",
          "data": {
            "text/plain": [
              "{'divide': 'warn', 'over': 'warn', 'under': 'ignore', 'invalid': 'warn'}"
            ]
          },
          "metadata": {},
          "execution_count": 29
        }
      ]
    },
    {
      "cell_type": "code",
      "execution_count": 31,
      "metadata": {
        "id": "rAwtR_lG-egV"
      },
      "outputs": [],
      "source": [
        "def gradient_update_momentum(W,b,n_layers,grad,eta,u_W,u_b,beta):\n",
        "  for k in range(0,n_layers+1):\n",
        "    u_W[k]=beta*u_W[k]+(1-beta)*grad[\"g_W\"][k]\n",
        "    W[k]=W[k]-(eta*u_W[k])\n",
        "    u_b[k]=beta*u_b[k]+(1-beta)*grad[\"g_b\"][k]\n",
        "    b[k]=b[k]-(eta*u_b[k])\n",
        "\n",
        "  return (u_W,W,u_b,b)\n",
        "\n",
        "\n",
        "\n",
        "\n",
        "def modelfit_momentum(epoch,eta,n_layers,activation_fn,n_neurons,initialisation,n_inputneurons,n_outputneurons,X,Y,n_classes,beta,batch_size,wgt_dec):\n",
        "\n",
        "  (W,b)=initialise_parameters(initialisation,n_layers,n_neurons,n_inputneurons,n_outputneurons)\n",
        "  (u_W,u_b)=initialise_u(n_layers,n_neurons,n_inputneurons,n_outputneurons)\n",
        "  Loss=[]\n",
        "  v_loss=[]\n",
        "  print(\"___________________________________________________________________\")\n",
        "  print(\"Running Mometum Based Gradient Descent.....\")\n",
        "\n",
        "  for t in range(epoch):\n",
        "    \n",
        "    for i in range(0,X.shape[1],batch_size):\n",
        "\n",
        "      y=forwardPropagation(W,b,n_neurons,n_layers,activation_fn,test[:,i:i+batch_size],10)\n",
        "      g=backPropagation(y[\"H\"],y[\"A\"],n_neurons,n_layers,Y_train,n_classes,W,activation_fn,test[:,i:i+batch_size],y_one[:,i:i+batch_size],wgt_dec)\n",
        "      (u_W,W,u_b,b)=gradient_update_momentum(W,b,n_layers,g,eta,u_W,u_b,beta)\n",
        "  \n",
        "    ''' y=forwardPropagation(W,b,n_neurons,n_layers,activation_fn,X,10)\n",
        "    loss=calculateloss(y[\"y\"],y_one,batch_size,len(X.T),len(Y),Y,wgt_dec,n_layers,W)\n",
        "    Loss.append(loss)'''\n",
        "    \n",
        "    y_t=forwardPropagation(W,b,n_neurons,n_layers,activation_fn,X,10)\n",
        "    y_v=forwardPropagation(W,b,n_neurons,n_layers,activation_fn,xval,10)\n",
        "    (training_loss,validation_loss)=calculateloss(y_t[\"y\"],batch_size,len(X.T),len(Y),Y,wgt_dec,n_layers,W,True,y_v[\"y\"],Y_validate)\n",
        "    training_accuracy=calc_accuracy(y_t,Y_train)\n",
        "    validation_accuracy=calc_accuracy(y_v,Y_validate)\n",
        "    \n",
        "    print(\"epoch:\",t,\"loss:\", training_loss, validation_loss)\n",
        "    Loss.append(training_loss)\n",
        "    v_loss.append(validation_loss)\n",
        "    wandb.log({\"training_acc\": training_accuracy, \"validation_accuracy\": validation_accuracy, \"training_loss\": training_loss, \"validation cost\": validation_loss, 'epoch': epoch})\n",
        "\n",
        "  print(\"------------------------------------------------------------------\")\n",
        "  print(\"Accuracy on training data:\",training_accuracy)\n",
        "  print(\"Accuracy on validation data:\",validation_accuracy)\n",
        "    \n",
        "   # print(\"epoch:\",t,\"loss:\", loss)\n",
        "    #wandb.log({\"loss\": loss, \"epoch\": epoch})\n",
        "\n",
        "  #epochs=[i for i in range(epoch)]\n",
        "  #plotLoss(epochs,Loss)\n",
        "  return (Loss,W,b)\n",
        "\n",
        "#(Loss,W,b)=modelfit_momentum(5,1e-3,4,\"relu\",64,\"random\",784,10,test,Y_train,10,0.9,10,0.0005)"
      ]
    },
    {
      "cell_type": "code",
      "source": [
        "plotLoss(epoch,Loss)"
      ],
      "metadata": {
        "id": "iKg6ToppMVDV",
        "colab": {
          "base_uri": "https://localhost:8080/",
          "height": 279
        },
        "outputId": "fb7bc19f-f72d-4427-ceb8-3691fb48a058"
      },
      "execution_count": null,
      "outputs": [
        {
          "output_type": "display_data",
          "data": {
            "text/plain": [
              "<Figure size 432x288 with 1 Axes>"
            ],
            "image/png": "[encoded data removed]"
          },
          "metadata": {
            "needs_background": "light"
          }
        }
      ]
    },
    {
      "cell_type": "code",
      "execution_count": 32,
      "metadata": {
        "id": "nT78AI-ncS8c"
      },
      "outputs": [],
      "source": [
        "def gradient_update_nesterov(W,b,n_layers,grad,eta,u_W,u_b,beta):\n",
        "  for k in range(0,n_layers+1):\n",
        "    u_W[k]=beta*u_W[k]+eta*grad[\"g_W\"][k]\n",
        "    W[k]-=(u_W[k])\n",
        "    u_b[k]=beta*u_b[k]+eta*grad[\"g_b\"][k]\n",
        "    b[k]-=(u_b[k])\n",
        "\n",
        "  return (u_W,W,u_b,b)\n",
        "\n",
        "\n",
        "\n",
        "def modelfit_nestrov(epoch,eta,n_layers,activation_fn,n_neurons,initialisation,n_inputneurons,n_outputneurons,X,Y,n_classes,beta,batch_size,wgt_dec):\n",
        "\n",
        "  (W,b)=initialise_parameters(initialisation,n_layers,n_neurons,n_inputneurons,n_outputneurons)\n",
        "  (u_W,u_b)=initialise_u(n_layers,n_neurons,n_inputneurons,n_outputneurons)\n",
        "  lookahead_W=W.copy()\n",
        "  lookahead_b=b.copy()\n",
        "  Loss=[]\n",
        "  v_loss=[]\n",
        "  print(\"___________________________________________________________________\")\n",
        "  print(\"Running Nesterov Accelerated Based Gradient Descent.....\")\n",
        "\n",
        "  for t in range(epoch):\n",
        "   \n",
        "    sum=0\n",
        "    loss=0\n",
        "    for k in range(0,n_layers+1):\n",
        "      u_W[k]=beta*u_W[k]\n",
        "      u_b[k]=beta*u_b[k]\n",
        "    for i in range(0,X.shape[1],batch_size):\n",
        "\n",
        "      for k in range(0,n_layers+1):\n",
        "        lookahead_W[k]=W[k]-u_W[k]\n",
        "        lookahead_b[k]=b[k]-u_b[k]\n",
        "      y=forwardPropagation(lookahead_W,lookahead_b,n_neurons,n_layers,activation_fn,test[:,i:i+batch_size],10)\n",
        "      g=backPropagation(y[\"H\"],y[\"A\"],n_neurons,n_layers,Y_train,n_classes,lookahead_W,activation_fn,test[:,i:i+batch_size],y_one[:,i:i+batch_size],wgt_dec)\n",
        "      (u_W,W,u_b,b)=gradient_update_nesterov(W,b,n_layers,g,eta,u_W,u_b,beta)\n",
        "      \n",
        "    \n",
        "     \n",
        "    y_t=forwardPropagation(W,b,n_neurons,n_layers,activation_fn,X,10)\n",
        "    y_v=forwardPropagation(W,b,n_neurons,n_layers,activation_fn,xval,10)\n",
        "    (training_loss,validation_loss)=calculateloss(y_t[\"y\"],batch_size,len(X.T),len(Y),Y,wgt_dec,n_layers,W,True,y_v[\"y\"],Y_validate)\n",
        "    training_accuracy=calc_accuracy(y_t,Y_train)\n",
        "    validation_accuracy=calc_accuracy(y_v,Y_validate)\n",
        "    \n",
        "    print(\"epoch:\",t,\"loss:\", training_loss, validation_loss)\n",
        "    Loss.append(training_loss)\n",
        "    v_loss.append(validation_loss)\n",
        "    wandb.log({\"training_acc\": training_accuracy, \"validation_accuracy\": validation_accuracy, \"training_loss\": training_loss, \"validation cost\": validation_loss, 'epoch': epoch})\n",
        "\n",
        "  print(\"------------------------------------------------------------------\")\n",
        "  print(\"Accuracy on training data:\",training_accuracy)\n",
        "  print(\"Accuracy on validation data:\",validation_accuracy)\n",
        "    \n",
        "    #wandb.log({\"loss\": loss, \"epoch\": epoch})\n",
        "\n",
        "  #epochs=[i for i in range(epoch)]\n",
        "  #plotLoss(epochs,Loss)\n",
        "  return (Loss,W,b)\n",
        "\n",
        "\n",
        "#(Loss,W,b)=modelfit_nestrov(5,1e-3,3,\"relu\",128,\"xavier\",784,10,test,Y_train,10,0.9,64,0.0005)"
      ]
    },
    {
      "cell_type": "code",
      "source": [
        "epoch=[i for i in range(1000)]\n",
        "plotLoss(epoch,Loss)"
      ],
      "metadata": {
        "colab": {
          "base_uri": "https://localhost:8080/",
          "height": 279
        },
        "id": "Qh-yHYALkTpe",
        "outputId": "9495ea97-f20f-425a-d6aa-dfc72cfd0e94"
      },
      "execution_count": null,
      "outputs": [
        {
          "output_type": "display_data",
          "data": {
            "text/plain": [
              "<Figure size 432x288 with 1 Axes>"
            ],
            "image/png": "[encoded data removed]"
          },
          "metadata": {
            "needs_background": "light"
          }
        }
      ]
    },
    {
      "cell_type": "code",
      "execution_count": 33,
      "metadata": {
        "id": "GwH77TwMN2q9"
      },
      "outputs": [],
      "source": [
        "def gradient_update_rmsprop(W,b,n_layers,grad,eta,v_W,v_b,beta,epsilon):\n",
        "  for k in range(0,n_layers+1):\n",
        "    v_W[k]=beta*v_W[k]+(1-beta)*(np.multiply(grad[\"g_W\"][k],grad[\"g_W\"][k]))\n",
        "    W[k]-=(eta*grad[\"g_W\"][k])/(np.sqrt(v_W[k])+epsilon)\n",
        "    v_b[k]=beta*v_b[k]+(1-beta)*(np.multiply(grad[\"g_b\"][k],grad[\"g_b\"][k]))\n",
        "    b[k]-=(eta*grad[\"g_b\"][k])/(np.sqrt(v_b[k])+epsilon)\n",
        "\n",
        "  return (v_W,W,v_b,b)\n",
        "\n",
        "\n",
        "\n",
        "\n",
        "def modelfit_rmsprop(epoch,eta,n_layers,activation_fn,n_neurons,initialisation,n_inputneurons,n_outputneurons,X,Y,n_classes,beta,epsilon,batch_size,wgt_dec):\n",
        "\n",
        "  (W,b)=initialise_parameters(initialisation,n_layers,n_neurons,n_inputneurons,n_outputneurons)\n",
        "  (v_W,v_b)=initialise_u(n_layers,n_neurons,n_inputneurons,n_outputneurons)\n",
        "  Loss=[]\n",
        "  v_loss=[]\n",
        "  print(\"___________________________________________________________________\")\n",
        "  print(\"Running RMSProp.....\")\n",
        "\n",
        "  for t in range(epoch):\n",
        "    \n",
        "    for i in range(0,X.shape[1],batch_size):\n",
        "\n",
        "      y=forwardPropagation(W,b,n_neurons,n_layers,activation_fn,test[:,i:i+batch_size],10)\n",
        "      g=backPropagation(y[\"H\"],y[\"A\"],n_neurons,n_layers,Y_train,n_classes,W,activation_fn,test[:,i:i+batch_size],y_one[:,i:i+batch_size],wgt_dec)\n",
        "      (v_W,W,v_b,b)=gradient_update_rmsprop(W,b,n_layers,g,eta,v_W,v_b,beta,epsilon)\n",
        "  \n",
        "    y_t=forwardPropagation(W,b,n_neurons,n_layers,activation_fn,X,10)\n",
        "    y_v=forwardPropagation(W,b,n_neurons,n_layers,activation_fn,xval,10)\n",
        "    (training_loss,validation_loss)=calculateloss(y_t[\"y\"],batch_size,len(X.T),len(Y),Y,wgt_dec,n_layers,W,True,y_v[\"y\"],Y_validate)\n",
        "    training_accuracy=calc_accuracy(y_t,Y_train)\n",
        "    validation_accuracy=calc_accuracy(y_v,Y_validate)\n",
        "    \n",
        "    print(\"epoch:\",t,\"loss:\", training_loss, validation_loss)\n",
        "    Loss.append(training_loss)\n",
        "    v_loss.append(validation_loss)\n",
        "    wandb.log({\"training_acc\": training_accuracy, \"validation_accuracy\": validation_accuracy, \"training_loss\": training_loss, \"validation cost\": validation_loss, 'epoch': epoch})\n",
        "\n",
        "  print(\"------------------------------------------------------------------\")\n",
        "  print(\"Accuracy on training data:\",training_accuracy)\n",
        "  print(\"Accuracy on validation data:\",validation_accuracy)\n",
        "\n",
        "  #epochs=[i for i in range(epoch)]\n",
        "  #plotLoss(epochs,Loss)\n",
        "  return (Loss,W,b)\n",
        "\n",
        "#(Loss,W,b)=modelfit_rmsprop(20,1e-3,3,\"relu\",128,\"xavier\",784,10,test,Y_train,10,0.9,1e-6,512,0.0005)"
      ]
    },
    {
      "cell_type": "code",
      "source": [
        "epoch=[i for i in range(10)]\n",
        "plotLoss(epoch,Loss)"
      ],
      "metadata": {
        "colab": {
          "base_uri": "https://localhost:8080/",
          "height": 282
        },
        "id": "qe4Z6kWegq2f",
        "outputId": "923b48e6-b3dd-40bd-990e-82d5f5028030"
      },
      "execution_count": null,
      "outputs": [
        {
          "output_type": "display_data",
          "data": {
            "text/plain": [
              "<Figure size 432x288 with 1 Axes>"
            ],
            "image/png": "[encoded data removed]"
          },
          "metadata": {
            "needs_background": "light"
          }
        }
      ]
    },
    {
      "cell_type": "code",
      "source": [],
      "metadata": {
        "id": "yu9Y465QRgqb"
      },
      "execution_count": null,
      "outputs": []
    },
    {
      "cell_type": "code",
      "execution_count": 34,
      "metadata": {
        "id": "agZ340yQRhJw"
      },
      "outputs": [],
      "source": [
        "def gradient_update_adam(W,b,n_layers,grad,eta,v_W,v_b,m_W,m_b,beta1,beta2,epsilon,t):\n",
        "  for k in range(0,n_layers+1):\n",
        "    m_W[k]=beta1*m_W[k]+(1-beta1)*grad[\"g_W\"][k]\n",
        "    m_b[k]=beta1*m_b[k]+(1-beta1)*grad[\"g_b\"][k]\n",
        "\n",
        "    v_W[k]=beta2*v_W[k]+(1-beta2)*grad[\"g_W\"][k]**2\n",
        "    v_b[k]=beta2*v_b[k]+(1-beta2)*grad[\"g_b\"][k]**2\n",
        "\n",
        "    m_W_correction=m_W[k]/(1-(beta1**t))\n",
        "    m_b_correction=m_b[k]/(1-(beta1**t))\n",
        "\n",
        "    v_W_correction=v_W[k]/(1-(beta2**t))\n",
        "    v_b_correction=v_b[k]/(1-(beta2**t))\n",
        "\n",
        "    W[k]-=(eta*m_W_correction)/(np.sqrt(v_W_correction)+epsilon)\n",
        "    b[k]-=(eta*m_b_correction)/(np.sqrt(v_b_correction)+epsilon)\n",
        "\n",
        "  return (m_W,v_W,W,m_b,v_b,b)\n",
        "\n",
        "\n",
        "\n",
        "\n",
        "def modelfit_adam(epoch,eta,n_layers,activation_fn,n_neurons,initialisation,n_inputneurons,n_outputneurons,X,Y,n_classes,beta1,beta2,epsilon,batch_size,wgt_dec):\n",
        "\n",
        "  (W,b)=initialise_parameters(initialisation,n_layers,n_neurons,n_inputneurons,n_outputneurons)\n",
        "  (v_W,v_b)=initialise_u(n_layers,n_neurons,n_inputneurons,n_outputneurons)\n",
        "  (m_W,m_b)=initialise_u(n_layers,n_neurons,n_inputneurons,n_outputneurons)\n",
        "  v_loss=[]\n",
        "  Loss=[]\n",
        "  print(\"___________________________________________________________________\")\n",
        "  print(\"Running Adam.....\")\n",
        "\n",
        "  for t in range(1,epoch+1):\n",
        "    \n",
        "    for i in range(0,X.shape[1],batch_size):\n",
        "\n",
        "      y=forwardPropagation(W,b,n_neurons,n_layers,activation_fn,test[:,i:i+batch_size],10)\n",
        "      g=backPropagation(y[\"H\"],y[\"A\"],n_neurons,n_layers,Y_train,n_classes,W,activation_fn,test[:,i:i+batch_size],y_one[:,i:i+batch_size],wgt_dec)\n",
        "      (m_W,v_W,W,m_b,v_b,b)=gradient_update_adam(W,b,n_layers,g,eta,v_W,v_b,m_W,m_b,beta1,beta2,epsilon,t)\n",
        "  \n",
        "    y_t=forwardPropagation(W,b,n_neurons,n_layers,activation_fn,X,10)\n",
        "    y_v=forwardPropagation(W,b,n_neurons,n_layers,activation_fn,xval,10)\n",
        "    (training_loss,validation_loss)=calculateloss(y_t[\"y\"],batch_size,len(X.T),len(Y),Y,wgt_dec,n_layers,W,True,y_v[\"y\"],Y_validate)\n",
        "    training_accuracy=calc_accuracy(y_t,Y_train)\n",
        "    validation_accuracy=calc_accuracy(y_v,Y_validate)\n",
        "    \n",
        "    print(\"epoch:\",t,\"loss:\", training_loss, validation_loss)\n",
        "    Loss.append(training_loss)\n",
        "    v_loss.append(validation_loss)\n",
        "    wandb.log({\"training_acc\": training_accuracy, \"validation_accuracy\": validation_accuracy, \"training_loss\": training_loss, \"validation cost\": validation_loss, 'epoch': epoch})\n",
        "\n",
        "  print(\"------------------------------------------------------------------\")\n",
        "  print(\"Accuracy on training data:\",training_accuracy)\n",
        "  print(\"Accuracy on validation data:\",validation_accuracy)\n",
        "  #epochs=[i for i in range(epoch)]\n",
        "  #plotLoss(epochs,Loss)\n",
        "  return (Loss,W,b)\n",
        "\n",
        "#(Loss,W,b)=modelfit_adam(10,1e-3,3,\"tanh\",32,\"xavier\",784,10,test,Y_train,10,0.9,0.999,1e-8,10,0.0005)"
      ]
    },
    {
      "cell_type": "code",
      "execution_count": 38,
      "metadata": {
        "id": "xD_LhFc1y5Ip",
        "colab": {
          "base_uri": "https://localhost:8080/"
        },
        "outputId": "0c909726-2ad8-4063-c1b0-d4871a26263f"
      },
      "outputs": [
        {
          "output_type": "stream",
          "name": "stdout",
          "text": [
            "___________________________________________________________________\n",
            "Running Nadam.....\n"
          ]
        },
        {
          "output_type": "stream",
          "name": "stderr",
          "text": [
            "<ipython-input-30-aee0324f8efd>:12: RuntimeWarning: divide by zero encountered in log\n",
            "  l= sum(-np.log(y_t_predicted.T[rows,Y]))/lenx\n",
            "<ipython-input-30-aee0324f8efd>:20: RuntimeWarning: divide by zero encountered in log\n",
            "  l= sum(-np.log(y_v_predicted.T[rows,Y_val]))/6000\n"
          ]
        },
        {
          "output_type": "stream",
          "name": "stdout",
          "text": [
            "epoch: 1 loss: inf inf\n",
            "epoch: 2 loss: inf inf\n",
            "epoch: 3 loss: inf inf\n",
            "epoch: 4 loss: inf inf\n",
            "epoch: 5 loss: inf inf\n",
            "------------------------------------------------------------------\n",
            "Accuracy on training data: 80.11481481481482\n",
            "Accuracy on validation data: 77.33333333333333\n"
          ]
        }
      ],
      "source": [
        "def gradient_update_nadam(W,b,n_layers,grad,eta,v_W,v_b,m_W,m_b,beta1,beta2,epsilon,t):\n",
        "  for k in range(0,n_layers+1):\n",
        "    m_W[k]=beta1*m_W[k]+(1-beta1)*grad[\"g_W\"][k]\n",
        "    m_b[k]=beta1*m_b[k]+(1-beta1)*grad[\"g_b\"][k]\n",
        "\n",
        "    v_W[k]=beta2*v_W[k]+(1-beta2)*grad[\"g_W\"][k]**2\n",
        "    v_b[k]=beta2*v_b[k]+(1-beta2)*grad[\"g_b\"][k]**2\n",
        "\n",
        "    m_W_correction=m_W[k]/(1-(beta1**(t+1)))\n",
        "    m_b_correction=m_b[k]/(1-(beta1**(t+1)))\n",
        "\n",
        "    v_W_correction=v_W[k]/(1-(beta2**(t+1)))\n",
        "    v_b_correction=v_b[k]/(1-(beta2**(t+1)))\n",
        "\n",
        "    W[k]-=((eta)/(np.sqrt(v_W_correction)+epsilon))*(beta1*m_W_correction+((1-beta1)*grad[\"g_W\"][k])/(1-beta1**(t+1)))\n",
        "    b[k]-=(eta)/(np.sqrt(v_b_correction)+epsilon)*(beta1*m_b_correction+((1-beta1)*grad[\"g_b\"][k])/(1-beta1**(t+1)))\n",
        "\n",
        "  return (m_W,v_W,W,m_b,v_b,b)\n",
        "\n",
        "\n",
        "\n",
        "\n",
        "def modelfit_nadam(epoch,eta,n_layers,activation_fn,n_neurons,initialisation,n_inputneurons,n_outputneurons,X,Y,n_classes,beta1,beta2,epsilon,batch_size,wgt_dec):\n",
        "\n",
        "  (W,b)=initialise_parameters(initialisation,n_layers,n_neurons,n_inputneurons,n_outputneurons)\n",
        "  (v_W,v_b)=initialise_u(n_layers,n_neurons,n_inputneurons,n_outputneurons)\n",
        "  (m_W,m_b)=initialise_u(n_layers,n_neurons,n_inputneurons,n_outputneurons)\n",
        "  Loss=[]\n",
        "  v_loss=[]\n",
        "  print(\"___________________________________________________________________\")\n",
        "  print(\"Running Nadam.....\")\n",
        "\n",
        "  for t in range(1,epoch+1):\n",
        "    \n",
        "    for i in range(0,X.shape[1],batch_size):\n",
        "\n",
        "      y=forwardPropagation(W,b,n_neurons,n_layers,activation_fn,test[:,i:i+batch_size],10)\n",
        "      g=backPropagation(y[\"H\"],y[\"A\"],n_neurons,n_layers,Y_train,n_classes,W,activation_fn,test[:,i:i+batch_size],y_one[:,i:i+batch_size],wgt_dec)\n",
        "      (m_W,v_W,W,m_b,v_b,b)=gradient_update_nadam(W,b,n_layers,g,eta,v_W,v_b,m_W,m_b,beta1,beta2,epsilon,t)\n",
        "  \n",
        "    y_t=forwardPropagation(W,b,n_neurons,n_layers,activation_fn,X,10)\n",
        "    y_v=forwardPropagation(W,b,n_neurons,n_layers,activation_fn,xval,10)\n",
        "    (training_loss,validation_loss)=calculateloss(y_t[\"y\"],batch_size,len(X.T),len(Y),Y,wgt_dec,n_layers,W,True,y_v[\"y\"],Y_validate)\n",
        "    training_accuracy=calc_accuracy(y_t,Y_train)\n",
        "    validation_accuracy=calc_accuracy(y_v,Y_validate)\n",
        "    \n",
        "    print(\"epoch:\",t,\"loss:\", training_loss, validation_loss)\n",
        "    Loss.append(training_loss)\n",
        "    v_loss.append(validation_loss)\n",
        "    #wandb.log({\"training_acc\": training_accuracy, \"validation_accuracy\": validation_accuracy, \"training_loss\": training_loss, \"validation cost\": validation_loss, 'epoch': epoch})\n",
        "\n",
        "  print(\"------------------------------------------------------------------\")\n",
        "  print(\"Accuracy on training data:\",training_accuracy)\n",
        "  print(\"Accuracy on validation data:\",validation_accuracy)\n",
        "\n",
        "  #epochs=[i for i in range(epoch)]\n",
        "  #plotLoss(epochs,Loss)\n",
        "  return (Loss,W,b)\n",
        "\n",
        "(Loss,W,b)=modelfit_nadam(5,1e-3,5,\"relu\",128,\"random\",784,10,test,Y_train,10,0.9,0.999,1e-8,32,0.0005)"
      ]
    },
    {
      "cell_type": "code",
      "source": [
        "epoch=[i for i in range(10)]\n",
        "plotLoss(epoch,Loss)"
      ],
      "metadata": {
        "colab": {
          "base_uri": "https://localhost:8080/",
          "height": 279
        },
        "id": "0K6n8Rb3WNPA",
        "outputId": "600b590c-f3e4-4a4a-de2e-0b38ea30e4a7"
      },
      "execution_count": null,
      "outputs": [
        {
          "output_type": "display_data",
          "data": {
            "text/plain": [
              "<Figure size 432x288 with 1 Axes>"
            ],
            "image/png": "[encoded data removed]"
          },
          "metadata": {
            "needs_background": "light"
          }
        }
      ]
    },
    {
      "cell_type": "code",
      "source": [
        "def network_train(epoch,eta,n_layers,activation_fn,n_neurons,initialisation,X,Y,batch_size,wgt_dec,optimiser,n_inputneurons,n_outputneurons,n_classes,beta,beta1,beta2,epsilon):\n",
        "  if(optimiser==\"sgd\"):\n",
        "    (W,b,Loss)=modelfit_vanila(epoch,eta,n_layers,activation_fn,n_neurons,initialisation,n_inputneurons,n_outputneurons,X,Y,n_classes,batch_size,wgt_dec)\n",
        "  elif optimiser==\"momentum\":\n",
        "    (Loss,W,b)=modelfit_momentum(epoch,eta,n_layers,activation_fn,n_neurons,initialisation,n_inputneurons,n_outputneurons,X,Y,n_classes,beta,batch_size,wgt_dec)\n",
        "  elif optimiser==\"nesterov\":\n",
        "    (Loss,W,b)=modelfit_nestrov(epoch,eta,n_layers,activation_fn,n_neurons,initialisation,n_inputneurons,n_outputneurons,X,Y,n_classes,beta,batch_size,wgt_dec)\n",
        "  elif optimiser==\"rmsprop\":\n",
        "    (Loss,W,b)=modelfit_rmsprop(epoch,eta,n_layers,activation_fn,n_neurons,initialisation,n_inputneurons,n_outputneurons,X,Y,n_classes,beta,epsilon,batch_size,wgt_dec)\n",
        "  elif optimiser==\"adam\":\n",
        "    (Loss,W,b)=modelfit_adam(epoch,eta,n_layers,activation_fn,n_neurons,initialisation,n_inputneurons,n_outputneurons,X,Y,n_classes,beta1,beta2,epsilon,batch_size,wgt_dec)\n",
        "  elif optimiser==\"nadam\":\n",
        "    (Loss,W,b)=modelfit_nadam(epoch,eta,n_layers,activation_fn,n_neurons,initialisation,n_inputneurons,n_outputneurons,X,Y,n_classes,beta1,beta2,epsilon,batch_size,wgt_dec)\n",
        "\n",
        "  epochs=[i for i in range(epoch)]\n",
        "  plotLoss(epochs,Loss)\n",
        "  return (Loss,W,b)\n",
        "\n",
        "\n",
        "\n",
        "#(Loss,W,b)=network_train(10,1e-3,3,\"tanh\",32,\"xavier\",test,Y_train,10,\"nadam\",784,10,10,0,0.9,0.999,1e-8)"
      ],
      "metadata": {
        "id": "6q_e1ZHr9is_"
      },
      "execution_count": 29,
      "outputs": []
    },
    {
      "cell_type": "code",
      "execution_count": null,
      "metadata": {
        "id": "xgXK0wF2bZSv"
      },
      "outputs": [],
      "source": [
        "prd=forwardPropagation(W,b,128,3,\"relu\",test,10)"
      ]
    },
    {
      "cell_type": "code",
      "source": [
        "prd[\"y\"].shape"
      ],
      "metadata": {
        "id": "BXLeEOy641fx",
        "colab": {
          "base_uri": "https://localhost:8080/"
        },
        "outputId": "eca838a8-b906-45c2-f2ac-007e72bb19b1"
      },
      "execution_count": null,
      "outputs": [
        {
          "output_type": "execute_result",
          "data": {
            "text/plain": [
              "(10, 60000)"
            ]
          },
          "metadata": {},
          "execution_count": 43
        }
      ]
    },
    {
      "cell_type": "code",
      "execution_count": null,
      "metadata": {
        "colab": {
          "base_uri": "https://localhost:8080/"
        },
        "id": "ZhKXgSVubf4K",
        "outputId": "173daf1b-311c-41a0-b356-eac9a893f280"
      },
      "outputs": [
        {
          "output_type": "stream",
          "name": "stdout",
          "text": [
            "92.30555555555556\n"
          ]
        }
      ],
      "source": [
        "yout=prd[\"y\"].T\n",
        "count=0\n",
        "for i in range(54000):\n",
        "  if(Y_train[i]==yout[i].argmax()):\n",
        "    count+=1\n",
        "\n",
        "print((count/54000)*100)"
      ]
    },
    {
      "cell_type": "code",
      "source": [
        "sweep_config = {\n",
        "    'method': 'random',     \n",
        "    'metric': { 'name': 'validation_accuracy',\n",
        "      'goal': 'maximize'   \n",
        "    },\n",
        "    'parameters': {\n",
        "        'epoch': {\n",
        "            'values': [5, 10]\n",
        "        },\n",
        "        'n_hidden': {\n",
        "            'values': [3, 4, 5]\n",
        "        },\n",
        "        'n_neurons': {\n",
        "            'values': [32, 64, 128]\n",
        "        },\n",
        "        'n_layers':{\n",
        "            'values':[3,4,5]\n",
        "        },\n",
        "        \n",
        "        'eta': {\n",
        "            'values': [1e-3, 1e-4]\n",
        "        },\n",
        "        'optimizer': {\n",
        "            'values': ['sgd', 'momentum', 'nesterov', 'rmsprop', 'adam', 'nadam' ]\n",
        "        },\n",
        "        'batch_size': {\n",
        "            'values': [16, 32, 64]\n",
        "        },\n",
        "        'initialisation': {\n",
        "            'values': ['random', 'xavier']\n",
        "        },\n",
        "        'activation_fn': {\n",
        "            'values': ['relu', 'tanh', 'sigmoid']\n",
        "        },\n",
        "        'wgt_dec' :{\n",
        "            'values': [0, 0.0005, 0.005]\n",
        "        }\n",
        "    }\n",
        "}\n",
        "\n",
        "def train():\n",
        "    run=wandb.init(project=\"assignment1\")\n",
        "    config = wandb.config\n",
        "    (Loss,W,b)=network_train(config.epoch,config.eta,config.n_layers,config.activation_fn,config.n_neurons,config.initialisation,test,Y_train,config.batch_size,config.wgt_dec,config.optimizer,n_inputneurons=784,n_outputneurons=10,n_classes=10,beta=0.9,beta1=0.9,beta2=0.999,epsilon=1e-8)\n",
        "    run.finish()\n",
        "\n",
        "\n",
        "sweep_id = wandb.sweep(sweep=sweep_config, project=\"assignment1\")\n",
        "\n",
        "\n",
        "wandb.agent(sweep_id, function=train,count=5)"
      ],
      "metadata": {
        "colab": {
          "base_uri": "https://localhost:8080/",
          "height": 1000,
          "referenced_widgets": [
            "a6b604c3b7f3426eb2ca449b81e014c6",
            "e84c5dd9e3694f32956b7d4c3b472332",
            "866574e07f984bd5b0cf37a59ab729bd",
            "d87ac5bf25b544a4aac0d842fc73c4b2",
            "51b56135f0f64d1f94308f4f8be439af",
            "32e01d726fdc4a04bd37165048587381",
            "fa831986f00a4e70891b7fd76dc2c05b",
            "99a1a4b1e102490fb739f28ff136ceae",
            "57fca393e3e743a8b0fc53693f28751c",
            "6ce723ff41c84ad38778aca950d29cb4",
            "fed04b1b3b3549f89c38c8410f55a562",
            "438f39b974dd4623b0aeefd1eba3387a",
            "6abc725b565e4341bf50b86c113dd01a",
            "071bc89c232f49348c89a18173213c32",
            "dc8745c2dc7346328ef93aaff0959812",
            "c331c881f0f6488facbcaa90de1b2d7a",
            "cff35cf55a55409284fc450f450b6c63",
            "328dbd83bb674d79a4055dae6d456ff3",
            "82b34d1e732344518c6a7b35c7d96a93",
            "deea36ca2c564fb6a6d391be86d562ae",
            "c9028ff1200349f0b4a806d8c65bd653",
            "443664789e39425789f655a62e5b981d",
            "43cbb9d6e4ad492c8c364f2724e79765",
            "56169462509047ec91c008adc543980b"
          ]
        },
        "id": "_PU9_eHWecot",
        "outputId": "05ef6715-d079-415e-c485-68c9214f6fea"
      },
      "execution_count": 37,
      "outputs": [
        {
          "output_type": "stream",
          "name": "stdout",
          "text": [
            "Create sweep with ID: 4179xx88\n",
            "Sweep URL: https://wandb.ai/cs22m025/assignment1/sweeps/4179xx88\n"
          ]
        },
        {
          "output_type": "stream",
          "name": "stderr",
          "text": [
            "\u001b[34m\u001b[1mwandb\u001b[0m: Agent Starting Run: m0kk6atl with config:\n",
            "\u001b[34m\u001b[1mwandb\u001b[0m: \tactivation_fn: relu\n",
            "\u001b[34m\u001b[1mwandb\u001b[0m: \tbatch_size: 16\n",
            "\u001b[34m\u001b[1mwandb\u001b[0m: \tepoch: 10\n",
            "\u001b[34m\u001b[1mwandb\u001b[0m: \teta: 0.001\n",
            "\u001b[34m\u001b[1mwandb\u001b[0m: \tinitialisation: random\n",
            "\u001b[34m\u001b[1mwandb\u001b[0m: \tn_hidden: 5\n",
            "\u001b[34m\u001b[1mwandb\u001b[0m: \tn_layers: 3\n",
            "\u001b[34m\u001b[1mwandb\u001b[0m: \tn_neurons: 128\n",
            "\u001b[34m\u001b[1mwandb\u001b[0m: \toptimizer: sgd\n",
            "\u001b[34m\u001b[1mwandb\u001b[0m: \twgt_dec: 0\n",
            "Failed to detect the name of this notebook, you can set it manually with the WANDB_NOTEBOOK_NAME environment variable to enable code saving.\n",
            "\u001b[34m\u001b[1mwandb\u001b[0m: \u001b[33mWARNING\u001b[0m Ignored wandb.init() arg project when running a sweep.\n"
          ]
        },
        {
          "output_type": "display_data",
          "data": {
            "text/plain": [
              "<IPython.core.display.HTML object>"
            ],
            "text/html": [
              "Tracking run with wandb version 0.13.10"
            ]
          },
          "metadata": {}
        },
        {
          "output_type": "display_data",
          "data": {
            "text/plain": [
              "<IPython.core.display.HTML object>"
            ],
            "text/html": [
              "Run data is saved locally in <code>/content/wandb/run-20230307_172245-m0kk6atl</code>"
            ]
          },
          "metadata": {}
        },
        {
          "output_type": "display_data",
          "data": {
            "text/plain": [
              "<IPython.core.display.HTML object>"
            ],
            "text/html": [
              "Syncing run <strong><a href='https://wandb.ai/cs22m025/assignment1/runs/m0kk6atl' target=\"_blank\">lucky-sweep-1</a></strong> to <a href='https://wandb.ai/cs22m025/assignment1' target=\"_blank\">Weights & Biases</a> (<a href='https://wandb.me/run' target=\"_blank\">docs</a>)<br/>Sweep page: <a href='https://wandb.ai/cs22m025/assignment1/sweeps/4179xx88' target=\"_blank\">https://wandb.ai/cs22m025/assignment1/sweeps/4179xx88</a>"
            ]
          },
          "metadata": {}
        },
        {
          "output_type": "display_data",
          "data": {
            "text/plain": [
              "<IPython.core.display.HTML object>"
            ],
            "text/html": [
              " View project at <a href='https://wandb.ai/cs22m025/assignment1' target=\"_blank\">https://wandb.ai/cs22m025/assignment1</a>"
            ]
          },
          "metadata": {}
        },
        {
          "output_type": "display_data",
          "data": {
            "text/plain": [
              "<IPython.core.display.HTML object>"
            ],
            "text/html": [
              " View sweep at <a href='https://wandb.ai/cs22m025/assignment1/sweeps/4179xx88' target=\"_blank\">https://wandb.ai/cs22m025/assignment1/sweeps/4179xx88</a>"
            ]
          },
          "metadata": {}
        },
        {
          "output_type": "display_data",
          "data": {
            "text/plain": [
              "<IPython.core.display.HTML object>"
            ],
            "text/html": [
              " View run at <a href='https://wandb.ai/cs22m025/assignment1/runs/m0kk6atl' target=\"_blank\">https://wandb.ai/cs22m025/assignment1/runs/m0kk6atl</a>"
            ]
          },
          "metadata": {}
        },
        {
          "output_type": "stream",
          "name": "stdout",
          "text": [
            "___________________________________________________________________\n",
            "Running Stochastic Gradient Descent.....\n",
            "epoch: 0 loss: 0.9139510543167046 0.9431838721474919\n",
            "epoch: 1 loss: 0.8290810507985128 0.8646010069709225\n",
            "epoch: 2 loss: 0.7743449424713785 0.8160051634431458\n",
            "epoch: 3 loss: 0.7357268437446732 0.7752887988503238\n",
            "epoch: 4 loss: 0.6944791169926116 0.7332922965695156\n",
            "epoch: 5 loss: 0.6669589415997026 0.7085001830063162\n",
            "epoch: 6 loss: 0.6547272289890318 0.6949478531265164\n",
            "epoch: 7 loss: 0.6299014995515816 0.6651133138741028\n",
            "epoch: 8 loss: 0.60717857310379 0.6467958221166421\n",
            "epoch: 9 loss: 0.5929501642245512 0.6370684032983495\n",
            "------------------------------------------------------------------\n",
            "Accuracy on training data: 76.8851851851852\n",
            "Accuracy on validation data: 75.14999999999999\n"
          ]
        },
        {
          "output_type": "display_data",
          "data": {
            "text/plain": [
              "<Figure size 432x288 with 1 Axes>"
            ],
            "image/png": "[encoded data removed]"
          },
          "metadata": {
            "needs_background": "light"
          }
        },
        {
          "output_type": "display_data",
          "data": {
            "text/plain": [
              "<IPython.core.display.HTML object>"
            ],
            "text/html": [
              "Waiting for W&B process to finish... <strong style=\"color:green\">(success).</strong>"
            ]
          },
          "metadata": {}
        },
        {
          "output_type": "display_data",
          "data": {
            "text/plain": [
              "VBox(children=(Label(value='0.001 MB of 0.001 MB uploaded (0.000 MB deduped)\\r'), FloatProgress(value=1.0, max…"
            ],
            "application/vnd.jupyter.widget-view+json": {
              "version_major": 2,
              "version_minor": 0,
              "model_id": "a6b604c3b7f3426eb2ca449b81e014c6"
            }
          },
          "metadata": {}
        },
        {
          "output_type": "display_data",
          "data": {
            "text/plain": [
              "<IPython.core.display.HTML object>"
            ],
            "text/html": [
              "<style>\n",
              "    table.wandb td:nth-child(1) { padding: 0 10px; text-align: left ; width: auto;} td:nth-child(2) {text-align: left ; width: 100%}\n",
              "    .wandb-row { display: flex; flex-direction: row; flex-wrap: wrap; justify-content: flex-start; width: 100% }\n",
              "    .wandb-col { display: flex; flex-direction: column; flex-basis: 100%; flex: 1; padding: 10px; }\n",
              "    </style>\n",
              "<div class=\"wandb-row\"><div class=\"wandb-col\"><h3>Run history:</h3><br/><table class=\"wandb\"><tr><td>epoch</td><td>▁▁▁▁▁▁▁▁▁▁</td></tr><tr><td>training_acc</td><td>▁▂▃▄▅▆▆▇▇█</td></tr><tr><td>training_loss</td><td>█▆▅▄▃▃▂▂▁▁</td></tr><tr><td>validation cost</td><td>█▆▅▄▃▃▂▂▁▁</td></tr><tr><td>validation_accuracy</td><td>▁▂▃▄▅▆▆▇▇█</td></tr></table><br/></div><div class=\"wandb-col\"><h3>Run summary:</h3><br/><table class=\"wandb\"><tr><td>epoch</td><td>10</td></tr><tr><td>training_acc</td><td>76.88519</td></tr><tr><td>training_loss</td><td>0.59295</td></tr><tr><td>validation cost</td><td>0.63707</td></tr><tr><td>validation_accuracy</td><td>75.15</td></tr></table><br/></div></div>"
            ]
          },
          "metadata": {}
        },
        {
          "output_type": "display_data",
          "data": {
            "text/plain": [
              "<IPython.core.display.HTML object>"
            ],
            "text/html": [
              " View run <strong style=\"color:#cdcd00\">lucky-sweep-1</strong> at: <a href='https://wandb.ai/cs22m025/assignment1/runs/m0kk6atl' target=\"_blank\">https://wandb.ai/cs22m025/assignment1/runs/m0kk6atl</a><br/>Synced 5 W&B file(s), 0 media file(s), 0 artifact file(s) and 0 other file(s)"
            ]
          },
          "metadata": {}
        },
        {
          "output_type": "display_data",
          "data": {
            "text/plain": [
              "<IPython.core.display.HTML object>"
            ],
            "text/html": [
              "Find logs at: <code>./wandb/run-20230307_172245-m0kk6atl/logs</code>"
            ]
          },
          "metadata": {}
        },
        {
          "output_type": "stream",
          "name": "stderr",
          "text": [
            "\u001b[34m\u001b[1mwandb\u001b[0m: Sweep Agent: Waiting for job.\n",
            "\u001b[34m\u001b[1mwandb\u001b[0m: Job received.\n",
            "\u001b[34m\u001b[1mwandb\u001b[0m: Agent Starting Run: u0l1ysud with config:\n",
            "\u001b[34m\u001b[1mwandb\u001b[0m: \tactivation_fn: sigmoid\n",
            "\u001b[34m\u001b[1mwandb\u001b[0m: \tbatch_size: 64\n",
            "\u001b[34m\u001b[1mwandb\u001b[0m: \tepoch: 10\n",
            "\u001b[34m\u001b[1mwandb\u001b[0m: \teta: 0.0001\n",
            "\u001b[34m\u001b[1mwandb\u001b[0m: \tinitialisation: xavier\n",
            "\u001b[34m\u001b[1mwandb\u001b[0m: \tn_hidden: 5\n",
            "\u001b[34m\u001b[1mwandb\u001b[0m: \tn_layers: 5\n",
            "\u001b[34m\u001b[1mwandb\u001b[0m: \tn_neurons: 32\n",
            "\u001b[34m\u001b[1mwandb\u001b[0m: \toptimizer: momentum\n",
            "\u001b[34m\u001b[1mwandb\u001b[0m: \twgt_dec: 0.005\n",
            "Failed to detect the name of this notebook, you can set it manually with the WANDB_NOTEBOOK_NAME environment variable to enable code saving.\n",
            "\u001b[34m\u001b[1mwandb\u001b[0m: \u001b[33mWARNING\u001b[0m Ignored wandb.init() arg project when running a sweep.\n"
          ]
        },
        {
          "output_type": "display_data",
          "data": {
            "text/plain": [
              "<IPython.core.display.HTML object>"
            ],
            "text/html": [
              "Tracking run with wandb version 0.13.10"
            ]
          },
          "metadata": {}
        },
        {
          "output_type": "display_data",
          "data": {
            "text/plain": [
              "<IPython.core.display.HTML object>"
            ],
            "text/html": [
              "Run data is saved locally in <code>/content/wandb/run-20230307_172438-u0l1ysud</code>"
            ]
          },
          "metadata": {}
        },
        {
          "output_type": "display_data",
          "data": {
            "text/plain": [
              "<IPython.core.display.HTML object>"
            ],
            "text/html": [
              "Syncing run <strong><a href='https://wandb.ai/cs22m025/assignment1/runs/u0l1ysud' target=\"_blank\">toasty-sweep-2</a></strong> to <a href='https://wandb.ai/cs22m025/assignment1' target=\"_blank\">Weights & Biases</a> (<a href='https://wandb.me/run' target=\"_blank\">docs</a>)<br/>Sweep page: <a href='https://wandb.ai/cs22m025/assignment1/sweeps/4179xx88' target=\"_blank\">https://wandb.ai/cs22m025/assignment1/sweeps/4179xx88</a>"
            ]
          },
          "metadata": {}
        },
        {
          "output_type": "display_data",
          "data": {
            "text/plain": [
              "<IPython.core.display.HTML object>"
            ],
            "text/html": [
              " View project at <a href='https://wandb.ai/cs22m025/assignment1' target=\"_blank\">https://wandb.ai/cs22m025/assignment1</a>"
            ]
          },
          "metadata": {}
        },
        {
          "output_type": "display_data",
          "data": {
            "text/plain": [
              "<IPython.core.display.HTML object>"
            ],
            "text/html": [
              " View sweep at <a href='https://wandb.ai/cs22m025/assignment1/sweeps/4179xx88' target=\"_blank\">https://wandb.ai/cs22m025/assignment1/sweeps/4179xx88</a>"
            ]
          },
          "metadata": {}
        },
        {
          "output_type": "display_data",
          "data": {
            "text/plain": [
              "<IPython.core.display.HTML object>"
            ],
            "text/html": [
              " View run at <a href='https://wandb.ai/cs22m025/assignment1/runs/u0l1ysud' target=\"_blank\">https://wandb.ai/cs22m025/assignment1/runs/u0l1ysud</a>"
            ]
          },
          "metadata": {}
        },
        {
          "output_type": "stream",
          "name": "stdout",
          "text": [
            "___________________________________________________________________\n",
            "Running Mometum Based Gradient Descent.....\n",
            "epoch: 0 loss: 2.302635944429034 2.3025551298346953\n",
            "epoch: 1 loss: 2.3026209262327875 2.3025924872169465\n",
            "epoch: 2 loss: 2.3026170072295287 2.3025888023547423\n",
            "epoch: 3 loss: 2.3026130925889707 2.302584977504502\n",
            "epoch: 4 loss: 2.302609170710578 2.302581144992578\n",
            "epoch: 5 loss: 2.3026052400567942 2.30257730372017\n",
            "epoch: 6 loss: 2.3026012991117994 2.302573452169261\n",
            "epoch: 7 loss: 2.3025973463491534 2.3025695888097313\n",
            "epoch: 8 loss: 2.3025933802302117 2.302565712099288\n",
            "epoch: 9 loss: 2.302589399202376 2.3025618204817917\n",
            "------------------------------------------------------------------\n",
            "Accuracy on training data: 9.96111111111111\n",
            "Accuracy on validation data: 10.35\n"
          ]
        },
        {
          "output_type": "display_data",
          "data": {
            "text/plain": [
              "<Figure size 432x288 with 1 Axes>"
            ],
            "image/png": "[encoded data removed]"
          },
          "metadata": {
            "needs_background": "light"
          }
        },
        {
          "output_type": "display_data",
          "data": {
            "text/plain": [
              "<IPython.core.display.HTML object>"
            ],
            "text/html": [
              "Waiting for W&B process to finish... <strong style=\"color:green\">(success).</strong>"
            ]
          },
          "metadata": {}
        },
        {
          "output_type": "display_data",
          "data": {
            "text/plain": [
              "<IPython.core.display.HTML object>"
            ],
            "text/html": [
              "<style>\n",
              "    table.wandb td:nth-child(1) { padding: 0 10px; text-align: left ; width: auto;} td:nth-child(2) {text-align: left ; width: 100%}\n",
              "    .wandb-row { display: flex; flex-direction: row; flex-wrap: wrap; justify-content: flex-start; width: 100% }\n",
              "    .wandb-col { display: flex; flex-direction: column; flex-basis: 100%; flex: 1; padding: 10px; }\n",
              "    </style>\n",
              "<div class=\"wandb-row\"><div class=\"wandb-col\"><h3>Run history:</h3><br/><table class=\"wandb\"><tr><td>epoch</td><td>▁▁▁▁▁▁▁▁▁▁</td></tr><tr><td>training_acc</td><td>▁▁▁▁▁▁▁▁▁▁</td></tr><tr><td>training_loss</td><td>█▆▅▅▄▃▃▂▂▁</td></tr><tr><td>validation cost</td><td>▁█▇▇▆▅▄▄▃▂</td></tr><tr><td>validation_accuracy</td><td>▁▁▁▁▁▁▁▁▁▁</td></tr></table><br/></div><div class=\"wandb-col\"><h3>Run summary:</h3><br/><table class=\"wandb\"><tr><td>epoch</td><td>10</td></tr><tr><td>training_acc</td><td>9.96111</td></tr><tr><td>training_loss</td><td>2.30259</td></tr><tr><td>validation cost</td><td>2.30256</td></tr><tr><td>validation_accuracy</td><td>10.35</td></tr></table><br/></div></div>"
            ]
          },
          "metadata": {}
        },
        {
          "output_type": "display_data",
          "data": {
            "text/plain": [
              "<IPython.core.display.HTML object>"
            ],
            "text/html": [
              " View run <strong style=\"color:#cdcd00\">toasty-sweep-2</strong> at: <a href='https://wandb.ai/cs22m025/assignment1/runs/u0l1ysud' target=\"_blank\">https://wandb.ai/cs22m025/assignment1/runs/u0l1ysud</a><br/>Synced 5 W&B file(s), 0 media file(s), 0 artifact file(s) and 0 other file(s)"
            ]
          },
          "metadata": {}
        },
        {
          "output_type": "display_data",
          "data": {
            "text/plain": [
              "<IPython.core.display.HTML object>"
            ],
            "text/html": [
              "Find logs at: <code>./wandb/run-20230307_172438-u0l1ysud/logs</code>"
            ]
          },
          "metadata": {}
        },
        {
          "output_type": "stream",
          "name": "stderr",
          "text": [
            "\u001b[34m\u001b[1mwandb\u001b[0m: Agent Starting Run: 5a3s8gus with config:\n",
            "\u001b[34m\u001b[1mwandb\u001b[0m: \tactivation_fn: sigmoid\n",
            "\u001b[34m\u001b[1mwandb\u001b[0m: \tbatch_size: 16\n",
            "\u001b[34m\u001b[1mwandb\u001b[0m: \tepoch: 10\n",
            "\u001b[34m\u001b[1mwandb\u001b[0m: \teta: 0.001\n",
            "\u001b[34m\u001b[1mwandb\u001b[0m: \tinitialisation: xavier\n",
            "\u001b[34m\u001b[1mwandb\u001b[0m: \tn_hidden: 3\n",
            "\u001b[34m\u001b[1mwandb\u001b[0m: \tn_layers: 5\n",
            "\u001b[34m\u001b[1mwandb\u001b[0m: \tn_neurons: 32\n",
            "\u001b[34m\u001b[1mwandb\u001b[0m: \toptimizer: nadam\n",
            "\u001b[34m\u001b[1mwandb\u001b[0m: \twgt_dec: 0\n",
            "Failed to detect the name of this notebook, you can set it manually with the WANDB_NOTEBOOK_NAME environment variable to enable code saving.\n",
            "\u001b[34m\u001b[1mwandb\u001b[0m: \u001b[33mWARNING\u001b[0m Ignored wandb.init() arg project when running a sweep.\n"
          ]
        },
        {
          "output_type": "display_data",
          "data": {
            "text/plain": [
              "<IPython.core.display.HTML object>"
            ],
            "text/html": [
              "Tracking run with wandb version 0.13.10"
            ]
          },
          "metadata": {}
        },
        {
          "output_type": "display_data",
          "data": {
            "text/plain": [
              "<IPython.core.display.HTML object>"
            ],
            "text/html": [
              "Run data is saved locally in <code>/content/wandb/run-20230307_172522-5a3s8gus</code>"
            ]
          },
          "metadata": {}
        },
        {
          "output_type": "display_data",
          "data": {
            "text/plain": [
              "<IPython.core.display.HTML object>"
            ],
            "text/html": [
              "Syncing run <strong><a href='https://wandb.ai/cs22m025/assignment1/runs/5a3s8gus' target=\"_blank\">glamorous-sweep-3</a></strong> to <a href='https://wandb.ai/cs22m025/assignment1' target=\"_blank\">Weights & Biases</a> (<a href='https://wandb.me/run' target=\"_blank\">docs</a>)<br/>Sweep page: <a href='https://wandb.ai/cs22m025/assignment1/sweeps/4179xx88' target=\"_blank\">https://wandb.ai/cs22m025/assignment1/sweeps/4179xx88</a>"
            ]
          },
          "metadata": {}
        },
        {
          "output_type": "display_data",
          "data": {
            "text/plain": [
              "<IPython.core.display.HTML object>"
            ],
            "text/html": [
              " View project at <a href='https://wandb.ai/cs22m025/assignment1' target=\"_blank\">https://wandb.ai/cs22m025/assignment1</a>"
            ]
          },
          "metadata": {}
        },
        {
          "output_type": "display_data",
          "data": {
            "text/plain": [
              "<IPython.core.display.HTML object>"
            ],
            "text/html": [
              " View sweep at <a href='https://wandb.ai/cs22m025/assignment1/sweeps/4179xx88' target=\"_blank\">https://wandb.ai/cs22m025/assignment1/sweeps/4179xx88</a>"
            ]
          },
          "metadata": {}
        },
        {
          "output_type": "display_data",
          "data": {
            "text/plain": [
              "<IPython.core.display.HTML object>"
            ],
            "text/html": [
              " View run at <a href='https://wandb.ai/cs22m025/assignment1/runs/5a3s8gus' target=\"_blank\">https://wandb.ai/cs22m025/assignment1/runs/5a3s8gus</a>"
            ]
          },
          "metadata": {}
        },
        {
          "output_type": "stream",
          "name": "stdout",
          "text": [
            "___________________________________________________________________\n",
            "Running Nadam.....\n",
            "epoch: 1 loss: 1.878430940767733 1.8864858042098458\n",
            "epoch: 2 loss: 1.865339362074153 1.8747294946754733\n",
            "epoch: 3 loss: 1.8298155884681557 1.842022836967994\n",
            "epoch: 4 loss: 1.8420226184937138 1.8544554280116112\n",
            "epoch: 5 loss: 1.844399443734413 1.8567285056289675\n",
            "epoch: 6 loss: 1.780956877770399 1.796539449186658\n",
            "epoch: 7 loss: 1.811909582542293 1.8242226356039215\n",
            "epoch: 8 loss: 1.8339645637811344 1.8444605067927038\n",
            "epoch: 9 loss: 1.84728858644078 1.8594377262835187\n"
          ]
        },
        {
          "output_type": "stream",
          "name": "stderr",
          "text": [
            "<ipython-input-4-9eb8141d5d4e>:63: RuntimeWarning: overflow encountered in exp\n",
            "  return 1. / (1.+np.exp(-x))\n"
          ]
        },
        {
          "output_type": "stream",
          "name": "stdout",
          "text": [
            "epoch: 10 loss: 1.8588601237849478 1.867372598104877\n",
            "------------------------------------------------------------------\n",
            "Accuracy on training data: 19.82962962962963\n",
            "Accuracy on validation data: 20.366666666666667\n"
          ]
        },
        {
          "output_type": "display_data",
          "data": {
            "text/plain": [
              "<Figure size 432x288 with 1 Axes>"
            ],
            "image/png": "[encoded data removed]"
          },
          "metadata": {
            "needs_background": "light"
          }
        },
        {
          "output_type": "display_data",
          "data": {
            "text/plain": [
              "<IPython.core.display.HTML object>"
            ],
            "text/html": [
              "Waiting for W&B process to finish... <strong style=\"color:green\">(success).</strong>"
            ]
          },
          "metadata": {}
        },
        {
          "output_type": "display_data",
          "data": {
            "text/plain": [
              "VBox(children=(Label(value='0.001 MB of 0.001 MB uploaded (0.000 MB deduped)\\r'), FloatProgress(value=1.0, max…"
            ],
            "application/vnd.jupyter.widget-view+json": {
              "version_major": 2,
              "version_minor": 0,
              "model_id": "57fca393e3e743a8b0fc53693f28751c"
            }
          },
          "metadata": {}
        },
        {
          "output_type": "display_data",
          "data": {
            "text/plain": [
              "<IPython.core.display.HTML object>"
            ],
            "text/html": [
              "<style>\n",
              "    table.wandb td:nth-child(1) { padding: 0 10px; text-align: left ; width: auto;} td:nth-child(2) {text-align: left ; width: 100%}\n",
              "    .wandb-row { display: flex; flex-direction: row; flex-wrap: wrap; justify-content: flex-start; width: 100% }\n",
              "    .wandb-col { display: flex; flex-direction: column; flex-basis: 100%; flex: 1; padding: 10px; }\n",
              "    </style>\n",
              "<div class=\"wandb-row\"><div class=\"wandb-col\"><h3>Run history:</h3><br/><table class=\"wandb\"><tr><td>epoch</td><td>▁▁▁▁▁▁▁▁▁▁</td></tr><tr><td>training_acc</td><td>▂▂▂▁▁█▄▁▁▁</td></tr><tr><td>training_loss</td><td>█▇▅▅▆▁▃▅▆▇</td></tr><tr><td>validation cost</td><td>█▇▅▆▆▁▃▅▆▇</td></tr><tr><td>validation_accuracy</td><td>▁▁▄▃▃█▄▃▃▃</td></tr></table><br/></div><div class=\"wandb-col\"><h3>Run summary:</h3><br/><table class=\"wandb\"><tr><td>epoch</td><td>10</td></tr><tr><td>training_acc</td><td>19.82963</td></tr><tr><td>training_loss</td><td>1.85886</td></tr><tr><td>validation cost</td><td>1.86737</td></tr><tr><td>validation_accuracy</td><td>20.36667</td></tr></table><br/></div></div>"
            ]
          },
          "metadata": {}
        },
        {
          "output_type": "display_data",
          "data": {
            "text/plain": [
              "<IPython.core.display.HTML object>"
            ],
            "text/html": [
              " View run <strong style=\"color:#cdcd00\">glamorous-sweep-3</strong> at: <a href='https://wandb.ai/cs22m025/assignment1/runs/5a3s8gus' target=\"_blank\">https://wandb.ai/cs22m025/assignment1/runs/5a3s8gus</a><br/>Synced 5 W&B file(s), 0 media file(s), 0 artifact file(s) and 0 other file(s)"
            ]
          },
          "metadata": {}
        },
        {
          "output_type": "display_data",
          "data": {
            "text/plain": [
              "<IPython.core.display.HTML object>"
            ],
            "text/html": [
              "Find logs at: <code>./wandb/run-20230307_172522-5a3s8gus/logs</code>"
            ]
          },
          "metadata": {}
        },
        {
          "output_type": "stream",
          "name": "stderr",
          "text": [
            "\u001b[34m\u001b[1mwandb\u001b[0m: Agent Starting Run: 9z0qiu6a with config:\n",
            "\u001b[34m\u001b[1mwandb\u001b[0m: \tactivation_fn: tanh\n",
            "\u001b[34m\u001b[1mwandb\u001b[0m: \tbatch_size: 32\n",
            "\u001b[34m\u001b[1mwandb\u001b[0m: \tepoch: 10\n",
            "\u001b[34m\u001b[1mwandb\u001b[0m: \teta: 0.001\n",
            "\u001b[34m\u001b[1mwandb\u001b[0m: \tinitialisation: random\n",
            "\u001b[34m\u001b[1mwandb\u001b[0m: \tn_hidden: 5\n",
            "\u001b[34m\u001b[1mwandb\u001b[0m: \tn_layers: 5\n",
            "\u001b[34m\u001b[1mwandb\u001b[0m: \tn_neurons: 128\n",
            "\u001b[34m\u001b[1mwandb\u001b[0m: \toptimizer: sgd\n",
            "\u001b[34m\u001b[1mwandb\u001b[0m: \twgt_dec: 0\n",
            "Failed to detect the name of this notebook, you can set it manually with the WANDB_NOTEBOOK_NAME environment variable to enable code saving.\n",
            "\u001b[34m\u001b[1mwandb\u001b[0m: \u001b[33mWARNING\u001b[0m Ignored wandb.init() arg project when running a sweep.\n"
          ]
        },
        {
          "output_type": "display_data",
          "data": {
            "text/plain": [
              "<IPython.core.display.HTML object>"
            ],
            "text/html": [
              "Tracking run with wandb version 0.13.10"
            ]
          },
          "metadata": {}
        },
        {
          "output_type": "display_data",
          "data": {
            "text/plain": [
              "<IPython.core.display.HTML object>"
            ],
            "text/html": [
              "Run data is saved locally in <code>/content/wandb/run-20230307_172724-9z0qiu6a</code>"
            ]
          },
          "metadata": {}
        },
        {
          "output_type": "display_data",
          "data": {
            "text/plain": [
              "<IPython.core.display.HTML object>"
            ],
            "text/html": [
              "Syncing run <strong><a href='https://wandb.ai/cs22m025/assignment1/runs/9z0qiu6a' target=\"_blank\">eternal-sweep-4</a></strong> to <a href='https://wandb.ai/cs22m025/assignment1' target=\"_blank\">Weights & Biases</a> (<a href='https://wandb.me/run' target=\"_blank\">docs</a>)<br/>Sweep page: <a href='https://wandb.ai/cs22m025/assignment1/sweeps/4179xx88' target=\"_blank\">https://wandb.ai/cs22m025/assignment1/sweeps/4179xx88</a>"
            ]
          },
          "metadata": {}
        },
        {
          "output_type": "display_data",
          "data": {
            "text/plain": [
              "<IPython.core.display.HTML object>"
            ],
            "text/html": [
              " View project at <a href='https://wandb.ai/cs22m025/assignment1' target=\"_blank\">https://wandb.ai/cs22m025/assignment1</a>"
            ]
          },
          "metadata": {}
        },
        {
          "output_type": "display_data",
          "data": {
            "text/plain": [
              "<IPython.core.display.HTML object>"
            ],
            "text/html": [
              " View sweep at <a href='https://wandb.ai/cs22m025/assignment1/sweeps/4179xx88' target=\"_blank\">https://wandb.ai/cs22m025/assignment1/sweeps/4179xx88</a>"
            ]
          },
          "metadata": {}
        },
        {
          "output_type": "display_data",
          "data": {
            "text/plain": [
              "<IPython.core.display.HTML object>"
            ],
            "text/html": [
              " View run at <a href='https://wandb.ai/cs22m025/assignment1/runs/9z0qiu6a' target=\"_blank\">https://wandb.ai/cs22m025/assignment1/runs/9z0qiu6a</a>"
            ]
          },
          "metadata": {}
        },
        {
          "output_type": "stream",
          "name": "stdout",
          "text": [
            "___________________________________________________________________\n",
            "Running Stochastic Gradient Descent.....\n",
            "epoch: 0 loss: 1.189824983905269 1.231156185773487\n",
            "epoch: 1 loss: 0.9083914635712625 0.9280645276295205\n",
            "epoch: 2 loss: 0.8906632431432219 0.9232291831746016\n",
            "epoch: 3 loss: 0.8269744512348907 0.8315833552288201\n",
            "epoch: 4 loss: 0.6639182048831759 0.6785769856555406\n",
            "epoch: 5 loss: 0.7046425902719489 0.7154939099223678\n",
            "epoch: 6 loss: 0.9361393188194428 0.9544100607008331\n",
            "epoch: 7 loss: 0.8097129048361604 0.8289838348850196\n",
            "epoch: 8 loss: 0.573390942789953 0.5873489798656265\n",
            "epoch: 9 loss: 0.6447735700875291 0.6609865988467619\n",
            "------------------------------------------------------------------\n",
            "Accuracy on training data: 77.57222222222222\n",
            "Accuracy on validation data: 76.78333333333333\n"
          ]
        },
        {
          "output_type": "display_data",
          "data": {
            "text/plain": [
              "<Figure size 432x288 with 1 Axes>"
            ],
            "image/png": "[encoded data removed]"
          },
          "metadata": {
            "needs_background": "light"
          }
        },
        {
          "output_type": "display_data",
          "data": {
            "text/plain": [
              "<IPython.core.display.HTML object>"
            ],
            "text/html": [
              "Waiting for W&B process to finish... <strong style=\"color:green\">(success).</strong>"
            ]
          },
          "metadata": {}
        },
        {
          "output_type": "display_data",
          "data": {
            "text/plain": [
              "VBox(children=(Label(value='0.001 MB of 0.001 MB uploaded (0.000 MB deduped)\\r'), FloatProgress(value=1.0, max…"
            ],
            "application/vnd.jupyter.widget-view+json": {
              "version_major": 2,
              "version_minor": 0,
              "model_id": "cff35cf55a55409284fc450f450b6c63"
            }
          },
          "metadata": {}
        },
        {
          "output_type": "display_data",
          "data": {
            "text/plain": [
              "<IPython.core.display.HTML object>"
            ],
            "text/html": [
              "<style>\n",
              "    table.wandb td:nth-child(1) { padding: 0 10px; text-align: left ; width: auto;} td:nth-child(2) {text-align: left ; width: 100%}\n",
              "    .wandb-row { display: flex; flex-direction: row; flex-wrap: wrap; justify-content: flex-start; width: 100% }\n",
              "    .wandb-col { display: flex; flex-direction: column; flex-basis: 100%; flex: 1; padding: 10px; }\n",
              "    </style>\n",
              "<div class=\"wandb-row\"><div class=\"wandb-col\"><h3>Run history:</h3><br/><table class=\"wandb\"><tr><td>epoch</td><td>▁▁▁▁▁▁▁▁▁▁</td></tr><tr><td>training_acc</td><td>▁▃▅▅▇▆▄▅█▆</td></tr><tr><td>training_loss</td><td>█▅▅▄▂▂▅▄▁▂</td></tr><tr><td>validation cost</td><td>█▅▅▄▂▂▅▄▁▂</td></tr><tr><td>validation_accuracy</td><td>▁▃▅▅▇▇▃▅█▇</td></tr></table><br/></div><div class=\"wandb-col\"><h3>Run summary:</h3><br/><table class=\"wandb\"><tr><td>epoch</td><td>10</td></tr><tr><td>training_acc</td><td>77.57222</td></tr><tr><td>training_loss</td><td>0.64477</td></tr><tr><td>validation cost</td><td>0.66099</td></tr><tr><td>validation_accuracy</td><td>76.78333</td></tr></table><br/></div></div>"
            ]
          },
          "metadata": {}
        },
        {
          "output_type": "display_data",
          "data": {
            "text/plain": [
              "<IPython.core.display.HTML object>"
            ],
            "text/html": [
              " View run <strong style=\"color:#cdcd00\">eternal-sweep-4</strong> at: <a href='https://wandb.ai/cs22m025/assignment1/runs/9z0qiu6a' target=\"_blank\">https://wandb.ai/cs22m025/assignment1/runs/9z0qiu6a</a><br/>Synced 5 W&B file(s), 0 media file(s), 0 artifact file(s) and 0 other file(s)"
            ]
          },
          "metadata": {}
        },
        {
          "output_type": "display_data",
          "data": {
            "text/plain": [
              "<IPython.core.display.HTML object>"
            ],
            "text/html": [
              "Find logs at: <code>./wandb/run-20230307_172724-9z0qiu6a/logs</code>"
            ]
          },
          "metadata": {}
        },
        {
          "output_type": "stream",
          "name": "stderr",
          "text": [
            "\u001b[34m\u001b[1mwandb\u001b[0m: Agent Starting Run: 7pnw1lga with config:\n",
            "\u001b[34m\u001b[1mwandb\u001b[0m: \tactivation_fn: relu\n",
            "\u001b[34m\u001b[1mwandb\u001b[0m: \tbatch_size: 32\n",
            "\u001b[34m\u001b[1mwandb\u001b[0m: \tepoch: 5\n",
            "\u001b[34m\u001b[1mwandb\u001b[0m: \teta: 0.001\n",
            "\u001b[34m\u001b[1mwandb\u001b[0m: \tinitialisation: random\n",
            "\u001b[34m\u001b[1mwandb\u001b[0m: \tn_hidden: 5\n",
            "\u001b[34m\u001b[1mwandb\u001b[0m: \tn_layers: 5\n",
            "\u001b[34m\u001b[1mwandb\u001b[0m: \tn_neurons: 128\n",
            "\u001b[34m\u001b[1mwandb\u001b[0m: \toptimizer: nadam\n",
            "\u001b[34m\u001b[1mwandb\u001b[0m: \twgt_dec: 0.0005\n",
            "Failed to detect the name of this notebook, you can set it manually with the WANDB_NOTEBOOK_NAME environment variable to enable code saving.\n",
            "\u001b[34m\u001b[1mwandb\u001b[0m: \u001b[33mWARNING\u001b[0m Ignored wandb.init() arg project when running a sweep.\n"
          ]
        },
        {
          "output_type": "display_data",
          "data": {
            "text/plain": [
              "<IPython.core.display.HTML object>"
            ],
            "text/html": [
              "Tracking run with wandb version 0.13.10"
            ]
          },
          "metadata": {}
        },
        {
          "output_type": "display_data",
          "data": {
            "text/plain": [
              "<IPython.core.display.HTML object>"
            ],
            "text/html": [
              "Run data is saved locally in <code>/content/wandb/run-20230307_172954-7pnw1lga</code>"
            ]
          },
          "metadata": {}
        },
        {
          "output_type": "display_data",
          "data": {
            "text/plain": [
              "<IPython.core.display.HTML object>"
            ],
            "text/html": [
              "Syncing run <strong><a href='https://wandb.ai/cs22m025/assignment1/runs/7pnw1lga' target=\"_blank\">spring-sweep-5</a></strong> to <a href='https://wandb.ai/cs22m025/assignment1' target=\"_blank\">Weights & Biases</a> (<a href='https://wandb.me/run' target=\"_blank\">docs</a>)<br/>Sweep page: <a href='https://wandb.ai/cs22m025/assignment1/sweeps/4179xx88' target=\"_blank\">https://wandb.ai/cs22m025/assignment1/sweeps/4179xx88</a>"
            ]
          },
          "metadata": {}
        },
        {
          "output_type": "display_data",
          "data": {
            "text/plain": [
              "<IPython.core.display.HTML object>"
            ],
            "text/html": [
              " View project at <a href='https://wandb.ai/cs22m025/assignment1' target=\"_blank\">https://wandb.ai/cs22m025/assignment1</a>"
            ]
          },
          "metadata": {}
        },
        {
          "output_type": "display_data",
          "data": {
            "text/plain": [
              "<IPython.core.display.HTML object>"
            ],
            "text/html": [
              " View sweep at <a href='https://wandb.ai/cs22m025/assignment1/sweeps/4179xx88' target=\"_blank\">https://wandb.ai/cs22m025/assignment1/sweeps/4179xx88</a>"
            ]
          },
          "metadata": {}
        },
        {
          "output_type": "display_data",
          "data": {
            "text/plain": [
              "<IPython.core.display.HTML object>"
            ],
            "text/html": [
              " View run at <a href='https://wandb.ai/cs22m025/assignment1/runs/7pnw1lga' target=\"_blank\">https://wandb.ai/cs22m025/assignment1/runs/7pnw1lga</a>"
            ]
          },
          "metadata": {}
        },
        {
          "output_type": "stream",
          "name": "stdout",
          "text": [
            "___________________________________________________________________\n",
            "Running Nadam.....\n"
          ]
        },
        {
          "output_type": "stream",
          "name": "stderr",
          "text": [
            "<ipython-input-30-aee0324f8efd>:12: RuntimeWarning: divide by zero encountered in log\n",
            "  l= sum(-np.log(y_t_predicted.T[rows,Y]))/lenx\n",
            "<ipython-input-30-aee0324f8efd>:20: RuntimeWarning: divide by zero encountered in log\n",
            "  l= sum(-np.log(y_v_predicted.T[rows,Y_val]))/6000\n"
          ]
        },
        {
          "output_type": "stream",
          "name": "stdout",
          "text": [
            "epoch: 1 loss: inf inf\n",
            "epoch: 2 loss: inf inf\n",
            "epoch: 3 loss: inf inf\n",
            "epoch: 4 loss: inf inf\n",
            "epoch: 5 loss: inf inf\n",
            "------------------------------------------------------------------\n",
            "Accuracy on training data: 80.10555555555555\n",
            "Accuracy on validation data: 77.61666666666667\n"
          ]
        },
        {
          "output_type": "display_data",
          "data": {
            "text/plain": [
              "<Figure size 432x288 with 1 Axes>"
            ],
            "image/png": "[encoded data removed]"
          },
          "metadata": {
            "needs_background": "light"
          }
        },
        {
          "output_type": "display_data",
          "data": {
            "text/plain": [
              "<IPython.core.display.HTML object>"
            ],
            "text/html": [
              "Waiting for W&B process to finish... <strong style=\"color:green\">(success).</strong>"
            ]
          },
          "metadata": {}
        },
        {
          "output_type": "display_data",
          "data": {
            "text/plain": [
              "<IPython.core.display.HTML object>"
            ],
            "text/html": [
              "<style>\n",
              "    table.wandb td:nth-child(1) { padding: 0 10px; text-align: left ; width: auto;} td:nth-child(2) {text-align: left ; width: 100%}\n",
              "    .wandb-row { display: flex; flex-direction: row; flex-wrap: wrap; justify-content: flex-start; width: 100% }\n",
              "    .wandb-col { display: flex; flex-direction: column; flex-basis: 100%; flex: 1; padding: 10px; }\n",
              "    </style>\n",
              "<div class=\"wandb-row\"><div class=\"wandb-col\"><h3>Run history:</h3><br/><table class=\"wandb\"><tr><td>epoch</td><td>▁▁▁▁▁</td></tr><tr><td>training_acc</td><td>▁▃▅▇█</td></tr><tr><td>validation_accuracy</td><td>▁▃▆██</td></tr></table><br/></div><div class=\"wandb-col\"><h3>Run summary:</h3><br/><table class=\"wandb\"><tr><td>epoch</td><td>5</td></tr><tr><td>training_acc</td><td>80.10556</td></tr><tr><td>training_loss</td><td>inf</td></tr><tr><td>validation cost</td><td>inf</td></tr><tr><td>validation_accuracy</td><td>77.61667</td></tr></table><br/></div></div>"
            ]
          },
          "metadata": {}
        },
        {
          "output_type": "display_data",
          "data": {
            "text/plain": [
              "<IPython.core.display.HTML object>"
            ],
            "text/html": [
              " View run <strong style=\"color:#cdcd00\">spring-sweep-5</strong> at: <a href='https://wandb.ai/cs22m025/assignment1/runs/7pnw1lga' target=\"_blank\">https://wandb.ai/cs22m025/assignment1/runs/7pnw1lga</a><br/>Synced 5 W&B file(s), 0 media file(s), 0 artifact file(s) and 0 other file(s)"
            ]
          },
          "metadata": {}
        },
        {
          "output_type": "display_data",
          "data": {
            "text/plain": [
              "<IPython.core.display.HTML object>"
            ],
            "text/html": [
              "Find logs at: <code>./wandb/run-20230307_172954-7pnw1lga/logs</code>"
            ]
          },
          "metadata": {}
        }
      ]
    },
    {
      "cell_type": "code",
      "source": [
        "def train(epoch,eta,n_layers,activation_fn,n_neurons,initialisation,n_inputneurons,n_outputneurons,X,Y,n_classes,beta,beta1,beta2,epsilon,batch_size,optimiser):\n",
        "  "
      ],
      "metadata": {
        "id": "hg8JDLoGz3qC"
      },
      "execution_count": null,
      "outputs": []
    },
    {
      "cell_type": "code",
      "source": [
        "sweep_configuration = {\n",
        "    'method': 'random',\n",
        "    'metric': {'goal': 'maximize', 'name': 'Accuracy'},\n",
        "    'parameters': \n",
        "    {\n",
        "        'Epochs': {'values': [5,10]},\n",
        "        'HiddenLayer': {'values': [3,4,5]},\n",
        "        'Size': {'values': [32,64,128]},\n",
        "        'LearningRate': {'values': [1e-3,1e-4]},\n",
        "        'BatchSize': {'values': [16,32,64]},\n",
        "        'WeightInitialisation': {'values': [\"random\",\"xavier\"]},\n",
        "        'ActivationFunctions': {'values': [\"sigmoid\",\"tanh\",\"ReLU\"]},\n",
        "        'optimizer': {'values': [\"sgd\",\"momentum\",\"nesterov\",\"rmsprop\",\"adam\",\"nadam\"]}\n",
        "        \n",
        "     }\n",
        "}\n",
        "\n",
        "sweep_id = wandb.sweep(sweep=sweep_configuration, project=\"assignment1\")"
      ],
      "metadata": {
        "colab": {
          "base_uri": "https://localhost:8080/",
          "height": 130
        },
        "id": "zYZz95JPwGuE",
        "outputId": "2f437e74-3695-42f7-8b09-b63c772f9148"
      },
      "execution_count": null,
      "outputs": [
        {
          "output_type": "error",
          "ename": "SyntaxError",
          "evalue": "ignored",
          "traceback": [
            "\u001b[0;36m  File \u001b[0;32m\"<ipython-input-20-9ecbe08b316a>\"\u001b[0;36m, line \u001b[0;32m1\u001b[0m\n\u001b[0;31m    sweep_configuration =\u001b[0m\n\u001b[0m                         ^\u001b[0m\n\u001b[0;31mSyntaxError\u001b[0m\u001b[0;31m:\u001b[0m invalid syntax\n"
          ]
        }
      ]
    },
    {
      "cell_type": "code",
      "source": [
        "\n",
        "from sklearn.metrics import confusion_matrix\n",
        "\n",
        "def log_confusion_matrix(y_true, y_pred, class_names, run):\n",
        "    \n",
        "    cm = confusion_matrix(y_true, y_pred)\n",
        "\n",
        "    # Normalize confusion matrix\n",
        "    cm = cm.astype('float') / cm.sum(axis=1)[:, np.newaxis]\n",
        "\n",
        "    # Plot confusion matrix as image\n",
        "    plt.figure(figsize=(6, 6))\n",
        "    plt.imshow(cm, interpolation='nearest', cmap=plt.cm.Blues)\n",
        "    plt.title(\"Confusion matrix\")\n",
        "    plt.colorbar()\n",
        "    tick_marks = np.arange(len(class_names))\n",
        "    plt.xticks(tick_marks, class_names, rotation=45)\n",
        "    plt.yticks(tick_marks, class_names)\n",
        "    plt.tight_layout()\n",
        "    plt.ylabel('True label')\n",
        "    plt.xlabel('Predicted label')\n",
        "    wandb.log({ \"confusion_matrix\": wandb.Image(plt) }, run=run)\n",
        "    plt.close()\n"
      ],
      "metadata": {
        "id": "U2CRKwvlMubY"
      },
      "execution_count": 39,
      "outputs": []
    },
    {
      "cell_type": "code",
      "execution_count": null,
      "metadata": {
        "colab": {
          "base_uri": "https://localhost:8080/"
        },
        "id": "RTWXLcPO5omi",
        "outputId": "307dbc4b-b7e7-44b7-fa9a-d51cdce7c53a"
      },
      "outputs": [
        {
          "data": {
            "text/plain": [
              "array([9, 0, 0, ..., 3, 0, 5], dtype=uint8)"
            ]
          },
          "execution_count": 6,
          "metadata": {},
          "output_type": "execute_result"
        }
      ],
      "source": [
        "y_out"
      ]
    }
  ],
  "metadata": {
    "colab": {
      "provenance": []
    },
    "kernelspec": {
      "display_name": "Python 3",
      "name": "python3"
    },
    "language_info": {
      "name": "python"
    },
    "widgets": {
      "application/vnd.jupyter.widget-state+json": {
        "a6b604c3b7f3426eb2ca449b81e014c6": {
          "model_module": "@jupyter-widgets/controls",
          "model_name": "VBoxModel",
          "model_module_version": "1.5.0",
          "state": {
            "_dom_classes": [],
            "_model_module": "@jupyter-widgets/controls",
            "_model_module_version": "1.5.0",
            "_model_name": "VBoxModel",
            "_view_count": null,
            "_view_module": "@jupyter-widgets/controls",
            "_view_module_version": "1.5.0",
            "_view_name": "VBoxView",
            "box_style": "",
            "children": [
              "IPY_MODEL_e84c5dd9e3694f32956b7d4c3b472332",
              "IPY_MODEL_866574e07f984bd5b0cf37a59ab729bd"
            ],
            "layout": "IPY_MODEL_d87ac5bf25b544a4aac0d842fc73c4b2"
          }
        },
        "e84c5dd9e3694f32956b7d4c3b472332": {
          "model_module": "@jupyter-widgets/controls",
          "model_name": "LabelModel",
          "model_module_version": "1.5.0",
          "state": {
            "_dom_classes": [],
            "_model_module": "@jupyter-widgets/controls",
            "_model_module_version": "1.5.0",
            "_model_name": "LabelModel",
            "_view_count": null,
            "_view_module": "@jupyter-widgets/controls",
            "_view_module_version": "1.5.0",
            "_view_name": "LabelView",
            "description": "",
            "description_tooltip": null,
            "layout": "IPY_MODEL_51b56135f0f64d1f94308f4f8be439af",
            "placeholder": "​",
            "style": "IPY_MODEL_32e01d726fdc4a04bd37165048587381",
            "value": "0.001 MB of 0.001 MB uploaded (0.000 MB deduped)\r"
          }
        },
        "866574e07f984bd5b0cf37a59ab729bd": {
          "model_module": "@jupyter-widgets/controls",
          "model_name": "FloatProgressModel",
          "model_module_version": "1.5.0",
          "state": {
            "_dom_classes": [],
            "_model_module": "@jupyter-widgets/controls",
            "_model_module_version": "1.5.0",
            "_model_name": "FloatProgressModel",
            "_view_count": null,
            "_view_module": "@jupyter-widgets/controls",
            "_view_module_version": "1.5.0",
            "_view_name": "ProgressView",
            "bar_style": "",
            "description": "",
            "description_tooltip": null,
            "layout": "IPY_MODEL_fa831986f00a4e70891b7fd76dc2c05b",
            "max": 1,
            "min": 0,
            "orientation": "horizontal",
            "style": "IPY_MODEL_99a1a4b1e102490fb739f28ff136ceae",
            "value": 1
          }
        },
        "d87ac5bf25b544a4aac0d842fc73c4b2": {
          "model_module": "@jupyter-widgets/base",
          "model_name": "LayoutModel",
          "model_module_version": "1.2.0",
          "state": {
            "_model_module": "@jupyter-widgets/base",
            "_model_module_version": "1.2.0",
            "_model_name": "LayoutModel",
            "_view_count": null,
            "_view_module": "@jupyter-widgets/base",
            "_view_module_version": "1.2.0",
            "_view_name": "LayoutView",
            "align_content": null,
            "align_items": null,
            "align_self": null,
            "border": null,
            "bottom": null,
            "display": null,
            "flex": null,
            "flex_flow": null,
            "grid_area": null,
            "grid_auto_columns": null,
            "grid_auto_flow": null,
            "grid_auto_rows": null,
            "grid_column": null,
            "grid_gap": null,
            "grid_row": null,
            "grid_template_areas": null,
            "grid_template_columns": null,
            "grid_template_rows": null,
            "height": null,
            "justify_content": null,
            "justify_items": null,
            "left": null,
            "margin": null,
            "max_height": null,
            "max_width": null,
            "min_height": null,
            "min_width": null,
            "object_fit": null,
            "object_position": null,
            "order": null,
            "overflow": null,
            "overflow_x": null,
            "overflow_y": null,
            "padding": null,
            "right": null,
            "top": null,
            "visibility": null,
            "width": null
          }
        },
        "51b56135f0f64d1f94308f4f8be439af": {
          "model_module": "@jupyter-widgets/base",
          "model_name": "LayoutModel",
          "model_module_version": "1.2.0",
          "state": {
            "_model_module": "@jupyter-widgets/base",
            "_model_module_version": "1.2.0",
            "_model_name": "LayoutModel",
            "_view_count": null,
            "_view_module": "@jupyter-widgets/base",
            "_view_module_version": "1.2.0",
            "_view_name": "LayoutView",
            "align_content": null,
            "align_items": null,
            "align_self": null,
            "border": null,
            "bottom": null,
            "display": null,
            "flex": null,
            "flex_flow": null,
            "grid_area": null,
            "grid_auto_columns": null,
            "grid_auto_flow": null,
            "grid_auto_rows": null,
            "grid_column": null,
            "grid_gap": null,
            "grid_row": null,
            "grid_template_areas": null,
            "grid_template_columns": null,
            "grid_template_rows": null,
            "height": null,
            "justify_content": null,
            "justify_items": null,
            "left": null,
            "margin": null,
            "max_height": null,
            "max_width": null,
            "min_height": null,
            "min_width": null,
            "object_fit": null,
            "object_position": null,
            "order": null,
            "overflow": null,
            "overflow_x": null,
            "overflow_y": null,
            "padding": null,
            "right": null,
            "top": null,
            "visibility": null,
            "width": null
          }
        },
        "32e01d726fdc4a04bd37165048587381": {
          "model_module": "@jupyter-widgets/controls",
          "model_name": "DescriptionStyleModel",
          "model_module_version": "1.5.0",
          "state": {
            "_model_module": "@jupyter-widgets/controls",
            "_model_module_version": "1.5.0",
            "_model_name": "DescriptionStyleModel",
            "_view_count": null,
            "_view_module": "@jupyter-widgets/base",
            "_view_module_version": "1.2.0",
            "_view_name": "StyleView",
            "description_width": ""
          }
        },
        "fa831986f00a4e70891b7fd76dc2c05b": {
          "model_module": "@jupyter-widgets/base",
          "model_name": "LayoutModel",
          "model_module_version": "1.2.0",
          "state": {
            "_model_module": "@jupyter-widgets/base",
            "_model_module_version": "1.2.0",
            "_model_name": "LayoutModel",
            "_view_count": null,
            "_view_module": "@jupyter-widgets/base",
            "_view_module_version": "1.2.0",
            "_view_name": "LayoutView",
            "align_content": null,
            "align_items": null,
            "align_self": null,
            "border": null,
            "bottom": null,
            "display": null,
            "flex": null,
            "flex_flow": null,
            "grid_area": null,
            "grid_auto_columns": null,
            "grid_auto_flow": null,
            "grid_auto_rows": null,
            "grid_column": null,
            "grid_gap": null,
            "grid_row": null,
            "grid_template_areas": null,
            "grid_template_columns": null,
            "grid_template_rows": null,
            "height": null,
            "justify_content": null,
            "justify_items": null,
            "left": null,
            "margin": null,
            "max_height": null,
            "max_width": null,
            "min_height": null,
            "min_width": null,
            "object_fit": null,
            "object_position": null,
            "order": null,
            "overflow": null,
            "overflow_x": null,
            "overflow_y": null,
            "padding": null,
            "right": null,
            "top": null,
            "visibility": null,
            "width": null
          }
        },
        "99a1a4b1e102490fb739f28ff136ceae": {
          "model_module": "@jupyter-widgets/controls",
          "model_name": "ProgressStyleModel",
          "model_module_version": "1.5.0",
          "state": {
            "_model_module": "@jupyter-widgets/controls",
            "_model_module_version": "1.5.0",
            "_model_name": "ProgressStyleModel",
            "_view_count": null,
            "_view_module": "@jupyter-widgets/base",
            "_view_module_version": "1.2.0",
            "_view_name": "StyleView",
            "bar_color": null,
            "description_width": ""
          }
        },
        "57fca393e3e743a8b0fc53693f28751c": {
          "model_module": "@jupyter-widgets/controls",
          "model_name": "VBoxModel",
          "model_module_version": "1.5.0",
          "state": {
            "_dom_classes": [],
            "_model_module": "@jupyter-widgets/controls",
            "_model_module_version": "1.5.0",
            "_model_name": "VBoxModel",
            "_view_count": null,
            "_view_module": "@jupyter-widgets/controls",
            "_view_module_version": "1.5.0",
            "_view_name": "VBoxView",
            "box_style": "",
            "children": [
              "IPY_MODEL_6ce723ff41c84ad38778aca950d29cb4",
              "IPY_MODEL_fed04b1b3b3549f89c38c8410f55a562"
            ],
            "layout": "IPY_MODEL_438f39b974dd4623b0aeefd1eba3387a"
          }
        },
        "6ce723ff41c84ad38778aca950d29cb4": {
          "model_module": "@jupyter-widgets/controls",
          "model_name": "LabelModel",
          "model_module_version": "1.5.0",
          "state": {
            "_dom_classes": [],
            "_model_module": "@jupyter-widgets/controls",
            "_model_module_version": "1.5.0",
            "_model_name": "LabelModel",
            "_view_count": null,
            "_view_module": "@jupyter-widgets/controls",
            "_view_module_version": "1.5.0",
            "_view_name": "LabelView",
            "description": "",
            "description_tooltip": null,
            "layout": "IPY_MODEL_6abc725b565e4341bf50b86c113dd01a",
            "placeholder": "​",
            "style": "IPY_MODEL_071bc89c232f49348c89a18173213c32",
            "value": "0.001 MB of 0.001 MB uploaded (0.000 MB deduped)\r"
          }
        },
        "fed04b1b3b3549f89c38c8410f55a562": {
          "model_module": "@jupyter-widgets/controls",
          "model_name": "FloatProgressModel",
          "model_module_version": "1.5.0",
          "state": {
            "_dom_classes": [],
            "_model_module": "@jupyter-widgets/controls",
            "_model_module_version": "1.5.0",
            "_model_name": "FloatProgressModel",
            "_view_count": null,
            "_view_module": "@jupyter-widgets/controls",
            "_view_module_version": "1.5.0",
            "_view_name": "ProgressView",
            "bar_style": "",
            "description": "",
            "description_tooltip": null,
            "layout": "IPY_MODEL_dc8745c2dc7346328ef93aaff0959812",
            "max": 1,
            "min": 0,
            "orientation": "horizontal",
            "style": "IPY_MODEL_c331c881f0f6488facbcaa90de1b2d7a",
            "value": 1
          }
        },
        "438f39b974dd4623b0aeefd1eba3387a": {
          "model_module": "@jupyter-widgets/base",
          "model_name": "LayoutModel",
          "model_module_version": "1.2.0",
          "state": {
            "_model_module": "@jupyter-widgets/base",
            "_model_module_version": "1.2.0",
            "_model_name": "LayoutModel",
            "_view_count": null,
            "_view_module": "@jupyter-widgets/base",
            "_view_module_version": "1.2.0",
            "_view_name": "LayoutView",
            "align_content": null,
            "align_items": null,
            "align_self": null,
            "border": null,
            "bottom": null,
            "display": null,
            "flex": null,
            "flex_flow": null,
            "grid_area": null,
            "grid_auto_columns": null,
            "grid_auto_flow": null,
            "grid_auto_rows": null,
            "grid_column": null,
            "grid_gap": null,
            "grid_row": null,
            "grid_template_areas": null,
            "grid_template_columns": null,
            "grid_template_rows": null,
            "height": null,
            "justify_content": null,
            "justify_items": null,
            "left": null,
            "margin": null,
            "max_height": null,
            "max_width": null,
            "min_height": null,
            "min_width": null,
            "object_fit": null,
            "object_position": null,
            "order": null,
            "overflow": null,
            "overflow_x": null,
            "overflow_y": null,
            "padding": null,
            "right": null,
            "top": null,
            "visibility": null,
            "width": null
          }
        },
        "6abc725b565e4341bf50b86c113dd01a": {
          "model_module": "@jupyter-widgets/base",
          "model_name": "LayoutModel",
          "model_module_version": "1.2.0",
          "state": {
            "_model_module": "@jupyter-widgets/base",
            "_model_module_version": "1.2.0",
            "_model_name": "LayoutModel",
            "_view_count": null,
            "_view_module": "@jupyter-widgets/base",
            "_view_module_version": "1.2.0",
            "_view_name": "LayoutView",
            "align_content": null,
            "align_items": null,
            "align_self": null,
            "border": null,
            "bottom": null,
            "display": null,
            "flex": null,
            "flex_flow": null,
            "grid_area": null,
            "grid_auto_columns": null,
            "grid_auto_flow": null,
            "grid_auto_rows": null,
            "grid_column": null,
            "grid_gap": null,
            "grid_row": null,
            "grid_template_areas": null,
            "grid_template_columns": null,
            "grid_template_rows": null,
            "height": null,
            "justify_content": null,
            "justify_items": null,
            "left": null,
            "margin": null,
            "max_height": null,
            "max_width": null,
            "min_height": null,
            "min_width": null,
            "object_fit": null,
            "object_position": null,
            "order": null,
            "overflow": null,
            "overflow_x": null,
            "overflow_y": null,
            "padding": null,
            "right": null,
            "top": null,
            "visibility": null,
            "width": null
          }
        },
        "071bc89c232f49348c89a18173213c32": {
          "model_module": "@jupyter-widgets/controls",
          "model_name": "DescriptionStyleModel",
          "model_module_version": "1.5.0",
          "state": {
            "_model_module": "@jupyter-widgets/controls",
            "_model_module_version": "1.5.0",
            "_model_name": "DescriptionStyleModel",
            "_view_count": null,
            "_view_module": "@jupyter-widgets/base",
            "_view_module_version": "1.2.0",
            "_view_name": "StyleView",
            "description_width": ""
          }
        },
        "dc8745c2dc7346328ef93aaff0959812": {
          "model_module": "@jupyter-widgets/base",
          "model_name": "LayoutModel",
          "model_module_version": "1.2.0",
          "state": {
            "_model_module": "@jupyter-widgets/base",
            "_model_module_version": "1.2.0",
            "_model_name": "LayoutModel",
            "_view_count": null,
            "_view_module": "@jupyter-widgets/base",
            "_view_module_version": "1.2.0",
            "_view_name": "LayoutView",
            "align_content": null,
            "align_items": null,
            "align_self": null,
            "border": null,
            "bottom": null,
            "display": null,
            "flex": null,
            "flex_flow": null,
            "grid_area": null,
            "grid_auto_columns": null,
            "grid_auto_flow": null,
            "grid_auto_rows": null,
            "grid_column": null,
            "grid_gap": null,
            "grid_row": null,
            "grid_template_areas": null,
            "grid_template_columns": null,
            "grid_template_rows": null,
            "height": null,
            "justify_content": null,
            "justify_items": null,
            "left": null,
            "margin": null,
            "max_height": null,
            "max_width": null,
            "min_height": null,
            "min_width": null,
            "object_fit": null,
            "object_position": null,
            "order": null,
            "overflow": null,
            "overflow_x": null,
            "overflow_y": null,
            "padding": null,
            "right": null,
            "top": null,
            "visibility": null,
            "width": null
          }
        },
        "c331c881f0f6488facbcaa90de1b2d7a": {
          "model_module": "@jupyter-widgets/controls",
          "model_name": "ProgressStyleModel",
          "model_module_version": "1.5.0",
          "state": {
            "_model_module": "@jupyter-widgets/controls",
            "_model_module_version": "1.5.0",
            "_model_name": "ProgressStyleModel",
            "_view_count": null,
            "_view_module": "@jupyter-widgets/base",
            "_view_module_version": "1.2.0",
            "_view_name": "StyleView",
            "bar_color": null,
            "description_width": ""
          }
        },
        "cff35cf55a55409284fc450f450b6c63": {
          "model_module": "@jupyter-widgets/controls",
          "model_name": "VBoxModel",
          "model_module_version": "1.5.0",
          "state": {
            "_dom_classes": [],
            "_model_module": "@jupyter-widgets/controls",
            "_model_module_version": "1.5.0",
            "_model_name": "VBoxModel",
            "_view_count": null,
            "_view_module": "@jupyter-widgets/controls",
            "_view_module_version": "1.5.0",
            "_view_name": "VBoxView",
            "box_style": "",
            "children": [
              "IPY_MODEL_328dbd83bb674d79a4055dae6d456ff3",
              "IPY_MODEL_82b34d1e732344518c6a7b35c7d96a93"
            ],
            "layout": "IPY_MODEL_deea36ca2c564fb6a6d391be86d562ae"
          }
        },
        "328dbd83bb674d79a4055dae6d456ff3": {
          "model_module": "@jupyter-widgets/controls",
          "model_name": "LabelModel",
          "model_module_version": "1.5.0",
          "state": {
            "_dom_classes": [],
            "_model_module": "@jupyter-widgets/controls",
            "_model_module_version": "1.5.0",
            "_model_name": "LabelModel",
            "_view_count": null,
            "_view_module": "@jupyter-widgets/controls",
            "_view_module_version": "1.5.0",
            "_view_name": "LabelView",
            "description": "",
            "description_tooltip": null,
            "layout": "IPY_MODEL_c9028ff1200349f0b4a806d8c65bd653",
            "placeholder": "​",
            "style": "IPY_MODEL_443664789e39425789f655a62e5b981d",
            "value": "0.001 MB of 0.010 MB uploaded (0.000 MB deduped)\r"
          }
        },
        "82b34d1e732344518c6a7b35c7d96a93": {
          "model_module": "@jupyter-widgets/controls",
          "model_name": "FloatProgressModel",
          "model_module_version": "1.5.0",
          "state": {
            "_dom_classes": [],
            "_model_module": "@jupyter-widgets/controls",
            "_model_module_version": "1.5.0",
            "_model_name": "FloatProgressModel",
            "_view_count": null,
            "_view_module": "@jupyter-widgets/controls",
            "_view_module_version": "1.5.0",
            "_view_name": "ProgressView",
            "bar_style": "",
            "description": "",
            "description_tooltip": null,
            "layout": "IPY_MODEL_43cbb9d6e4ad492c8c364f2724e79765",
            "max": 1,
            "min": 0,
            "orientation": "horizontal",
            "style": "IPY_MODEL_56169462509047ec91c008adc543980b",
            "value": 0.058923569427771105
          }
        },
        "deea36ca2c564fb6a6d391be86d562ae": {
          "model_module": "@jupyter-widgets/base",
          "model_name": "LayoutModel",
          "model_module_version": "1.2.0",
          "state": {
            "_model_module": "@jupyter-widgets/base",
            "_model_module_version": "1.2.0",
            "_model_name": "LayoutModel",
            "_view_count": null,
            "_view_module": "@jupyter-widgets/base",
            "_view_module_version": "1.2.0",
            "_view_name": "LayoutView",
            "align_content": null,
            "align_items": null,
            "align_self": null,
            "border": null,
            "bottom": null,
            "display": null,
            "flex": null,
            "flex_flow": null,
            "grid_area": null,
            "grid_auto_columns": null,
            "grid_auto_flow": null,
            "grid_auto_rows": null,
            "grid_column": null,
            "grid_gap": null,
            "grid_row": null,
            "grid_template_areas": null,
            "grid_template_columns": null,
            "grid_template_rows": null,
            "height": null,
            "justify_content": null,
            "justify_items": null,
            "left": null,
            "margin": null,
            "max_height": null,
            "max_width": null,
            "min_height": null,
            "min_width": null,
            "object_fit": null,
            "object_position": null,
            "order": null,
            "overflow": null,
            "overflow_x": null,
            "overflow_y": null,
            "padding": null,
            "right": null,
            "top": null,
            "visibility": null,
            "width": null
          }
        },
        "c9028ff1200349f0b4a806d8c65bd653": {
          "model_module": "@jupyter-widgets/base",
          "model_name": "LayoutModel",
          "model_module_version": "1.2.0",
          "state": {
            "_model_module": "@jupyter-widgets/base",
            "_model_module_version": "1.2.0",
            "_model_name": "LayoutModel",
            "_view_count": null,
            "_view_module": "@jupyter-widgets/base",
            "_view_module_version": "1.2.0",
            "_view_name": "LayoutView",
            "align_content": null,
            "align_items": null,
            "align_self": null,
            "border": null,
            "bottom": null,
            "display": null,
            "flex": null,
            "flex_flow": null,
            "grid_area": null,
            "grid_auto_columns": null,
            "grid_auto_flow": null,
            "grid_auto_rows": null,
            "grid_column": null,
            "grid_gap": null,
            "grid_row": null,
            "grid_template_areas": null,
            "grid_template_columns": null,
            "grid_template_rows": null,
            "height": null,
            "justify_content": null,
            "justify_items": null,
            "left": null,
            "margin": null,
            "max_height": null,
            "max_width": null,
            "min_height": null,
            "min_width": null,
            "object_fit": null,
            "object_position": null,
            "order": null,
            "overflow": null,
            "overflow_x": null,
            "overflow_y": null,
            "padding": null,
            "right": null,
            "top": null,
            "visibility": null,
            "width": null
          }
        },
        "443664789e39425789f655a62e5b981d": {
          "model_module": "@jupyter-widgets/controls",
          "model_name": "DescriptionStyleModel",
          "model_module_version": "1.5.0",
          "state": {
            "_model_module": "@jupyter-widgets/controls",
            "_model_module_version": "1.5.0",
            "_model_name": "DescriptionStyleModel",
            "_view_count": null,
            "_view_module": "@jupyter-widgets/base",
            "_view_module_version": "1.2.0",
            "_view_name": "StyleView",
            "description_width": ""
          }
        },
        "43cbb9d6e4ad492c8c364f2724e79765": {
          "model_module": "@jupyter-widgets/base",
          "model_name": "LayoutModel",
          "model_module_version": "1.2.0",
          "state": {
            "_model_module": "@jupyter-widgets/base",
            "_model_module_version": "1.2.0",
            "_model_name": "LayoutModel",
            "_view_count": null,
            "_view_module": "@jupyter-widgets/base",
            "_view_module_version": "1.2.0",
            "_view_name": "LayoutView",
            "align_content": null,
            "align_items": null,
            "align_self": null,
            "border": null,
            "bottom": null,
            "display": null,
            "flex": null,
            "flex_flow": null,
            "grid_area": null,
            "grid_auto_columns": null,
            "grid_auto_flow": null,
            "grid_auto_rows": null,
            "grid_column": null,
            "grid_gap": null,
            "grid_row": null,
            "grid_template_areas": null,
            "grid_template_columns": null,
            "grid_template_rows": null,
            "height": null,
            "justify_content": null,
            "justify_items": null,
            "left": null,
            "margin": null,
            "max_height": null,
            "max_width": null,
            "min_height": null,
            "min_width": null,
            "object_fit": null,
            "object_position": null,
            "order": null,
            "overflow": null,
            "overflow_x": null,
            "overflow_y": null,
            "padding": null,
            "right": null,
            "top": null,
            "visibility": null,
            "width": null
          }
        },
        "56169462509047ec91c008adc543980b": {
          "model_module": "@jupyter-widgets/controls",
          "model_name": "ProgressStyleModel",
          "model_module_version": "1.5.0",
          "state": {
            "_model_module": "@jupyter-widgets/controls",
            "_model_module_version": "1.5.0",
            "_model_name": "ProgressStyleModel",
            "_view_count": null,
            "_view_module": "@jupyter-widgets/base",
            "_view_module_version": "1.2.0",
            "_view_name": "StyleView",
            "bar_color": null,
            "description_width": ""
          }
        }
      }
    }
  },
  "nbformat": 4,
  "nbformat_minor": 0
}